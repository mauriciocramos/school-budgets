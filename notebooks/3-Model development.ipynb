{
 "cells": [
  {
   "cell_type": "markdown",
   "metadata": {},
   "source": [
    "# Custom modules"
   ]
  },
  {
   "cell_type": "code",
   "execution_count": 1,
   "metadata": {},
   "outputs": [],
   "source": [
    "import os\n",
    "import sys\n",
    "# lib_src = os.path.join(os.getcwd(), os.pardir, 'src')\n",
    "lib_src = '\\\\Users\\\\mauricio\\\\gdrive\\\\python\\\\machine-learning'\n",
    "sys.path.insert(1, lib_src)"
   ]
  },
  {
   "cell_type": "code",
   "execution_count": 2,
   "metadata": {},
   "outputs": [],
   "source": [
    "from dummies import get_dummies_indices\n",
    "from metrics.log_loss import multi_multi_log_loss\n",
    "from preprocessing.combine_text_columns import combine_text_columns\n",
    "from model_selection.multilabel import multilabel_sample_dataframe, multilabel_train_test_split\n",
    "from size import size\n",
    "from to_csv_to_zip import to_csv_to_zip\n",
    "from fit_cache import fit_cache"
   ]
  },
  {
   "cell_type": "markdown",
   "metadata": {},
   "source": [
    "# Standard modules"
   ]
  },
  {
   "cell_type": "code",
   "execution_count": 3,
   "metadata": {},
   "outputs": [],
   "source": [
    "import numpy as np\n",
    "import pandas as pd\n",
    "import matplotlib.pyplot as plt\n",
    "import seaborn as sns\n",
    "import pickle\n",
    "from time import time\n",
    "from datetime import datetime\n",
    "import warnings\n",
    "from zipfile import ZipFile, ZIP_DEFLATED\n",
    "import psutil\n",
    "from tempfile import mkdtemp\n",
    "from shutil import rmtree\n",
    "\n",
    "%matplotlib inline"
   ]
  },
  {
   "cell_type": "markdown",
   "metadata": {},
   "source": [
    "# Load data, randomize, optimize category type and get dummy labels"
   ]
  },
  {
   "cell_type": "code",
   "execution_count": 4,
   "metadata": {},
   "outputs": [],
   "source": [
    "prediction_dir = '/Users/mauricio/Documents/predictions/'\n",
    "model_dir = '/Users/mauricio/Documents/models/'\n",
    "df = pd.read_csv('../data/TrainingData.csv', index_col=0)\n",
    "df = df.sample(frac=1, random_state=1)\n",
    "LABELS = ['Function', 'Object_Type', 'Operating_Status', 'Position_Type', 'Pre_K', 'Reporting', 'Sharing', 'Student_Type', 'Use']\n",
    "FEATURES = [feature for feature in df.columns if feature not in LABELS]\n",
    "NUMERIC_FEATURES = ['FTE', 'Total']\n",
    "TEXT_FEATURES = [text_feature for text_feature in FEATURES if text_feature not in NUMERIC_FEATURES]\n",
    "df[LABELS] = df[LABELS].apply(lambda x: x.astype('category'), axis=0)\n",
    "y = pd.get_dummies(df[LABELS], prefix_sep='__')\n",
    "holdout = pd.read_csv('../data/TestData.csv', index_col=0, dtype={'Facility_or_Department':'object', 'Text_4':'object'})\n",
    "holdout = holdout[FEATURES]"
   ]
  },
  {
   "cell_type": "markdown",
   "metadata": {},
   "source": [
    "# Model metric: multi-multi log loss"
   ]
  },
  {
   "cell_type": "code",
   "execution_count": 5,
   "metadata": {},
   "outputs": [],
   "source": [
    "from sklearn.metrics import make_scorer\n",
    "cci = get_dummies_indices(df[LABELS])\n",
    "multi_multi_log_loss_scorer = make_scorer(multi_multi_log_loss, greater_is_better=False, needs_proba=True,\n",
    "                                          class_column_indices=cci)"
   ]
  },
  {
   "cell_type": "markdown",
   "metadata": {},
   "source": [
    "# Candidate classifiers"
   ]
  },
  {
   "cell_type": "code",
   "execution_count": 6,
   "metadata": {},
   "outputs": [],
   "source": [
    "from sklearn.dummy import DummyClassifier\n",
    "from sklearn.linear_model import LogisticRegression\n",
    "from sklearn.multiclass import OneVsRestClassifier\n",
    "#from sklearn.ensemble import RandomForestClassifier, GradientBoostingClassifier\n",
    "#from sklearn.naive_bayes import MultinomialNB, GaussianNB\n",
    "#from sklearn.svm import SVC\n",
    "#from sklearn.neighbors import KNeighborsClassifier\n",
    "#from xgboost import XGBClassifier"
   ]
  },
  {
   "cell_type": "markdown",
   "metadata": {},
   "source": [
    "# Baseline pipeline"
   ]
  },
  {
   "cell_type": "code",
   "execution_count": 7,
   "metadata": {},
   "outputs": [],
   "source": [
    "from sklearn.pipeline import Pipeline, FeatureUnion\n",
    "from sklearn.feature_extraction.text import HashingVectorizer\n",
    "from sklearn.impute import SimpleImputer\n",
    "from sklearn.feature_selection import chi2, SelectKBest\n",
    "from sklearn.preprocessing import FunctionTransformer, MaxAbsScaler, PolynomialFeatures"
   ]
  },
  {
   "cell_type": "code",
   "execution_count": 8,
   "metadata": {},
   "outputs": [],
   "source": [
    "from preprocessing.get_normalized_total import get_normalized_total\n",
    "get_text_data = FunctionTransformer(combine_text_columns, validate=False,\n",
    "                                    kw_args = {'to_drop': NUMERIC_FEATURES + LABELS})\n",
    "get_numeric_data = FunctionTransformer(get_normalized_total, validate=False,\n",
    "                                       kw_args = {'reference':'FTE', 'total':'Total'})"
   ]
  },
  {
   "cell_type": "code",
   "execution_count": 9,
   "metadata": {},
   "outputs": [],
   "source": [
    "pl = Pipeline([\n",
    "    ('union', FeatureUnion([\n",
    "        ('numeric_features', Pipeline([\n",
    "            ('numeric_selector', get_numeric_data),\n",
    "            ('imputer', SimpleImputer(strategy = 'constant', fill_value = 0))\n",
    "        ], verbose=True)),\n",
    "        ('text_features' , Pipeline([\n",
    "            ('text_selector', get_text_data),\n",
    "            ('vectorizer', HashingVectorizer(norm = None, binary = False, alternate_sign = False, dtype = 'uint8')),\n",
    "            ('reducer', SelectKBest(score_func = chi2))\n",
    "        ], verbose=True))\n",
    "    ])),\n",
    "    ('interactor', PolynomialFeatures(degree=2, include_bias=False, interaction_only=True)),\n",
    "    ('scaler', MaxAbsScaler()),\n",
    "    ('classifier', OneVsRestClassifier(LogisticRegression(solver='liblinear')))\n",
    "], verbose=True)"
   ]
  },
  {
   "cell_type": "markdown",
   "metadata": {},
   "source": [
    "# Learning and validation curves"
   ]
  },
  {
   "cell_type": "code",
   "execution_count": 10,
   "metadata": {},
   "outputs": [],
   "source": [
    "from model_selection.learning_curve import plot_learning_curve\n",
    "from model_selection.validation_curve import plot_validation_curve\n",
    "from sklearn.model_selection import ParameterGrid\n",
    "from sklearn.feature_extraction.text import CountVectorizer\n",
    "\n",
    "train_sizes = np.linspace(0.2, 1, 5)"
   ]
  },
  {
   "cell_type": "markdown",
   "metadata": {},
   "source": [
    "The learning curves help comparing algorithms for bias-variance behavior, choosing model parameters during design, adjusting optimization to improve convergence and determining the amount of data used for training.\n",
    "\n",
    "In this pipeline, the amount of data is determined not only by the sample size, but also by:\n",
    "* the feature generation step `HashingVectorizer` with its parameter `ngram_range`.\n",
    "* the feature selection step `SelectKBest(chi2)` with its parameter `k`.\n",
    "* the feature generation step `PolynomialFeatures` with its parameters fixed.\n",
    "\n",
    "Initially, it's picked main classification algorithms that support specific characteristics of the pipeline:\n",
    "* Sparse data produced by the `HashingVectorizer` \n",
    "* Negative numbers present in the numeric features `Total`and `FTE`.\n",
    "\n",
    "Because of this characteristics, alghorithms such as Naive Bayes can't be used:\n",
    "* `GaussianNB` requires dense data\n",
    "* `MultinomialNB` requires positive numbers.\n",
    "\n",
    "Other alghorithms were much slow hence it's limited to `LogisticRegression`.  This limitation is expected to be removed in a future version."
   ]
  },
  {
   "cell_type": "markdown",
   "metadata": {},
   "source": [
    "The train sizes is a sligthly variation of the [default](https://scikit-learn.org/stable/modules/generated/sklearn.model_selection.learning_curve.html#sklearn.model_selection.learning_curve) `np.linspace(0.1, 1.0, 5)` to keep evenly spaced intervals."
   ]
  },
  {
   "cell_type": "markdown",
   "metadata": {},
   "source": [
    "# 1% sample"
   ]
  },
  {
   "cell_type": "code",
   "execution_count": null,
   "metadata": {},
   "outputs": [],
   "source": [
    "sampling = multilabel_sample_dataframe(df, y, size=0.01, min_count=7, seed=1)\n",
    "dummy_labels = pd.get_dummies(sampling[LABELS], prefix_sep='__')\n",
    "print('Sample size:', sampling.shape[0])                                    # 4002\n",
    "print('Train sizes:', (sampling.shape[0] * train_sizes * .8).astype('int')) # [640 1280 1920 2561 3201]\n",
    "print('Test sizes :', (sampling.shape[0] * train_sizes * .2).astype('int')) # [160 320 480 640 800]"
   ]
  },
  {
   "cell_type": "markdown",
   "metadata": {},
   "source": [
    "## Learning curves"
   ]
  },
  {
   "cell_type": "code",
   "execution_count": null,
   "metadata": {},
   "outputs": [],
   "source": [
    "classifiers = [#('Dummy (uniform)', OneVsRestClassifier(DummyClassifier(strategy='uniform'))),\n",
    "               ('Logistic regression', OneVsRestClassifier(LogisticRegression(solver='liblinear')))#,\n",
    "               #('SVC', OneVsRestClassifier(SVC(probability=True))),\n",
    "               #('xgboost', OneVsRestClassifier(XGBClassifier())),\n",
    "               #('GBM', OneVsRestClassifier(GradientBoostingClassifier())),  # mostly slower/worse thanxgboost\n",
    "               #('Random Forest', OneVsRestClassifier(RandomForestClassifier())),\n",
    "               #('K-Neighbors', OneVsRestClassifier(KNeighborsClassifier()))\n",
    "              ]"
   ]
  },
  {
   "cell_type": "markdown",
   "metadata": {},
   "source": [
    "Finding the`k` parameter space limits for each `ngram_range`"
   ]
  },
  {
   "cell_type": "code",
   "execution_count": null,
   "metadata": {
    "scrolled": true
   },
   "outputs": [],
   "source": [
    "ngram_kmax = [len(CountVectorizer(ngram_range=(1,n),\n",
    "                                  dtype='uint8').fit(combine_text_columns(sampling)).vocabulary_)\n",
    "              for n in range(1, 4)]  # [1546, 8703, 19981]"
   ]
  },
  {
   "cell_type": "markdown",
   "metadata": {},
   "source": [
    "### 1-gram"
   ]
  },
  {
   "cell_type": "code",
   "execution_count": null,
   "metadata": {
    "code_folding": []
   },
   "outputs": [],
   "source": [
    "ngram1_logspace = np.logspace(2.5, np.ceil(np.log10(ngram_kmax[0])), 7).round().astype('int')\n",
    "ngram1_logspace = np.hstack((ngram1_logspace[ngram1_logspace < ngram_kmax[0]], ngram_kmax[0]))\n",
    "parameters = ParameterGrid([{'union__text_features__vectorizer__ngram_range': [(1,1)],\n",
    "                             'union__text_features__reducer__k': ngram1_logspace}]) # [316, 562, 1000, 1546]\n",
    "print(datetime.now().isoformat(timespec='minutes'))\n",
    "for title, classifier in classifiers:\n",
    "    pl.set_params(classifier = classifier)\n",
    "    pl.set_params(classifier__n_jobs = None)\n",
    "    for parameter in parameters:\n",
    "        pl.set_params(**parameter)\n",
    "        plot_learning_curve(pl, ', '.join([title] + [k.split('__')[-1]+'='+str(v) for k,v in parameter.items()]),\n",
    "                            sampling[FEATURES], dummy_labels, cv=5, scoring=multi_multi_log_loss_scorer,\n",
    "                            n_jobs=-1, verbose=11, train_sizes=train_sizes)\n",
    "        plt.show()"
   ]
  },
  {
   "cell_type": "markdown",
   "metadata": {
    "heading_collapsed": true
   },
   "source": [
    "### 2-gram"
   ]
  },
  {
   "cell_type": "markdown",
   "metadata": {
    "hidden": true
   },
   "source": [
    "Ran only with `n_jobs=None` for the `plot_learning_curve()` and `n_jobs=2` for the pipelines's classifier step `OneVsRestClassifier()`."
   ]
  },
  {
   "cell_type": "code",
   "execution_count": null,
   "metadata": {
    "hidden": true
   },
   "outputs": [],
   "source": [
    "ngram2_logspace = np.logspace(2.5, np.ceil(np.log10(ngram_kmax[1])), 7).round().astype('int')\n",
    "ngram2_logspace = np.hstack((ngram2_logspace[ngram2_logspace < ngram_kmax[1]], ngram_kmax[1]))\n",
    "parameters = ParameterGrid([{'union__text_features__vectorizer__ngram_range': [(1,2)],\n",
    "                             'union__text_features__reducer__k': [316, 562, 1000, 1778, 3162]}]) # ngram2_logspace}])\n",
    "print(datetime.now().isoformat(timespec='minutes'))\n",
    "for title, classifier in classifiers:\n",
    "    pl.set_params(classifier = classifier)\n",
    "    pl.set_params(classifier__n_jobs = None)\n",
    "    for parameter in parameters:\n",
    "        pl.set_params(**parameter)\n",
    "        plot_learning_curve(pl, ', '.join([title] + [k.split('__')[-1]+'='+str(v) for k,v in parameter.items()]),\n",
    "                            sampling[FEATURES], dummy_labels, cv=5, scoring=multi_multi_log_loss_scorer,\n",
    "                            n_jobs=2, verbose=11, train_sizes=train_sizes)\n",
    "        plt.show()"
   ]
  },
  {
   "cell_type": "markdown",
   "metadata": {
    "hidden": true
   },
   "source": [
    "Ran only with `n_jobs=None` for the `plot_learning_curve()` and the pipelines's classifier step `OneVsRestClassifier()`."
   ]
  },
  {
   "cell_type": "code",
   "execution_count": null,
   "metadata": {
    "code_folding": [],
    "hidden": true,
    "scrolled": false
   },
   "outputs": [],
   "source": [
    "parameters = ParameterGrid([{'union__text_features__vectorizer__ngram_range': [(1,2)],\n",
    "                             'union__text_features__reducer__k': [5623]}]) # ngram2_logspace}])\n",
    "print(datetime.now().isoformat(timespec='minutes'))\n",
    "for title, classifier in classifiers:\n",
    "    pl.set_params(classifier = classifier)\n",
    "    pl.set_params(classifier__n_jobs = None)\n",
    "    for parameter in parameters:\n",
    "        pl.set_params(**parameter)\n",
    "        plot_learning_curve(pl, ', '.join([title] + [k.split('__')[-1]+'='+str(v) for k,v in parameter.items()]),\n",
    "                            sampling[FEATURES], dummy_labels, cv=5, scoring=multi_multi_log_loss_scorer,\n",
    "                            n_jobs=None, verbose=11, train_sizes=train_sizes)\n",
    "        plt.show()"
   ]
  },
  {
   "cell_type": "markdown",
   "metadata": {
    "hidden": true
   },
   "source": [
    "Didn't run even with `n_jobs=None` for the `plot_learning_curve()` and the pipelines's classifier step `OneVsRestClassifier()` due to lack of memory."
   ]
  },
  {
   "cell_type": "code",
   "execution_count": null,
   "metadata": {
    "hidden": true
   },
   "outputs": [],
   "source": [
    "parameters = ParameterGrid([{'union__text_features__vectorizer__ngram_range': [(1,2)],\n",
    "                             'union__text_features__reducer__k': [8703]}]) # ngram2_logspace}])\n",
    "print(datetime.now().isoformat(timespec='minutes'))\n",
    "for title, classifier in classifiers:\n",
    "    pl.set_params(classifier = classifier)\n",
    "    pl.set_params(classifier__n_jobs = None)\n",
    "    for parameter in parameters:\n",
    "        pl.set_params(**parameter)\n",
    "        plot_learning_curve(pl, ', '.join([title] + [k.split('__')[-1]+'='+str(v) for k,v in parameter.items()]),\n",
    "                            sampling[FEATURES], dummy_labels, cv=5, scoring=multi_multi_log_loss_scorer,\n",
    "                            n_jobs=None, verbose=11, train_sizes=train_sizes)\n",
    "        plt.show()"
   ]
  },
  {
   "cell_type": "markdown",
   "metadata": {
    "heading_collapsed": true
   },
   "source": [
    "### 3-gram (lacks memory)"
   ]
  },
  {
   "cell_type": "code",
   "execution_count": null,
   "metadata": {
    "code_folding": [],
    "hidden": true
   },
   "outputs": [],
   "source": [
    "ngram3_logspace = np.logspace(2.5, np.ceil(np.log10(ngram_kmax[2])), 11).round().astype('int')\n",
    "ngram3_logspace = np.hstack((ngram3_logspace[ngram3_logspace < ngram_kmax[2]], ngram_kmax[2]))\n",
    "parameters = ParameterGrid([{'union__text_features__vectorizer__ngram_range': [(1,3)],\n",
    "                             'union__text_features__reducer__k': ngram3_logspace}])  # \n",
    "print(datetime.now().isoformat(timespec='minutes'))\n",
    "for title, classifier in classifiers:\n",
    "    pl.set_params(classifier = classifier)\n",
    "    pl.set_params(classifier__n_jobs = None)\n",
    "    for parameter in parameters:\n",
    "        pl.set_params(**parameter)\n",
    "        plot_learning_curve(pl, ', '.join([title] + [k.split('__')[-1]+'='+str(v) for k,v in parameter.items()]),\n",
    "                            sampling[FEATURES], dummy_labels, cv=5, scoring=multi_multi_log_loss_scorer,\n",
    "                            n_jobs=None, verbose=11, train_sizes=train_sizes)\n",
    "        plt.show()"
   ]
  },
  {
   "cell_type": "markdown",
   "metadata": {},
   "source": [
    "### Summary"
   ]
  },
  {
   "cell_type": "markdown",
   "metadata": {
    "code_folding": []
   },
   "source": [
    "| sample | min | jobs | features | ngram | train_sizes |    k | interact | logloss|      time |     peak|\n",
    "| -----: | --: | ---: | -------: | ----: | ----------: | ---: | -------: | ------:| --------: |  ------:|\n",
    "|   0.01 |   7 |    4 |  2\\*\\*20 | (1,1) | (0.2, 1, 5) |  316 |    51681 | 0.3151 |   5.9 min | 2.2 GiB |\n",
    "|   0.01 |   7 |    4 |  2\\*\\*20 | (1,1) | (0.2, 1, 5) |  562 |   159330 | 0.2941 |   9.1 min | 2.2 GiB |\n",
    "|   0.01 |   7 |    4 |  2\\*\\*20 | **(1,1)** | (0.2, 1, 5) | **1000** |   **505515** | **0.2888** |  16.9 min | 2.3 GiB |\n",
    "|   0.01 |   7 |    4 |  2\\*\\*20 | (1,1) | (0.2, 1, 5) | 1546 |  1203576 | 0.3159 |  31.1 min | 2.3 GiB |\n",
    "|   0.01 |   7 |    4 |  2\\*\\*20 | (1,2) | (0.2, 1, 5) |  316 |    51681 | 0.3880 |   6.4 min | 2.3 GiB |\n",
    "|   0.01 |   7 |    4 |  2\\*\\*20 | (1,2) | (0.2, 1, 5) |  562 |   159330 | 0.3438 |  14.7 min | 2.2 GiB |\n",
    "|   0.01 |   7 |    4 |  2\\*\\*20 | (1,2) | (0.2, 1, 5) | 1000 |   505515 | 0.3210 |  33.6 min | 2.2 GiB |\n",
    "|   0.01 |   7 |    4 |  2\\*\\*20 | (1,2) | (0.2, 1, 5) | 1778 |  1590436 | 0.3139 | 102.4 min | 2.3 GiB |\n",
    "|   0.01 |   7 |    4 |  2\\*\\*20 | (1,2) | (0.2, 1, 5) | 3162 |  5016528 | 0.3098 | 228.6 min | 4.6 GiB |\n",
    "|   0.01 |   7 |    1 |  2\\*\\*20 | (1,2) | (0.2, 1, 5) | 5623 | 15840006 | 0.3250 | 589.6 min |  14 GiB |\n",
    "|   0.01 |   7 |    1 |  2\\*\\*20 | (1,2) | (0.2, 1, 5) | 8703 | 37918986 | |  |  |"
   ]
  },
  {
   "cell_type": "markdown",
   "metadata": {},
   "source": [
    "The best is `k=1000` and `ngram_range=(1,1)`"
   ]
  },
  {
   "cell_type": "markdown",
   "metadata": {},
   "source": [
    "## Regularization validation curve"
   ]
  },
  {
   "cell_type": "markdown",
   "metadata": {},
   "source": [
    "C is the inverse of regularization strength, therefore, greater values specify weaker regularization."
   ]
  },
  {
   "cell_type": "code",
   "execution_count": null,
   "metadata": {
    "scrolled": false
   },
   "outputs": [],
   "source": [
    "pl.set_params(classifier = OneVsRestClassifier(LogisticRegression(solver='liblinear')),\n",
    "              union__text_features__vectorizer__ngram_range = (1,1),\n",
    "              union__text_features__vectorizer__n_features = 2**20,\n",
    "              union__text_features__reducer__k = 1000)\n",
    "param_name='classifier__estimator__C'\n",
    "param_range = np.logspace(-0.5, 0.5, 5)  # [0.31622777, 0.56234133, 1, 1.77827941, 3.16227766]\n",
    "param_label = 'C'\n",
    "plot_validation_curve(pl, sampling[FEATURES], dummy_labels, param_name, param_range, param_label,\n",
    "                      cv=5, scoring=multi_multi_log_loss_scorer, n_jobs=-1, verbose=11, xscale='log')\n",
    "plt.show()"
   ]
  },
  {
   "cell_type": "markdown",
   "metadata": {},
   "source": [
    "Holding fixed `ngram_range=(1,1)`, `n_features=2**20` and `k=1000`, the best is `C=1`, scoring `0.2888`, elapsed `25.4 minutes`"
   ]
  },
  {
   "cell_type": "markdown",
   "metadata": {},
   "source": [
    "## Fit & predict"
   ]
  },
  {
   "cell_type": "code",
   "execution_count": null,
   "metadata": {
    "scrolled": false
   },
   "outputs": [],
   "source": [
    "pl.set_params(classifier = OneVsRestClassifier(LogisticRegression(solver='liblinear')),\n",
    "              classifier__n_jobs = -1,\n",
    "              classifier__estimator__C = 1,\n",
    "              union__text_features__vectorizer__ngram_range = (1,1),\n",
    "              union__text_features__vectorizer__n_features = 2**20,\n",
    "              union__text_features__reducer__k = 1000)\n",
    "\n",
    "model_name = '0.01-k1000-logistic-regression-C1'\n",
    "pl = fit_cache(pl, sampling[FEATURES], dummy_labels, model_dir, model_name)\n",
    "to_csv_to_zip(prediction_dir, model_name, pl.predict_proba(holdout),\n",
    "              holdout.index, dummy_labels.columns)"
   ]
  },
  {
   "cell_type": "markdown",
   "metadata": {},
   "source": [
    "`ngram_range=(1,1)`, `n_features=2**20`, `k=1000` and `C=1`, elapsed `5.1 minutes`, DrivenData score: `0.5598`"
   ]
  },
  {
   "cell_type": "markdown",
   "metadata": {
    "code_folding": []
   },
   "source": [
    "# 10% sample"
   ]
  },
  {
   "cell_type": "code",
   "execution_count": 12,
   "metadata": {},
   "outputs": [
    {
     "name": "stdout",
     "output_type": "stream",
     "text": [
      "Sample size: 40027\n",
      "Train sizes: [ 6404 12808 19212 25617 32021]\n",
      "Test sizes : [1601 3202 4803 6404 8005]\n"
     ]
    }
   ],
   "source": [
    "sampling = multilabel_sample_dataframe(df, y, size=0.1, min_count=2, seed=1)\n",
    "print('Sample size:', sampling.shape[0])                                     # 40027\n",
    "print('Train sizes:', (sampling.shape[0] * train_sizes * .8).astype('int'))  # [6404 12808 19212 25617 32021]\n",
    "print('Test sizes :', (sampling.shape[0] * train_sizes * .2).astype('int'))  # [1601 3202 4803 6404 8005]\n",
    "dummy_labels = pd.get_dummies(sampling[LABELS], prefix_sep='__')"
   ]
  },
  {
   "cell_type": "markdown",
   "metadata": {},
   "source": [
    "## Learning curves"
   ]
  },
  {
   "cell_type": "code",
   "execution_count": 13,
   "metadata": {
    "code_folding": []
   },
   "outputs": [],
   "source": [
    "classifiers = [\n",
    "    ('Logistic regression (liblinear)', OneVsRestClassifier(LogisticRegression(solver='liblinear')))#, #fast4small\n",
    "    #('Logistic regression (lbfgs)', OneVsRestClassifier(LogisticRegression(solver='lbfgs', max_iter=200))), #fast4small\n",
    "    #('Logistic regression (sag)', OneVsRestClassifier(LogisticRegression(solver='sag', max_iter=4000)))#, # faster?\n",
    "    #('Logistic regression (saga)', OneVsRestClassifier(LogisticRegression(solver='saga', max_iter=3200))), #fast??\n",
    "    #('Logistic regression (newton-cg)', OneVsRestClassifier(LogisticRegression(solver='newton-cg')))\n",
    "]"
   ]
  },
  {
   "cell_type": "markdown",
   "metadata": {},
   "source": [
    "Finding the`k` parameter space limits for each `ngram_range`"
   ]
  },
  {
   "cell_type": "code",
   "execution_count": 13,
   "metadata": {
    "scrolled": true
   },
   "outputs": [],
   "source": [
    "ngram_kmax = [len(CountVectorizer(ngram_range=(1,n),\n",
    "                                  dtype='uint8').fit(combine_text_columns(sampling)).vocabulary_)\n",
    "              for n in range(1, 4)] # [2579, 18282, 46898]"
   ]
  },
  {
   "cell_type": "markdown",
   "metadata": {},
   "source": [
    "### 1-gram"
   ]
  },
  {
   "cell_type": "code",
   "execution_count": null,
   "metadata": {
    "scrolled": false
   },
   "outputs": [],
   "source": [
    "ngram1_logspace = np.logspace(2.5, np.ceil(np.log10(ngram_kmax[0])), 7).round().astype('int')\n",
    "ngram1_logspace = np.hstack((ngram1_logspace[ngram1_logspace < ngram_kmax[0]], ngram_kmax[0]))\n",
    "parameters = ParameterGrid([{'union__text_features__vectorizer__ngram_range': [(1,1)],\n",
    "                             'union__text_features__reducer__k': ngram1_logspace}]) # [316, 562, 1000, 1778, 2579]\n",
    "print(datetime.now().isoformat(timespec='minutes'))\n",
    "for title, classifier in classifiers:\n",
    "    pl.set_params(classifier = classifier)\n",
    "    pl.set_params(classifier__n_jobs = None)\n",
    "    for parameter in parameters:\n",
    "        pl.set_params(**parameter)\n",
    "        plot_learning_curve(pl, ', '.join([title] + [k.split('__')[-1]+'='+str(v) for k,v in parameter.items()]),\n",
    "                            sampling[FEATURES], dummy_labels, cv=5, scoring=multi_multi_log_loss_scorer,\n",
    "                            n_jobs=-1, verbose=11, train_sizes=train_sizes)\n",
    "        plt.show()"
   ]
  },
  {
   "cell_type": "markdown",
   "metadata": {},
   "source": [
    "### 2-gram **(TORUN sometime)**"
   ]
  },
  {
   "cell_type": "code",
   "execution_count": null,
   "metadata": {},
   "outputs": [],
   "source": [
    "ngram2_logspace = np.logspace(2.5, np.ceil(np.log10(ngram_kmax[1])), 7).round().astype('int')\n",
    "ngram2_logspace = np.hstack((ngram2_logspace[ngram2_logspace < ngram_kmax[1]], ngram_kmax[1]))\n",
    "parameters = ParameterGrid([{'union__text_features__vectorizer__ngram_range': [(1,2)],\n",
    "                             'union__text_features__reducer__k': ngram2_logspace}]) # ???\n",
    "print(datetime.now().isoformat(timespec='minutes'))\n",
    "for title, classifier in classifiers:\n",
    "    pl.set_params(classifier = classifier)\n",
    "    pl.set_params(classifier__n_jobs = None)\n",
    "    for parameter in parameters:\n",
    "        pl.set_params(**parameter)\n",
    "        plot_learning_curve(pl, ', '.join([title] + [k.split('__')[-1]+'='+str(v) for k,v in parameter.items()]),\n",
    "                            sampling[FEATURES], dummy_labels, cv=5, scoring=multi_multi_log_loss_scorer,\n",
    "                            n_jobs=None, verbose=11, train_sizes=train_sizes)\n",
    "        plt.show()"
   ]
  },
  {
   "cell_type": "markdown",
   "metadata": {},
   "source": [
    "### Summary"
   ]
  },
  {
   "cell_type": "markdown",
   "metadata": {},
   "source": [
    "| sample | min | jobs | features | ngram | train_sizes |    k | interact | logloss|      time |      peak |\n",
    "| -----: | --: | ---: | -------: | ----: | ----------: | ---: | -------: | -----: |  -------: | --------: |\n",
    "|    0.1 |   2 |    4 |  2\\*\\*20 | (1,1) | (0.2, 1, 5) |  316 |    51681 | 0.1333 |  38.6 min |    2.2 GiB|\n",
    "|    0.1 |   2 |    4 |  2\\*\\*20 | (1,1) | (0.2, 1, 5) |  562 |   161028 | 0.1149 |  58.5 min |    2.2 GiB|\n",
    "|    0.1 |   2 |    4 |  2\\*\\*20 | (1,1) | (0.2, 1, 5) | 1000 |   505515 | 0.1065 |  85.9 min |    2.2 GiB|\n",
    "|    0.1 |   2 |    4 |  2\\*\\*20 | (1,1) | (0.2, 1, 5) | **1778** |  1590436 | **0.1046** | 125.5 min |    3.1 GiB|\n",
    "|    0.1 |   2 |    4 |  2\\*\\*20 | (1,1) | (0.2, 1, 5) | 2579 |  3339820 | 0.1121 | 180.8 min |    3.1 GiB|"
   ]
  },
  {
   "cell_type": "markdown",
   "metadata": {},
   "source": [
    "## Regularization validation curve **(TORUN)**"
   ]
  },
  {
   "cell_type": "code",
   "execution_count": 14,
   "metadata": {},
   "outputs": [
    {
     "name": "stdout",
     "output_type": "stream",
     "text": [
      "Started 2020-02-18T17:50\n"
     ]
    },
    {
     "name": "stderr",
     "output_type": "stream",
     "text": [
      "[Parallel(n_jobs=-1)]: Using backend LokyBackend with 4 concurrent workers.\n",
      "[Parallel(n_jobs=-1)]: Done   1 out of   5 | elapsed: 31.6min remaining: 126.3min\n",
      "[Parallel(n_jobs=-1)]: Done   2 out of   5 | elapsed: 31.7min remaining: 47.5min\n",
      "[Parallel(n_jobs=-1)]: Done   3 out of   5 | elapsed: 31.8min remaining: 21.2min\n",
      "[Parallel(n_jobs=-1)]: Done   5 out of   5 | elapsed: 42.4min remaining:    0.0s\n",
      "[Parallel(n_jobs=-1)]: Done   5 out of   5 | elapsed: 42.4min finished\n"
     ]
    },
    {
     "data": {
      "image/png": "[encoded data removed]",
      "text/plain": [
       "<Figure size 432x288 with 1 Axes>"
      ]
     },
     "metadata": {
      "needs_background": "light"
     },
     "output_type": "display_data"
    }
   ],
   "source": [
    "pl.set_params(classifier = OneVsRestClassifier(LogisticRegression(solver='liblinear')),\n",
    "              union__text_features__vectorizer__ngram_range = (1,1),\n",
    "              union__text_features__vectorizer__n_features = 2**20,\n",
    "              union__text_features__reducer__k = 1778)\n",
    "param_name='classifier__estimator__C'\n",
    "param_range = np.logspace(-1, 1, 9)  # [0.1,0.1778279410038923, 0.31622776601683794, 0.5623413251903491, 1,\n",
    "                                     # 1.7782794100389228, 3.1622776601683795, 5.623413251903491, 10]\n",
    "param_label = 'C'\n",
    "plot_validation_curve(pl, sampling[FEATURES], dummy_labels, param_name, param_range, param_label,\n",
    "                      cv=5, scoring=multi_multi_log_loss_scorer, n_jobs=-1, verbose=11, xscale='log')\n",
    "plt.show()"
   ]
  },
  {
   "cell_type": "markdown",
   "metadata": {},
   "source": [
    "Holding fixed `ngram_range=(1,1)`, `n_features=2**20` and `k=1778`, the best is `C=0.5623413251903491`, scoring `0.1041`, elapsed `hundreds of minutes`"
   ]
  },
  {
   "cell_type": "markdown",
   "metadata": {},
   "source": [
    "## Fit & predict **(SUBMIT)**"
   ]
  },
  {
   "cell_type": "code",
   "execution_count": 14,
   "metadata": {
    "scrolled": false
   },
   "outputs": [
    {
     "name": "stdout",
     "output_type": "stream",
     "text": [
      "Fitting started on 2020-02-18T17:48\n",
      "[Pipeline] .. (step 1 of 2) Processing numeric_selector, total=   0.1s\n",
      "[Pipeline] ........... (step 2 of 2) Processing imputer, total=   0.0s\n",
      "[Pipeline] ..... (step 1 of 3) Processing text_selector, total=   0.9s\n",
      "[Pipeline] ........ (step 2 of 3) Processing vectorizer, total=   0.9s\n",
      "[Pipeline] ........... (step 3 of 3) Processing reducer, total=  18.8s\n",
      "[Pipeline] ............. (step 1 of 4) Processing union, total=  20.8s\n",
      "[Pipeline] ........ (step 2 of 4) Processing interactor, total=   0.7s\n",
      "[Pipeline] ............ (step 3 of 4) Processing scaler, total=   1.0s\n"
     ]
    },
    {
     "ename": "KeyboardInterrupt",
     "evalue": "",
     "output_type": "error",
     "traceback": [
      "\u001b[1;31m---------------------------------------------------------------------------\u001b[0m",
      "\u001b[1;31mKeyboardInterrupt\u001b[0m                         Traceback (most recent call last)",
      "\u001b[1;32m<ipython-input-14-9314491ef3b9>\u001b[0m in \u001b[0;36m<module>\u001b[1;34m\u001b[0m\n\u001b[0;32m      7\u001b[0m \u001b[1;33m\u001b[0m\u001b[0m\n\u001b[0;32m      8\u001b[0m \u001b[0mmodel_name\u001b[0m \u001b[1;33m=\u001b[0m \u001b[1;34m'0.1-k1778-logistic-regression-C0.31622776601683794'\u001b[0m\u001b[1;33m\u001b[0m\u001b[1;33m\u001b[0m\u001b[0m\n\u001b[1;32m----> 9\u001b[1;33m \u001b[0mpl\u001b[0m \u001b[1;33m=\u001b[0m \u001b[0mfit_cache\u001b[0m\u001b[1;33m(\u001b[0m\u001b[0mpl\u001b[0m\u001b[1;33m,\u001b[0m \u001b[0msampling\u001b[0m\u001b[1;33m[\u001b[0m\u001b[0mFEATURES\u001b[0m\u001b[1;33m]\u001b[0m\u001b[1;33m,\u001b[0m \u001b[0mdummy_labels\u001b[0m\u001b[1;33m,\u001b[0m \u001b[0mmodel_dir\u001b[0m\u001b[1;33m,\u001b[0m \u001b[0mmodel_name\u001b[0m\u001b[1;33m)\u001b[0m\u001b[1;33m\u001b[0m\u001b[1;33m\u001b[0m\u001b[0m\n\u001b[0m\u001b[0;32m     10\u001b[0m to_csv_to_zip(prediction_dir, model_name, pl.predict_proba(holdout),\n\u001b[0;32m     11\u001b[0m               holdout.index, dummy_labels.columns)\n",
      "\u001b[1;32m~\\gdrive\\cursos\\datacamp\\python-data-science\\22-ml-experts-school-budgets-case\\notebooks\\..\\src\\fit_cache.py\u001b[0m in \u001b[0;36mfit_cache\u001b[1;34m(estimator, X, y, folder, modelname)\u001b[0m\n\u001b[0;32m     16\u001b[0m         \u001b[0mprint\u001b[0m\u001b[1;33m(\u001b[0m\u001b[1;34m'Fitting started on {}'\u001b[0m\u001b[1;33m.\u001b[0m\u001b[0mformat\u001b[0m\u001b[1;33m(\u001b[0m\u001b[0mdatetime\u001b[0m\u001b[1;33m.\u001b[0m\u001b[0mnow\u001b[0m\u001b[1;33m(\u001b[0m\u001b[1;33m)\u001b[0m\u001b[1;33m.\u001b[0m\u001b[0misoformat\u001b[0m\u001b[1;33m(\u001b[0m\u001b[0mtimespec\u001b[0m\u001b[1;33m=\u001b[0m\u001b[1;34m'minutes'\u001b[0m\u001b[1;33m)\u001b[0m\u001b[1;33m)\u001b[0m\u001b[1;33m)\u001b[0m\u001b[1;33m\u001b[0m\u001b[1;33m\u001b[0m\u001b[0m\n\u001b[0;32m     17\u001b[0m         \u001b[0mt\u001b[0m \u001b[1;33m=\u001b[0m \u001b[0mtime\u001b[0m\u001b[1;33m(\u001b[0m\u001b[1;33m)\u001b[0m\u001b[1;33m\u001b[0m\u001b[1;33m\u001b[0m\u001b[0m\n\u001b[1;32m---> 18\u001b[1;33m         \u001b[0mestimator\u001b[0m\u001b[1;33m.\u001b[0m\u001b[0mfit\u001b[0m\u001b[1;33m(\u001b[0m\u001b[0mX\u001b[0m\u001b[1;33m,\u001b[0m \u001b[0my\u001b[0m\u001b[1;33m)\u001b[0m\u001b[1;33m\u001b[0m\u001b[1;33m\u001b[0m\u001b[0m\n\u001b[0m\u001b[0;32m     19\u001b[0m         \u001b[0mprint\u001b[0m\u001b[1;33m(\u001b[0m\u001b[1;34m'Done: {:.1f} minutes'\u001b[0m\u001b[1;33m.\u001b[0m\u001b[0mformat\u001b[0m\u001b[1;33m(\u001b[0m\u001b[1;33m(\u001b[0m\u001b[0mtime\u001b[0m\u001b[1;33m(\u001b[0m\u001b[1;33m)\u001b[0m\u001b[1;33m-\u001b[0m\u001b[0mt\u001b[0m\u001b[1;33m)\u001b[0m\u001b[1;33m/\u001b[0m\u001b[1;36m60\u001b[0m\u001b[1;33m)\u001b[0m\u001b[1;33m)\u001b[0m\u001b[1;33m\u001b[0m\u001b[1;33m\u001b[0m\u001b[0m\n\u001b[0;32m     20\u001b[0m         \u001b[0mprint\u001b[0m\u001b[1;33m(\u001b[0m\u001b[1;34m'Saving cache {} ... '\u001b[0m\u001b[1;33m.\u001b[0m\u001b[0mformat\u001b[0m\u001b[1;33m(\u001b[0m\u001b[0mmodelname\u001b[0m\u001b[1;33m)\u001b[0m\u001b[1;33m,\u001b[0m \u001b[0mend\u001b[0m\u001b[1;33m=\u001b[0m\u001b[1;34m''\u001b[0m\u001b[1;33m)\u001b[0m\u001b[1;33m\u001b[0m\u001b[1;33m\u001b[0m\u001b[0m\n",
      "\u001b[1;32m~\\Anaconda3\\envs\\dev\\lib\\site-packages\\sklearn\\pipeline.py\u001b[0m in \u001b[0;36mfit\u001b[1;34m(self, X, y, **fit_params)\u001b[0m\n\u001b[0;32m    352\u001b[0m                                  self._log_message(len(self.steps) - 1)):\n\u001b[0;32m    353\u001b[0m             \u001b[1;32mif\u001b[0m \u001b[0mself\u001b[0m\u001b[1;33m.\u001b[0m\u001b[0m_final_estimator\u001b[0m \u001b[1;33m!=\u001b[0m \u001b[1;34m'passthrough'\u001b[0m\u001b[1;33m:\u001b[0m\u001b[1;33m\u001b[0m\u001b[1;33m\u001b[0m\u001b[0m\n\u001b[1;32m--> 354\u001b[1;33m                 \u001b[0mself\u001b[0m\u001b[1;33m.\u001b[0m\u001b[0m_final_estimator\u001b[0m\u001b[1;33m.\u001b[0m\u001b[0mfit\u001b[0m\u001b[1;33m(\u001b[0m\u001b[0mXt\u001b[0m\u001b[1;33m,\u001b[0m \u001b[0my\u001b[0m\u001b[1;33m,\u001b[0m \u001b[1;33m**\u001b[0m\u001b[0mfit_params\u001b[0m\u001b[1;33m)\u001b[0m\u001b[1;33m\u001b[0m\u001b[1;33m\u001b[0m\u001b[0m\n\u001b[0m\u001b[0;32m    355\u001b[0m         \u001b[1;32mreturn\u001b[0m \u001b[0mself\u001b[0m\u001b[1;33m\u001b[0m\u001b[1;33m\u001b[0m\u001b[0m\n\u001b[0;32m    356\u001b[0m \u001b[1;33m\u001b[0m\u001b[0m\n",
      "\u001b[1;32m~\\Anaconda3\\envs\\dev\\lib\\site-packages\\sklearn\\multiclass.py\u001b[0m in \u001b[0;36mfit\u001b[1;34m(self, X, y)\u001b[0m\n\u001b[0;32m    237\u001b[0m                 \u001b[1;34m\"not %s\"\u001b[0m \u001b[1;33m%\u001b[0m \u001b[0mself\u001b[0m\u001b[1;33m.\u001b[0m\u001b[0mlabel_binarizer_\u001b[0m\u001b[1;33m.\u001b[0m\u001b[0mclasses_\u001b[0m\u001b[1;33m[\u001b[0m\u001b[0mi\u001b[0m\u001b[1;33m]\u001b[0m\u001b[1;33m,\u001b[0m\u001b[1;33m\u001b[0m\u001b[1;33m\u001b[0m\u001b[0m\n\u001b[0;32m    238\u001b[0m                 self.label_binarizer_.classes_[i]])\n\u001b[1;32m--> 239\u001b[1;33m             for i, column in enumerate(columns))\n\u001b[0m\u001b[0;32m    240\u001b[0m \u001b[1;33m\u001b[0m\u001b[0m\n\u001b[0;32m    241\u001b[0m         \u001b[1;32mreturn\u001b[0m \u001b[0mself\u001b[0m\u001b[1;33m\u001b[0m\u001b[1;33m\u001b[0m\u001b[0m\n",
      "\u001b[1;32m~\\Anaconda3\\envs\\dev\\lib\\site-packages\\joblib\\parallel.py\u001b[0m in \u001b[0;36m__call__\u001b[1;34m(self, iterable)\u001b[0m\n\u001b[0;32m   1015\u001b[0m \u001b[1;33m\u001b[0m\u001b[0m\n\u001b[0;32m   1016\u001b[0m             \u001b[1;32mwith\u001b[0m \u001b[0mself\u001b[0m\u001b[1;33m.\u001b[0m\u001b[0m_backend\u001b[0m\u001b[1;33m.\u001b[0m\u001b[0mretrieval_context\u001b[0m\u001b[1;33m(\u001b[0m\u001b[1;33m)\u001b[0m\u001b[1;33m:\u001b[0m\u001b[1;33m\u001b[0m\u001b[1;33m\u001b[0m\u001b[0m\n\u001b[1;32m-> 1017\u001b[1;33m                 \u001b[0mself\u001b[0m\u001b[1;33m.\u001b[0m\u001b[0mretrieve\u001b[0m\u001b[1;33m(\u001b[0m\u001b[1;33m)\u001b[0m\u001b[1;33m\u001b[0m\u001b[1;33m\u001b[0m\u001b[0m\n\u001b[0m\u001b[0;32m   1018\u001b[0m             \u001b[1;31m# Make sure that we get a last message telling us we are done\u001b[0m\u001b[1;33m\u001b[0m\u001b[1;33m\u001b[0m\u001b[1;33m\u001b[0m\u001b[0m\n\u001b[0;32m   1019\u001b[0m             \u001b[0melapsed_time\u001b[0m \u001b[1;33m=\u001b[0m \u001b[0mtime\u001b[0m\u001b[1;33m.\u001b[0m\u001b[0mtime\u001b[0m\u001b[1;33m(\u001b[0m\u001b[1;33m)\u001b[0m \u001b[1;33m-\u001b[0m \u001b[0mself\u001b[0m\u001b[1;33m.\u001b[0m\u001b[0m_start_time\u001b[0m\u001b[1;33m\u001b[0m\u001b[1;33m\u001b[0m\u001b[0m\n",
      "\u001b[1;32m~\\Anaconda3\\envs\\dev\\lib\\site-packages\\joblib\\parallel.py\u001b[0m in \u001b[0;36mretrieve\u001b[1;34m(self)\u001b[0m\n\u001b[0;32m    907\u001b[0m             \u001b[1;32mtry\u001b[0m\u001b[1;33m:\u001b[0m\u001b[1;33m\u001b[0m\u001b[1;33m\u001b[0m\u001b[0m\n\u001b[0;32m    908\u001b[0m                 \u001b[1;32mif\u001b[0m \u001b[0mgetattr\u001b[0m\u001b[1;33m(\u001b[0m\u001b[0mself\u001b[0m\u001b[1;33m.\u001b[0m\u001b[0m_backend\u001b[0m\u001b[1;33m,\u001b[0m \u001b[1;34m'supports_timeout'\u001b[0m\u001b[1;33m,\u001b[0m \u001b[1;32mFalse\u001b[0m\u001b[1;33m)\u001b[0m\u001b[1;33m:\u001b[0m\u001b[1;33m\u001b[0m\u001b[1;33m\u001b[0m\u001b[0m\n\u001b[1;32m--> 909\u001b[1;33m                     \u001b[0mself\u001b[0m\u001b[1;33m.\u001b[0m\u001b[0m_output\u001b[0m\u001b[1;33m.\u001b[0m\u001b[0mextend\u001b[0m\u001b[1;33m(\u001b[0m\u001b[0mjob\u001b[0m\u001b[1;33m.\u001b[0m\u001b[0mget\u001b[0m\u001b[1;33m(\u001b[0m\u001b[0mtimeout\u001b[0m\u001b[1;33m=\u001b[0m\u001b[0mself\u001b[0m\u001b[1;33m.\u001b[0m\u001b[0mtimeout\u001b[0m\u001b[1;33m)\u001b[0m\u001b[1;33m)\u001b[0m\u001b[1;33m\u001b[0m\u001b[1;33m\u001b[0m\u001b[0m\n\u001b[0m\u001b[0;32m    910\u001b[0m                 \u001b[1;32melse\u001b[0m\u001b[1;33m:\u001b[0m\u001b[1;33m\u001b[0m\u001b[1;33m\u001b[0m\u001b[0m\n\u001b[0;32m    911\u001b[0m                     \u001b[0mself\u001b[0m\u001b[1;33m.\u001b[0m\u001b[0m_output\u001b[0m\u001b[1;33m.\u001b[0m\u001b[0mextend\u001b[0m\u001b[1;33m(\u001b[0m\u001b[0mjob\u001b[0m\u001b[1;33m.\u001b[0m\u001b[0mget\u001b[0m\u001b[1;33m(\u001b[0m\u001b[1;33m)\u001b[0m\u001b[1;33m)\u001b[0m\u001b[1;33m\u001b[0m\u001b[1;33m\u001b[0m\u001b[0m\n",
      "\u001b[1;32m~\\Anaconda3\\envs\\dev\\lib\\site-packages\\joblib\\_parallel_backends.py\u001b[0m in \u001b[0;36mwrap_future_result\u001b[1;34m(future, timeout)\u001b[0m\n\u001b[0;32m    560\u001b[0m         AsyncResults.get from multiprocessing.\"\"\"\n\u001b[0;32m    561\u001b[0m         \u001b[1;32mtry\u001b[0m\u001b[1;33m:\u001b[0m\u001b[1;33m\u001b[0m\u001b[1;33m\u001b[0m\u001b[0m\n\u001b[1;32m--> 562\u001b[1;33m             \u001b[1;32mreturn\u001b[0m \u001b[0mfuture\u001b[0m\u001b[1;33m.\u001b[0m\u001b[0mresult\u001b[0m\u001b[1;33m(\u001b[0m\u001b[0mtimeout\u001b[0m\u001b[1;33m=\u001b[0m\u001b[0mtimeout\u001b[0m\u001b[1;33m)\u001b[0m\u001b[1;33m\u001b[0m\u001b[1;33m\u001b[0m\u001b[0m\n\u001b[0m\u001b[0;32m    563\u001b[0m         \u001b[1;32mexcept\u001b[0m \u001b[0mLokyTimeoutError\u001b[0m\u001b[1;33m:\u001b[0m\u001b[1;33m\u001b[0m\u001b[1;33m\u001b[0m\u001b[0m\n\u001b[0;32m    564\u001b[0m             \u001b[1;32mraise\u001b[0m \u001b[0mTimeoutError\u001b[0m\u001b[1;33m(\u001b[0m\u001b[1;33m)\u001b[0m\u001b[1;33m\u001b[0m\u001b[1;33m\u001b[0m\u001b[0m\n",
      "\u001b[1;32m~\\Anaconda3\\envs\\dev\\lib\\concurrent\\futures\\_base.py\u001b[0m in \u001b[0;36mresult\u001b[1;34m(self, timeout)\u001b[0m\n\u001b[0;32m    428\u001b[0m                 \u001b[1;32mreturn\u001b[0m \u001b[0mself\u001b[0m\u001b[1;33m.\u001b[0m\u001b[0m__get_result\u001b[0m\u001b[1;33m(\u001b[0m\u001b[1;33m)\u001b[0m\u001b[1;33m\u001b[0m\u001b[1;33m\u001b[0m\u001b[0m\n\u001b[0;32m    429\u001b[0m \u001b[1;33m\u001b[0m\u001b[0m\n\u001b[1;32m--> 430\u001b[1;33m             \u001b[0mself\u001b[0m\u001b[1;33m.\u001b[0m\u001b[0m_condition\u001b[0m\u001b[1;33m.\u001b[0m\u001b[0mwait\u001b[0m\u001b[1;33m(\u001b[0m\u001b[0mtimeout\u001b[0m\u001b[1;33m)\u001b[0m\u001b[1;33m\u001b[0m\u001b[1;33m\u001b[0m\u001b[0m\n\u001b[0m\u001b[0;32m    431\u001b[0m \u001b[1;33m\u001b[0m\u001b[0m\n\u001b[0;32m    432\u001b[0m             \u001b[1;32mif\u001b[0m \u001b[0mself\u001b[0m\u001b[1;33m.\u001b[0m\u001b[0m_state\u001b[0m \u001b[1;32min\u001b[0m \u001b[1;33m[\u001b[0m\u001b[0mCANCELLED\u001b[0m\u001b[1;33m,\u001b[0m \u001b[0mCANCELLED_AND_NOTIFIED\u001b[0m\u001b[1;33m]\u001b[0m\u001b[1;33m:\u001b[0m\u001b[1;33m\u001b[0m\u001b[1;33m\u001b[0m\u001b[0m\n",
      "\u001b[1;32m~\\Anaconda3\\envs\\dev\\lib\\threading.py\u001b[0m in \u001b[0;36mwait\u001b[1;34m(self, timeout)\u001b[0m\n\u001b[0;32m    294\u001b[0m         \u001b[1;32mtry\u001b[0m\u001b[1;33m:\u001b[0m    \u001b[1;31m# restore state no matter what (e.g., KeyboardInterrupt)\u001b[0m\u001b[1;33m\u001b[0m\u001b[1;33m\u001b[0m\u001b[0m\n\u001b[0;32m    295\u001b[0m             \u001b[1;32mif\u001b[0m \u001b[0mtimeout\u001b[0m \u001b[1;32mis\u001b[0m \u001b[1;32mNone\u001b[0m\u001b[1;33m:\u001b[0m\u001b[1;33m\u001b[0m\u001b[1;33m\u001b[0m\u001b[0m\n\u001b[1;32m--> 296\u001b[1;33m                 \u001b[0mwaiter\u001b[0m\u001b[1;33m.\u001b[0m\u001b[0macquire\u001b[0m\u001b[1;33m(\u001b[0m\u001b[1;33m)\u001b[0m\u001b[1;33m\u001b[0m\u001b[1;33m\u001b[0m\u001b[0m\n\u001b[0m\u001b[0;32m    297\u001b[0m                 \u001b[0mgotit\u001b[0m \u001b[1;33m=\u001b[0m \u001b[1;32mTrue\u001b[0m\u001b[1;33m\u001b[0m\u001b[1;33m\u001b[0m\u001b[0m\n\u001b[0;32m    298\u001b[0m             \u001b[1;32melse\u001b[0m\u001b[1;33m:\u001b[0m\u001b[1;33m\u001b[0m\u001b[1;33m\u001b[0m\u001b[0m\n",
      "\u001b[1;31mKeyboardInterrupt\u001b[0m: "
     ]
    }
   ],
   "source": [
    "pl.set_params(classifier = OneVsRestClassifier(LogisticRegression(solver='liblinear')),\n",
    "              classifier__n_jobs = -1,\n",
    "              classifier__estimator__C = 0.5623413251903491,\n",
    "              union__text_features__vectorizer__ngram_range = (1,1),\n",
    "              union__text_features__vectorizer__n_features = 2**20,\n",
    "              union__text_features__reducer__k = 1778)\n",
    "\n",
    "model_name = '0.1-k1778-logistic-regression-C0.5623413251903491'\n",
    "pl = fit_cache(pl, sampling[FEATURES], dummy_labels, model_dir, model_name)\n",
    "to_csv_to_zip(prediction_dir, model_name, pl.predict_proba(holdout),\n",
    "              holdout.index, dummy_labels.columns)"
   ]
  },
  {
   "cell_type": "markdown",
   "metadata": {},
   "source": [
    "`ngram_range=(1,1)`, `n_features=2**20`, `k=1778` and `C=1`, elapsed `31.1 minutes`, DrivenData score: `0.4818`  \n",
    "`ngram_range=(1,1)`, `n_features=2**20`, `k=1778` and `C=0.5623413251903491`, elapsed ` minutes`, DrivenData score: `0.`"
   ]
  },
  {
   "cell_type": "markdown",
   "metadata": {},
   "source": [
    "# 20% sample"
   ]
  },
  {
   "cell_type": "code",
   "execution_count": null,
   "metadata": {
    "scrolled": true
   },
   "outputs": [],
   "source": [
    "sampling = multilabel_sample_dataframe(df, y, size = 0.2, min_count = 2, seed = 1)\n",
    "print('Sample size:', sampling.shape[0])                                     # 80055\n",
    "print('Train sizes:', (sampling.shape[0] * train_sizes * .8).astype('int'))  # [12808 25617 38426 51235 64044]\n",
    "print('Test sizes :', (sampling.shape[0] * train_sizes * .2).astype('int'))  # [3202  6404  9606 12808 16011]\n",
    "dummy_labels = pd.get_dummies(sampling[LABELS], prefix_sep='__')"
   ]
  },
  {
   "cell_type": "markdown",
   "metadata": {},
   "source": [
    "## Learning curves"
   ]
  },
  {
   "cell_type": "code",
   "execution_count": null,
   "metadata": {},
   "outputs": [],
   "source": [
    "classifiers = [\n",
    "    ('Logistic regression (liblinear)', OneVsRestClassifier(LogisticRegression(solver='liblinear')))#, #fast4small\n",
    "    #('Logistic regression (lbfgs)', OneVsRestClassifier(LogisticRegression(solver='lbfgs', max_iter=200))), #fast4small\n",
    "    #('Logistic regression (sag)', OneVsRestClassifier(LogisticRegression(solver='sag', max_iter=4000)))#, # faster?\n",
    "    #('Logistic regression (saga)', OneVsRestClassifier(LogisticRegression(solver='saga', max_iter=3200))), #fast??\n",
    "    #('Logistic regression (newton-cg)', OneVsRestClassifier(LogisticRegression(solver='newton-cg')))\n",
    "]"
   ]
  },
  {
   "cell_type": "markdown",
   "metadata": {},
   "source": [
    "Finding the`k` parameter space limits for each `ngram_range`"
   ]
  },
  {
   "cell_type": "code",
   "execution_count": null,
   "metadata": {
    "scrolled": true
   },
   "outputs": [],
   "source": [
    "ngram_kmax = [len(CountVectorizer(ngram_range=(1,n),\n",
    "                                  dtype='uint8').fit(combine_text_columns(sampling)).vocabulary_)\n",
    "              for n in range(1, 4)] # [2959, 22304, 58861]"
   ]
  },
  {
   "cell_type": "code",
   "execution_count": null,
   "metadata": {},
   "outputs": [],
   "source": [
    "ngram1_logspace = np.logspace(2.5, np.ceil(np.log10(ngram_kmax[0])), 7).round().astype('int')\n",
    "ngram1_logspace = np.hstack((ngram1_logspace[ngram1_logspace < ngram_kmax[0]], ngram_kmax[0]))\n",
    "ngram1_logspace # [ 316,  562, 1000, 1778, 2959]"
   ]
  },
  {
   "cell_type": "code",
   "execution_count": null,
   "metadata": {
    "scrolled": false
   },
   "outputs": [],
   "source": [
    "parameters = ParameterGrid([{'union__text_features__vectorizer__ngram_range': [(1,1)],\n",
    "                             'union__text_features__reducer__k': ngram1_logspace}])\n",
    "print(datetime.now().isoformat(timespec='minutes'))\n",
    "for title, classifier in classifiers:\n",
    "    pl.set_params(classifier = classifier)\n",
    "    pl.set_params(classifier__n_jobs = None)\n",
    "    for parameter in parameters:\n",
    "        pl.set_params(**parameter)\n",
    "        plot_learning_curve(pl, ', '.join([title] + [k.split('__')[-1]+'='+str(v) for k,v in parameter.items()]),\n",
    "                            sampling[FEATURES], dummy_labels, cv=5, scoring=multi_multi_log_loss_scorer,\n",
    "                            n_jobs=-1, verbose=11, train_sizes=train_sizes)\n",
    "        plt.show()"
   ]
  },
  {
   "cell_type": "markdown",
   "metadata": {},
   "source": [
    "| sample | min | jobs | features | ngram | train_sizes |    k | interact | logloss|      time |      peak |\n",
    "| -----: | --: | ---: | -------: | ----: | ----------: | ---: | -------: | -----: |  -------: | --------: |\n",
    "|    0.2 |   2 |    4 |  2\\*\\*20 | (1,1) | (0.2, 1, 5) |  316 |    51681 | 0.1132 |  94.0 min |    2.3 GiB|\n",
    "|    0.1 |   2 |    4 |  2\\*\\*20 | (1,1) | (0.2, 1, 5) |  562 |   161028 | 0.0946 | 142.6 min |    2.3 GiB|\n",
    "|    0.1 |   2 |    4 |  2\\*\\*20 | (1,1) | (0.2, 1, 5) | 1000 |   505515 | 0.0866 | 194.4 min |    2.3 GiB|\n",
    "|    0.1 |   2 |    4 |  2\\*\\*20 | (1,1) | (0.2, 1, 5) | **1778** |  1590436 | **0.0844** | 268.3 min |    3.0 GiB|\n",
    "|    0.1 |   2 |    4 |  2\\*\\*20 | (1,1) | (0.2, 1, 5) | 2959 |  4394130 | 0.0868 | 408.2 min |    4.2 GiB|"
   ]
  },
  {
   "cell_type": "markdown",
   "metadata": {},
   "source": [
    "## Regularization validation curve **(TORUN)**"
   ]
  },
  {
   "cell_type": "code",
   "execution_count": null,
   "metadata": {},
   "outputs": [],
   "source": [
    "pl.set_params(classifier = OneVsRestClassifier(LogisticRegression(solver='liblinear')), # , max_iter=300)))\n",
    "              union__text_features__vectorizer__ngram_range = (1,1),\n",
    "              union__text_features__vectorizer__n_features = 2**20,\n",
    "              union__text_features__reducer__k = 1778)\n",
    "param_name='classifier__estimator__C'\n",
    "param_range = np.logspace(-1, 1, 9)  # [0.1,0.1778279410038923, 0.31622776601683794, 0.5623413251903491, 1,\n",
    "                                     # 1.7782794100389228, 3.1622776601683795, 5.623413251903491, 10]\n",
    "param_label = 'C'\n",
    "plot_validation_curve(pl, sampling[FEATURES], dummy_labels, param_name, param_range, param_label,\n",
    "                      cv=5, scoring=multi_multi_log_loss_scorer, n_jobs=-1, verbose=11, xscale='log')\n",
    "plt.show()"
   ]
  },
  {
   "cell_type": "markdown",
   "metadata": {},
   "source": [
    "Holding fixed `ngram_range=(1,1)`, `n_features=2**20` and `k=1778`, the best is `C=?`, scoring `?`, elapsed `? minutes`"
   ]
  },
  {
   "cell_type": "markdown",
   "metadata": {},
   "source": [
    "## Fit & predict"
   ]
  },
  {
   "cell_type": "code",
   "execution_count": null,
   "metadata": {
    "scrolled": true
   },
   "outputs": [],
   "source": [
    "pl.set_params(classifier = OneVsRestClassifier(LogisticRegression(solver='liblinear')),\n",
    "              classifier__n_jobs = -1,\n",
    "              classifier__estimator__C = 1,\n",
    "              union__text_features__vectorizer__ngram_range = (1,1),\n",
    "              union__text_features__vectorizer__n_features = 2**20,\n",
    "              union__text_features__reducer__k = 1778)\n",
    "\n",
    "model_name = '0.2-k1778-logistic-regression-C1'\n",
    "pl = fit_cache(pl, sampling[FEATURES], dummy_labels, model_dir, model_name)\n",
    "to_csv_to_zip(prediction_dir, model_name, pl.predict_proba(holdout),\n",
    "              holdout.index, dummy_labels.columns)"
   ]
  },
  {
   "cell_type": "markdown",
   "metadata": {},
   "source": [
    "`ngram_range=(1,1)`, `n_features=2**20`, `k=1778` and `C=1`, elapsed `33.9 minutes`, DrivenData score: `0.4800`  \n",
    "\n",
    "Fitting started on 2020-02-15T13:32  \n",
    "[Pipeline] .. (step 1 of 2) Processing numeric_selector, total=   0.1s  \n",
    "[Pipeline] ........... (step 2 of 2) Processing imputer, total=   0.0s  \n",
    "[Pipeline] ..... (step 1 of 3) Processing text_selector, total=   2.1s  \n",
    "[Pipeline] ........ (step 2 of 3) Processing vectorizer, total=   1.8s  \n",
    "[Pipeline] ........... (step 3 of 3) Processing reducer, total=  19.0s  \n",
    "[Pipeline] ............. (step 1 of 4) Processing union, total=  23.1s  \n",
    "[Pipeline] ........ (step 2 of 4) Processing interactor, total=   1.2s  \n",
    "[Pipeline] ............ (step 3 of 4) Processing scaler, total=   2.1s  \n",
    "[Pipeline] ........ (step 4 of 4) Processing classifier, total=33.4min  \n",
    "Done: 33.9 minutes  \n",
    "Saving cache 0.2-k1778-logistic-regression-C1 ... Done: 0.0 minutes  \n",
    "Saving CSV...Done: 0.2 minutes  \n",
    "Zipping...Done: 0.2 minutes"
   ]
  },
  {
   "cell_type": "markdown",
   "metadata": {},
   "source": [
    "# 30% sample"
   ]
  },
  {
   "cell_type": "code",
   "execution_count": 11,
   "metadata": {
    "scrolled": true
   },
   "outputs": [
    {
     "name": "stdout",
     "output_type": "stream",
     "text": [
      "Sample size: 120083\n",
      "Train sizes: [19213 38426 57639 76853 96066]\n",
      "Test sizes : [ 4803  9606 14409 19213 24016]\n"
     ]
    }
   ],
   "source": [
    "sampling = multilabel_sample_dataframe(df, y, size = 0.3, min_count = 0, seed = 1)\n",
    "print('Sample size:', sampling.shape[0])                                     # 120083\n",
    "print('Train sizes:', (sampling.shape[0] * train_sizes * .8).astype('int'))  # [19213 38426 57639 76853 96066]\n",
    "print('Test sizes :', (sampling.shape[0] * train_sizes * .2).astype('int'))  # [ 4803  9606 14409 19213 24016]\n",
    "dummy_labels = pd.get_dummies(sampling[LABELS], prefix_sep='__')"
   ]
  },
  {
   "cell_type": "markdown",
   "metadata": {},
   "source": [
    "## Learning curves"
   ]
  },
  {
   "cell_type": "code",
   "execution_count": 12,
   "metadata": {},
   "outputs": [],
   "source": [
    "classifiers = [\n",
    "    ('Logistic regression (liblinear)', OneVsRestClassifier(LogisticRegression(solver='liblinear')))#, #fast4small\n",
    "    #('Logistic regression (lbfgs)', OneVsRestClassifier(LogisticRegression(solver='lbfgs', max_iter=200))), #fast4small\n",
    "    #('Logistic regression (sag)', OneVsRestClassifier(LogisticRegression(solver='sag', max_iter=4000)))#, # faster?\n",
    "    #('Logistic regression (saga)', OneVsRestClassifier(LogisticRegression(solver='saga', max_iter=3200))), #fast??\n",
    "    #('Logistic regression (newton-cg)', OneVsRestClassifier(LogisticRegression(solver='newton-cg')))\n",
    "]"
   ]
  },
  {
   "cell_type": "markdown",
   "metadata": {},
   "source": [
    "Finding the`k` parameter space limits for each `ngram_range`"
   ]
  },
  {
   "cell_type": "code",
   "execution_count": 13,
   "metadata": {
    "scrolled": true
   },
   "outputs": [],
   "source": [
    "ngram_kmax = [len(CountVectorizer(ngram_range=(1,n),\n",
    "                                  dtype='uint8').fit(combine_text_columns(sampling)).vocabulary_)\n",
    "              for n in range(1, 4)] # [3122, 24721, 66367]"
   ]
  },
  {
   "cell_type": "code",
   "execution_count": 15,
   "metadata": {},
   "outputs": [
    {
     "data": {
      "text/plain": [
       "array([ 316,  562, 1000, 1778, 3122])"
      ]
     },
     "execution_count": 15,
     "metadata": {},
     "output_type": "execute_result"
    }
   ],
   "source": [
    "ngram1_logspace = np.logspace(2.5, np.ceil(np.log10(ngram_kmax[0])), 7).round().astype('int')\n",
    "ngram1_logspace = np.hstack((ngram1_logspace[ngram1_logspace < ngram_kmax[0]], ngram_kmax[0]))\n",
    "ngram1_logspace # [ 316,  562, 1000, 1778, 3122]"
   ]
  },
  {
   "cell_type": "code",
   "execution_count": null,
   "metadata": {
    "scrolled": false
   },
   "outputs": [],
   "source": [
    "parameters = ParameterGrid([{'union__text_features__vectorizer__ngram_range': [(1,1)],\n",
    "                             'union__text_features__reducer__k': ngram1_logspace}])\n",
    "print(datetime.now().isoformat(timespec='minutes'))\n",
    "for title, classifier in classifiers:\n",
    "    pl.set_params(classifier = classifier)\n",
    "    pl.set_params(classifier__n_jobs = None)\n",
    "    for parameter in parameters:\n",
    "        pl.set_params(**parameter)\n",
    "        plot_learning_curve(pl, ', '.join([title] + [k.split('__')[-1]+'='+str(v) for k,v in parameter.items()]),\n",
    "                            sampling[FEATURES], dummy_labels, cv=5, scoring=multi_multi_log_loss_scorer,\n",
    "                            n_jobs=-1, verbose=11, train_sizes=train_sizes)\n",
    "        plt.show()"
   ]
  },
  {
   "cell_type": "markdown",
   "metadata": {},
   "source": [
    "| sample | min | jobs | features | ngram | train_sizes |    k | interact | logloss|      time |      peak |\n",
    "| -----: | --: | ---: | -------: | ----: | ----------: | ---: | -------: | -----: |  -------: | --------: |\n",
    "|    0.3 |   0 |    4 |  2\\*\\*20 | (1,1) | (0.2, 1, 5) |  316 |    51681 | ??? |  min |  GiB|"
   ]
  },
  {
   "cell_type": "markdown",
   "metadata": {},
   "source": [
    "## Regularization validation curve **(TORUN)**"
   ]
  },
  {
   "cell_type": "code",
   "execution_count": null,
   "metadata": {},
   "outputs": [],
   "source": [
    "pl.set_params(classifier = OneVsRestClassifier(LogisticRegression(solver='liblinear')), # , max_iter=300)))\n",
    "              union__text_features__vectorizer__ngram_range = (1,1),\n",
    "              union__text_features__vectorizer__n_features = 2**20,\n",
    "              union__text_features__reducer__k = 1778)\n",
    "param_name='classifier__estimator__C'\n",
    "param_range = np.logspace(-1, 1, 9)  # [0.1,0.1778279410038923, 0.31622776601683794, 0.5623413251903491, 1,\n",
    "                                     # 1.7782794100389228, 3.1622776601683795, 5.623413251903491, 10]\n",
    "param_label = 'C'\n",
    "plot_validation_curve(pl, sampling[FEATURES], dummy_labels, param_name, param_range, param_label,\n",
    "                      cv=5, scoring=multi_multi_log_loss_scorer, n_jobs=-1, verbose=11, xscale='log')\n",
    "plt.show()"
   ]
  },
  {
   "cell_type": "markdown",
   "metadata": {},
   "source": [
    "Holding fixed `ngram_range=(1,1)`, `n_features=2**20` and `k=1778`, the best is `C=?`, scoring `?`, elapsed `? minutes`"
   ]
  },
  {
   "cell_type": "markdown",
   "metadata": {},
   "source": [
    "## Fit & predict"
   ]
  },
  {
   "cell_type": "code",
   "execution_count": null,
   "metadata": {
    "scrolled": true
   },
   "outputs": [],
   "source": [
    "pl.set_params(classifier = OneVsRestClassifier(LogisticRegression(solver='liblinear')),\n",
    "              classifier__n_jobs = -1,\n",
    "              classifier__estimator__C = 1,\n",
    "              union__text_features__vectorizer__ngram_range = (1,1),\n",
    "              union__text_features__vectorizer__n_features = 2**20,\n",
    "              union__text_features__reducer__k = 1778)\n",
    "\n",
    "model_name = '0.3-k1778-logistic-regression-C1'\n",
    "pl = fit_cache(pl, sampling[FEATURES], dummy_labels, model_dir, model_name)\n",
    "to_csv_to_zip(prediction_dir, model_name, pl.predict_proba(holdout),\n",
    "              holdout.index, dummy_labels.columns)"
   ]
  },
  {
   "cell_type": "markdown",
   "metadata": {},
   "source": [
    "`ngram_range=(1,1)`, `n_features=2**20`, `k=1778` and `C=1`, elapsed `35.8 minutes`, DrivenData score: `0.5095`  \n",
    "Fitting started on 2020-02-18T02:13  \n",
    "[Pipeline] .. (step 1 of 2) Processing numeric_selector, total=   0.1s  \n",
    "[Pipeline] ........... (step 2 of 2) Processing imputer, total=   0.0s  \n",
    "[Pipeline] ..... (step 1 of 3) Processing text_selector, total=   2.8s  \n",
    "[Pipeline] ........ (step 2 of 3) Processing vectorizer, total=   2.7s  \n",
    "[Pipeline] ........... (step 3 of 3) Processing reducer, total=  20.0s  \n",
    "[Pipeline] ............. (step 1 of 4) Processing union, total=  25.7s  \n",
    "[Pipeline] ........ (step 2 of 4) Processing interactor, total=   1.4s  \n",
    "[Pipeline] ............ (step 3 of 4) Processing scaler, total=   3.0s  \n",
    "[Pipeline] ........ (step 4 of 4) Processing classifier, total=35.3min  \n",
    "Done: 35.8 minutes  \n",
    "Saving cache 0.3-k1778-logistic-regression-C1 ... Done: 0.0 minutes  \n",
    "Saving CSV...Done: 0.3 minutes  \n",
    "Zipping...Done: 0.2 minutes"
   ]
  },
  {
   "cell_type": "markdown",
   "metadata": {},
   "source": [
    "# 100% data **(TORUN days)**"
   ]
  },
  {
   "cell_type": "code",
   "execution_count": 11,
   "metadata": {},
   "outputs": [
    {
     "name": "stdout",
     "output_type": "stream",
     "text": [
      "Sample size: 400277\n",
      "Train sizes: [ 64044 128088 192132 256177 320221]\n",
      "Test sizes : [16011 32022 48033 64044 80055]\n"
     ]
    }
   ],
   "source": [
    "print('Sample size:', df.shape[0])                                     # 400277\n",
    "print('Train sizes:', (df.shape[0] * train_sizes * .8).astype('int'))  # [64044 128088 192132 256177 320221]\n",
    "print('Test sizes :', (df.shape[0] * train_sizes * .2).astype('int'))  # [16011 32022 48033 64044 80055]"
   ]
  },
  {
   "cell_type": "markdown",
   "metadata": {},
   "source": [
    "## Learning curves **(TORUN FROM 1778 ON)**"
   ]
  },
  {
   "cell_type": "code",
   "execution_count": 12,
   "metadata": {},
   "outputs": [],
   "source": [
    "classifiers = [('Logistic regression (liblinear)', OneVsRestClassifier(LogisticRegression(solver='liblinear')))#, #fast4small\n",
    "              #('Logistic regression (lbfgs)', OneVsRestClassifier(LogisticRegression(solver='lbfgs', max_iter=300))), #, #fast4small\n",
    "              #('Logistic regression (sag)', OneVsRestClassifier(LogisticRegression(solver='sag', max_iter=1100))), # faster?\n",
    "              #('Logistic regression (saga)', OneVsRestClassifier(LogisticRegression(solver='saga', max_iter=3200))), #fast??\n",
    "              #('Logistic regression (newton-cg)', OneVsRestClassifier(LogisticRegression(solver='newton-cg'))) #fast\n",
    "]"
   ]
  },
  {
   "cell_type": "markdown",
   "metadata": {},
   "source": [
    "Finding the`k` parameter space limits for each `ngram_range`"
   ]
  },
  {
   "cell_type": "code",
   "execution_count": 13,
   "metadata": {},
   "outputs": [],
   "source": [
    "ngram_kmax = [len(CountVectorizer(ngram_range=(1,n),\n",
    "                                  dtype='uint8').fit(combine_text_columns(df)).vocabulary_)\n",
    "              for n in range(1, 4)]  # [3728, 32572, 91308]"
   ]
  },
  {
   "cell_type": "code",
   "execution_count": null,
   "metadata": {},
   "outputs": [],
   "source": [
    "ngram1_logspace = np.logspace(2.5, np.ceil(np.log10(ngram_kmax[0])), 7).round().astype('int')\n",
    "ngram1_logspace = np.hstack((ngram1_logspace[ngram1_logspace < ngram_kmax[0]], ngram_kmax[0]))\n",
    "parameters = ParameterGrid({'union__text_features__reducer__k': [1778,3162,3728], # ngram1_logspace, # [316,562,1000,1778,3162,3728]\n",
    "                            'union__text_features__vectorizer__ngram_range': [(1,1)]})\n",
    "print(datetime.now().isoformat(timespec='minutes'))\n",
    "for title, classifier in classifiers:\n",
    "    pl.set_params(classifier = classifier)\n",
    "    for parameter in parameters:\n",
    "        pl.set_params(**parameter)\n",
    "        plot_learning_curve(pl, ', '.join([title] + [k.split('__')[-1]+'='+str(v) for k,v in parameter.items()]),\n",
    "                            df[FEATURES], y, cv=5, scoring=multi_multi_log_loss_scorer,\n",
    "                            n_jobs=-1, verbose=11, train_sizes=train_sizes)\n",
    "        plt.show()"
   ]
  },
  {
   "cell_type": "markdown",
   "metadata": {},
   "source": [
    "| sample | jobs | features | ngram | train_sizes |    k | interact |log loss|       time |      peak |\n",
    "| -----: | ---: | -------: | ----: | ----------: | ---: | -------: |-------:| ---------: | --------: |\n",
    "|    1.0 |    4 |  2\\*\\*20 | (1,1) | (0.2, 1, 5) |  316 |  1678650 | 0.0834 |  667.9 min |2.8-3.1 GiB|\n",
    "|    1.0 |    4 |  2\\*\\*20 | (1,1) | (0.2, 1, 5) |  562 |  1678650 | 0.0686 |  998.1 min |2.8-3.1 GiB|\n",
    "|    1.0 |    4 |  2\\*\\*20 | (1,1) | (0.2, 1, 5) | 1000 |  1678650 | 0.0623 | 1291.2 min |2.8-3.1 GiB|\n",
    "|    1.0 |    4 |  2\\*\\*20 | (1,1) | (0.2, 1, 5) | 1778 |  1678650 | to     |        min |2.8-3.1 GiB|\n",
    "|    1.0 |    4 |  2\\*\\*20 | (1,1) | (0.2, 1, 5) | 3162 |  1678650 | to     |        min |2.8-3.1 GiB|\n",
    "|    1.0 |    4 |  2\\*\\*20 | (1,1) | (0.2, 1, 5) | 3728 |  1678650 | to     |        min |2.8-3.1 GiB|"
   ]
  },
  {
   "cell_type": "markdown",
   "metadata": {},
   "source": [
    "## Regularization validation curve **(TORUN)**"
   ]
  },
  {
   "cell_type": "code",
   "execution_count": null,
   "metadata": {
    "scrolled": false
   },
   "outputs": [],
   "source": [
    "pl.set_params(classifier = OneVsRestClassifier(LogisticRegression(solver='liblinear'))) # ConvergenceWarning\n",
    "param_name='classifier__estimator__C'\n",
    "param_range = np.logspace(-1, 1, 9)  # [0.1,0.1778279410038923, 0.31622776601683794, 0.5623413251903491, 1,\n",
    "                                     # 1.7782794100389228, 3.1622776601683795, 5.623413251903491, 10]\n",
    "param_label = 'C'\n",
    "plot_validation_curve(pl, df[FEATURES], y, param_name, param_range, param_label,\n",
    "                      cv=5, scoring=multi_multi_log_loss_scorer, n_jobs=-1, verbose=11, xscale='log')\n",
    "plt.show()"
   ]
  },
  {
   "cell_type": "markdown",
   "metadata": {},
   "source": [
    "Holding fixed `ngram_range=(1,1)`, `n_features=2**20` and `k=???`, the best is `C=??`, scoring `0.??`, elapsed `38 minutes`"
   ]
  },
  {
   "cell_type": "markdown",
   "metadata": {},
   "source": [
    "## Fit & predict  **(TO RUN)**"
   ]
  },
  {
   "cell_type": "code",
   "execution_count": 14,
   "metadata": {
    "scrolled": false
   },
   "outputs": [
    {
     "name": "stdout",
     "output_type": "stream",
     "text": [
      "Fitting started on 2020-02-17T21:37\n",
      "[Pipeline] .. (step 1 of 2) Processing numeric_selector, total=   0.3s\n",
      "[Pipeline] ........... (step 2 of 2) Processing imputer, total=   0.1s\n",
      "[Pipeline] ..... (step 1 of 3) Processing text_selector, total=   9.3s\n",
      "[Pipeline] ........ (step 2 of 3) Processing vectorizer, total=   8.5s\n",
      "[Pipeline] ........... (step 3 of 3) Processing reducer, total=  23.1s\n",
      "[Pipeline] ............. (step 1 of 4) Processing union, total=  41.9s\n",
      "[Pipeline] ........ (step 2 of 4) Processing interactor, total=   4.7s\n",
      "[Pipeline] ............ (step 3 of 4) Processing scaler, total=  12.5s\n",
      "[Pipeline] ....... (step 4 of 4) Processing classifier, total=198.7min\n",
      "Done: 199.6 minutes\n",
      "Saving cache 1.0-k3728-logistic-regression-C1 ... Done: 1.4 minutes\n",
      "Saving CSV...Done: 0.2 minutes\n",
      "Zipping...Done: 0.2 minutes\n"
     ]
    }
   ],
   "source": [
    "pl.set_params(classifier = OneVsRestClassifier(LogisticRegression(solver='liblinear')),\n",
    "              classifier__n_jobs = -1,\n",
    "              classifier__estimator__C = 1,\n",
    "              union__text_features__vectorizer__ngram_range = (1,1),\n",
    "              union__text_features__vectorizer__n_features = 2**20,\n",
    "              union__text_features__reducer__k = 3728)\n",
    "model_name = '1.0-k3728-logistic-regression-C1'\n",
    "pl = fit_cache(pl, df[FEATURES], y, model_dir, model_name)\n",
    "to_csv_to_zip(prediction_dir, model_name, pl.predict_proba(holdout), holdout.index, y.columns)"
   ]
  },
  {
   "cell_type": "markdown",
   "metadata": {},
   "source": [
    "**Saved results for sample 1.0 k 3728 C 1: DrivenData 0.5145**  \n",
    "Fitting started on 2020-02-17T21:37  \n",
    "[Pipeline] .. (step 1 of 2) Processing numeric_selector, total=   0.3s  \n",
    "[Pipeline] ........... (step 2 of 2) Processing imputer, total=   0.1s  \n",
    "[Pipeline] ..... (step 1 of 3) Processing text_selector, total=   9.3s  \n",
    "[Pipeline] ........ (step 2 of 3) Processing vectorizer, total=   8.5s  \n",
    "[Pipeline] ........... (step 3 of 3) Processing reducer, total=  23.1s  \n",
    "[Pipeline] ............. (step 1 of 4) Processing union, total=  41.9s  \n",
    "[Pipeline] ........ (step 2 of 4) Processing interactor, total=   4.7s  \n",
    "[Pipeline] ............ (step 3 of 4) Processing scaler, total=  12.5s  \n",
    "[Pipeline] ....... (step 4 of 4) Processing classifier, total=198.7min  \n",
    "Done: 199.6 minutes  \n",
    "Saving cache 1.0-k3728-logistic-regression-C1 ... Done: 1.4 minutes  \n",
    "Saving CSV...Done: 0.2 minutes  \n",
    "Zipping...Done: 0.2 minutes"
   ]
  },
  {
   "cell_type": "markdown",
   "metadata": {},
   "source": [
    "**Saved results for sample 1.0 k 1778 C 1: DrivenData 0.5173**  \n",
    "Fitting started on 2020-02-17T18:28  \n",
    "[Pipeline] .. (step 1 of 2) Processing numeric_selector, total=   0.3s  \n",
    "[Pipeline] ........... (step 2 of 2) Processing imputer, total=   0.1s  \n",
    "[Pipeline] ..... (step 1 of 3) Processing text_selector, total=   9.6s  \n",
    "[Pipeline] ........ (step 2 of 3) Processing vectorizer, total=   9.2s  \n",
    "[Pipeline] ........... (step 3 of 3) Processing reducer, total=  23.6s  \n",
    "[Pipeline] ............. (step 1 of 4) Processing union, total=  43.2s  \n",
    "[Pipeline] ........ (step 2 of 4) Processing interactor, total=   4.9s  \n",
    "[Pipeline] ............ (step 3 of 4) Processing scaler, total=  11.4s  \n",
    "[Pipeline] ....... (step 4 of 4) Processing classifier, total=147.8min  \n",
    "Done: 148.8 minutes  \n",
    "Saving cache 1.0-k1778-logistic-regression-C1 ... Done: 0.0 minutes  \n",
    "Saving CSV...Done: 0.2 minutes  \n",
    "Zipping...Done: 0.2 minutes"
   ]
  },
  {
   "cell_type": "markdown",
   "metadata": {},
   "source": [
    "`ngram_range=(1,1)`, `n_features=2**20`, `k=1778` and `C=1`, elapsed `148.8 minutes`, DrivenData score: `0.5173`"
   ]
  },
  {
   "cell_type": "markdown",
   "metadata": {},
   "source": [
    "# Parameter optimizations and predictions"
   ]
  },
  {
   "cell_type": "code",
   "execution_count": null,
   "metadata": {},
   "outputs": [],
   "source": [
    "from sklearn.model_selection import GridSearchCV\n",
    "from sklearn.metrics import classification_report, log_loss"
   ]
  },
  {
   "cell_type": "markdown",
   "metadata": {},
   "source": [
    "## 0.8% training, 0.2% testing"
   ]
  },
  {
   "cell_type": "code",
   "execution_count": null,
   "metadata": {},
   "outputs": [],
   "source": [
    "sampling = multilabel_sample_dataframe(df, y, size = 0.01, min_count = 7, seed = 1)\n",
    "print('Sample size:', sampling.shape[0])\n",
    "dummy_labels = pd.get_dummies(sampling[LABELS], prefix_sep='__')\n",
    "X_train, X_test, y_train, y_test = multilabel_train_test_split(sampling[FEATURES], dummy_labels,\n",
    "                                                               size = 0.2, min_count = 1, seed=1)\n",
    "print('Train size`:', y_train.shape[0])\n",
    "print('Test size  :', y_test.shape[0])"
   ]
  },
  {
   "cell_type": "code",
   "execution_count": null,
   "metadata": {},
   "outputs": [],
   "source": [
    "pl.set_params(classifier = OneVsRestClassifier(LogisticRegression(solver='liblinear')))\n",
    "parameters = {'union__text_features__reducer__k' : np.logspace(2, 3, 5).round().astype('int'),\n",
    "              'classifier__estimator__C' : np.logspace(0, 2, 3)} #[1 10 100]\n",
    "grid = GridSearchCV(estimator = pl,\n",
    "                    n_jobs = -1,\n",
    "                    param_grid = parameters,\n",
    "                    cv = 5,\n",
    "                    scoring = {'logloss' : multi_multi_log_loss_scorer},\n",
    "                    refit = 'logloss',\n",
    "                    verbose=11)"
   ]
  },
  {
   "cell_type": "code",
   "execution_count": null,
   "metadata": {},
   "outputs": [],
   "source": [
    "model_name = '0.008-all-features-gridsearch-logistic-regression'\n",
    "grid = fit_cache(grid, X_train, y_train, model_dir, model_name)"
   ]
  },
  {
   "cell_type": "markdown",
   "metadata": {},
   "source": [
    "Fitting 5 folds for each of 15 candidates, totalling 75 fits, took ~120 minutes"
   ]
  },
  {
   "cell_type": "code",
   "execution_count": null,
   "metadata": {
    "scrolled": false
   },
   "outputs": [],
   "source": [
    "print('Time refitting best model on whole data  : {:.1f} minutes'.format(grid.refit_time_ / 60))\n",
    "results = pd.DataFrame(grid.cv_results_)\n",
    "results = results.rename(columns={'param_classifier__estimator__C':'C',\n",
    "                                  'param_union__text_features__reducer__k':'k',\n",
    "                                  'split0_test_multi_multi_log_loss':'split0_logloss',\n",
    "                                  'split1_test_multi_multi_log_loss':'split1_logloss',\n",
    "                                  'split2_test_multi_multi_log_loss':'split2_logloss',\n",
    "                                  'split3_test_multi_multi_log_loss':'split3_logloss',\n",
    "                                  'split4_test_multi_multi_log_loss':'split4_logloss',\n",
    "                                  'mean_test_multi_multi_log_loss':'mean_test_logloss',\n",
    "                                  'std_test_multi_multi_log_loss':'std_test_logloss',\n",
    "                                  'rank_test_multi_multi_log_loss':'rank_test_logloss'\n",
    "                                 })\n",
    "results[['C', 'k', 'mean_test_logloss', 'std_test_logloss','rank_test_logloss', 'mean_fit_time', 'std_fit_time', 'mean_score_time',\n",
    "         'std_score_time']].head(60)"
   ]
  },
  {
   "cell_type": "code",
   "execution_count": null,
   "metadata": {
    "scrolled": true
   },
   "outputs": [],
   "source": [
    "#from sklearn.model_selection import cross_val_score\n",
    "#pl.set_params(classifier = OneVsRestClassifier(LogisticRegression(solver='liblinear')),\n",
    "#              union__text_features__reducer__k = 562,\n",
    "#              classifier__estimator__C = 1)\n",
    "#cross_val_score(pl, X_train, y_train,\n",
    "#                scoring = multi_multi_log_loss_scorer,\n",
    "#                cv = 5,\n",
    "#                n_jobs = -1,\n",
    "#                verbose=11).mean()"
   ]
  },
  {
   "cell_type": "code",
   "execution_count": null,
   "metadata": {},
   "outputs": [],
   "source": [
    "print('Mean cross-validated score : {}'.format(grid.best_score_))\n",
    "print(\"Training data score        : {}\".format(grid.score(X_train, y_train)))  # Takes some minutes\n",
    "y_pred = grid.predict(X_train)  # Takes some minutes\n",
    "report = pd.DataFrame(classification_report(y_train, y_pred, target_names=y_train.columns, output_dict=True)).transpose()\n",
    "report, summary = report[:-4].sort_values('f1-score', ascending=False), report[-4:]\n",
    "display(report)\n",
    "display(summary)"
   ]
  },
  {
   "cell_type": "code",
   "execution_count": null,
   "metadata": {},
   "outputs": [],
   "source": [
    "print('Mean cross-validated score : {}'.format(grid.best_score_))\n",
    "print(\"Testing data score         : {}\".format(grid.score(X_test, y_test)))  # Takes some minutes\n",
    "\n",
    "y_pred = grid.predict(X_test)  # Takes some minutes\n",
    "report = pd.DataFrame(classification_report(y_test, y_pred, target_names=y_test.columns, output_dict=True)).transpose()\n",
    "report, summary = report[:-4].sort_values('f1-score', ascending=False), report[-4:]\n",
    "display(report)\n",
    "display(summary)"
   ]
  },
  {
   "cell_type": "code",
   "execution_count": null,
   "metadata": {},
   "outputs": [],
   "source": [
    "# Testing score breakdown checking\n",
    "y_pred = grid.predict_proba(X_test)  # Takes some minutes\n",
    "pd.DataFrame(multi_multi_log_loss(y_test, y_pred, class_column_indices=cci, averaged=False), index=LABELS,\n",
    "             columns=['multi-multi log loss'])"
   ]
  },
  {
   "cell_type": "code",
   "execution_count": null,
   "metadata": {},
   "outputs": [],
   "source": [
    "t=time()\n",
    "y_pred = grid.predict_proba(holdout)\n",
    "print('Elapsed: {:.1f} minutes'.format(np.floor(time()-t)/60))"
   ]
  },
  {
   "cell_type": "code",
   "execution_count": null,
   "metadata": {},
   "outputs": [],
   "source": [
    "to_csv_zip(prediction_dir, model_name, y_pred, holdout.index, y.columns)"
   ]
  },
  {
   "cell_type": "markdown",
   "metadata": {},
   "source": [
    "## 8% training, 2% testing"
   ]
  },
  {
   "cell_type": "code",
   "execution_count": null,
   "metadata": {},
   "outputs": [],
   "source": [
    "sampling = multilabel_sample_dataframe(df, y, size = 0.1, min_count = 2, seed = 1)\n",
    "print('Sample size:', sampling.shape[0])\n",
    "dummy_labels = pd.get_dummies(sampling[LABELS], prefix_sep='__')\n",
    "X_train, X_test, y_train, y_test = multilabel_train_test_split(sampling[FEATURES], dummy_labels,\n",
    "                                                               size = 0.2, min_count = 0, seed=1)\n",
    "print('Train size`:', y_train.shape[0])\n",
    "print('Test size  :', y_test.shape[0])"
   ]
  },
  {
   "cell_type": "code",
   "execution_count": null,
   "metadata": {},
   "outputs": [],
   "source": [
    "pl.set_params(classifier = OneVsRestClassifier(LogisticRegression(solver='liblinear')))\n",
    "parameters = {'union__text_features__reducer__k' : np.logspace(2, 3, 5).round().astype('int'),\n",
    "              'classifier__estimator__C' : np.logspace(0, 2, 3)} #[1 10 100]\n",
    "grid = GridSearchCV(estimator = pl,\n",
    "                    n_jobs = -1,\n",
    "                    param_grid = parameters,\n",
    "                    cv = 5,\n",
    "                    scoring = {'logloss' : multi_multi_log_loss_scorer},\n",
    "                    refit = 'logloss',\n",
    "                    verbose=11)"
   ]
  },
  {
   "cell_type": "code",
   "execution_count": null,
   "metadata": {
    "scrolled": false
   },
   "outputs": [],
   "source": [
    "model_name = '0.08-all-features-gridsearch-logistic-regression'\n",
    "grid = fit_cache(grid, X_train, y_train, model_dir, model_name)"
   ]
  },
  {
   "cell_type": "markdown",
   "metadata": {},
   "source": [
    "Fitting 5 folds for each of 15 candidates, totalling 75 fits, took 392 minutes"
   ]
  },
  {
   "cell_type": "code",
   "execution_count": null,
   "metadata": {},
   "outputs": [],
   "source": [
    "print('Time refitting best model on whole data  : {:.0f} minutes'.format(grid.refit_time_ / 60))\n",
    "results = pd.DataFrame(grid.cv_results_)\n",
    "results = results.rename(columns={'param_classifier__estimator__C':'C',\n",
    "                                  'param_union__text_features__reducer__k':'k'})\n",
    "results[['C', 'k', 'mean_test_logloss', 'std_test_logloss','rank_test_logloss', 'mean_fit_time', 'std_fit_time', 'mean_score_time',\n",
    "         'std_score_time']].head(60)"
   ]
  },
  {
   "cell_type": "code",
   "execution_count": null,
   "metadata": {},
   "outputs": [],
   "source": [
    "pl.set_params(union__text_features__reducer__k = 1000,\n",
    "              classifier__estimator__C = 0.1)\n",
    "cross_val_score(pl, X_train, y_train,\n",
    "                scoring = multi_multi_log_loss_scorer,\n",
    "                cv = 5,\n",
    "                n_jobs = -1,\n",
    "                verbose=11).mean()"
   ]
  },
  {
   "cell_type": "code",
   "execution_count": null,
   "metadata": {},
   "outputs": [],
   "source": [
    "print('Mean cross-validated score : {}'.format(grid.best_score_))\n",
    "print(\"Training data score        : {}\".format(grid.score(X_train, y_train)))  # Takes some minutes\n",
    "\n",
    "y_pred = grid.predict(X_train)  # Takes some minutes\n",
    "report = pd.DataFrame(classification_report(y_train, y_pred, target_names=y_train.columns, output_dict=True)).transpose()\n",
    "summary = report[:-4].sort_values('f1-score', ascending=False)\n",
    "display(report)\n",
    "display(summary)"
   ]
  },
  {
   "cell_type": "code",
   "execution_count": null,
   "metadata": {},
   "outputs": [],
   "source": [
    "print('Mean cross-validated score : {}'.format(grid.best_score_))\n",
    "print(\"Testing data score         : {}\".format(grid.score(X_test, y_test)))  # Takes some minutes\n",
    "\n",
    "y_pred = grid.predict(X_test)  # Takes some minutes\n",
    "report = pd.DataFrame(classification_report(y_test, y_pred, target_names=y_test.columns, output_dict=True)).transpose()\n",
    "report, summary = report[:-4].sort_values('f1-score', ascending=False), report[-4:]\n",
    "display(report)\n",
    "display(summary)"
   ]
  },
  {
   "cell_type": "code",
   "execution_count": null,
   "metadata": {},
   "outputs": [],
   "source": [
    "# Testing score checking\n",
    "y_pred = grid.predict_proba(X_test)  # Takes some minutes\n",
    "pd.DataFrame(multi_multi_log_loss(y_test, y_pred, class_column_indices=cci, averaged=False), index=LABELS,\n",
    "             columns=['multi-multi log loss'])"
   ]
  },
  {
   "cell_type": "code",
   "execution_count": null,
   "metadata": {},
   "outputs": [],
   "source": [
    "t=time()\n",
    "y_pred = grid.predict_proba(holdout)\n",
    "print('Elapsed: {:.1f} minutes'.format(np.floor(time()-t)/60))"
   ]
  },
  {
   "cell_type": "code",
   "execution_count": null,
   "metadata": {},
   "outputs": [],
   "source": [
    "to_csv_zip(prediction_dir, model_name, y_pred, holdout.index, y.columns)"
   ]
  },
  {
   "cell_type": "markdown",
   "metadata": {},
   "source": [
    "## 16% training, 4% testing **(TO RUN)**"
   ]
  },
  {
   "cell_type": "code",
   "execution_count": null,
   "metadata": {},
   "outputs": [],
   "source": [
    "sampling = multilabel_sample_dataframe(df, y, size = 0.2, min_count = 2, seed = 1)\n",
    "print('Sample size:', sampling.shape[0])\n",
    "dummy_labels = pd.get_dummies(sampling[LABELS], prefix_sep='__')\n",
    "X_train, X_test, y_train, y_test = multilabel_train_test_split(sampling[FEATURES], dummy_labels,\n",
    "                                                               size = 0.2, min_count = 0, seed=1)\n",
    "print('Train size`:', y_train.shape[0])\n",
    "print('Test size  :', y_test.shape[0])"
   ]
  },
  {
   "cell_type": "code",
   "execution_count": null,
   "metadata": {},
   "outputs": [],
   "source": [
    "pl.set_params(classifier = OneVsRestClassifier(LogisticRegression(solver='liblinear')))\n",
    "parameters = {'union__text_features__reducer__k' : np.logspace(2, 3, 5).round().astype('int'),\n",
    "              'classifier__estimator__C' : np.logspace(0, 2, 3)} #[1 10 100]\n",
    "grid = GridSearchCV(estimator = pl,\n",
    "                    n_jobs = -1,\n",
    "                    param_grid = parameters,\n",
    "                    cv = 5,\n",
    "                    scoring = {'logloss' : multi_multi_log_loss_scorer},\n",
    "                    refit = 'logloss',\n",
    "                    verbose=11)"
   ]
  },
  {
   "cell_type": "code",
   "execution_count": null,
   "metadata": {
    "scrolled": false
   },
   "outputs": [],
   "source": [
    "model_name = '0.016-all-features-gridsearch-logistic-regression'\n",
    "grid = fit_cache(grid, X_train, y_train, model_dir, model_name)"
   ]
  },
  {
   "cell_type": "code",
   "execution_count": null,
   "metadata": {},
   "outputs": [],
   "source": [
    "print('Time refitting best model on whole data  : {:.0f} minutes'.format(grid.refit_time_ / 60))\n",
    "results = pd.DataFrame(grid.cv_results_)\n",
    "results = results.rename(columns={'param_classifier__estimator__C':'C',\n",
    "                                  'param_union__text_features__reducer__k':'k'})\n",
    "results[['C', 'k', 'mean_test_logloss', 'std_test_logloss','rank_test_logloss', 'mean_fit_time', 'std_fit_time', 'mean_score_time',\n",
    "         'std_score_time']].head(60)"
   ]
  },
  {
   "cell_type": "code",
   "execution_count": null,
   "metadata": {},
   "outputs": [],
   "source": [
    "print('Mean cross-validated score : {}'.format(grid.best_score_))\n",
    "print(\"Training data score        : {}\".format(grid.score(X_train, y_train)))  # Takes some minutes\n",
    "\n",
    "y_pred = grid.predict(X_train)  # Takes some minutes\n",
    "report = pd.DataFrame(classification_report(y_train, y_pred, target_names=y_train.columns, output_dict=True)).transpose()\n",
    "summary = report[:-4].sort_values('f1-score', ascending=False)\n",
    "display(report)\n",
    "display(summary)"
   ]
  },
  {
   "cell_type": "code",
   "execution_count": null,
   "metadata": {},
   "outputs": [],
   "source": [
    "print('Mean cross-validated score : {}'.format(grid.best_score_))\n",
    "print(\"Testing data score         : {}\".format(grid.score(X_test, y_test)))  # Takes some minutes\n",
    "\n",
    "y_pred = grid.predict(X_test)  # Takes some minutes\n",
    "report = pd.DataFrame(classification_report(y_test, y_pred, target_names=y_test.columns, output_dict=True)).transpose()\n",
    "report, summary = report[:-4].sort_values('f1-score', ascending=False), report[-4:]\n",
    "display(report)\n",
    "display(summary)"
   ]
  },
  {
   "cell_type": "code",
   "execution_count": null,
   "metadata": {},
   "outputs": [],
   "source": [
    "# Testing score checking\n",
    "y_pred = grid.predict_proba(X_test)  # Takes some minutes\n",
    "pd.DataFrame(multi_multi_log_loss(y_test, y_pred, class_column_indices=cci, averaged=False), index=LABELS,\n",
    "             columns=['multi-multi log loss'])"
   ]
  },
  {
   "cell_type": "code",
   "execution_count": null,
   "metadata": {},
   "outputs": [],
   "source": [
    "t=time()\n",
    "y_pred = grid.predict_proba(holdout)\n",
    "print('Elapsed: {:.1f} minutes'.format(np.floor(time()-t)/60))"
   ]
  },
  {
   "cell_type": "code",
   "execution_count": null,
   "metadata": {},
   "outputs": [],
   "source": [
    "to_csv_zip(prediction_dir, model_name, y_pred, holdout.index, y.columns)"
   ]
  },
  {
   "cell_type": "markdown",
   "metadata": {},
   "source": [
    "## 80% training, 20% testing **(TO RUN)**"
   ]
  },
  {
   "cell_type": "code",
   "execution_count": null,
   "metadata": {},
   "outputs": [],
   "source": [
    "X_train,X_test,y_train,y_test = multilabel_train_test_split(df[FEATURES], y, size=0.2, min_count=0, seed=1)\n",
    "print('Train size`:', y_train.shape[0])\n",
    "print('Test size  :', y_test.shape[0])"
   ]
  },
  {
   "cell_type": "code",
   "execution_count": null,
   "metadata": {},
   "outputs": [],
   "source": [
    "pl.set_params(classifier = OneVsRestClassifier(LogisticRegression(solver='liblinear')))\n",
    "parameters = {'union__text_features__reducer__k' : np.logspace(2, 3, 5).round().astype('int'),\n",
    "              'classifier__estimator__C' : np.logspace(0, 2, 3)} #[1 10 100]\n",
    "grid = GridSearchCV(estimator = pl,\n",
    "                    n_jobs = -1,\n",
    "                    param_grid = parameters,\n",
    "                    cv = 5,\n",
    "                    scoring = {'logloss' : multi_multi_log_loss_scorer},\n",
    "                    refit = 'logloss',\n",
    "                    verbose=11)"
   ]
  },
  {
   "cell_type": "code",
   "execution_count": null,
   "metadata": {},
   "outputs": [],
   "source": [
    "model_name = '0.8-all-features-gridsearch-logistic-regression'\n",
    "grid = fit_cache(grid, X_train, y_train, model_dir, model_name)"
   ]
  },
  {
   "cell_type": "code",
   "execution_count": null,
   "metadata": {},
   "outputs": [],
   "source": [
    "print('Time refitting best model on whole data  : {:.0f} minutes'.format(grid.refit_time_ / 60))\n",
    "results = pd.DataFrame(grid.cv_results_)\n",
    "results = results.rename(columns={'param_classifier__estimator__C':'C',\n",
    "                                  'param_union__text_features__reducer__k':'k'})\n",
    "results[['C', 'k', 'mean_test_logloss', 'std_test_logloss','rank_test_logloss', 'mean_fit_time', 'std_fit_time', 'mean_score_time',\n",
    "         'std_score_time']].head(60)"
   ]
  },
  {
   "cell_type": "code",
   "execution_count": null,
   "metadata": {},
   "outputs": [],
   "source": [
    "print('Mean cross-validated score : {}'.format(grid.best_score_))\n",
    "print(\"Training data score        : {}\".format(grid.score(X_train, y_train)))  # Takes some minutes\n",
    "\n",
    "y_pred = grid.predict(X_train)  # Takes some minutes\n",
    "report = pd.DataFrame(classification_report(y_train, y_pred, target_names=y_train.columns, output_dict=True)).transpose()\n",
    "summary = report[:-4].sort_values('f1-score', ascending=False)\n",
    "display(report)\n",
    "display(summary)"
   ]
  },
  {
   "cell_type": "code",
   "execution_count": null,
   "metadata": {},
   "outputs": [],
   "source": [
    "print('Mean cross-validated score : {}'.format(grid.best_score_))\n",
    "print(\"Testing data score         : {}\".format(grid.score(X_test, y_test)))  # Takes some minutes\n",
    "\n",
    "y_pred = grid.predict(X_test)  # Takes some minutes\n",
    "report = pd.DataFrame(classification_report(y_test, y_pred, target_names=y_test.columns, output_dict=True)).transpose()\n",
    "report, summary = report[:-4].sort_values('f1-score', ascending=False), report[-4:]\n",
    "display(report)\n",
    "display(summary)"
   ]
  },
  {
   "cell_type": "code",
   "execution_count": null,
   "metadata": {},
   "outputs": [],
   "source": [
    "# Testing score checking\n",
    "y_pred = grid.predict_proba(X_test)  # Takes some minutes\n",
    "pd.DataFrame(multi_multi_log_loss(y_test, y_pred, class_column_indices=cci, averaged=False), index=LABELS,\n",
    "             columns=['multi-multi log loss'])"
   ]
  },
  {
   "cell_type": "code",
   "execution_count": null,
   "metadata": {},
   "outputs": [],
   "source": [
    "t=time()\n",
    "y_pred = grid.predict_proba(holdout)\n",
    "print('Elapsed: {:.1f} minutes'.format(np.floor(time()-t)/60))"
   ]
  },
  {
   "cell_type": "code",
   "execution_count": null,
   "metadata": {},
   "outputs": [],
   "source": [
    "to_csv_zip(prediction_dir, model_name, y_pred, holdout.index, y.columns)"
   ]
  },
  {
   "cell_type": "markdown",
   "metadata": {},
   "source": [
    "## 100% training, 0% testing **(TO RUN)**"
   ]
  },
  {
   "cell_type": "code",
   "execution_count": null,
   "metadata": {},
   "outputs": [],
   "source": [
    "df = df.sample(frac=1, random_state=1) # Ensure iid samples because CVGridSearch/KFold doesn't shuffle folding data\n",
    "X_train = df[FEATURES]\n",
    "y_train = pd.get_dummies(df[LABELS], prefix_sep='__')\n",
    "del, X_test, y_test\n",
    "print('Train size`:', y_train.shape[0])"
   ]
  },
  {
   "cell_type": "code",
   "execution_count": null,
   "metadata": {},
   "outputs": [],
   "source": [
    "pl.set_params(classifier = OneVsRestClassifier(LogisticRegression(solver='liblinear')))\n",
    "parameters = {'union__text_features__reducer__k' : np.logspace(2, 3, 5).round().astype('int'),\n",
    "              'classifier__estimator__C' : np.logspace(0, 2, 3)} #[1 10 100]\n",
    "grid = GridSearchCV(estimator = pl,\n",
    "                    n_jobs = -1,\n",
    "                    param_grid = parameters,\n",
    "                    cv = 5,\n",
    "                    scoring = {'logloss' : multi_multi_log_loss_scorer},\n",
    "                    refit = 'logloss',\n",
    "                    verbose=11)"
   ]
  },
  {
   "cell_type": "code",
   "execution_count": null,
   "metadata": {},
   "outputs": [],
   "source": [
    "model_name = '1.0-all-features-gridsearch-logistic-regression'\n",
    "grid = fit_cache(grid, X_train, y_train, model_dir, model_name)"
   ]
  },
  {
   "cell_type": "code",
   "execution_count": null,
   "metadata": {},
   "outputs": [],
   "source": [
    "print('Time refitting best model on whole data  : {:.0f} minutes'.format(grid.refit_time_ / 60))\n",
    "results = pd.DataFrame(grid.cv_results_)\n",
    "results = results.rename(columns={'param_classifier__estimator__C':'C',\n",
    "                                  'param_union__text_features__reducer__k':'k'})\n",
    "results[['C', 'k', 'mean_test_logloss', 'std_test_logloss','rank_test_logloss', 'mean_fit_time', 'std_fit_time', 'mean_score_time',\n",
    "         'std_score_time']].head(60)"
   ]
  },
  {
   "cell_type": "code",
   "execution_count": null,
   "metadata": {},
   "outputs": [],
   "source": [
    "print('Mean cross-validated score : {}'.format(grid.best_score_))\n",
    "print(\"Training data score        : {}\".format(grid.score(X_train, y_train)))  # Takes some minutes\n",
    "\n",
    "y_pred = grid.predict(X_train)  # Takes some minutes\n",
    "report = pd.DataFrame(classification_report(y_train, y_pred, target_names=y_train.columns, output_dict=True)).transpose()\n",
    "summary = report[:-4].sort_values('f1-score', ascending=False)\n",
    "display(report)\n",
    "display(summary)"
   ]
  },
  {
   "cell_type": "code",
   "execution_count": null,
   "metadata": {},
   "outputs": [],
   "source": [
    "# Training score checking\n",
    "y_pred = grid.predict_proba(X_train)  # Takes some minutes\n",
    "pd.DataFrame(multi_multi_log_loss(y_train, y_pred, class_column_indices=cci, averaged=False), index=LABELS,\n",
    "             columns=['multi-multi log loss'])"
   ]
  },
  {
   "cell_type": "code",
   "execution_count": null,
   "metadata": {},
   "outputs": [],
   "source": [
    "t=time()\n",
    "y_pred = grid.predict_proba(holdout)\n",
    "print('Elapsed: {:.1f} minutes'.format(np.floor(time()-t)/60))"
   ]
  },
  {
   "cell_type": "code",
   "execution_count": null,
   "metadata": {},
   "outputs": [],
   "source": [
    "to_csv_zip(prediction_dir, model_name, y_pred, holdout.index, y.columns)"
   ]
  }
 ],
 "metadata": {
  "kernelspec": {
   "display_name": "Python 3",
   "language": "python",
   "name": "python3"
  },
  "language_info": {
   "codemirror_mode": {
    "name": "ipython",
    "version": 3
   },
   "file_extension": ".py",
   "mimetype": "text/x-python",
   "name": "python",
   "nbconvert_exporter": "python",
   "pygments_lexer": "ipython3",
   "version": "3.7.7"
  },
  "toc": {
   "base_numbering": 1,
   "nav_menu": {},
   "number_sections": true,
   "sideBar": true,
   "skip_h1_title": false,
   "title_cell": "Table of Contents",
   "title_sidebar": "Contents",
   "toc_cell": false,
   "toc_position": {
    "height": "543.2px",
    "left": "36px",
    "top": "90.6px",
    "width": "364.8px"
   },
   "toc_section_display": true,
   "toc_window_display": true
  },
  "varInspector": {
   "cols": {
    "lenName": 16,
    "lenType": 16,
    "lenVar": 40
   },
   "kernels_config": {
    "python": {
     "delete_cmd_postfix": "",
     "delete_cmd_prefix": "del ",
     "library": "var_list.py",
     "varRefreshCmd": "print(var_dic_list())"
    },
    "r": {
     "delete_cmd_postfix": ") ",
     "delete_cmd_prefix": "rm(",
     "library": "var_list.r",
     "varRefreshCmd": "cat(var_dic_list()) "
    }
   },
   "oldHeight": 651.1999999999999,
   "position": {
    "height": "40px",
    "left": "642px",
    "right": "20px",
    "top": "-5px",
    "width": "602.8px"
   },
   "types_to_exclude": [
    "module",
    "function",
    "builtin_function_or_method",
    "instance",
    "_Feature"
   ],
   "varInspector_section_display": "none",
   "window_display": true
  }
 },
 "nbformat": 4,
 "nbformat_minor": 2
}
