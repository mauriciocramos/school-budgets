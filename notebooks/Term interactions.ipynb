{
 "cells": [
  {
   "cell_type": "markdown",
   "metadata": {},
   "source": [
    "# Custom modules"
   ]
  },
  {
   "cell_type": "code",
   "execution_count": 1,
   "metadata": {},
   "outputs": [],
   "source": [
    "import os\n",
    "import sys\n",
    "lib_src = '\\\\Users\\\\mauricio\\\\gdrive\\\\python\\\\machine-learning'\n",
    "sys.path.insert(1, lib_src)\n",
    "from size import size"
   ]
  },
  {
   "cell_type": "markdown",
   "metadata": {},
   "source": [
    "# Standard modules"
   ]
  },
  {
   "cell_type": "code",
   "execution_count": 2,
   "metadata": {},
   "outputs": [],
   "source": [
    "import psutil\n",
    "import numpy as np\n",
    "from time import time\n",
    "import matplotlib.pyplot as plt\n",
    "%matplotlib inline\n",
    "from sklearn.preprocessing import PolynomialFeatures"
   ]
  },
  {
   "cell_type": "markdown",
   "metadata": {},
   "source": [
    "# Fit dense matrix shapes in memory"
   ]
  },
  {
   "cell_type": "code",
   "execution_count": 3,
   "metadata": {},
   "outputs": [],
   "source": [
    "from matrix.npinfo import npinfo\n",
    "from matrix.dense_shape_from_memory import dense_shape_from_memory"
   ]
  },
  {
   "cell_type": "code",
   "execution_count": 4,
   "metadata": {},
   "outputs": [
    {
     "name": "stdout",
     "output_type": "stream",
     "text": [
      "(83143, 83143) 6.4 GiB\n"
     ]
    }
   ],
   "source": [
    "newshape, memory = dense_shape_from_memory(0.5, 'uint8')\n",
    "print(newshape, size(memory))"
   ]
  },
  {
   "cell_type": "code",
   "execution_count": 5,
   "metadata": {},
   "outputs": [
    {
     "name": "stdout",
     "output_type": "stream",
     "text": [
      "(1, 6910130176) 6.4 GiB\n"
     ]
    }
   ],
   "source": [
    "newshape, memory = dense_shape_from_memory(0.5, 'uint8', rows=1)\n",
    "print(newshape, size(memory))"
   ]
  },
  {
   "cell_type": "code",
   "execution_count": 6,
   "metadata": {},
   "outputs": [
    {
     "name": "stdout",
     "output_type": "stream",
     "text": [
      "(6910097408, 1) 6.4 GiB\n"
     ]
    }
   ],
   "source": [
    "newshape, memory = dense_shape_from_memory(0.5, 'uint8', cols=1)\n",
    "print(newshape, size(memory))"
   ]
  },
  {
   "cell_type": "code",
   "execution_count": 7,
   "metadata": {},
   "outputs": [
    {
     "name": "stdout",
     "output_type": "stream",
     "text": [
      "(1854442, 3728) 6.4 GiB\n"
     ]
    }
   ],
   "source": [
    "newshape, memory = dense_shape_from_memory(0.5, 'uint8', cols=3728)\n",
    "print(newshape, size(memory))"
   ]
  },
  {
   "cell_type": "code",
   "execution_count": 8,
   "metadata": {},
   "outputs": [
    {
     "name": "stdout",
     "output_type": "stream",
     "text": [
      "(994, 6950856) 6.4 GiB\n"
     ]
    }
   ],
   "source": [
    "interactions = lambda x: int((x*(x+1))/2)\n",
    "newshape, memory = dense_shape_from_memory(0.5, 'uint8', cols=interactions(3728))\n",
    "print(newshape, size(memory))"
   ]
  },
  {
   "cell_type": "markdown",
   "metadata": {},
   "source": [
    "# Dense matrix examples"
   ]
  },
  {
   "cell_type": "markdown",
   "metadata": {},
   "source": [
    "Functions to build a integer matrices and report statistics"
   ]
  },
  {
   "cell_type": "code",
   "execution_count": 4,
   "metadata": {},
   "outputs": [],
   "source": [
    "from matrix.dense_matrix import dense_matrix\n",
    "from matrix.dense_matrix_report import dense_matrix_report"
   ]
  },
  {
   "cell_type": "markdown",
   "metadata": {},
   "source": [
    "100x100, 50% sparse, random uniform"
   ]
  },
  {
   "cell_type": "code",
   "execution_count": 11,
   "metadata": {
    "scrolled": false
   },
   "outputs": [
    {
     "name": "stdout",
     "output_type": "stream",
     "text": [
      "Dimensions         : (100, 100)\n",
      "Number of non-zeros: 5000\n",
      "Sparsity           : 0.5\n",
      "Data type          : uint8\n",
      "Size               : 9.8 KiB\n",
      "[[0 0 0 ... 0 3 0]\n",
      " [0 1 1 ... 1 6 6]\n",
      " [0 0 0 ... 0 0 0]\n",
      " ...\n",
      " [0 0 0 ... 0 0 0]\n",
      " [2 0 0 ... 5 0 3]\n",
      " [2 1 0 ... 0 0 0]]\n"
     ]
    },
    {
     "data": {
      "image/png": "[encoded data removed]",
      "text/plain": [
       "<Figure size 216x144 with 1 Axes>"
      ]
     },
     "metadata": {
      "needs_background": "light"
     },
     "output_type": "display_data"
    }
   ],
   "source": [
    "m = dense_matrix(low=1, high=7, size=(100, 100), sparsity=1/2, p=None, dtype='uint8')\n",
    "dense_matrix_report(m)\n",
    "plt.figure(figsize=(3,2));plt.hist(m.reshape(-1), bins=7, density=True);plt.show()"
   ]
  },
  {
   "cell_type": "markdown",
   "metadata": {},
   "source": [
    "100x100, 50% sparse, random non-uniform decreasing probabilities"
   ]
  },
  {
   "cell_type": "code",
   "execution_count": 12,
   "metadata": {},
   "outputs": [
    {
     "name": "stdout",
     "output_type": "stream",
     "text": [
      "Decreasing probabilities:\n",
      " [0.2857142857142857, 0.23809523809523808, 0.19047619047619047, 0.14285714285714285, 0.09523809523809523, 0.047619047619047616]\n",
      "Dimensions         : (100, 100)\n",
      "Number of non-zeros: 5000\n",
      "Sparsity           : 0.5\n",
      "Data type          : uint8\n",
      "Size               : 9.8 KiB\n",
      "[[1 2 2 ... 0 1 0]\n",
      " [2 6 0 ... 0 2 0]\n",
      " [0 0 0 ... 4 0 3]\n",
      " ...\n",
      " [0 1 5 ... 0 2 1]\n",
      " [0 6 1 ... 0 0 3]\n",
      " [2 0 4 ... 0 1 5]]\n"
     ]
    },
    {
     "data": {
      "image/png": "[encoded data removed]",
      "text/plain": [
       "<Figure size 216x144 with 1 Axes>"
      ]
     },
     "metadata": {
      "needs_background": "light"
     },
     "output_type": "display_data"
    }
   ],
   "source": [
    "decreasing_probs = [(7-x) / sum(range(1, 7)) for x in range(1, 7)]\n",
    "print('Decreasing probabilities:\\n', decreasing_probs)\n",
    "m = dense_matrix(low=1, high=7, size=(100, 100), sparsity=1/2, p=decreasing_probs, dtype='uint8')\n",
    "dense_matrix_report(m)\n",
    "plt.figure(figsize=(3,2));plt.hist(m.reshape(-1), bins=7, density=True);plt.show()"
   ]
  },
  {
   "cell_type": "markdown",
   "metadata": {},
   "source": [
    "400277x3728, 99% sparse, random non-uniform custom probabilities"
   ]
  },
  {
   "cell_type": "code",
   "execution_count": 13,
   "metadata": {},
   "outputs": [
    {
     "name": "stdout",
     "output_type": "stream",
     "text": [
      "Dimensions         : (400277, 3728)\n",
      "Number of non-zeros: 746116328\n",
      "Sparsity           : 0.5\n",
      "Data type          : uint8\n",
      "Size               : 1.4 GiB\n",
      "[[0 1 1 ... 0 1 0]\n",
      " [0 1 1 ... 0 2 0]\n",
      " [1 1 1 ... 0 0 1]\n",
      " ...\n",
      " [0 0 1 ... 0 0 1]\n",
      " [0 0 0 ... 0 0 1]\n",
      " [1 1 0 ... 0 1 1]]\n"
     ]
    }
   ],
   "source": [
    "other_probs = [0.812498251379185, 0.15335166099901568, 0.02708009573539997, 0.00565472178489039, 0.001220537328921298, 0.0001947327725877299]\n",
    "m = dense_matrix(low=1, high=7, size=(400277, 3728), sparsity=0.5, p=other_probs, dtype='uint8')\n",
    "dense_matrix_report(m)"
   ]
  },
  {
   "cell_type": "markdown",
   "metadata": {},
   "source": [
    "# Downcasting"
   ]
  },
  {
   "cell_type": "code",
   "execution_count": 3,
   "metadata": {},
   "outputs": [],
   "source": [
    "from preprocessing.downcast import downcast"
   ]
  },
  {
   "cell_type": "markdown",
   "metadata": {},
   "source": [
    "Nothing to downcast"
   ]
  },
  {
   "cell_type": "code",
   "execution_count": 17,
   "metadata": {},
   "outputs": [
    {
     "name": "stdout",
     "output_type": "stream",
     "text": [
      "Nothing to downcast: uint8 to unsigned\n"
     ]
    },
    {
     "data": {
      "text/plain": [
       "array([[0, 0],\n",
       "       [0, 5],\n",
       "       [0, 4],\n",
       "       [1, 3]], dtype=uint8)"
      ]
     },
     "execution_count": 17,
     "metadata": {},
     "output_type": "execute_result"
    }
   ],
   "source": [
    "downcast(dense_matrix(low=1, high=7, size=(4, 2), sparsity=0.5, p=None, dtype='uint8'), 'unsigned')"
   ]
  },
  {
   "cell_type": "markdown",
   "metadata": {},
   "source": [
    "Downcasting `float64` to unsigned"
   ]
  },
  {
   "cell_type": "code",
   "execution_count": 18,
   "metadata": {},
   "outputs": [
    {
     "name": "stdout",
     "output_type": "stream",
     "text": [
      "Dimensions         : (4, 2)\n",
      "Number of non-zeros: 4\n",
      "Sparsity           : 0.5\n",
      "Data type          : float64\n",
      "Size               : 64 B\n",
      "[[4. 5.]\n",
      " [1. 1.]\n",
      " [0. 0.]\n",
      " [0. 0.]]\n",
      "Dimensions         : (4, 2)\n",
      "Number of non-zeros: 4\n",
      "Sparsity           : 0.5\n",
      "Data type          : uint8\n",
      "Size               : 8 B\n",
      "[[4 5]\n",
      " [1 1]\n",
      " [0 0]\n",
      " [0 0]]\n"
     ]
    }
   ],
   "source": [
    "oversized = dense_matrix(low=1, high=7, size=(4, 2), sparsity=0.5, p=None, dtype='float64')\n",
    "dense_matrix_report(oversized)\n",
    "dense_matrix_report(downcast(oversized, 'unsigned'))"
   ]
  },
  {
   "cell_type": "markdown",
   "metadata": {},
   "source": [
    "# Term interactions with `PolynomialFeatures()`"
   ]
  },
  {
   "cell_type": "code",
   "execution_count": 5,
   "metadata": {},
   "outputs": [
    {
     "data": {
      "text/plain": [
       "PolynomialFeatures(degree=2, include_bias=False, interaction_only=True,\n",
       "                   order='C')"
      ]
     },
     "execution_count": 5,
     "metadata": {},
     "output_type": "execute_result"
    }
   ],
   "source": [
    "PolynomialFeatures(degree=2, include_bias=False, interaction_only=True)"
   ]
  },
  {
   "cell_type": "markdown",
   "metadata": {},
   "source": [
    "No matter you optimize the input matrix `dtype='uint8'`..."
   ]
  },
  {
   "cell_type": "code",
   "execution_count": 17,
   "metadata": {},
   "outputs": [
    {
     "name": "stdout",
     "output_type": "stream",
     "text": [
      "Dimensions         : (4, 2)\n",
      "Number of non-zeros: 4\n",
      "Sparsity           : 0.5\n",
      "Data type          : uint8\n",
      "Size               : 8 B\n",
      "[[0 1]\n",
      " [1 0]\n",
      " [0 0]\n",
      " [1 1]]\n"
     ]
    }
   ],
   "source": [
    "integer_matrix = np.array([[0, 1],[1, 0],[0, 0],[1, 1]], dtype='uint8')\n",
    "dense_matrix_report(integer_matrix)"
   ]
  },
  {
   "cell_type": "markdown",
   "metadata": {},
   "source": [
    "...`PolynomialFeatures` currently upcasts integers to `float64`..."
   ]
  },
  {
   "cell_type": "code",
   "execution_count": 18,
   "metadata": {},
   "outputs": [
    {
     "name": "stdout",
     "output_type": "stream",
     "text": [
      "Dimensions         : (4, 3)\n",
      "Number of non-zeros: 5\n",
      "Sparsity           : 0.5833333333333333\n",
      "Data type          : float64\n",
      "Size               : 96 B\n",
      "[[0. 1. 0.]\n",
      " [1. 0. 0.]\n",
      " [0. 0. 0.]\n",
      " [1. 1. 1.]]\n"
     ]
    }
   ],
   "source": [
    "interacted = PolynomialFeatures(degree=2, include_bias=False, interaction_only=True).fit_transform(integer_matrix)\n",
    "dense_matrix_report(interacted)"
   ]
  },
  {
   "cell_type": "markdown",
   "metadata": {},
   "source": [
    "...and the best to do is to input a matrix with `dtype='float32'` if possible, so `PolynomialFeatures` won't upcast and preserve the input smaller `dtype` ..."
   ]
  },
  {
   "cell_type": "code",
   "execution_count": 22,
   "metadata": {},
   "outputs": [
    {
     "name": "stdout",
     "output_type": "stream",
     "text": [
      "Dimensions         : (4, 3)\n",
      "Number of non-zeros: 5\n",
      "Sparsity           : 0.5833333333333333\n",
      "Data type          : float32\n",
      "Size               : 48 B\n",
      "[[0. 1. 0.]\n",
      " [1. 0. 0.]\n",
      " [0. 0. 0.]\n",
      " [1. 1. 1.]]\n"
     ]
    }
   ],
   "source": [
    "float32_matrix = np.array([[0, 1],[1, 0],[0, 0],[1, 1]], dtype='float32')\n",
    "interacted = PolynomialFeatures(degree=2, include_bias=False, interaction_only=True).fit_transform(float32_matrix)\n",
    "dense_matrix_report(interacted)"
   ]
  },
  {
   "cell_type": "markdown",
   "metadata": {},
   "source": [
    "...and downcasting the interacted matrix to `'unsigned'` is a possibility:"
   ]
  },
  {
   "cell_type": "code",
   "execution_count": 23,
   "metadata": {
    "scrolled": true
   },
   "outputs": [
    {
     "name": "stdout",
     "output_type": "stream",
     "text": [
      "Dimensions         : (4, 3)\n",
      "Number of non-zeros: 5\n",
      "Sparsity           : 0.5833333333333333\n",
      "Data type          : uint8\n",
      "Size               : 12 B\n",
      "[[0 1 0]\n",
      " [1 0 0]\n",
      " [0 0 0]\n",
      " [1 1 1]]\n"
     ]
    }
   ],
   "source": [
    "dense_matrix_report(downcast(interacted, 'unsigned'))"
   ]
  },
  {
   "cell_type": "markdown",
   "metadata": {},
   "source": [
    "# Dense interactions"
   ]
  },
  {
   "cell_type": "code",
   "execution_count": 6,
   "metadata": {},
   "outputs": [
    {
     "data": {
      "text/plain": [
       "PolynomialFeatures(degree=2, include_bias=False, interaction_only=True,\n",
       "                   order='C')"
      ]
     },
     "execution_count": 6,
     "metadata": {},
     "output_type": "execute_result"
    }
   ],
   "source": [
    "PolynomialFeatures(degree=2, include_bias=False, interaction_only=True)"
   ]
  },
  {
   "cell_type": "markdown",
   "metadata": {},
   "source": [
    "Fit maximum matrix dimension whose interactions fit in a memory threshold"
   ]
  },
  {
   "cell_type": "code",
   "execution_count": 7,
   "metadata": {},
   "outputs": [
    {
     "name": "stdout",
     "output_type": "stream",
     "text": [
      "(1, 1535682150) 5.7 GiB\n",
      "(1, 55419) 216.5 KiB\n"
     ]
    }
   ],
   "source": [
    "#'uint8' would make poor estimate because PolynomialFeatures always output float64 by default so better input float32\n",
    "dtype='float32'\n",
    "newshape, memory = dense_shape_from_memory(limit=0.4, dtype=dtype, rows=1)\n",
    "print(newshape, size(memory))\n",
    "desinteractions = lambda x : int(((8.0*x+1)**(1/2)-1)/2)\n",
    "newshape = (1, desinteractions(newshape[1])) \n",
    "print(newshape, size(newshape[0] * newshape[1] * npinfo(dtype).dtype.itemsize))"
   ]
  },
  {
   "cell_type": "markdown",
   "metadata": {},
   "source": [
    "Creating the matrix to be interacted"
   ]
  },
  {
   "cell_type": "code",
   "execution_count": 8,
   "metadata": {},
   "outputs": [
    {
     "name": "stdout",
     "output_type": "stream",
     "text": [
      "memory peak before:  98.2 MiB\n",
      "Elapsed           : 0.0 minutes\n",
      "memory peak after :  98.8 MiB\n",
      "Dimensions         : (1, 55419)\n",
      "Number of non-zeros: 554\n",
      "Sparsity           : 0.9900034284270738\n",
      "Data type          : float32\n",
      "Size               : 216.5 KiB\n",
      "[[0. 0. 0. ... 0. 0. 0.]]\n"
     ]
    }
   ],
   "source": [
    "other_probs = [0.812498251379185, 0.15335166099901568, 0.02708009573539997, 0.00565472178489039, 0.001220537328921298, 0.0001947327725877299]\n",
    "print('memory peak before: ', size(psutil.Process().memory_info().peak_wset))\n",
    "t=time()\n",
    "m = dense_matrix(low=1, high=7, size=newshape, sparsity=0.99, p=other_probs, dtype='float32')\n",
    "print('Elapsed           : {:.1f} minutes'.format((time()-t)/60))\n",
    "print('memory peak after : ', size(psutil.Process().memory_info().peak_wset))\n",
    "dense_matrix_report(m)"
   ]
  },
  {
   "cell_type": "markdown",
   "metadata": {},
   "source": [
    "Interacting the matrix columns"
   ]
  },
  {
   "cell_type": "code",
   "execution_count": 9,
   "metadata": {
    "scrolled": true
   },
   "outputs": [
    {
     "name": "stdout",
     "output_type": "stream",
     "text": [
      "memory peak before:  98.9 MiB\n",
      "Elapsed           : 2.7 minutes\n",
      "memory peak after :  5.8 GiB\n",
      "Dimensions         : (1, 1535660490)\n",
      "Number of non-zeros: 153735\n",
      "Sparsity           : 0.9998998899815414\n",
      "Data type          : float32\n",
      "Size               : 5.7 GiB\n",
      "[[0. 0. 0. ... 0. 0. 0.]]\n"
     ]
    }
   ],
   "source": [
    "print('memory peak before: ', size(psutil.Process().memory_info().peak_wset))\n",
    "t=time()\n",
    "m = PolynomialFeatures(degree=2, include_bias=False, interaction_only=True).fit_transform(m)\n",
    "print('Elapsed           : {:.1f} minutes'.format((time()-t)/60))\n",
    "print('memory peak after : ', size(psutil.Process().memory_info().peak_wset))\n",
    "dense_matrix_report(m)"
   ]
  },
  {
   "cell_type": "markdown",
   "metadata": {},
   "source": [
    "Downcasting the interactions"
   ]
  },
  {
   "cell_type": "code",
   "execution_count": 12,
   "metadata": {
    "scrolled": true
   },
   "outputs": [
    {
     "name": "stdout",
     "output_type": "stream",
     "text": [
      "memory peak before:  7.2 GiB\n",
      "Elapsed           : 1.3 minutes\n",
      "memory peak after :  13.9 GiB\n",
      "Dimensions         : (1, 1535660490)\n",
      "Number of non-zeros: 153735\n",
      "Sparsity           : 0.9998998899815414\n",
      "Data type          : uint8\n",
      "Size               : 1.4 GiB\n",
      "[[0 0 0 ... 0 0 0]]\n"
     ]
    }
   ],
   "source": [
    "print('memory peak before: ', size(psutil.Process().memory_info().peak_wset))\n",
    "t=time()\n",
    "m = downcast(m, 'unsigned')\n",
    "print('Elapsed           : {:.1f} minutes'.format((time()-t)/60))\n",
    "print('memory peak after : ', size(psutil.Process().memory_info().peak_wset))\n",
    "dense_matrix_report(m)"
   ]
  },
  {
   "cell_type": "markdown",
   "metadata": {},
   "source": [
    "# Sparse matrix examples"
   ]
  },
  {
   "cell_type": "code",
   "execution_count": 5,
   "metadata": {},
   "outputs": [],
   "source": [
    "from scipy import sparse\n",
    "from matrix.sparse_matrix_report import sparse_matrix_report"
   ]
  },
  {
   "cell_type": "markdown",
   "metadata": {},
   "source": [
    "## csr_matrix: Compressed Sparse Row format"
   ]
  },
  {
   "cell_type": "code",
   "execution_count": 5,
   "metadata": {},
   "outputs": [
    {
     "name": "stdout",
     "output_type": "stream",
     "text": [
      "memory peak before create sparse matrix:  96.0 MiB\n",
      "Elapsed after interactions             : 2.4 minutes\n",
      "memory peak after create sparse matrix :  5.7 GiB\n"
     ]
    },
    {
     "data": {
      "text/plain": [
       "<400277x3728 sparse matrix of type '<class 'numpy.uint8'>'\n",
       "\twith 6290672 stored elements in Compressed Sparse Row format>"
      ]
     },
     "metadata": {},
     "output_type": "display_data"
    },
    {
     "name": "stdout",
     "output_type": "stream",
     "text": [
      "Number of non-zeros  : 6290672\n",
      "Sparsity             : 0.9957843892675138\n",
      "data length          : 6290672 (uint8)\n",
      "indptr length        : 400278 (int32)\n",
      "indices length       : 6290672 (int32)\n",
      "Size                 : 31.5 MiB\n",
      "Size                 : 56 B\n",
      "10 x 10 preview:\n",
      "[[0 0 0 0 0 0 0 0 0 0]\n",
      " [0 0 0 0 0 0 0 0 0 0]\n",
      " [0 0 0 0 0 0 0 0 0 0]\n",
      " [0 0 0 0 0 0 0 0 0 0]\n",
      " [0 0 0 0 0 0 0 0 0 0]\n",
      " [0 0 0 0 0 0 0 0 0 0]\n",
      " [0 0 0 0 0 0 0 0 0 0]\n",
      " [0 0 0 0 0 0 0 0 0 0]\n",
      " [0 0 0 0 0 0 0 0 0 0]\n",
      " [0 0 0 0 0 0 0 0 0 0]]\n"
     ]
    }
   ],
   "source": [
    "print('memory peak before: ', size(psutil.Process().memory_info().peak_wset))\n",
    "t=time()\n",
    "m = sparse.random(400277, 3728, density=(1-0.9957843892675138), format=\"csr\", dtype='uint8', random_state=1)\n",
    "print('Elapsed           : {:.1f} minutes'.format((time()-t)/60))\n",
    "print('memory peak after : ', size(psutil.Process().memory_info().peak_wset))\n",
    "sparse_matrix_report(m)"
   ]
  },
  {
   "cell_type": "markdown",
   "metadata": {},
   "source": [
    "## csc_matrix: Compressed Sparse Column format"
   ]
  },
  {
   "cell_type": "code",
   "execution_count": 5,
   "metadata": {},
   "outputs": [
    {
     "name": "stdout",
     "output_type": "stream",
     "text": [
      "memory peak before create sparse matrix:  95.4 MiB\n",
      "Elapsed after interactions             : 2.4 minutes\n",
      "memory peak after create sparse matrix :  5.7 GiB\n"
     ]
    },
    {
     "data": {
      "text/plain": [
       "<400277x3728 sparse matrix of type '<class 'numpy.uint8'>'\n",
       "\twith 6290672 stored elements in Compressed Sparse Column format>"
      ]
     },
     "metadata": {},
     "output_type": "display_data"
    },
    {
     "name": "stdout",
     "output_type": "stream",
     "text": [
      "Number of non-zeros: 6290672\n",
      "Sparsity           : 0.9957843892675138\n",
      "data length        : 6290672 (uint8)\n",
      "indptr length      : 3729 (int32)\n",
      "indices length     : 6290672 (int32)\n",
      "Size               : 30.0 MiB\n",
      "10 x 10 preview:\n",
      "[[  0   0   0   0   0   0   0   0   0   0]\n",
      " [  0   0   0   0   0   0   0   0   0   0]\n",
      " [  0   0   0   0   0   0   0   0   0   0]\n",
      " [  0   0   0   0   0   0   0   0   0   0]\n",
      " [  0   0   0   0   0   0   0 152   0   0]\n",
      " [  0   0   0   0   0   0   0   0   0   0]\n",
      " [  0   0   0   0   0   0   0   0   0   0]\n",
      " [  0   0   0   0   0   0   0   0   0   0]\n",
      " [  0   0   0   0   0   0   0   0   0   0]\n",
      " [  0   0   0   0   0   0   0   0   0   0]]\n"
     ]
    }
   ],
   "source": [
    "print('memory peak before: ', size(psutil.Process().memory_info().peak_wset))\n",
    "t=time()\n",
    "m = sparse.random(400277, 3728, density=(1-0.9957843892675138), format=\"csc\", dtype='uint8', random_state=1)\n",
    "print('Elapsed           : {:.1f} minutes'.format((time()-t)/60))\n",
    "print('memory peak after : ', size(psutil.Process().memory_info().peak_wset))\n",
    "sparse_matrix_report(m)"
   ]
  },
  {
   "cell_type": "markdown",
   "metadata": {},
   "source": [
    "## coo_matrix: COOrdinate format (aka IJV, triplet format)"
   ]
  },
  {
   "cell_type": "code",
   "execution_count": 5,
   "metadata": {
    "scrolled": false
   },
   "outputs": [
    {
     "name": "stdout",
     "output_type": "stream",
     "text": [
      "memory peak before create sparse matrix:  95.7 MiB\n",
      "Elapsed after interactions             : 2.4 minutes\n",
      "memory peak after create sparse matrix :  5.7 GiB\n"
     ]
    },
    {
     "data": {
      "text/plain": [
       "<400277x3728 sparse matrix of type '<class 'numpy.uint8'>'\n",
       "\twith 6290672 stored elements in COOrdinate format>"
      ]
     },
     "metadata": {},
     "output_type": "display_data"
    },
    {
     "name": "stdout",
     "output_type": "stream",
     "text": [
      "Number of non-zeros  : 6290672\n",
      "Sparsity             : 0.9957843892675138\n",
      "data length          : 6290672 (uint8)\n",
      "row length           : 6290672 (int32)\n",
      "col length           : 6290672 (int32)\n",
      "Size                 : 54.0 MiB\n",
      "preview:\n",
      "  (171849, 2287)\t236\n",
      "  (99119, 3600)\t130\n",
      "  (87972, 260)\t78\n",
      "  (375462, 3148)\t179\n",
      "  (185894, 3149)\t16\n",
      "  (379002, 857)\t111\n",
      "  (362483, 2673)\t93\n",
      "  (283620, 3582)\t186\n",
      "  (100831, 1284)\t41\n",
      "  (99966, 2198)\t151\n",
      "  (171654, 590)\t12\n",
      "  (365261, 3572)\t245\n",
      "  (359461, 1632)\t179\n",
      "  (136506, 1081)\t219\n",
      "  (266322, 730)\t245\n",
      "  (220389, 2686)\t136\n",
      "  (179377, 1470)\t97\n",
      "  (11620, 2667)\t178\n",
      "  (59808, 1038)\t98\n",
      "  (115196, 179)\t57\n",
      "  (206325, 991)\t153\n",
      "  (108820, 2983)\t40\n",
      "  (267556, 2604)\t79\n",
      "  (346755, 35)\t49\n",
      "  (168054, 946)\t32\n",
      "  :\t:\n",
      "  (233685, 3547)\t231\n",
      "  (272167, 610)\t173\n",
      "  (164648, 3247)\t208\n",
      "  (253788, 2965)\t138\n",
      "  (108935, 1643)\t106\n",
      "  (223824, 2910)\t229\n",
      "  (51495, 2185)\t15\n",
      "  (270555, 1078)\t191\n",
      "  (99380, 1611)\t30\n",
      "  (172439, 1645)\t22\n",
      "  (86103, 3554)\t88\n",
      "  (370332, 1381)\t63\n",
      "  (92367, 1418)\t90\n",
      "  (313448, 966)\t129\n",
      "  (310848, 3425)\t90\n",
      "  (190352, 1368)\t51\n",
      "  (392182, 1752)\t97\n",
      "  (256711, 2398)\t104\n",
      "  (323236, 3613)\t213\n",
      "  (148926, 2749)\t115\n",
      "  (334858, 460)\t17\n",
      "  (131603, 1070)\t16\n",
      "  (49583, 1345)\t86\n",
      "  (108283, 2428)\t186\n",
      "  (34299, 1276)\t8\n"
     ]
    }
   ],
   "source": [
    "print('memory peak before: ', size(psutil.Process().memory_info().peak_wset))\n",
    "t=time()\n",
    "m = sparse.random(400277, 3728, density=(1-0.9957843892675138), format=\"coo\", dtype='uint8', random_state=1)\n",
    "print('Elapsed           : {:.1f} minutes'.format((time()-t)/60))\n",
    "print('memory peak after : ', size(psutil.Process().memory_info().peak_wset))\n",
    "sparse_matrix_report(m)"
   ]
  },
  {
   "cell_type": "markdown",
   "metadata": {},
   "source": [
    "## bsr_matrix: Block Sparse Row format"
   ]
  },
  {
   "cell_type": "code",
   "execution_count": 5,
   "metadata": {},
   "outputs": [
    {
     "name": "stdout",
     "output_type": "stream",
     "text": [
      "memory peak before create sparse matrix:  96.1 MiB\n",
      "Elapsed after interactions             : 2.4 minutes\n",
      "memory peak after create sparse matrix :  5.8 GiB\n"
     ]
    },
    {
     "data": {
      "text/plain": [
       "<400277x3728 sparse matrix of type '<class 'numpy.uint8'>'\n",
       "\twith 6290672 stored elements (blocksize = 1x1) in Block Sparse Row format>"
      ]
     },
     "metadata": {},
     "output_type": "display_data"
    },
    {
     "name": "stdout",
     "output_type": "stream",
     "text": [
      "Number of non-zeros  : 6290672\n",
      "Sparsity             : 0.9957843892675138\n",
      "data length          : 6290672 (uint8)\n",
      "indptr length        : 400278 (int32)\n",
      "indices length       : 6290672 (int32)\n",
      "blocksize length     : (1, 1)\n",
      "Size                 : 31.5 MiB\n",
      "preview:\n",
      "  (0, 59)\t4\n",
      "  (0, 470)\t152\n",
      "  (0, 498)\t21\n",
      "  (0, 613)\t159\n",
      "  (0, 644)\t44\n",
      "  (0, 854)\t104\n",
      "  (0, 941)\t227\n",
      "  (0, 1316)\t120\n",
      "  (0, 1478)\t202\n",
      "  (0, 1807)\t116\n",
      "  (0, 2083)\t249\n",
      "  (0, 2649)\t164\n",
      "  (0, 2717)\t250\n",
      "  (0, 2742)\t0\n",
      "  (0, 3456)\t147\n",
      "  (0, 3472)\t42\n",
      "  (0, 3495)\t217\n",
      "  (1, 117)\t114\n",
      "  (1, 148)\t146\n",
      "  (1, 189)\t125\n",
      "  (1, 545)\t4\n",
      "  (1, 575)\t182\n",
      "  (1, 836)\t61\n",
      "  (1, 1175)\t138\n",
      "  (1, 1413)\t47\n",
      "  :\t:\n",
      "  (400274, 1504)\t234\n",
      "  (400274, 1620)\t4\n",
      "  (400274, 1906)\t46\n",
      "  (400274, 2386)\t152\n",
      "  (400274, 3136)\t152\n",
      "  (400274, 3200)\t150\n",
      "  (400274, 3469)\t244\n",
      "  (400274, 3540)\t116\n",
      "  (400275, 67)\t145\n",
      "  (400275, 411)\t2\n",
      "  (400275, 839)\t151\n",
      "  (400275, 999)\t152\n",
      "  (400275, 1031)\t17\n",
      "  (400275, 1285)\t137\n",
      "  (400275, 1764)\t98\n",
      "  (400275, 2580)\t44\n",
      "  (400275, 2783)\t181\n",
      "  (400275, 2886)\t186\n",
      "  (400275, 3123)\t14\n",
      "  (400275, 3450)\t97\n",
      "  (400276, 233)\t38\n",
      "  (400276, 343)\t113\n",
      "  (400276, 454)\t90\n",
      "  (400276, 1183)\t139\n",
      "  (400276, 2168)\t253\n"
     ]
    }
   ],
   "source": [
    "print('memory peak before: ', size(psutil.Process().memory_info().peak_wset))\n",
    "t=time()\n",
    "m = sparse.random(400277, 3728, density=(1-0.9957843892675138), format=\"bsr\", dtype='uint8', random_state=1)\n",
    "print('Elapsed           : {:.1f} minutes'.format((time()-t)/60))\n",
    "print('memory peak after : ', size(psutil.Process().memory_info().peak_wset))\n",
    "sparse_matrix_report(m)"
   ]
  },
  {
   "cell_type": "markdown",
   "metadata": {},
   "source": [
    "## lil_matrix: List of Lists format"
   ]
  },
  {
   "cell_type": "code",
   "execution_count": 5,
   "metadata": {
    "scrolled": false
   },
   "outputs": [
    {
     "name": "stdout",
     "output_type": "stream",
     "text": [
      "memory peak before create sparse matrix:  95.2 MiB\n",
      "Elapsed after interactions             : 2.4 minutes\n",
      "memory peak after create sparse matrix :  6.1 GiB\n"
     ]
    },
    {
     "data": {
      "text/plain": [
       "<400277x3728 sparse matrix of type '<class 'numpy.uint8'>'\n",
       "\twith 6290672 stored elements in LInked List format>"
      ]
     },
     "metadata": {},
     "output_type": "display_data"
    },
    {
     "name": "stdout",
     "output_type": "stream",
     "text": [
      "Number of non-zeros  : 6290672\n",
      "Sparsity             : 0.9957843892675138\n",
      "data length          : 400277 (object)\n",
      "rows                 : 400277 (object)\n",
      "Size                 : 6.1 MiB\n",
      "(no preview)\n"
     ]
    }
   ],
   "source": [
    "print('memory peak before: ', size(psutil.Process().memory_info().peak_wset))\n",
    "t=time()\n",
    "m = sparse.random(400277, 3728, density=(1-0.9957843892675138), format=\"lil\", dtype='uint8', random_state=1)\n",
    "print('Elapsed           : {:.1f} minutes'.format((time()-t)/60))\n",
    "print('memory peak after : ', size(psutil.Process().memory_info().peak_wset))\n",
    "sparse_matrix_report(m)"
   ]
  },
  {
   "cell_type": "markdown",
   "metadata": {},
   "source": [
    "## dok_matrix: Dictionary of Keys format"
   ]
  },
  {
   "cell_type": "code",
   "execution_count": 5,
   "metadata": {},
   "outputs": [
    {
     "name": "stdout",
     "output_type": "stream",
     "text": [
      "memory peak before create sparse matrix:  96.9 MiB\n",
      "Elapsed after interactions             : 2.7 minutes\n",
      "memory peak after create sparse matrix :  7.1 GiB\n"
     ]
    },
    {
     "data": {
      "text/plain": [
       "<400277x3728 sparse matrix of type '<class 'numpy.uint8'>'\n",
       "\twith 6290672 stored elements in Dictionary Of Keys format>"
      ]
     },
     "metadata": {},
     "output_type": "display_data"
    },
    {
     "name": "stdout",
     "output_type": "stream",
     "text": [
      "Number of non-zeros  : 6290672\n",
      "Sparsity             : 0.9957843892675138\n",
      "Size                 : 320.0 MiB\n",
      "10 x 10 preview:\n",
      "[[  0   0   0   0   0   0   0   0   0   0]\n",
      " [  0   0   0   0   0   0   0   0   0   0]\n",
      " [  0   0   0   0   0   0   0   0   0   0]\n",
      " [  0   0   0   0   0   0   0   0   0   0]\n",
      " [  0   0   0   0   0   0   0   0   0   0]\n",
      " [  0   0   0   0   0   0 240   0   0   0]\n",
      " [  0   0   0   0   0   0   0   0   0   0]\n",
      " [  0   0   0   0   0   0   0   0   0   0]\n",
      " [  0   0   0   0   0   0   0   0   0   0]\n",
      " [  0   0   0   0   0   0   0   0   0   0]]\n"
     ]
    }
   ],
   "source": [
    "print('memory peak before: ', size(psutil.Process().memory_info().peak_wset))\n",
    "t=time()\n",
    "m = sparse.random(400277, 3728, density=(1-0.9957843892675138), format=\"dok\", dtype='uint8', random_state=1)\n",
    "print('Elapsed           : {:.1f} minutes'.format((time()-t)/60))\n",
    "print('memory peak after : ', size(psutil.Process().memory_info().peak_wset))\n",
    "sparse_matrix_report(m)"
   ]
  },
  {
   "cell_type": "markdown",
   "metadata": {},
   "source": [
    "## dia_matrix: DIAgonal format"
   ]
  },
  {
   "cell_type": "code",
   "execution_count": 5,
   "metadata": {},
   "outputs": [
    {
     "name": "stdout",
     "output_type": "stream",
     "text": [
      "memory peak before create sparse matrix:  95.6 MiB\n"
     ]
    },
    {
     "name": "stderr",
     "output_type": "stream",
     "text": [
      "C:\\Users\\mauricio\\Anaconda3\\envs\\dev\\lib\\site-packages\\scipy\\sparse\\coo.py:434: SparseEfficiencyWarning: Constructing a DIA matrix with 403527 diagonals is inefficient\n",
      "  \"is inefficient\" % len(diags), SparseEfficiencyWarning)\n"
     ]
    },
    {
     "name": "stdout",
     "output_type": "stream",
     "text": [
      "Elapsed after interactions             : 2.5 minutes\n",
      "memory peak after create sparse matrix :  7.2 GiB\n"
     ]
    },
    {
     "data": {
      "text/plain": [
       "<400277x3728 sparse matrix of type '<class 'numpy.uint8'>'\n",
       "\twith 1492115853 stored elements (403527 diagonals) in DIAgonal format>"
      ]
     },
     "metadata": {},
     "output_type": "display_data"
    },
    {
     "name": "stdout",
     "output_type": "stream",
     "text": [
      "Number of non-zeros  : 1492115853\n",
      "Sparsity             : 7.827398732385138e-05\n",
      "data length          : 403527 (uint8)\n",
      "Offsets              : 403527 (int32)\n",
      "Size                 : 1.4 GiB\n",
      "(no preview)\n"
     ]
    }
   ],
   "source": [
    "print('memory peak before: ', size(psutil.Process().memory_info().peak_wset))\n",
    "t=time()\n",
    "m = sparse.random(400277, 3728, density=(1-0.9957843892675138), format=\"dia\", dtype='uint8', random_state=1)\n",
    "print('Elapsed           : {:.1f} minutes'.format((time()-t)/60))\n",
    "print('memory peak after : ', size(psutil.Process().memory_info().peak_wset))\n",
    "sparse_matrix_report(m)"
   ]
  },
  {
   "cell_type": "markdown",
   "metadata": {},
   "source": [
    "# Sparse interactions"
   ]
  },
  {
   "cell_type": "markdown",
   "metadata": {},
   "source": [
    "## Timing `PolynomialFeatures()` by sparse matrix formats"
   ]
  },
  {
   "cell_type": "code",
   "execution_count": null,
   "metadata": {
    "scrolled": true
   },
   "outputs": [],
   "source": [
    "formats = ['csr', 'csc', 'coo', 'bsr', 'lil', 'dok']  ## + ['dia'}\n",
    "for format in formats:\n",
    "    t1 = time()\n",
    "    m = sparse.random(400277, 3728, density=(1-0.9957843892675138), format=format, dtype='float32', random_state=1)\n",
    "    t1 = time() - t1\n",
    "    t2 = time()\n",
    "    m = PolynomialFeatures(degree=2, include_bias=False, interaction_only=True).fit_transform(m)\n",
    "    t2 = time() - t2\n",
    "    msg = 'Creating {} matrix: {:.1f} minutes, interacting: {:.1f} minutes, dtype: {} peak: {}'\n",
    "    print(msg.format(format, t1/60, t2/60, m.dtype, size(psutil.Process().memory_info().peak_wset)))"
   ]
  },
  {
   "cell_type": "markdown",
   "metadata": {},
   "source": [
    "**Saved results:**  \n",
    "Creating csr matrix: 2.5 minutes, interacting: 0.1 minutes, dtype: float32 peak: 5.8 GiB  \n",
    "Creating csc matrix: 2.5 minutes, interacting: 0.2 minutes, dtype: float32 peak: 6.2 GiB  \n",
    "Creating coo matrix: 2.5 minutes, interacting: 0.1 minutes, dtype: float32 peak: 6.2 GiB  \n",
    "Creating bsr matrix: 2.5 minutes, interacting: 0.1 minutes, dtype: float32 peak: 6.2 GiB  \n",
    "Creating lil matrix: 2.5 minutes, interacting: 0.1 minutes, dtype: float32 peak: 6.7 GiB  \n",
    "C:\\Users\\mauricio\\Anaconda3\\envs\\dev\\lib\\site-packages\\sklearn\\utils\\validation.py:511: UserWarning: Can't check dok sparse matrix for nan or inf.\n",
    "  accept_large_sparse=accept_large_sparse)  \n",
    "Creating dok matrix: 2.7 minutes, interacting: 0.1 minutes, dtype: float32 peak: 7.5 GiB"
   ]
  },
  {
   "cell_type": "markdown",
   "metadata": {},
   "source": [
    "## Compressed Sparse Row format interaction"
   ]
  },
  {
   "cell_type": "markdown",
   "metadata": {},
   "source": [
    "### Matrix creation"
   ]
  },
  {
   "cell_type": "code",
   "execution_count": null,
   "metadata": {
    "scrolled": false
   },
   "outputs": [],
   "source": [
    "print('memory peak before: ', size(psutil.Process().memory_info().peak_wset))\n",
    "t = time()\n",
    "m = sparse.random(400277, 3728, density=(1-0.9957843892675138), format='csr', dtype='float32', random_state=1)\n",
    "print('Elapsed           : {:.1f} minutes'.format((time()-t)/60))\n",
    "print('memory peak after : ', size(psutil.Process().memory_info().peak_wset))\n",
    "sparse_matrix_report(m)"
   ]
  },
  {
   "cell_type": "markdown",
   "metadata": {},
   "source": [
    "**Saved results for `dtype=float32`:**  \n",
    "memory peak before:  128.7 MiB  \n",
    "Elapsed           : 2.4 minutes  \n",
    "memory peak after :  5.8 GiB  \n",
    "<400277x3728 sparse matrix of type '<class 'numpy.float32'>'  \n",
    "\twith 6290672 stored elements in Compressed Sparse Row format>  \n",
    "Number of non-zeros  : 6290672  \n",
    "Sparsity             : 0.9957843892675138  \n",
    "data length          : 6290672 (float32)  \n",
    "indptr length        : 400278 (int32)  \n",
    "indices length       : 6290672 (int32)  \n",
    "Size                 : 49.5 MiB  \n",
    "10 x 10 preview:  \n",
    "[[0. 0. 0. 0. 0. 0. 0. 0. 0. 0.]  \n",
    " [0. 0. 0. 0. 0. 0. 0. 0. 0. 0.]  \n",
    " [0. 0. 0. 0. 0. 0. 0. 0. 0. 0.]  \n",
    " [0. 0. 0. 0. 0. 0. 0. 0. 0. 0.]  \n",
    " [0. 0. 0. 0. 0. 0. 0. 0. 0. 0.]  \n",
    " [0. 0. 0. 0. 0. 0. 0. 0. 0. 0.]  \n",
    " [0. 0. 0. 0. 0. 0. 0. 0. 0. 0.]  \n",
    " [0. 0. 0. 0. 0. 0. 0. 0. 0. 0.]  \n",
    " [0. 0. 0. 0. 0. 0. 0. 0. 0. 0.]  \n",
    " [0. 0. 0. 0. 0. 0. 0. 0. 0. 0.]]  \n",
    "\n",
    "\n",
    "**Saved results for `dtype=uint8`:**  \n",
    "memory peak before:  128.5 MiB  \n",
    "Elapsed           : 2.4 minutes  \n",
    "memory peak after :  5.8 GiB  \n",
    "<400277x3728 sparse matrix of type '<class 'numpy.uint8'>'  \n",
    "\twith 6290672 stored elements in Compressed Sparse Row format>  \n",
    "Number of non-zeros  : 6290672  \n",
    "Sparsity             : 0.9957843892675138  \n",
    "data length          : 6290672 (uint8)  \n",
    "indptr length        : 400278 (int32)  \n",
    "indices length       : 6290672 (int32)  \n",
    "Size                 : 31.5 MiB  \n",
    "10 x 10 preview:  \n",
    "[[0 0 0 0 0 0 0 0 0 0]  \n",
    " [0 0 0 0 0 0 0 0 0 0]  \n",
    " [0 0 0 0 0 0 0 0 0 0]  \n",
    " [0 0 0 0 0 0 0 0 0 0]  \n",
    " [0 0 0 0 0 0 0 0 0 0]  \n",
    " [0 0 0 0 0 0 0 0 0 0]  \n",
    " [0 0 0 0 0 0 0 0 0 0]  \n",
    " [0 0 0 0 0 0 0 0 0 0]  \n",
    " [0 0 0 0 0 0 0 0 0 0]  \n",
    " [0 0 0 0 0 0 0 0 0 0]]"
   ]
  },
  {
   "cell_type": "markdown",
   "metadata": {},
   "source": [
    "### Term interaction"
   ]
  },
  {
   "cell_type": "code",
   "execution_count": null,
   "metadata": {},
   "outputs": [],
   "source": [
    "print('memory peak before: ', size(psutil.Process().memory_info().peak_wset))\n",
    "t=time()\n",
    "m = PolynomialFeatures(degree=2, include_bias=False, interaction_only=True).fit_transform(m)\n",
    "print('Elapsed           : {:.1f} minutes'.format((time()-t)/60))\n",
    "print('memory peak after : ', size(psutil.Process().memory_info().peak_wset))\n",
    "sparse_matrix_report(m)"
   ]
  },
  {
   "cell_type": "markdown",
   "metadata": {},
   "source": [
    "**Saved results for input `dtype=float32`, output `dtype=float32`:**  \n",
    "memory peak before:  5.8 GiB  \n",
    "Elapsed           : 0.1 minutes  \n",
    "memory peak after :  5.8 GiB  \n",
    "<400277x6950856 sparse matrix of type '<class 'numpy.float32'>'  \n",
    "\twith 55711083 stored elements in Compressed Sparse Row format>  \n",
    "Number of non-zeros  : 55711083  \n",
    "Sparsity             : 0.9999799763763725  \n",
    "data length          : 55711083 (float32)  \n",
    "indptr length        : 400278 (int32)  \n",
    "indices length       : 55711083 (int32)  \n",
    "Size                 : 426.6 MiB  \n",
    "10 x 10 preview:  \n",
    "[[0. 0. 0. 0. 0. 0. 0. 0. 0. 0.]  \n",
    " [0. 0. 0. 0. 0. 0. 0. 0. 0. 0.]  \n",
    " [0. 0. 0. 0. 0. 0. 0. 0. 0. 0.]  \n",
    " [0. 0. 0. 0. 0. 0. 0. 0. 0. 0.]  \n",
    " [0. 0. 0. 0. 0. 0. 0. 0. 0. 0.]  \n",
    " [0. 0. 0. 0. 0. 0. 0. 0. 0. 0.]  \n",
    " [0. 0. 0. 0. 0. 0. 0. 0. 0. 0.]  \n",
    " [0. 0. 0. 0. 0. 0. 0. 0. 0. 0.]  \n",
    " [0. 0. 0. 0. 0. 0. 0. 0. 0. 0.]  \n",
    " [0. 0. 0. 0. 0. 0. 0. 0. 0. 0.]]  \n",
    " \n",
    "**Saved results for input `dtype=uint8`, output `dtype=float64`:**  \n",
    "memory peak before:  5.8 GiB  \n",
    "Elapsed           : 0.1 minutes  \n",
    "memory peak after :  5.8 GiB  \n",
    "<400277x6950856 sparse matrix of type '<class 'numpy.float64'>'  \n",
    "\twith 55711083 stored elements in Compressed Sparse Row format>  \n",
    "Number of non-zeros  : 55711083  \n",
    "Sparsity             : 0.9999799763763725  \n",
    "data length          : 55711083 (float64)  \n",
    "indptr length        : 400278 (int32)  \n",
    "indices length       : 55711083 (int32)  \n",
    "Size                 : 639.1 MiB  \n",
    "10 x 10 preview:  \n",
    "[[0. 0. 0. 0. 0. 0. 0. 0. 0. 0.]  \n",
    " [0. 0. 0. 0. 0. 0. 0. 0. 0. 0.]  \n",
    " [0. 0. 0. 0. 0. 0. 0. 0. 0. 0.]  \n",
    " [0. 0. 0. 0. 0. 0. 0. 0. 0. 0.]  \n",
    " [0. 0. 0. 0. 0. 0. 0. 0. 0. 0.]  \n",
    " [0. 0. 0. 0. 0. 0. 0. 0. 0. 0.]  \n",
    " [0. 0. 0. 0. 0. 0. 0. 0. 0. 0.]  \n",
    " [0. 0. 0. 0. 0. 0. 0. 0. 0. 0.]  \n",
    " [0. 0. 0. 0. 0. 0. 0. 0. 0. 0.]  \n",
    " [0. 0. 0. 0. 0. 0. 0. 0. 0. 0.]]"
   ]
  },
  {
   "cell_type": "markdown",
   "metadata": {},
   "source": [
    "### Matrix downcasting"
   ]
  },
  {
   "cell_type": "code",
   "execution_count": null,
   "metadata": {
    "scrolled": false
   },
   "outputs": [],
   "source": [
    "print('memory peak before: ', size(psutil.Process().memory_info().peak_wset))\n",
    "t=time()\n",
    "m = downcast(m, 'unsigned')\n",
    "print('Elapsed           : {:.1f} minutes'.format((time()-t)/60))\n",
    "print('memory peak after : ', size(psutil.Process().memory_info().peak_wset))\n",
    "sparse_matrix_report(m)"
   ]
  },
  {
   "cell_type": "markdown",
   "metadata": {},
   "source": [
    "**Saved results:**  \n",
    "memory peak before:  5.8 GiB  \n",
    "Elapsed           : 0.1 minutes  \n",
    "memory peak after :  5.8 GiB  \n",
    "<400277x6950856 sparse matrix of type '<class 'numpy.uint16'>'  \n",
    "\twith 55711083 stored elements in Compressed Sparse Row format>  \n",
    "Number of non-zeros  : 55711083  \n",
    "Sparsity             : 0.9999799763763725  \n",
    "data length          : 55711083 (uint16)  \n",
    "indptr length        : 400278 (int32)  \n",
    "indices length       : 55711083 (int32)  \n",
    "Size                 : 320.3 MiB  \n",
    "10 x 10 preview:  \n",
    "[[0 0 0 0 0 0 0 0 0 0]  \n",
    " [0 0 0 0 0 0 0 0 0 0]  \n",
    " [0 0 0 0 0 0 0 0 0 0]  \n",
    " [0 0 0 0 0 0 0 0 0 0]  \n",
    " [0 0 0 0 0 0 0 0 0 0]  \n",
    " [0 0 0 0 0 0 0 0 0 0]  \n",
    " [0 0 0 0 0 0 0 0 0 0]  \n",
    " [0 0 0 0 0 0 0 0 0 0]  \n",
    " [0 0 0 0 0 0 0 0 0 0]  \n",
    " [0 0 0 0 0 0 0 0 0 0]]"
   ]
  }
 ],
 "metadata": {
  "kernelspec": {
   "display_name": "Python 3",
   "language": "python",
   "name": "python3"
  },
  "language_info": {
   "codemirror_mode": {
    "name": "ipython",
    "version": 3
   },
   "file_extension": ".py",
   "mimetype": "text/x-python",
   "name": "python",
   "nbconvert_exporter": "python",
   "pygments_lexer": "ipython3",
   "version": "3.7.7"
  },
  "toc": {
   "base_numbering": 1,
   "nav_menu": {},
   "number_sections": true,
   "sideBar": true,
   "skip_h1_title": false,
   "title_cell": "Table of Contents",
   "title_sidebar": "Contents",
   "toc_cell": false,
   "toc_position": {
    "height": "543.2px",
    "left": "1238px",
    "top": "70.2px",
    "width": "298px"
   },
   "toc_section_display": true,
   "toc_window_display": true
  },
  "varInspector": {
   "cols": {
    "lenName": 16,
    "lenType": 16,
    "lenVar": 40
   },
   "kernels_config": {
    "python": {
     "delete_cmd_postfix": "",
     "delete_cmd_prefix": "del ",
     "library": "var_list.py",
     "varRefreshCmd": "print(var_dic_list())"
    },
    "r": {
     "delete_cmd_postfix": ") ",
     "delete_cmd_prefix": "rm(",
     "library": "var_list.r",
     "varRefreshCmd": "cat(var_dic_list()) "
    }
   },
   "oldHeight": 691.4,
   "position": {
    "height": "40px",
    "left": "632px",
    "right": "20px",
    "top": "3px",
    "width": "518.6px"
   },
   "types_to_exclude": [
    "module",
    "function",
    "builtin_function_or_method",
    "instance",
    "_Feature"
   ],
   "varInspector_section_display": "none",
   "window_display": true
  }
 },
 "nbformat": 4,
 "nbformat_minor": 2
}
