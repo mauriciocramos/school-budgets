{
 "cells": [
  {
   "cell_type": "code",
   "execution_count": 36,
   "metadata": {
    "execution": {
     "iopub.execute_input": "2022-10-18T05:40:38.732008Z",
     "iopub.status.busy": "2022-10-18T05:40:38.731871Z",
     "iopub.status.idle": "2022-10-18T05:40:38.734582Z",
     "shell.execute_reply": "2022-10-18T05:40:38.734099Z",
     "shell.execute_reply.started": "2022-10-18T05:40:38.731996Z"
    },
    "tags": []
   },
   "outputs": [],
   "source": [
    "import pandas as pd\n",
    "import numpy as np\n",
    "import matplotlib.pyplot as plt\n",
    "plt.style.use('dark_background')"
   ]
  },
  {
   "cell_type": "markdown",
   "metadata": {},
   "source": [
    "# Example of multi-label multi-class dataframe"
   ]
  },
  {
   "cell_type": "code",
   "execution_count": 108,
   "metadata": {
    "execution": {
     "iopub.execute_input": "2022-10-18T06:08:27.158465Z",
     "iopub.status.busy": "2022-10-18T06:08:27.158326Z",
     "iopub.status.idle": "2022-10-18T06:08:27.163708Z",
     "shell.execute_reply": "2022-10-18T06:08:27.163440Z",
     "shell.execute_reply.started": "2022-10-18T06:08:27.158454Z"
    },
    "tags": []
   },
   "outputs": [
    {
     "data": {
      "text/html": [
       "<div>\n",
       "<style scoped>\n",
       "    .dataframe tbody tr th:only-of-type {\n",
       "        vertical-align: middle;\n",
       "    }\n",
       "\n",
       "    .dataframe tbody tr th {\n",
       "        vertical-align: top;\n",
       "    }\n",
       "\n",
       "    .dataframe thead th {\n",
       "        text-align: right;\n",
       "    }\n",
       "</style>\n",
       "<table border=\"1\" class=\"dataframe\">\n",
       "  <thead>\n",
       "    <tr style=\"text-align: right;\">\n",
       "      <th></th>\n",
       "      <th>label1</th>\n",
       "      <th>label2</th>\n",
       "      <th>label3</th>\n",
       "    </tr>\n",
       "  </thead>\n",
       "  <tbody>\n",
       "    <tr>\n",
       "      <th>0</th>\n",
       "      <td>A</td>\n",
       "      <td>D</td>\n",
       "      <td>A</td>\n",
       "    </tr>\n",
       "    <tr>\n",
       "      <th>1</th>\n",
       "      <td>B</td>\n",
       "      <td>D</td>\n",
       "      <td>B</td>\n",
       "    </tr>\n",
       "    <tr>\n",
       "      <th>2</th>\n",
       "      <td>B</td>\n",
       "      <td>D</td>\n",
       "      <td>C</td>\n",
       "    </tr>\n",
       "    <tr>\n",
       "      <th>3</th>\n",
       "      <td>C</td>\n",
       "      <td>E</td>\n",
       "      <td>D</td>\n",
       "    </tr>\n",
       "    <tr>\n",
       "      <th>4</th>\n",
       "      <td>C</td>\n",
       "      <td>F</td>\n",
       "      <td>E</td>\n",
       "    </tr>\n",
       "    <tr>\n",
       "      <th>5</th>\n",
       "      <td>C</td>\n",
       "      <td>G</td>\n",
       "      <td>F</td>\n",
       "    </tr>\n",
       "  </tbody>\n",
       "</table>\n",
       "</div>"
      ],
      "text/plain": [
       "  label1 label2 label3\n",
       "0      A      D      A\n",
       "1      B      D      B\n",
       "2      B      D      C\n",
       "3      C      E      D\n",
       "4      C      F      E\n",
       "5      C      G      F"
      ]
     },
     "execution_count": 108,
     "metadata": {},
     "output_type": "execute_result"
    }
   ],
   "source": [
    "df = pd.DataFrame({'label1': ['A', 'B', 'B', 'C', 'C', 'C'],\n",
    "                   'label2': ['D', 'D', 'D', 'E', 'F', 'G'],\n",
    "                   'label3': ['A', 'B', 'C', 'D', 'E', 'F']\n",
    "                  }, dtype='category')\n",
    "df"
   ]
  },
  {
   "cell_type": "markdown",
   "metadata": {},
   "source": [
    "# Number of unique classes per label"
   ]
  },
  {
   "cell_type": "code",
   "execution_count": 117,
   "metadata": {
    "execution": {
     "iopub.execute_input": "2022-10-18T06:11:50.906893Z",
     "iopub.status.busy": "2022-10-18T06:11:50.906756Z",
     "iopub.status.idle": "2022-10-18T06:11:50.910385Z",
     "shell.execute_reply": "2022-10-18T06:11:50.910040Z",
     "shell.execute_reply.started": "2022-10-18T06:11:50.906881Z"
    },
    "tags": []
   },
   "outputs": [
    {
     "data": {
      "text/plain": [
       "label1    3\n",
       "label2    4\n",
       "label3    6\n",
       "dtype: int64"
      ]
     },
     "execution_count": 117,
     "metadata": {},
     "output_type": "execute_result"
    }
   ],
   "source": [
    "nunique_classes = df.apply(pd.Series.nunique)\n",
    "nunique_classes"
   ]
  },
  {
   "cell_type": "markdown",
   "metadata": {},
   "source": [
    "# From labels to dummy variables"
   ]
  },
  {
   "cell_type": "code",
   "execution_count": 118,
   "metadata": {
    "execution": {
     "iopub.execute_input": "2022-10-18T06:11:59.181663Z",
     "iopub.status.busy": "2022-10-18T06:11:59.181525Z",
     "iopub.status.idle": "2022-10-18T06:11:59.188083Z",
     "shell.execute_reply": "2022-10-18T06:11:59.187793Z",
     "shell.execute_reply.started": "2022-10-18T06:11:59.181651Z"
    },
    "tags": []
   },
   "outputs": [
    {
     "data": {
      "text/html": [
       "<div>\n",
       "<style scoped>\n",
       "    .dataframe tbody tr th:only-of-type {\n",
       "        vertical-align: middle;\n",
       "    }\n",
       "\n",
       "    .dataframe tbody tr th {\n",
       "        vertical-align: top;\n",
       "    }\n",
       "\n",
       "    .dataframe thead th {\n",
       "        text-align: right;\n",
       "    }\n",
       "</style>\n",
       "<table border=\"1\" class=\"dataframe\">\n",
       "  <thead>\n",
       "    <tr style=\"text-align: right;\">\n",
       "      <th></th>\n",
       "      <th>label1_A</th>\n",
       "      <th>label1_B</th>\n",
       "      <th>label1_C</th>\n",
       "      <th>label2_D</th>\n",
       "      <th>label2_E</th>\n",
       "      <th>label2_F</th>\n",
       "      <th>label2_G</th>\n",
       "      <th>label3_A</th>\n",
       "      <th>label3_B</th>\n",
       "      <th>label3_C</th>\n",
       "      <th>label3_D</th>\n",
       "      <th>label3_E</th>\n",
       "      <th>label3_F</th>\n",
       "    </tr>\n",
       "  </thead>\n",
       "  <tbody>\n",
       "    <tr>\n",
       "      <th>0</th>\n",
       "      <td>1</td>\n",
       "      <td>0</td>\n",
       "      <td>0</td>\n",
       "      <td>1</td>\n",
       "      <td>0</td>\n",
       "      <td>0</td>\n",
       "      <td>0</td>\n",
       "      <td>1</td>\n",
       "      <td>0</td>\n",
       "      <td>0</td>\n",
       "      <td>0</td>\n",
       "      <td>0</td>\n",
       "      <td>0</td>\n",
       "    </tr>\n",
       "    <tr>\n",
       "      <th>1</th>\n",
       "      <td>0</td>\n",
       "      <td>1</td>\n",
       "      <td>0</td>\n",
       "      <td>1</td>\n",
       "      <td>0</td>\n",
       "      <td>0</td>\n",
       "      <td>0</td>\n",
       "      <td>0</td>\n",
       "      <td>1</td>\n",
       "      <td>0</td>\n",
       "      <td>0</td>\n",
       "      <td>0</td>\n",
       "      <td>0</td>\n",
       "    </tr>\n",
       "    <tr>\n",
       "      <th>2</th>\n",
       "      <td>0</td>\n",
       "      <td>1</td>\n",
       "      <td>0</td>\n",
       "      <td>1</td>\n",
       "      <td>0</td>\n",
       "      <td>0</td>\n",
       "      <td>0</td>\n",
       "      <td>0</td>\n",
       "      <td>0</td>\n",
       "      <td>1</td>\n",
       "      <td>0</td>\n",
       "      <td>0</td>\n",
       "      <td>0</td>\n",
       "    </tr>\n",
       "    <tr>\n",
       "      <th>3</th>\n",
       "      <td>0</td>\n",
       "      <td>0</td>\n",
       "      <td>1</td>\n",
       "      <td>0</td>\n",
       "      <td>1</td>\n",
       "      <td>0</td>\n",
       "      <td>0</td>\n",
       "      <td>0</td>\n",
       "      <td>0</td>\n",
       "      <td>0</td>\n",
       "      <td>1</td>\n",
       "      <td>0</td>\n",
       "      <td>0</td>\n",
       "    </tr>\n",
       "    <tr>\n",
       "      <th>4</th>\n",
       "      <td>0</td>\n",
       "      <td>0</td>\n",
       "      <td>1</td>\n",
       "      <td>0</td>\n",
       "      <td>0</td>\n",
       "      <td>1</td>\n",
       "      <td>0</td>\n",
       "      <td>0</td>\n",
       "      <td>0</td>\n",
       "      <td>0</td>\n",
       "      <td>0</td>\n",
       "      <td>1</td>\n",
       "      <td>0</td>\n",
       "    </tr>\n",
       "    <tr>\n",
       "      <th>5</th>\n",
       "      <td>0</td>\n",
       "      <td>0</td>\n",
       "      <td>1</td>\n",
       "      <td>0</td>\n",
       "      <td>0</td>\n",
       "      <td>0</td>\n",
       "      <td>1</td>\n",
       "      <td>0</td>\n",
       "      <td>0</td>\n",
       "      <td>0</td>\n",
       "      <td>0</td>\n",
       "      <td>0</td>\n",
       "      <td>1</td>\n",
       "    </tr>\n",
       "  </tbody>\n",
       "</table>\n",
       "</div>"
      ],
      "text/plain": [
       "   label1_A  label1_B  label1_C  label2_D  label2_E  label2_F  label2_G  \\\n",
       "0         1         0         0         1         0         0         0   \n",
       "1         0         1         0         1         0         0         0   \n",
       "2         0         1         0         1         0         0         0   \n",
       "3         0         0         1         0         1         0         0   \n",
       "4         0         0         1         0         0         1         0   \n",
       "5         0         0         1         0         0         0         1   \n",
       "\n",
       "   label3_A  label3_B  label3_C  label3_D  label3_E  label3_F  \n",
       "0         1         0         0         0         0         0  \n",
       "1         0         1         0         0         0         0  \n",
       "2         0         0         1         0         0         0  \n",
       "3         0         0         0         1         0         0  \n",
       "4         0         0         0         0         1         0  \n",
       "5         0         0         0         0         0         1  "
      ]
     },
     "execution_count": 118,
     "metadata": {},
     "output_type": "execute_result"
    }
   ],
   "source": [
    "y = pd.get_dummies(df)\n",
    "y"
   ]
  },
  {
   "cell_type": "markdown",
   "metadata": {},
   "source": [
    "# Class indices to the dummy variables"
   ]
  },
  {
   "cell_type": "code",
   "execution_count": 124,
   "metadata": {
    "execution": {
     "iopub.execute_input": "2022-10-18T06:15:25.352030Z",
     "iopub.status.busy": "2022-10-18T06:15:25.351893Z",
     "iopub.status.idle": "2022-10-18T06:15:25.355059Z",
     "shell.execute_reply": "2022-10-18T06:15:25.354738Z",
     "shell.execute_reply.started": "2022-10-18T06:15:25.352019Z"
    },
    "tags": []
   },
   "outputs": [
    {
     "data": {
      "text/plain": [
       "[[0, 1, 2], [3, 4, 5, 6], [7, 8, 9, 10, 11, 12]]"
      ]
     },
     "execution_count": 124,
     "metadata": {},
     "output_type": "execute_result"
    }
   ],
   "source": [
    "label_margins = nunique_classes.cumsum()\n",
    "class_indices = [list(range(start, stop)) for start, stop in list(zip((label_margins - nunique_classes), label_margins))]\n",
    "class_indices"
   ]
  },
  {
   "cell_type": "markdown",
   "metadata": {},
   "source": [
    "# Accessing classes per label"
   ]
  },
  {
   "cell_type": "markdown",
   "metadata": {},
   "source": [
    "Various ways to do that:"
   ]
  },
  {
   "cell_type": "code",
   "execution_count": 168,
   "metadata": {
    "execution": {
     "iopub.execute_input": "2022-10-18T06:36:35.598741Z",
     "iopub.status.busy": "2022-10-18T06:36:35.598601Z",
     "iopub.status.idle": "2022-10-18T06:36:35.602075Z",
     "shell.execute_reply": "2022-10-18T06:36:35.601809Z",
     "shell.execute_reply.started": "2022-10-18T06:36:35.598729Z"
    },
    "tags": []
   },
   "outputs": [
    {
     "name": "stdout",
     "output_type": "stream",
     "text": [
      "dict of label indices and class indices:\n",
      "{0: [0, 1, 2], 1: [3, 4, 5, 6], 2: [7, 8, 9, 10, 11, 12]}\n",
      "\n",
      "dict of labels and classes:\n",
      "{'label1': ['label1_A', 'label1_B', 'label1_C'], 'label2': ['label2_D', 'label2_E', 'label2_F', 'label2_G'], 'label3': ['label3_A', 'label3_B', 'label3_C', 'label3_D', 'label3_E', 'label3_F']}\n",
      "\n",
      "dict of labels and class indices:\n",
      "{'label1': [0, 1, 2], 'label2': [3, 4, 5, 6], 'label3': [7, 8, 9, 10, 11, 12]}\n",
      "\n",
      "dict of label indices and classes:\n",
      "{0: ['label1_A', 'label1_B', 'label1_C'], 1: ['label2_D', 'label2_E', 'label2_F', 'label2_G'], 2: ['label3_A', 'label3_B', 'label3_C', 'label3_D', 'label3_E', 'label3_F']}\n"
     ]
    }
   ],
   "source": [
    "print('dict of label indices and class indices:')\n",
    "print({l: c for l,c in enumerate(class_indices)})\n",
    "print('\\ndict of labels and classes:')\n",
    "print({df.columns[l]: y.columns[c].to_list() for l,c in enumerate(class_indices)})\n",
    "print('\\ndict of labels and class indices:')\n",
    "print({df.columns[l]: c for l,c in enumerate(class_indices)})\n",
    "print('\\ndict of label indices and classes:')\n",
    "print({l: y.columns[c].to_list() for l,c in enumerate(class_indices)})"
   ]
  },
  {
   "cell_type": "code",
   "execution_count": 126,
   "metadata": {
    "execution": {
     "iopub.execute_input": "2022-10-18T06:16:17.506688Z",
     "iopub.status.busy": "2022-10-18T06:16:17.506294Z",
     "iopub.status.idle": "2022-10-18T06:16:17.514993Z",
     "shell.execute_reply": "2022-10-18T06:16:17.514673Z",
     "shell.execute_reply.started": "2022-10-18T06:16:17.506673Z"
    },
    "tags": []
   },
   "outputs": [
    {
     "name": "stdout",
     "output_type": "stream",
     "text": [
      "Label: label1\n"
     ]
    },
    {
     "data": {
      "text/html": [
       "<div>\n",
       "<style scoped>\n",
       "    .dataframe tbody tr th:only-of-type {\n",
       "        vertical-align: middle;\n",
       "    }\n",
       "\n",
       "    .dataframe tbody tr th {\n",
       "        vertical-align: top;\n",
       "    }\n",
       "\n",
       "    .dataframe thead th {\n",
       "        text-align: right;\n",
       "    }\n",
       "</style>\n",
       "<table border=\"1\" class=\"dataframe\">\n",
       "  <thead>\n",
       "    <tr style=\"text-align: right;\">\n",
       "      <th></th>\n",
       "      <th>label1_A</th>\n",
       "      <th>label1_B</th>\n",
       "      <th>label1_C</th>\n",
       "    </tr>\n",
       "  </thead>\n",
       "  <tbody>\n",
       "    <tr>\n",
       "      <th>0</th>\n",
       "      <td>1</td>\n",
       "      <td>0</td>\n",
       "      <td>0</td>\n",
       "    </tr>\n",
       "    <tr>\n",
       "      <th>1</th>\n",
       "      <td>0</td>\n",
       "      <td>1</td>\n",
       "      <td>0</td>\n",
       "    </tr>\n",
       "    <tr>\n",
       "      <th>2</th>\n",
       "      <td>0</td>\n",
       "      <td>1</td>\n",
       "      <td>0</td>\n",
       "    </tr>\n",
       "    <tr>\n",
       "      <th>3</th>\n",
       "      <td>0</td>\n",
       "      <td>0</td>\n",
       "      <td>1</td>\n",
       "    </tr>\n",
       "    <tr>\n",
       "      <th>4</th>\n",
       "      <td>0</td>\n",
       "      <td>0</td>\n",
       "      <td>1</td>\n",
       "    </tr>\n",
       "    <tr>\n",
       "      <th>5</th>\n",
       "      <td>0</td>\n",
       "      <td>0</td>\n",
       "      <td>1</td>\n",
       "    </tr>\n",
       "  </tbody>\n",
       "</table>\n",
       "</div>"
      ],
      "text/plain": [
       "   label1_A  label1_B  label1_C\n",
       "0         1         0         0\n",
       "1         0         1         0\n",
       "2         0         1         0\n",
       "3         0         0         1\n",
       "4         0         0         1\n",
       "5         0         0         1"
      ]
     },
     "metadata": {},
     "output_type": "display_data"
    },
    {
     "name": "stdout",
     "output_type": "stream",
     "text": [
      "Label: label2\n"
     ]
    },
    {
     "data": {
      "text/html": [
       "<div>\n",
       "<style scoped>\n",
       "    .dataframe tbody tr th:only-of-type {\n",
       "        vertical-align: middle;\n",
       "    }\n",
       "\n",
       "    .dataframe tbody tr th {\n",
       "        vertical-align: top;\n",
       "    }\n",
       "\n",
       "    .dataframe thead th {\n",
       "        text-align: right;\n",
       "    }\n",
       "</style>\n",
       "<table border=\"1\" class=\"dataframe\">\n",
       "  <thead>\n",
       "    <tr style=\"text-align: right;\">\n",
       "      <th></th>\n",
       "      <th>label2_D</th>\n",
       "      <th>label2_E</th>\n",
       "      <th>label2_F</th>\n",
       "      <th>label2_G</th>\n",
       "    </tr>\n",
       "  </thead>\n",
       "  <tbody>\n",
       "    <tr>\n",
       "      <th>0</th>\n",
       "      <td>1</td>\n",
       "      <td>0</td>\n",
       "      <td>0</td>\n",
       "      <td>0</td>\n",
       "    </tr>\n",
       "    <tr>\n",
       "      <th>1</th>\n",
       "      <td>1</td>\n",
       "      <td>0</td>\n",
       "      <td>0</td>\n",
       "      <td>0</td>\n",
       "    </tr>\n",
       "    <tr>\n",
       "      <th>2</th>\n",
       "      <td>1</td>\n",
       "      <td>0</td>\n",
       "      <td>0</td>\n",
       "      <td>0</td>\n",
       "    </tr>\n",
       "    <tr>\n",
       "      <th>3</th>\n",
       "      <td>0</td>\n",
       "      <td>1</td>\n",
       "      <td>0</td>\n",
       "      <td>0</td>\n",
       "    </tr>\n",
       "    <tr>\n",
       "      <th>4</th>\n",
       "      <td>0</td>\n",
       "      <td>0</td>\n",
       "      <td>1</td>\n",
       "      <td>0</td>\n",
       "    </tr>\n",
       "    <tr>\n",
       "      <th>5</th>\n",
       "      <td>0</td>\n",
       "      <td>0</td>\n",
       "      <td>0</td>\n",
       "      <td>1</td>\n",
       "    </tr>\n",
       "  </tbody>\n",
       "</table>\n",
       "</div>"
      ],
      "text/plain": [
       "   label2_D  label2_E  label2_F  label2_G\n",
       "0         1         0         0         0\n",
       "1         1         0         0         0\n",
       "2         1         0         0         0\n",
       "3         0         1         0         0\n",
       "4         0         0         1         0\n",
       "5         0         0         0         1"
      ]
     },
     "metadata": {},
     "output_type": "display_data"
    },
    {
     "name": "stdout",
     "output_type": "stream",
     "text": [
      "Label: label3\n"
     ]
    },
    {
     "data": {
      "text/html": [
       "<div>\n",
       "<style scoped>\n",
       "    .dataframe tbody tr th:only-of-type {\n",
       "        vertical-align: middle;\n",
       "    }\n",
       "\n",
       "    .dataframe tbody tr th {\n",
       "        vertical-align: top;\n",
       "    }\n",
       "\n",
       "    .dataframe thead th {\n",
       "        text-align: right;\n",
       "    }\n",
       "</style>\n",
       "<table border=\"1\" class=\"dataframe\">\n",
       "  <thead>\n",
       "    <tr style=\"text-align: right;\">\n",
       "      <th></th>\n",
       "      <th>label3_A</th>\n",
       "      <th>label3_B</th>\n",
       "      <th>label3_C</th>\n",
       "      <th>label3_D</th>\n",
       "      <th>label3_E</th>\n",
       "      <th>label3_F</th>\n",
       "    </tr>\n",
       "  </thead>\n",
       "  <tbody>\n",
       "    <tr>\n",
       "      <th>0</th>\n",
       "      <td>1</td>\n",
       "      <td>0</td>\n",
       "      <td>0</td>\n",
       "      <td>0</td>\n",
       "      <td>0</td>\n",
       "      <td>0</td>\n",
       "    </tr>\n",
       "    <tr>\n",
       "      <th>1</th>\n",
       "      <td>0</td>\n",
       "      <td>1</td>\n",
       "      <td>0</td>\n",
       "      <td>0</td>\n",
       "      <td>0</td>\n",
       "      <td>0</td>\n",
       "    </tr>\n",
       "    <tr>\n",
       "      <th>2</th>\n",
       "      <td>0</td>\n",
       "      <td>0</td>\n",
       "      <td>1</td>\n",
       "      <td>0</td>\n",
       "      <td>0</td>\n",
       "      <td>0</td>\n",
       "    </tr>\n",
       "    <tr>\n",
       "      <th>3</th>\n",
       "      <td>0</td>\n",
       "      <td>0</td>\n",
       "      <td>0</td>\n",
       "      <td>1</td>\n",
       "      <td>0</td>\n",
       "      <td>0</td>\n",
       "    </tr>\n",
       "    <tr>\n",
       "      <th>4</th>\n",
       "      <td>0</td>\n",
       "      <td>0</td>\n",
       "      <td>0</td>\n",
       "      <td>0</td>\n",
       "      <td>1</td>\n",
       "      <td>0</td>\n",
       "    </tr>\n",
       "    <tr>\n",
       "      <th>5</th>\n",
       "      <td>0</td>\n",
       "      <td>0</td>\n",
       "      <td>0</td>\n",
       "      <td>0</td>\n",
       "      <td>0</td>\n",
       "      <td>1</td>\n",
       "    </tr>\n",
       "  </tbody>\n",
       "</table>\n",
       "</div>"
      ],
      "text/plain": [
       "   label3_A  label3_B  label3_C  label3_D  label3_E  label3_F\n",
       "0         1         0         0         0         0         0\n",
       "1         0         1         0         0         0         0\n",
       "2         0         0         1         0         0         0\n",
       "3         0         0         0         1         0         0\n",
       "4         0         0         0         0         1         0\n",
       "5         0         0         0         0         0         1"
      ]
     },
     "metadata": {},
     "output_type": "display_data"
    }
   ],
   "source": [
    "for l, c in enumerate(class_indices):\n",
    "    print('Label:', df.columns[l])\n",
    "    display(y.iloc[:,class_indices[l]])"
   ]
  },
  {
   "cell_type": "markdown",
   "metadata": {},
   "source": [
    "# Dummy sums"
   ]
  },
  {
   "cell_type": "markdown",
   "metadata": {},
   "source": [
    "## Column sums: class frequency"
   ]
  },
  {
   "cell_type": "code",
   "execution_count": 134,
   "metadata": {
    "execution": {
     "iopub.execute_input": "2022-10-18T06:19:24.801100Z",
     "iopub.status.busy": "2022-10-18T06:19:24.800962Z",
     "iopub.status.idle": "2022-10-18T06:19:24.804443Z",
     "shell.execute_reply": "2022-10-18T06:19:24.804149Z",
     "shell.execute_reply.started": "2022-10-18T06:19:24.801088Z"
    },
    "tags": []
   },
   "outputs": [
    {
     "data": {
      "text/plain": [
       "label1_A    1\n",
       "label1_B    2\n",
       "label1_C    3\n",
       "label2_D    3\n",
       "label2_E    1\n",
       "label2_F    1\n",
       "label2_G    1\n",
       "label3_A    1\n",
       "label3_B    1\n",
       "label3_C    1\n",
       "label3_D    1\n",
       "label3_E    1\n",
       "label3_F    1\n",
       "dtype: int64"
      ]
     },
     "execution_count": 134,
     "metadata": {},
     "output_type": "execute_result"
    }
   ],
   "source": [
    "y.sum()"
   ]
  },
  {
   "cell_type": "markdown",
   "metadata": {},
   "source": [
    "## Row sums: always sum up to the number of labels"
   ]
  },
  {
   "cell_type": "code",
   "execution_count": 135,
   "metadata": {
    "execution": {
     "iopub.execute_input": "2022-10-18T06:19:29.672975Z",
     "iopub.status.busy": "2022-10-18T06:19:29.672830Z",
     "iopub.status.idle": "2022-10-18T06:19:29.676146Z",
     "shell.execute_reply": "2022-10-18T06:19:29.675782Z",
     "shell.execute_reply.started": "2022-10-18T06:19:29.672960Z"
    },
    "tags": []
   },
   "outputs": [
    {
     "data": {
      "text/plain": [
       "0    3\n",
       "1    3\n",
       "2    3\n",
       "3    3\n",
       "4    3\n",
       "5    3\n",
       "dtype: int64"
      ]
     },
     "execution_count": 135,
     "metadata": {},
     "output_type": "execute_result"
    }
   ],
   "source": [
    "y.sum(axis=1)"
   ]
  },
  {
   "cell_type": "markdown",
   "metadata": {},
   "source": [
    "## Column sums by label: label frequency = number of rows"
   ]
  },
  {
   "cell_type": "code",
   "execution_count": 136,
   "metadata": {
    "execution": {
     "iopub.execute_input": "2022-10-18T06:20:37.050105Z",
     "iopub.status.busy": "2022-10-18T06:20:37.049930Z",
     "iopub.status.idle": "2022-10-18T06:20:37.054153Z",
     "shell.execute_reply": "2022-10-18T06:20:37.053897Z",
     "shell.execute_reply.started": "2022-10-18T06:20:37.050093Z"
    },
    "tags": []
   },
   "outputs": [
    {
     "data": {
      "text/plain": [
       "{'label1': 6, 'label2': 6, 'label3': 6}"
      ]
     },
     "execution_count": 136,
     "metadata": {},
     "output_type": "execute_result"
    }
   ],
   "source": [
    "{df.columns[l]: y.iloc[:,c].sum().sum() for l, c in enumerate(class_indices)}"
   ]
  },
  {
   "cell_type": "markdown",
   "metadata": {},
   "source": [
    "# Dummy averages"
   ]
  },
  {
   "cell_type": "markdown",
   "metadata": {},
   "source": [
    "## Column averages: class probabilities "
   ]
  },
  {
   "cell_type": "code",
   "execution_count": 228,
   "metadata": {
    "execution": {
     "iopub.execute_input": "2022-10-18T07:14:43.789644Z",
     "iopub.status.busy": "2022-10-18T07:14:43.789325Z",
     "iopub.status.idle": "2022-10-18T07:14:43.792957Z",
     "shell.execute_reply": "2022-10-18T07:14:43.792614Z",
     "shell.execute_reply.started": "2022-10-18T07:14:43.789630Z"
    },
    "tags": []
   },
   "outputs": [
    {
     "data": {
      "text/plain": [
       "label1_A    0.166667\n",
       "label1_B    0.333333\n",
       "label1_C    0.500000\n",
       "label2_D    0.500000\n",
       "label2_E    0.166667\n",
       "label2_F    0.166667\n",
       "label2_G    0.166667\n",
       "label3_A    0.166667\n",
       "label3_B    0.166667\n",
       "label3_C    0.166667\n",
       "label3_D    0.166667\n",
       "label3_E    0.166667\n",
       "label3_F    0.166667\n",
       "dtype: float64"
      ]
     },
     "execution_count": 228,
     "metadata": {},
     "output_type": "execute_result"
    }
   ],
   "source": [
    "y.mean()"
   ]
  },
  {
   "cell_type": "markdown",
   "metadata": {},
   "source": [
    "## Products of class probabilities"
   ]
  },
  {
   "cell_type": "code",
   "execution_count": 264,
   "metadata": {
    "execution": {
     "iopub.execute_input": "2022-10-18T07:31:25.517210Z",
     "iopub.status.busy": "2022-10-18T07:31:25.517075Z",
     "iopub.status.idle": "2022-10-18T07:31:25.520321Z",
     "shell.execute_reply": "2022-10-18T07:31:25.519973Z",
     "shell.execute_reply.started": "2022-10-18T07:31:25.517198Z"
    },
    "tags": []
   },
   "outputs": [
    {
     "name": "stdout",
     "output_type": "stream",
     "text": [
      "0.00000000137818097399\n"
     ]
    }
   ],
   "source": [
    "# Product of all column averages\n",
    "print(f'{y.mean().prod():,.20f}')"
   ]
  },
  {
   "cell_type": "markdown",
   "metadata": {
    "execution": {
     "iopub.execute_input": "2022-10-18T07:36:26.530424Z",
     "iopub.status.busy": "2022-10-18T07:36:26.530282Z",
     "iopub.status.idle": "2022-10-18T07:36:26.537350Z",
     "shell.execute_reply": "2022-10-18T07:36:26.536978Z",
     "shell.execute_reply.started": "2022-10-18T07:36:26.530412Z"
    }
   },
   "source": [
    "Factors"
   ]
  },
  {
   "cell_type": "code",
   "execution_count": 271,
   "metadata": {
    "execution": {
     "iopub.execute_input": "2022-10-18T07:33:52.454786Z",
     "iopub.status.busy": "2022-10-18T07:33:52.454573Z",
     "iopub.status.idle": "2022-10-18T07:33:52.460292Z",
     "shell.execute_reply": "2022-10-18T07:33:52.459955Z",
     "shell.execute_reply.started": "2022-10-18T07:33:52.454767Z"
    },
    "tags": []
   },
   "outputs": [
    {
     "data": {
      "text/plain": [
       "[0.027777777777777776, 0.0023148148148148147, 2.1433470507544577e-05]"
      ]
     },
     "execution_count": 271,
     "metadata": {},
     "output_type": "execute_result"
    }
   ],
   "source": [
    "# Products of column averages within labels\n",
    "[y.iloc[:,l].mean().prod() for l in class_indices]"
   ]
  },
  {
   "cell_type": "markdown",
   "metadata": {},
   "source": [
    "## Column averages by label: label probabilities"
   ]
  },
  {
   "cell_type": "code",
   "execution_count": 280,
   "metadata": {
    "execution": {
     "iopub.execute_input": "2022-10-18T07:38:41.741846Z",
     "iopub.status.busy": "2022-10-18T07:38:41.741675Z",
     "iopub.status.idle": "2022-10-18T07:38:41.745172Z",
     "shell.execute_reply": "2022-10-18T07:38:41.744911Z",
     "shell.execute_reply.started": "2022-10-18T07:38:41.741834Z"
    },
    "tags": []
   },
   "outputs": [
    {
     "data": {
      "text/plain": [
       "[0.3333333333333333, 0.25, 0.16666666666666666]"
      ]
     },
     "execution_count": 280,
     "metadata": {},
     "output_type": "execute_result"
    }
   ],
   "source": [
    "[y.iloc[:,l].values.mean() for l in class_indices]"
   ]
  },
  {
   "cell_type": "markdown",
   "metadata": {},
   "source": [
    "Is the same as the probability distribution of number of unique classes"
   ]
  },
  {
   "cell_type": "code",
   "execution_count": 281,
   "metadata": {
    "execution": {
     "iopub.execute_input": "2022-10-18T07:38:42.755271Z",
     "iopub.status.busy": "2022-10-18T07:38:42.755134Z",
     "iopub.status.idle": "2022-10-18T07:38:42.758155Z",
     "shell.execute_reply": "2022-10-18T07:38:42.757760Z",
     "shell.execute_reply.started": "2022-10-18T07:38:42.755260Z"
    },
    "tags": []
   },
   "outputs": [
    {
     "data": {
      "text/plain": [
       "array([0.33333333, 0.25      , 0.16666667])"
      ]
     },
     "execution_count": 281,
     "metadata": {},
     "output_type": "execute_result"
    }
   ],
   "source": [
    "1 / nunique_classes.values"
   ]
  },
  {
   "cell_type": "markdown",
   "metadata": {
    "tags": []
   },
   "source": [
    "## Product of column averages by label: product of label probabilities"
   ]
  },
  {
   "cell_type": "code",
   "execution_count": 282,
   "metadata": {
    "execution": {
     "iopub.execute_input": "2022-10-18T07:39:34.566306Z",
     "iopub.status.busy": "2022-10-18T07:39:34.566155Z",
     "iopub.status.idle": "2022-10-18T07:39:34.570376Z",
     "shell.execute_reply": "2022-10-18T07:39:34.569953Z",
     "shell.execute_reply.started": "2022-10-18T07:39:34.566294Z"
    },
    "tags": []
   },
   "outputs": [
    {
     "data": {
      "text/plain": [
       "0.013888888888888888"
      ]
     },
     "execution_count": 282,
     "metadata": {},
     "output_type": "execute_result"
    }
   ],
   "source": [
    "np.product([y.iloc[:,l].values.mean() for l in class_indices])"
   ]
  },
  {
   "cell_type": "markdown",
   "metadata": {
    "tags": []
   },
   "source": [
    "## Row averages: allways averages to labels / classes ratio"
   ]
  },
  {
   "cell_type": "code",
   "execution_count": null,
   "metadata": {
    "execution": {
     "iopub.execute_input": "2022-10-18T06:23:05.662072Z",
     "iopub.status.busy": "2022-10-18T06:23:05.661895Z",
     "iopub.status.idle": "2022-10-18T06:23:05.665624Z",
     "shell.execute_reply": "2022-10-18T06:23:05.665214Z",
     "shell.execute_reply.started": "2022-10-18T06:23:05.662059Z"
    },
    "scrolled": true,
    "tags": []
   },
   "outputs": [
    {
     "data": {
      "text/plain": [
       "0    0.230769\n",
       "1    0.230769\n",
       "2    0.230769\n",
       "3    0.230769\n",
       "4    0.230769\n",
       "5    0.230769\n",
       "dtype: float64"
      ]
     },
     "execution_count": 144,
     "metadata": {},
     "output_type": "execute_result"
    }
   ],
   "source": [
    "y.mean(axis=1)"
   ]
  },
  {
   "cell_type": "code",
   "execution_count": null,
   "metadata": {
    "execution": {
     "iopub.execute_input": "2022-10-18T06:23:01.784593Z",
     "iopub.status.busy": "2022-10-18T06:23:01.784455Z",
     "iopub.status.idle": "2022-10-18T06:23:01.787115Z",
     "shell.execute_reply": "2022-10-18T06:23:01.786855Z",
     "shell.execute_reply.started": "2022-10-18T06:23:01.784581Z"
    },
    "tags": []
   },
   "outputs": [
    {
     "data": {
      "text/plain": [
       "0.23076923076923078"
      ]
     },
     "execution_count": 143,
     "metadata": {},
     "output_type": "execute_result"
    }
   ],
   "source": [
    "len(df.columns) / len(y.columns)"
   ]
  },
  {
   "cell_type": "markdown",
   "metadata": {},
   "source": [
    "## Products of row averages"
   ]
  },
  {
   "cell_type": "code",
   "execution_count": 289,
   "metadata": {
    "execution": {
     "iopub.execute_input": "2022-10-18T07:44:28.033855Z",
     "iopub.status.busy": "2022-10-18T07:44:28.033714Z",
     "iopub.status.idle": "2022-10-18T07:44:28.037057Z",
     "shell.execute_reply": "2022-10-18T07:44:28.036612Z",
     "shell.execute_reply.started": "2022-10-18T07:44:28.033844Z"
    }
   },
   "outputs": [
    {
     "data": {
      "text/plain": [
       "0.00015103145784305954"
      ]
     },
     "execution_count": 289,
     "metadata": {},
     "output_type": "execute_result"
    }
   ],
   "source": [
    "y.mean(axis=1).product()"
   ]
  },
  {
   "cell_type": "code",
   "execution_count": 290,
   "metadata": {
    "execution": {
     "iopub.execute_input": "2022-10-18T07:45:01.021129Z",
     "iopub.status.busy": "2022-10-18T07:45:01.020991Z",
     "iopub.status.idle": "2022-10-18T07:45:01.025521Z",
     "shell.execute_reply": "2022-10-18T07:45:01.025124Z",
     "shell.execute_reply.started": "2022-10-18T07:45:01.021118Z"
    },
    "tags": []
   },
   "outputs": [
    {
     "data": {
      "text/plain": [
       "[0.001371742112482853, 0.000244140625, 2.1433470507544577e-05]"
      ]
     },
     "execution_count": 290,
     "metadata": {},
     "output_type": "execute_result"
    }
   ],
   "source": [
    "[y.iloc[:,l].mean(axis=1).prod() for l in class_indices]"
   ]
  },
  {
   "cell_type": "markdown",
   "metadata": {},
   "source": [
    "# Random classes and train-test split simulation"
   ]
  },
  {
   "cell_type": "code",
   "execution_count": 292,
   "metadata": {
    "execution": {
     "iopub.execute_input": "2022-10-18T07:45:52.805319Z",
     "iopub.status.busy": "2022-10-18T07:45:52.805181Z",
     "iopub.status.idle": "2022-10-18T07:46:01.599267Z",
     "shell.execute_reply": "2022-10-18T07:46:01.598935Z",
     "shell.execute_reply.started": "2022-10-18T07:45:52.805307Z"
    },
    "tags": []
   },
   "outputs": [
    {
     "data": {
      "image/png": "[encoded data removed]",
      "text/plain": [
       "<Figure size 640x480 with 2 Axes>"
      ]
     },
     "metadata": {},
     "output_type": "display_data"
    }
   ],
   "source": [
    "n = 100\n",
    "fig = plt.figure()\n",
    "ax1 = fig.add_subplot(121)\n",
    "ax2 = fig.add_subplot(122)\n",
    "#plt.ion()\n",
    "for i in range(100):\n",
    "    rng = np.random.RandomState()\n",
    "    df = pd.DataFrame({'label1':rng.choice(['A','B','C'], n),\n",
    "                       'label2':rng.choice(['D', 'E', 'F'], n)}, dtype='category')\n",
    "    y=pd.get_dummies(df)\n",
    "    indices = rng.choice(y.index, size=np.floor(y.shape[0]/2).astype('int'))\n",
    "    test_mask = y.index.isin(indices)\n",
    "    test = y[test_mask]\n",
    "    train = y[~test_mask]\n",
    "    mle = pd.concat({'population_prob':y.mean(), 'train_prob':train.mean(), 'test_prob':test.mean()}, axis=1)\n",
    "    ratios=pd.DataFrame()\n",
    "    ratios['train_ratio'] = mle.train_prob / mle.population_prob\n",
    "    ratios['test_ratio'] = mle.test_prob / mle.population_prob\n",
    "    ax1.clear()\n",
    "    ax2.clear()\n",
    "    mle.plot(kind='barh', stacked=True, ax=ax1)\n",
    "    ratios.plot(kind='barh', stacked=True, ax=ax2)\n",
    "    ax1.legend(loc='center right')\n",
    "    ax2.legend(loc='center left')\n",
    "    plt.tight_layout()\n",
    "    fig.canvas.draw()\n",
    "#plt.ioff()"
   ]
  }
 ],
 "metadata": {
  "hide_input": false,
  "kernelspec": {
   "display_name": "Python 3 (ipykernel)",
   "language": "python",
   "name": "python3"
  },
  "language_info": {
   "codemirror_mode": {
    "name": "ipython",
    "version": 3
   },
   "file_extension": ".py",
   "mimetype": "text/x-python",
   "name": "python",
   "nbconvert_exporter": "python",
   "pygments_lexer": "ipython3",
   "version": "3.9.13"
  },
  "toc": {
   "base_numbering": 1,
   "nav_menu": {},
   "number_sections": true,
   "sideBar": true,
   "skip_h1_title": false,
   "title_cell": "Table of Contents",
   "title_sidebar": "Contents",
   "toc_cell": false,
   "toc_position": {
    "height": "calc(100% - 180px)",
    "left": "10px",
    "top": "150px",
    "width": "220px"
   },
   "toc_section_display": true,
   "toc_window_display": true
  },
  "varInspector": {
   "cols": {
    "lenName": 16,
    "lenType": 16,
    "lenVar": 40
   },
   "kernels_config": {
    "python": {
     "delete_cmd_postfix": "",
     "delete_cmd_prefix": "del ",
     "library": "var_list.py",
     "varRefreshCmd": "print(var_dic_list())"
    },
    "r": {
     "delete_cmd_postfix": ") ",
     "delete_cmd_prefix": "rm(",
     "library": "var_list.r",
     "varRefreshCmd": "cat(var_dic_list()) "
    }
   },
   "types_to_exclude": [
    "module",
    "function",
    "builtin_function_or_method",
    "instance",
    "_Feature"
   ],
   "window_display": false
  }
 },
 "nbformat": 4,
 "nbformat_minor": 4
}
