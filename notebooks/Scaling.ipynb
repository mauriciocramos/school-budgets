{
 "cells": [
  {
   "cell_type": "code",
   "execution_count": 104,
   "metadata": {},
   "outputs": [],
   "source": [
    "from sklearn.preprocessing import StandardScaler, MinMaxScaler, MaxAbsScaler, RobustScaler\n",
    "from sklearn.preprocessing import Normalizer, QuantileTransformer, PowerTransformer\n",
    "import numpy as np\n",
    "from scipy.sparse import csr_matrix\n",
    "import matplotlib.pyplot as plt\n",
    "%matplotlib inline"
   ]
  },
  {
   "cell_type": "code",
   "execution_count": 92,
   "metadata": {},
   "outputs": [],
   "source": [
    "scalers = [('StandardScaler(with_mean=True)' , StandardScaler(with_mean=True)),\n",
    "           ('StandardScaler(with_mean=False)' , StandardScaler(with_mean=False)),\n",
    "           ('MinMaxScaler(feature_range=(0, 1))', MinMaxScaler(feature_range=(0, 1))),\n",
    "           ('MaxAbsScaler', MaxAbsScaler()),\n",
    "           ('RobustScaler(with_centering=True quantile_range=(25.0, 75.0)', RobustScaler()),\n",
    "           ('RobustScaler(with_centering=False quantile_range=(25.0, 75.0)', RobustScaler(with_centering=False)),\n",
    "           ('Normalizer(norm=\\'l2\\')', Normalizer(norm='l2')),\n",
    "           ('Normalizer(norm=\\'l1\\')', Normalizer(norm='l1')),\n",
    "           ('QuantileTransformer(output_distribution=\\'uniform\\')', QuantileTransformer(output_distribution='uniform', n_quantiles=3)),\n",
    "           ('QuantileTransformer(output_distribution=\\'normal\\')', QuantileTransformer(output_distribution='normal', n_quantiles=3)),\n",
    "           ('PowerTransformer(method=\\'yeo-johnson\\', standardize=True)', PowerTransformer(method='yeo-johnson', standardize=True)),\n",
    "           ('PowerTransformer(method=\\'yeo-johnson\\', standardize=False)', PowerTransformer(method='yeo-johnson', standardize=False)),\n",
    "           ('PowerTransformer(method=\\'box-cox\\', standardize=True)', PowerTransformer(method='box-cox', standardize=True)),\n",
    "           ('PowerTransformer(method=\\'box-cox\\', standardize=False)', PowerTransformer(method='box-cox', standardize=False)),\n",
    "          ]"
   ]
  },
  {
   "cell_type": "code",
   "execution_count": 153,
   "metadata": {},
   "outputs": [],
   "source": [
    "data = [[-1e6, -1e6], [-1, -1], [0, 0], [1, 1], [2, 2], [2e6, 2e6]]"
   ]
  },
  {
   "cell_type": "code",
   "execution_count": 154,
   "metadata": {},
   "outputs": [
    {
     "name": "stdout",
     "output_type": "stream",
     "text": [
      "[[-1000000.0, -1000000.0], [-1.0, -1.0], [0.0, 0.0], [1.0, 1.0], [2.0, 2.0], [2000000.0, 2000000.0]]\n"
     ]
    }
   ],
   "source": [
    "# Dense matrix\n",
    "dense_data = np.array(data)\n",
    "print(dense_data.tolist())"
   ]
  },
  {
   "cell_type": "code",
   "execution_count": 155,
   "metadata": {},
   "outputs": [
    {
     "name": "stdout",
     "output_type": "stream",
     "text": [
      "<6x2 sparse matrix of type '<class 'numpy.float64'>'\n",
      "\twith 10 stored elements in Compressed Sparse Row format>\n",
      "  (0, 0)\t-1000000.0\n",
      "  (0, 1)\t-1000000.0\n",
      "  (1, 0)\t-1.0\n",
      "  (1, 1)\t-1.0\n",
      "  (3, 0)\t1.0\n",
      "  (3, 1)\t1.0\n",
      "  (4, 0)\t2.0\n",
      "  (4, 1)\t2.0\n",
      "  (5, 0)\t2000000.0\n",
      "  (5, 1)\t2000000.0\n"
     ]
    }
   ],
   "source": [
    "#Sparse matrix\n",
    "sparse_data = csr_matrix(data)\n",
    "print(repr(sparse_data))\n",
    "print(sparse_data)"
   ]
  },
  {
   "cell_type": "code",
   "execution_count": 156,
   "metadata": {
    "scrolled": false
   },
   "outputs": [
    {
     "name": "stdout",
     "output_type": "stream",
     "text": [
      "\n",
      "StandardScaler(with_mean=True)\n",
      "\n",
      "Dense : [-1.29986783 -1.29986783] [-0.18569684 -0.18569684] [-0.18569572 -0.18569572] [-0.18569461 -0.18569461] [-0.18569349 -0.18569349] [2.04264849 2.04264849]\n",
      "Sparse: Cannot center sparse matrices: pass `with_mean=False` instead. See docstring for motivation and alternatives.\n",
      "\n",
      "StandardScaler(with_mean=False)\n",
      "\n",
      "Dense : [-1.11417211 -1.11417211] [-1.11417211e-06 -1.11417211e-06] [0. 0.] [1.11417211e-06 1.11417211e-06] [2.22834421e-06 2.22834421e-06] [2.22834421 2.22834421]\n",
      "Sparse: [-1.11417211 -1.11417211] [-1.11417211e-06 -1.11417211e-06] [0. 0.] [1.11417211e-06 1.11417211e-06] [2.22834421e-06 2.22834421e-06] [2.22834421 2.22834421]\n",
      "\n",
      "MinMaxScaler(feature_range=(0, 1))\n",
      "\n",
      "Dense : [0. 0.] [0.333333 0.333333] [0.33333333 0.33333333] [0.33333367 0.33333367] [0.333334 0.333334] [1. 1.]\n",
      "Sparse: MinMaxScaler does not support sparse input. Consider using MaxAbsScaler instead.\n",
      "\n",
      "MaxAbsScaler\n",
      "\n",
      "Dense : [-0.5 -0.5] [-5.e-07 -5.e-07] [0. 0.] [5.e-07 5.e-07] [1.e-06 1.e-06] [1. 1.]\n",
      "Sparse: [-0.5 -0.5] [-5.e-07 -5.e-07] [0. 0.] [5.e-07 5.e-07] [1.e-06 1.e-06] [1. 1.]\n",
      "\n",
      "RobustScaler(with_centering=True quantile_range=(25.0, 75.0)\n",
      "\n",
      "Dense : [-400000.2 -400000.2] [-0.6 -0.6] [-0.2 -0.2] [0.2 0.2] [0.6 0.6] [799999.8 799999.8]\n",
      "Sparse: Cannot center sparse matrices: use `with_centering=False` instead. See docstring for motivation and alternatives.\n",
      "\n",
      "RobustScaler(with_centering=False quantile_range=(25.0, 75.0)\n",
      "\n",
      "Dense : [-400000. -400000.] [-0.4 -0.4] [0. 0.] [0.4 0.4] [0.8 0.8] [800000. 800000.]\n",
      "Sparse: [-400000. -400000.] [-0.4 -0.4] [0. 0.] [0.4 0.4] [0.8 0.8] [800000. 800000.]\n",
      "\n",
      "Normalizer(norm='l2')\n",
      "\n",
      "Dense : [-0.70710678 -0.70710678] [-0.70710678 -0.70710678] [0. 0.] [0.70710678 0.70710678] [0.70710678 0.70710678] [0.70710678 0.70710678]\n",
      "Sparse: [-0.70710678 -0.70710678] [-0.70710678 -0.70710678] [0. 0.] [0.70710678 0.70710678] [0.70710678 0.70710678] [0.70710678 0.70710678]\n",
      "\n",
      "Normalizer(norm='l1')\n",
      "\n",
      "Dense : [-0.5 -0.5] [-0.5 -0.5] [0. 0.] [0.5 0.5] [0.5 0.5] [0.5 0.5]\n",
      "Sparse: [-0.5 -0.5] [-0.5 -0.5] [0. 0.] [0.5 0.5] [0.5 0.5] [0.5 0.5]\n",
      "\n",
      "QuantileTransformer(output_distribution='uniform')\n",
      "\n",
      "Dense : [0. 0.] [0.49999925 0.49999925] [0.49999975 0.49999975] [0.50000013 0.50000013] [0.50000038 0.50000038] [1. 1.]\n",
      "Sparse: QuantileTransformer only accepts non-negative sparse matrices.\n",
      "\n",
      "QuantileTransformer(output_distribution='normal')\n",
      "\n",
      "Dense : [-5.19933758 -5.19933758] [-1.87997027e-06 -1.87997027e-06] [-6.26656755e-07 -6.26656755e-07] [3.13328613e-07 3.13328613e-07] [9.39985838e-07 9.39985838e-07] [5.19933758 5.19933758]\n",
      "Sparse: QuantileTransformer only accepts non-negative sparse matrices.\n",
      "\n",
      "PowerTransformer(method='yeo-johnson', standardize=True)\n",
      "\n",
      "Dense : [-1.73318346 -1.73318346] [0.00056475 0.00056475] [0.000566 0.000566] [0.00056723 0.00056723] [0.00056843 0.00056843] [1.73091704 1.73091704]\n",
      "Sparse: A sparse matrix was passed, but dense data is required. Use X.toarray() to convert to a dense numpy array.\n",
      "\n",
      "PowerTransformer(method='yeo-johnson', standardize=False)\n",
      "\n",
      "Dense : [-1403194.96049228 -1403194.96049228] [-1.01026653 -1.01026653] [0. 0.] [0.98986478 0.98986478] [1.96613799 1.96613799] [1400444.47641486 1400444.47641486]\n",
      "Sparse: A sparse matrix was passed, but dense data is required. Use X.toarray() to convert to a dense numpy array.\n",
      "\n",
      "PowerTransformer(method='box-cox', standardize=True)\n",
      "\n",
      "Dense : The Box-Cox transformation can only be applied to strictly positive data\n",
      "Sparse: A sparse matrix was passed, but dense data is required. Use X.toarray() to convert to a dense numpy array.\n",
      "\n",
      "PowerTransformer(method='box-cox', standardize=False)\n",
      "\n",
      "Dense : The Box-Cox transformation can only be applied to strictly positive data\n",
      "Sparse: A sparse matrix was passed, but dense data is required. Use X.toarray() to convert to a dense numpy array.\n"
     ]
    }
   ],
   "source": [
    "for label, scaler in scalers:\n",
    "    print('\\n'+label)\n",
    "    print('\\nDense : ', end='')\n",
    "    try:\n",
    "        res=scaler.fit_transform(dense_data)\n",
    "        print(*res, end = '')\n",
    "    except Exception as e:\n",
    "        print(e, end='')\n",
    "        \n",
    "    print('\\nSparse: ', end='')\n",
    "    try:\n",
    "        res=scaler.fit_transform(sparse_data)\n",
    "        print(*res.toarray())\n",
    "    except Exception as e:\n",
    "        print(e)\n"
   ]
  },
  {
   "cell_type": "code",
   "execution_count": null,
   "metadata": {},
   "outputs": [],
   "source": []
  }
 ],
 "metadata": {
  "hide_input": false,
  "kernelspec": {
   "display_name": "Python 3",
   "language": "python",
   "name": "python3"
  },
  "language_info": {
   "codemirror_mode": {
    "name": "ipython",
    "version": 3
   },
   "file_extension": ".py",
   "mimetype": "text/x-python",
   "name": "python",
   "nbconvert_exporter": "python",
   "pygments_lexer": "ipython3",
   "version": "3.8.5"
  },
  "toc": {
   "base_numbering": 1,
   "nav_menu": {},
   "number_sections": true,
   "sideBar": true,
   "skip_h1_title": false,
   "title_cell": "Table of Contents",
   "title_sidebar": "Contents",
   "toc_cell": false,
   "toc_position": {},
   "toc_section_display": true,
   "toc_window_display": false
  },
  "varInspector": {
   "cols": {
    "lenName": 16,
    "lenType": 16,
    "lenVar": 40
   },
   "kernels_config": {
    "python": {
     "delete_cmd_postfix": "",
     "delete_cmd_prefix": "del ",
     "library": "var_list.py",
     "varRefreshCmd": "print(var_dic_list())"
    },
    "r": {
     "delete_cmd_postfix": ") ",
     "delete_cmd_prefix": "rm(",
     "library": "var_list.r",
     "varRefreshCmd": "cat(var_dic_list()) "
    }
   },
   "types_to_exclude": [
    "module",
    "function",
    "builtin_function_or_method",
    "instance",
    "_Feature"
   ],
   "window_display": false
  }
 },
 "nbformat": 4,
 "nbformat_minor": 2
}
