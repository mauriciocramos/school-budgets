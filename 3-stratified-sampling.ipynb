{
 "cells": [
  {
   "cell_type": "markdown",
   "metadata": {},
   "source": [
    "# Custom modules"
   ]
  },
  {
   "cell_type": "code",
   "execution_count": 1,
   "metadata": {
    "execution": {
     "iopub.execute_input": "2022-11-17T18:30:33.011790Z",
     "iopub.status.busy": "2022-11-17T18:30:33.010480Z",
     "iopub.status.idle": "2022-11-17T18:30:35.529497Z",
     "shell.execute_reply": "2022-11-17T18:30:35.526587Z",
     "shell.execute_reply.started": "2022-11-17T18:30:33.011633Z"
    },
    "tags": []
   },
   "outputs": [],
   "source": [
    "import os\n",
    "import sys\n",
    "sys.path.insert(1, '/home/mauricio/code/mcr/')\n",
    "\n",
    "from mcr.ml.model_selection.multilabel import multilabel_sample_dataframe, multilabel_train_test_split, sample_report, split_report, sample_split_report\n",
    "from mcr.ml import get_dummies_indices, reverse_dummies\n",
    "from mcr.util import size, glimpse"
   ]
  },
  {
   "cell_type": "markdown",
   "metadata": {},
   "source": [
    "# Standard data science modules"
   ]
  },
  {
   "cell_type": "code",
   "execution_count": 2,
   "metadata": {
    "execution": {
     "iopub.execute_input": "2022-11-17T18:30:35.533163Z",
     "iopub.status.busy": "2022-11-17T18:30:35.532328Z",
     "iopub.status.idle": "2022-11-17T18:30:35.561047Z",
     "shell.execute_reply": "2022-11-17T18:30:35.559868Z",
     "shell.execute_reply.started": "2022-11-17T18:30:35.533110Z"
    },
    "tags": []
   },
   "outputs": [],
   "source": [
    "import numpy as np\n",
    "import pandas as pd\n",
    "import matplotlib.pyplot as plt\n",
    "import seaborn as sns\n",
    "%matplotlib inline\n",
    "plt.style.use('dark_background')"
   ]
  },
  {
   "cell_type": "markdown",
   "metadata": {},
   "source": [
    "# Loading data"
   ]
  },
  {
   "cell_type": "markdown",
   "metadata": {},
   "source": [
    "Sign up for an account on [DrivenData](http://www.drivendata.org/)  \n",
    "Join the [Box-plots for education competition](https://www.drivendata.org/competitions/46/box-plots-for-education-reboot/)  \n",
    "Download the competition datasets named `TrainingData.csv` and `TestData.csv`"
   ]
  },
  {
   "cell_type": "code",
   "execution_count": 3,
   "metadata": {
    "execution": {
     "iopub.execute_input": "2022-11-17T18:30:35.562977Z",
     "iopub.status.busy": "2022-11-17T18:30:35.562503Z",
     "iopub.status.idle": "2022-11-17T18:30:41.075272Z",
     "shell.execute_reply": "2022-11-17T18:30:41.073623Z",
     "shell.execute_reply.started": "2022-11-17T18:30:35.562934Z"
    },
    "tags": []
   },
   "outputs": [
    {
     "name": "stdout",
     "output_type": "stream",
     "text": [
      "<class 'pandas.core.frame.DataFrame'>\n",
      "Int64Index: 400277 entries, 134338 to 415831\n",
      "Data columns (total 25 columns):\n",
      " #   Column                  Non-Null Count   Dtype  \n",
      "---  ------                  --------------   -----  \n",
      " 0   Function                400277 non-null  object \n",
      " 1   Use                     400277 non-null  object \n",
      " 2   Sharing                 400277 non-null  object \n",
      " 3   Reporting               400277 non-null  object \n",
      " 4   Student_Type            400277 non-null  object \n",
      " 5   Position_Type           400277 non-null  object \n",
      " 6   Object_Type             400277 non-null  object \n",
      " 7   Pre_K                   400277 non-null  object \n",
      " 8   Operating_Status        400277 non-null  object \n",
      " 9   Object_Description      375493 non-null  object \n",
      " 10  Text_2                  88217 non-null   object \n",
      " 11  SubFund_Description     306855 non-null  object \n",
      " 12  Job_Title_Description   292743 non-null  object \n",
      " 13  Text_3                  109152 non-null  object \n",
      " 14  Text_4                  53746 non-null   object \n",
      " 15  Sub_Object_Description  91603 non-null   object \n",
      " 16  Location_Description    162054 non-null  object \n",
      " 17  FTE                     126071 non-null  float64\n",
      " 18  Function_Description    342195 non-null  object \n",
      " 19  Facility_or_Department  53886 non-null   object \n",
      " 20  Position_Extra          264764 non-null  object \n",
      " 21  Total                   395722 non-null  float64\n",
      " 22  Program_Description     304660 non-null  object \n",
      " 23  Fund_Description        202877 non-null  object \n",
      " 24  Text_1                  292285 non-null  object \n",
      "dtypes: float64(2), object(23)\n",
      "memory usage: 548.5 MB\n"
     ]
    }
   ],
   "source": [
    "df = pd.read_csv('/data/drivendata/TrainingData.csv', index_col=0)\n",
    "df.info(memory_usage='deep')"
   ]
  },
  {
   "cell_type": "markdown",
   "metadata": {},
   "source": [
    "# Shuffling data"
   ]
  },
  {
   "cell_type": "markdown",
   "metadata": {},
   "source": [
    "In machine learning theory, i.i.d. assumption is often made for training datasets to imply that all samples stem from the same generative process and that the generative process is assumed to have no memory of past generated samples.\n",
    "\n",
    "To ensure observations are independent and don't follow any predefined sequence, the dataset is shuffled.\n",
    "\n",
    "That's important when using the class `sklearn.model_selection.GridSearchCV` with k-fold cross-validation which doesn't resample the dataset as per the underlying class `sklearn.model_selection.StratifiedKFold(n_splits=5, shuffle=False, random_state=None)` doesn't shuffle data by default and that could lead to biased folds."
   ]
  },
  {
   "cell_type": "code",
   "execution_count": 4,
   "metadata": {
    "execution": {
     "iopub.execute_input": "2022-11-17T18:30:41.077891Z",
     "iopub.status.busy": "2022-11-17T18:30:41.077352Z",
     "iopub.status.idle": "2022-11-17T18:30:41.779972Z",
     "shell.execute_reply": "2022-11-17T18:30:41.779029Z",
     "shell.execute_reply.started": "2022-11-17T18:30:41.077850Z"
    },
    "tags": []
   },
   "outputs": [],
   "source": [
    "df = df.sample(frac=1, replace=False, random_state=1)"
   ]
  },
  {
   "cell_type": "markdown",
   "metadata": {},
   "source": [
    "# Encoding labels as category types"
   ]
  },
  {
   "cell_type": "code",
   "execution_count": 5,
   "metadata": {
    "execution": {
     "iopub.execute_input": "2022-11-17T18:30:41.784690Z",
     "iopub.status.busy": "2022-11-17T18:30:41.783791Z",
     "iopub.status.idle": "2022-11-17T18:30:45.004983Z",
     "shell.execute_reply": "2022-11-17T18:30:45.003713Z",
     "shell.execute_reply.started": "2022-11-17T18:30:41.784629Z"
    },
    "tags": []
   },
   "outputs": [
    {
     "name": "stdout",
     "output_type": "stream",
     "text": [
      "Memory before enconding: 79.4 MiB (548.5 MiB deep)\n",
      "Memory after enconding : 55.4 MiB (313.0 MiB deep)\n"
     ]
    }
   ],
   "source": [
    "LABELS = ['Function', 'Object_Type', 'Operating_Status', 'Position_Type', 'Pre_K', 'Reporting', 'Sharing', 'Student_Type', 'Use']\n",
    "FEATURES = [feature for feature in df.columns if feature not in LABELS]\n",
    "print('Memory before enconding: {} ({} deep)'.format(size(df.memory_usage().sum()), size(df.memory_usage(deep=True).sum())))\n",
    "df[LABELS] = df[LABELS].apply(lambda x: x.astype('category'), axis=0)\n",
    "print('Memory after enconding : {} ({} deep)'.format(size(df.memory_usage().sum()), size(df.memory_usage(deep=True).sum())))"
   ]
  },
  {
   "cell_type": "markdown",
   "metadata": {},
   "source": [
    "# Converting labels in dummy variables"
   ]
  },
  {
   "cell_type": "code",
   "execution_count": 6,
   "metadata": {
    "execution": {
     "iopub.execute_input": "2022-11-17T18:30:45.008562Z",
     "iopub.status.busy": "2022-11-17T18:30:45.007047Z",
     "iopub.status.idle": "2022-11-17T18:30:45.322890Z",
     "shell.execute_reply": "2022-11-17T18:30:45.320994Z",
     "shell.execute_reply.started": "2022-11-17T18:30:45.008501Z"
    },
    "tags": []
   },
   "outputs": [
    {
     "name": "stdout",
     "output_type": "stream",
     "text": [
      "<class 'pandas.core.frame.DataFrame'>\n",
      "Int64Index: 400277 entries, 129752 to 189020\n",
      "Columns: 104 entries, Function__Aides Compensation to Use__Untracked Budget Set-Aside\n",
      "dtypes: uint8(104)\n",
      "memory usage: 42.8 MB\n"
     ]
    },
    {
     "data": {
      "text/html": [
       "<div>\n",
       "<style scoped>\n",
       "    .dataframe tbody tr th:only-of-type {\n",
       "        vertical-align: middle;\n",
       "    }\n",
       "\n",
       "    .dataframe tbody tr th {\n",
       "        vertical-align: top;\n",
       "    }\n",
       "\n",
       "    .dataframe thead th {\n",
       "        text-align: right;\n",
       "    }\n",
       "</style>\n",
       "<table border=\"1\" class=\"dataframe\">\n",
       "  <thead>\n",
       "    <tr style=\"text-align: right;\">\n",
       "      <th></th>\n",
       "      <th>Function__Aides Compensation</th>\n",
       "      <th>Function__Career &amp; Academic Counseling</th>\n",
       "      <th>Function__Communications</th>\n",
       "      <th>Function__Curriculum Development</th>\n",
       "      <th>Function__Data Processing &amp; Information Services</th>\n",
       "      <th>Function__Development &amp; Fundraising</th>\n",
       "      <th>Function__Enrichment</th>\n",
       "      <th>Function__Extended Time &amp; Tutoring</th>\n",
       "      <th>Function__Facilities &amp; Maintenance</th>\n",
       "      <th>Function__Facilities Planning</th>\n",
       "      <th>...</th>\n",
       "      <th>Student_Type__Special Education</th>\n",
       "      <th>Student_Type__Unspecified</th>\n",
       "      <th>Use__Business Services</th>\n",
       "      <th>Use__ISPD</th>\n",
       "      <th>Use__Instruction</th>\n",
       "      <th>Use__Leadership</th>\n",
       "      <th>Use__NO_LABEL</th>\n",
       "      <th>Use__O&amp;M</th>\n",
       "      <th>Use__Pupil Services &amp; Enrichment</th>\n",
       "      <th>Use__Untracked Budget Set-Aside</th>\n",
       "    </tr>\n",
       "  </thead>\n",
       "  <tbody>\n",
       "    <tr>\n",
       "      <th>129752</th>\n",
       "      <td>0</td>\n",
       "      <td>0</td>\n",
       "      <td>0</td>\n",
       "      <td>0</td>\n",
       "      <td>0</td>\n",
       "      <td>0</td>\n",
       "      <td>0</td>\n",
       "      <td>0</td>\n",
       "      <td>0</td>\n",
       "      <td>0</td>\n",
       "      <td>...</td>\n",
       "      <td>0</td>\n",
       "      <td>1</td>\n",
       "      <td>0</td>\n",
       "      <td>0</td>\n",
       "      <td>0</td>\n",
       "      <td>0</td>\n",
       "      <td>0</td>\n",
       "      <td>1</td>\n",
       "      <td>0</td>\n",
       "      <td>0</td>\n",
       "    </tr>\n",
       "    <tr>\n",
       "      <th>127683</th>\n",
       "      <td>0</td>\n",
       "      <td>0</td>\n",
       "      <td>0</td>\n",
       "      <td>0</td>\n",
       "      <td>0</td>\n",
       "      <td>0</td>\n",
       "      <td>0</td>\n",
       "      <td>0</td>\n",
       "      <td>0</td>\n",
       "      <td>0</td>\n",
       "      <td>...</td>\n",
       "      <td>0</td>\n",
       "      <td>1</td>\n",
       "      <td>0</td>\n",
       "      <td>0</td>\n",
       "      <td>1</td>\n",
       "      <td>0</td>\n",
       "      <td>0</td>\n",
       "      <td>0</td>\n",
       "      <td>0</td>\n",
       "      <td>0</td>\n",
       "    </tr>\n",
       "    <tr>\n",
       "      <th>265931</th>\n",
       "      <td>0</td>\n",
       "      <td>0</td>\n",
       "      <td>0</td>\n",
       "      <td>1</td>\n",
       "      <td>0</td>\n",
       "      <td>0</td>\n",
       "      <td>0</td>\n",
       "      <td>0</td>\n",
       "      <td>0</td>\n",
       "      <td>0</td>\n",
       "      <td>...</td>\n",
       "      <td>0</td>\n",
       "      <td>1</td>\n",
       "      <td>0</td>\n",
       "      <td>1</td>\n",
       "      <td>0</td>\n",
       "      <td>0</td>\n",
       "      <td>0</td>\n",
       "      <td>0</td>\n",
       "      <td>0</td>\n",
       "      <td>0</td>\n",
       "    </tr>\n",
       "    <tr>\n",
       "      <th>238935</th>\n",
       "      <td>0</td>\n",
       "      <td>0</td>\n",
       "      <td>0</td>\n",
       "      <td>1</td>\n",
       "      <td>0</td>\n",
       "      <td>0</td>\n",
       "      <td>0</td>\n",
       "      <td>0</td>\n",
       "      <td>0</td>\n",
       "      <td>0</td>\n",
       "      <td>...</td>\n",
       "      <td>0</td>\n",
       "      <td>0</td>\n",
       "      <td>0</td>\n",
       "      <td>1</td>\n",
       "      <td>0</td>\n",
       "      <td>0</td>\n",
       "      <td>0</td>\n",
       "      <td>0</td>\n",
       "      <td>0</td>\n",
       "      <td>0</td>\n",
       "    </tr>\n",
       "    <tr>\n",
       "      <th>253483</th>\n",
       "      <td>0</td>\n",
       "      <td>0</td>\n",
       "      <td>0</td>\n",
       "      <td>0</td>\n",
       "      <td>0</td>\n",
       "      <td>0</td>\n",
       "      <td>0</td>\n",
       "      <td>0</td>\n",
       "      <td>0</td>\n",
       "      <td>0</td>\n",
       "      <td>...</td>\n",
       "      <td>0</td>\n",
       "      <td>1</td>\n",
       "      <td>0</td>\n",
       "      <td>0</td>\n",
       "      <td>1</td>\n",
       "      <td>0</td>\n",
       "      <td>0</td>\n",
       "      <td>0</td>\n",
       "      <td>0</td>\n",
       "      <td>0</td>\n",
       "    </tr>\n",
       "    <tr>\n",
       "      <th>...</th>\n",
       "      <td>...</td>\n",
       "      <td>...</td>\n",
       "      <td>...</td>\n",
       "      <td>...</td>\n",
       "      <td>...</td>\n",
       "      <td>...</td>\n",
       "      <td>...</td>\n",
       "      <td>...</td>\n",
       "      <td>...</td>\n",
       "      <td>...</td>\n",
       "      <td>...</td>\n",
       "      <td>...</td>\n",
       "      <td>...</td>\n",
       "      <td>...</td>\n",
       "      <td>...</td>\n",
       "      <td>...</td>\n",
       "      <td>...</td>\n",
       "      <td>...</td>\n",
       "      <td>...</td>\n",
       "      <td>...</td>\n",
       "      <td>...</td>\n",
       "    </tr>\n",
       "    <tr>\n",
       "      <th>393068</th>\n",
       "      <td>0</td>\n",
       "      <td>0</td>\n",
       "      <td>0</td>\n",
       "      <td>0</td>\n",
       "      <td>0</td>\n",
       "      <td>0</td>\n",
       "      <td>0</td>\n",
       "      <td>0</td>\n",
       "      <td>0</td>\n",
       "      <td>0</td>\n",
       "      <td>...</td>\n",
       "      <td>0</td>\n",
       "      <td>1</td>\n",
       "      <td>0</td>\n",
       "      <td>0</td>\n",
       "      <td>1</td>\n",
       "      <td>0</td>\n",
       "      <td>0</td>\n",
       "      <td>0</td>\n",
       "      <td>0</td>\n",
       "      <td>0</td>\n",
       "    </tr>\n",
       "    <tr>\n",
       "      <th>359409</th>\n",
       "      <td>0</td>\n",
       "      <td>0</td>\n",
       "      <td>0</td>\n",
       "      <td>0</td>\n",
       "      <td>0</td>\n",
       "      <td>0</td>\n",
       "      <td>0</td>\n",
       "      <td>0</td>\n",
       "      <td>0</td>\n",
       "      <td>0</td>\n",
       "      <td>...</td>\n",
       "      <td>0</td>\n",
       "      <td>1</td>\n",
       "      <td>0</td>\n",
       "      <td>0</td>\n",
       "      <td>1</td>\n",
       "      <td>0</td>\n",
       "      <td>0</td>\n",
       "      <td>0</td>\n",
       "      <td>0</td>\n",
       "      <td>0</td>\n",
       "    </tr>\n",
       "    <tr>\n",
       "      <th>334609</th>\n",
       "      <td>0</td>\n",
       "      <td>0</td>\n",
       "      <td>0</td>\n",
       "      <td>0</td>\n",
       "      <td>0</td>\n",
       "      <td>0</td>\n",
       "      <td>0</td>\n",
       "      <td>0</td>\n",
       "      <td>0</td>\n",
       "      <td>0</td>\n",
       "      <td>...</td>\n",
       "      <td>0</td>\n",
       "      <td>1</td>\n",
       "      <td>0</td>\n",
       "      <td>0</td>\n",
       "      <td>1</td>\n",
       "      <td>0</td>\n",
       "      <td>0</td>\n",
       "      <td>0</td>\n",
       "      <td>0</td>\n",
       "      <td>0</td>\n",
       "    </tr>\n",
       "    <tr>\n",
       "      <th>326288</th>\n",
       "      <td>0</td>\n",
       "      <td>0</td>\n",
       "      <td>0</td>\n",
       "      <td>0</td>\n",
       "      <td>0</td>\n",
       "      <td>0</td>\n",
       "      <td>0</td>\n",
       "      <td>0</td>\n",
       "      <td>0</td>\n",
       "      <td>0</td>\n",
       "      <td>...</td>\n",
       "      <td>0</td>\n",
       "      <td>1</td>\n",
       "      <td>0</td>\n",
       "      <td>0</td>\n",
       "      <td>1</td>\n",
       "      <td>0</td>\n",
       "      <td>0</td>\n",
       "      <td>0</td>\n",
       "      <td>0</td>\n",
       "      <td>0</td>\n",
       "    </tr>\n",
       "    <tr>\n",
       "      <th>189020</th>\n",
       "      <td>0</td>\n",
       "      <td>0</td>\n",
       "      <td>0</td>\n",
       "      <td>0</td>\n",
       "      <td>0</td>\n",
       "      <td>0</td>\n",
       "      <td>0</td>\n",
       "      <td>0</td>\n",
       "      <td>1</td>\n",
       "      <td>0</td>\n",
       "      <td>...</td>\n",
       "      <td>0</td>\n",
       "      <td>0</td>\n",
       "      <td>0</td>\n",
       "      <td>0</td>\n",
       "      <td>0</td>\n",
       "      <td>0</td>\n",
       "      <td>0</td>\n",
       "      <td>1</td>\n",
       "      <td>0</td>\n",
       "      <td>0</td>\n",
       "    </tr>\n",
       "  </tbody>\n",
       "</table>\n",
       "<p>400277 rows × 104 columns</p>\n",
       "</div>"
      ],
      "text/plain": [
       "        Function__Aides Compensation  Function__Career & Academic Counseling  \\\n",
       "129752                             0                                       0   \n",
       "127683                             0                                       0   \n",
       "265931                             0                                       0   \n",
       "238935                             0                                       0   \n",
       "253483                             0                                       0   \n",
       "...                              ...                                     ...   \n",
       "393068                             0                                       0   \n",
       "359409                             0                                       0   \n",
       "334609                             0                                       0   \n",
       "326288                             0                                       0   \n",
       "189020                             0                                       0   \n",
       "\n",
       "        Function__Communications  Function__Curriculum Development  \\\n",
       "129752                         0                                 0   \n",
       "127683                         0                                 0   \n",
       "265931                         0                                 1   \n",
       "238935                         0                                 1   \n",
       "253483                         0                                 0   \n",
       "...                          ...                               ...   \n",
       "393068                         0                                 0   \n",
       "359409                         0                                 0   \n",
       "334609                         0                                 0   \n",
       "326288                         0                                 0   \n",
       "189020                         0                                 0   \n",
       "\n",
       "        Function__Data Processing & Information Services  \\\n",
       "129752                                                 0   \n",
       "127683                                                 0   \n",
       "265931                                                 0   \n",
       "238935                                                 0   \n",
       "253483                                                 0   \n",
       "...                                                  ...   \n",
       "393068                                                 0   \n",
       "359409                                                 0   \n",
       "334609                                                 0   \n",
       "326288                                                 0   \n",
       "189020                                                 0   \n",
       "\n",
       "        Function__Development & Fundraising  Function__Enrichment  \\\n",
       "129752                                    0                     0   \n",
       "127683                                    0                     0   \n",
       "265931                                    0                     0   \n",
       "238935                                    0                     0   \n",
       "253483                                    0                     0   \n",
       "...                                     ...                   ...   \n",
       "393068                                    0                     0   \n",
       "359409                                    0                     0   \n",
       "334609                                    0                     0   \n",
       "326288                                    0                     0   \n",
       "189020                                    0                     0   \n",
       "\n",
       "        Function__Extended Time & Tutoring  \\\n",
       "129752                                   0   \n",
       "127683                                   0   \n",
       "265931                                   0   \n",
       "238935                                   0   \n",
       "253483                                   0   \n",
       "...                                    ...   \n",
       "393068                                   0   \n",
       "359409                                   0   \n",
       "334609                                   0   \n",
       "326288                                   0   \n",
       "189020                                   0   \n",
       "\n",
       "        Function__Facilities & Maintenance  Function__Facilities Planning  \\\n",
       "129752                                   0                              0   \n",
       "127683                                   0                              0   \n",
       "265931                                   0                              0   \n",
       "238935                                   0                              0   \n",
       "253483                                   0                              0   \n",
       "...                                    ...                            ...   \n",
       "393068                                   0                              0   \n",
       "359409                                   0                              0   \n",
       "334609                                   0                              0   \n",
       "326288                                   0                              0   \n",
       "189020                                   1                              0   \n",
       "\n",
       "        ...  Student_Type__Special Education  Student_Type__Unspecified  \\\n",
       "129752  ...                                0                          1   \n",
       "127683  ...                                0                          1   \n",
       "265931  ...                                0                          1   \n",
       "238935  ...                                0                          0   \n",
       "253483  ...                                0                          1   \n",
       "...     ...                              ...                        ...   \n",
       "393068  ...                                0                          1   \n",
       "359409  ...                                0                          1   \n",
       "334609  ...                                0                          1   \n",
       "326288  ...                                0                          1   \n",
       "189020  ...                                0                          0   \n",
       "\n",
       "        Use__Business Services  Use__ISPD  Use__Instruction  Use__Leadership  \\\n",
       "129752                       0          0                 0                0   \n",
       "127683                       0          0                 1                0   \n",
       "265931                       0          1                 0                0   \n",
       "238935                       0          1                 0                0   \n",
       "253483                       0          0                 1                0   \n",
       "...                        ...        ...               ...              ...   \n",
       "393068                       0          0                 1                0   \n",
       "359409                       0          0                 1                0   \n",
       "334609                       0          0                 1                0   \n",
       "326288                       0          0                 1                0   \n",
       "189020                       0          0                 0                0   \n",
       "\n",
       "        Use__NO_LABEL  Use__O&M  Use__Pupil Services & Enrichment  \\\n",
       "129752              0         1                                 0   \n",
       "127683              0         0                                 0   \n",
       "265931              0         0                                 0   \n",
       "238935              0         0                                 0   \n",
       "253483              0         0                                 0   \n",
       "...               ...       ...                               ...   \n",
       "393068              0         0                                 0   \n",
       "359409              0         0                                 0   \n",
       "334609              0         0                                 0   \n",
       "326288              0         0                                 0   \n",
       "189020              0         1                                 0   \n",
       "\n",
       "        Use__Untracked Budget Set-Aside  \n",
       "129752                                0  \n",
       "127683                                0  \n",
       "265931                                0  \n",
       "238935                                0  \n",
       "253483                                0  \n",
       "...                                 ...  \n",
       "393068                                0  \n",
       "359409                                0  \n",
       "334609                                0  \n",
       "326288                                0  \n",
       "189020                                0  \n",
       "\n",
       "[400277 rows x 104 columns]"
      ]
     },
     "execution_count": 6,
     "metadata": {},
     "output_type": "execute_result"
    }
   ],
   "source": [
    "# Converting labels in dummy variables\n",
    "y = pd.get_dummies(df[LABELS], prefix_sep='__')\n",
    "y.info(memory_usage='deep')\n",
    "y"
   ]
  },
  {
   "cell_type": "markdown",
   "metadata": {
    "tags": []
   },
   "source": [
    "# Test 0: trying to stratify split using sklearn's train_test_split()"
   ]
  },
  {
   "cell_type": "code",
   "execution_count": 7,
   "metadata": {
    "execution": {
     "iopub.execute_input": "2022-11-17T18:30:45.331530Z",
     "iopub.status.busy": "2022-11-17T18:30:45.324858Z",
     "iopub.status.idle": "2022-11-17T18:30:45.342658Z",
     "shell.execute_reply": "2022-11-17T18:30:45.339137Z",
     "shell.execute_reply.started": "2022-11-17T18:30:45.331423Z"
    },
    "tags": []
   },
   "outputs": [],
   "source": [
    "# from sklearn.model_selection import train_test_split\n",
    "# try:\n",
    "#     X_train, X_test, y_train, y_test = train_test_split(df[FEATURES], y, test_size = 0.5, random_state=1, stratify=y)\n",
    "# except ValueError as err:\n",
    "#     print('ValueError:', err)"
   ]
  },
  {
   "cell_type": "markdown",
   "metadata": {},
   "source": [
    "As pointed out in **_Groups of labels with less than 2 samples (unstratifiable)_**, the y population has class groups with less than 2 observations, thefore, the standard sklearn's `train_test_split()` won't work because of those cases."
   ]
  },
  {
   "cell_type": "markdown",
   "metadata": {
    "tags": []
   },
   "source": [
    "# Test 1: Imbalanced split using sklearn's train_test_split(stratify=None)"
   ]
  },
  {
   "cell_type": "code",
   "execution_count": 30,
   "metadata": {
    "execution": {
     "iopub.execute_input": "2022-11-17T19:50:25.340935Z",
     "iopub.status.busy": "2022-11-17T19:50:25.340605Z",
     "iopub.status.idle": "2022-11-17T19:50:38.446052Z",
     "shell.execute_reply": "2022-11-17T19:50:38.445655Z",
     "shell.execute_reply.started": "2022-11-17T19:50:25.340922Z"
    },
    "tags": []
   },
   "outputs": [
    {
     "name": "stdout",
     "output_type": "stream",
     "text": [
      "Training size: 280193 (min_count: 22). Testing size: 120084 (min_count: 7)\n",
      "Train ratio: 0.7670426099064663\n",
      "Test ratio : 0.431510077694932\n"
     ]
    },
    {
     "data": {
      "image/png": "[encoded data removed]",
      "text/plain": [
       "<Figure size 1000x1000 with 1 Axes>"
      ]
     },
     "metadata": {},
     "output_type": "display_data"
    }
   ],
   "source": [
    "from sklearn.model_selection import train_test_split\n",
    "X_train, X_test, y_train, y_test = train_test_split(df[FEATURES], y, test_size = .3, random_state=1, stratify=None)\n",
    "print(f'Training size: {X_train.shape[0]} (min_count: {y_train.sum().min()}). Testing size: {X_test.shape[0]} (min_count: {y_test.sum().min()})')\n",
    "print(f'Train ratio: {(y_train.value_counts() / y.value_counts()).mean()}')\n",
    "print(f'Test ratio : {(y_test.value_counts() / y.value_counts()).mean()}')\n",
    "_ = split_report(y, y_train, y_test, figsize=(10,10))"
   ]
  },
  {
   "cell_type": "markdown",
   "metadata": {},
   "source": [
    "# Test 2: stratifying sample using multilabel_sample_dataframe()"
   ]
  },
  {
   "cell_type": "code",
   "execution_count": 31,
   "metadata": {
    "execution": {
     "iopub.execute_input": "2022-11-17T19:50:57.461612Z",
     "iopub.status.busy": "2022-11-17T19:50:57.461433Z",
     "iopub.status.idle": "2022-11-17T19:51:30.539654Z",
     "shell.execute_reply": "2022-11-17T19:51:30.539246Z",
     "shell.execute_reply.started": "2022-11-17T19:50:57.461600Z"
    },
    "tags": []
   },
   "outputs": [
    {
     "name": "stdout",
     "output_type": "stream",
     "text": [
      "min_count given: 0 min_count taken: 18 sample ratio: 0.7696485333319797\n",
      "min_count given: 1 min_count taken: 21 sample ratio: 0.7718668281550514\n",
      "min_count given: 2 min_count taken: 24 sample ratio: 0.771583325261738\n",
      "min_count given: 3 min_count taken: 19 sample ratio: 0.7709453280616047\n",
      "min_count given: 4 min_count taken: 22 sample ratio: 0.7707083207956503\n",
      "min_count given: 5 min_count taken: 21 sample ratio: 0.7687145551837045\n",
      "min_count given: 6 min_count taken: 23 sample ratio: 0.7722339626014724\n",
      "min_count given: 7 min_count taken: 22 sample ratio: 0.7696337580241936\n",
      "min_count given: 8 min_count taken: 22 sample ratio: 0.7756154273754484\n",
      "min_count given: 9 min_count taken: 20 sample ratio: 0.769584559085949\n",
      "min_count given: 10 min_count taken: 22 sample ratio: 0.7718715531537558\n",
      "min_count given: 11 min_count taken: 22 sample ratio: 0.7720659460630157\n",
      "min_count given: 12 min_count taken: 23 sample ratio: 0.7725594140556336\n",
      "min_count given: 13 min_count taken: 24 sample ratio: 0.7757189415758381\n",
      "min_count given: 14 min_count taken: 24 sample ratio: 0.77368512743663\n",
      "min_count given: 15 min_count taken: 21 sample ratio: 0.7738494302683417\n",
      "min_count given: 16 min_count taken: 26 sample ratio: 0.7697290448857952\n",
      "min_count given: 17 min_count taken: 24 sample ratio: 0.776549172014199\n",
      "min_count given: 18 min_count taken: 29 sample ratio: 0.7775359008896825\n",
      "min_count given: 19 min_count taken: 22 sample ratio: 0.773994292608762\n",
      "min_count given: 20 min_count taken: 28 sample ratio: 0.7731187239146913\n",
      "min_count given: 21 min_count taken: 26 sample ratio: 0.7752028516917037\n",
      "min_count given: 22 min_count taken: 27 sample ratio: 0.7775179943884675\n",
      "min_count given: 23 min_count taken: 27 sample ratio: 0.7726192419946832\n",
      "min_count given: 24 min_count taken: 27 sample ratio: 0.7784395031063261\n",
      "min_count given: 25 min_count taken: 29 sample ratio: 0.7724102130182999\n",
      "min_count given: 26 min_count taken: 29 sample ratio: 0.7709639921704645\n",
      "min_count given: 27 min_count taken: 28 sample ratio: 0.7749506504875229\n",
      "min_count given: 28 min_count taken: 28 sample ratio: 0.774629730422017\n",
      "min_count given: 29 min_count taken: 29 sample ratio: 0.7785994647898343\n"
     ]
    }
   ],
   "source": [
    "for min_count in range(0,30):\n",
    "    sampling = multilabel_sample_dataframe(df, y, size=0.7, min_count=min_count, seed=1)\n",
    "    dummy_labels = pd.get_dummies(sampling[LABELS], prefix_sep='__')\n",
    "    print(f'min_count given: {min_count} min_count taken: {dummy_labels.sum().min()} sample ratio: {(dummy_labels.value_counts() / y.value_counts()).mean()}')\n",
    "# _ = sample_report(y, dummy_labels, figsize=(10,10))"
   ]
  },
  {
   "cell_type": "markdown",
   "metadata": {},
   "source": [
    "**Best sample ratio given min_count 29 and .7 sample:**\n",
    "\n",
    "    min_count given: 29 min_count taken: 29 sample ratio: 0.7785994647898343"
   ]
  },
  {
   "cell_type": "markdown",
   "metadata": {},
   "source": [
    "# Test 3: Stratified split using multi_train_test_split()"
   ]
  },
  {
   "cell_type": "code",
   "execution_count": 32,
   "metadata": {
    "execution": {
     "iopub.execute_input": "2022-11-17T19:51:59.733594Z",
     "iopub.status.busy": "2022-11-17T19:51:59.733417Z",
     "iopub.status.idle": "2022-11-17T19:52:49.223927Z",
     "shell.execute_reply": "2022-11-17T19:52:49.223591Z",
     "shell.execute_reply.started": "2022-11-17T19:51:59.733583Z"
    },
    "tags": []
   },
   "outputs": [
    {
     "name": "stdout",
     "output_type": "stream",
     "text": [
      "min_count given: 0 train min_count: 22 test min_count: 7 train ratio: 0.7732263950532569 test ratio : 0.42629060849963823 difference: 0.3469357865536186\n",
      "min_count given: 1 train min_count: 18 test min_count: 11 train ratio: 0.7644794578582763 test ratio : 0.43759054505163597 difference: 0.32688891280664034\n",
      "min_count given: 2 train min_count: 18 test min_count: 11 train ratio: 0.7731833219288907 test ratio : 0.43011865418240924 difference: 0.3430646677464815\n",
      "min_count given: 3 train min_count: 20 test min_count: 9 train ratio: 0.7724233146256152 test ratio : 0.4285351509777641 difference: 0.3438881636478511\n",
      "min_count given: 4 train min_count: 19 test min_count: 10 train ratio: 0.7671272417771067 test ratio : 0.43998515668731547 difference: 0.3271420850897912\n",
      "min_count given: 5 train min_count: 18 test min_count: 11 train ratio: 0.7728878038368107 test ratio : 0.42817014452575963 difference: 0.34471765931105103\n",
      "min_count given: 6 train min_count: 14 test min_count: 15 train ratio: 0.7717864075255438 test ratio : 0.42921501027914627 difference: 0.34257139724639757\n",
      "min_count given: 7 train min_count: 15 test min_count: 14 train ratio: 0.7711239867142098 test ratio : 0.44217996475339244 difference: 0.32894402196081735\n",
      "min_count given: 8 train min_count: 20 test min_count: 9 train ratio: 0.7672238399003802 test ratio : 0.4354488446486677 difference: 0.33177499525171256\n",
      "min_count given: 9 train min_count: 14 test min_count: 15 train ratio: 0.772525344637932 test ratio : 0.4346382835117503 difference: 0.33788706112618166\n",
      "min_count given: 10 train min_count: 14 test min_count: 15 train ratio: 0.7704532403806867 test ratio : 0.4315381787792232 difference: 0.33891506160146356\n",
      "min_count given: 11 train min_count: 16 test min_count: 13 train ratio: 0.769256319207931 test ratio : 0.4314310472162027 difference: 0.33782527199172835\n",
      "min_count given: 12 train min_count: 11 test min_count: 18 train ratio: 0.7654169832691677 test ratio : 0.4413687310205214 difference: 0.32404825224864636\n",
      "min_count given: 13 train min_count: 9 test min_count: 20 train ratio: 0.76647336085036 test ratio : 0.4387108593443049 difference: 0.32776250150605507\n",
      "min_count given: 14 train min_count: 13 test min_count: 16 train ratio: 0.7676390403685344 test ratio : 0.44214573450443556 difference: 0.3254933058640988\n",
      "min_count given: 15 train min_count: 10 test min_count: 19 train ratio: 0.7645402930027735 test ratio : 0.4402181344950893 difference: 0.3243221585076842\n",
      "min_count given: 16 train min_count: 7 test min_count: 22 train ratio: 0.7685925892605346 test ratio : 0.43132082813849465 difference: 0.33727176112204\n",
      "min_count given: 17 train min_count: 9 test min_count: 20 train ratio: 0.7618355583927926 test ratio : 0.4409122169097151 difference: 0.3209233414830775\n",
      "min_count given: 18 train min_count: 6 test min_count: 23 train ratio: 0.7623917420181503 test ratio : 0.4431030849872266 difference: 0.3192886570309237\n",
      "min_count given: 19 train min_count: 9 test min_count: 20 train ratio: 0.7631777104853015 test ratio : 0.44270862251555754 difference: 0.32046908796974394\n",
      "min_count given: 20 train min_count: 4 test min_count: 25 train ratio: 0.7638630292049153 test ratio : 0.43828993511281233 difference: 0.325573094092103\n",
      "min_count given: 21 train min_count: 4 test min_count: 25 train ratio: 0.7627494518082655 test ratio : 0.44077445540351273 difference: 0.32197499640475274\n",
      "min_count given: 22 train min_count: 6 test min_count: 23 train ratio: 0.76377161309467 test ratio : 0.4415031906258012 difference: 0.32226842246886883\n",
      "min_count given: 23 train min_count: 4 test min_count: 25 train ratio: 0.7644474099538402 test ratio : 0.4388125512951659 difference: 0.3256348586586743\n",
      "min_count given: 24 train min_count: 3 test min_count: 26 train ratio: 0.764692917730156 test ratio : 0.4459809177906722 difference: 0.3187119999394838\n",
      "min_count given: 25 train min_count: 4 test min_count: 25 train ratio: 0.7652481384980807 test ratio : 0.44052918737131547 difference: 0.32471895112676524\n",
      "min_count given: 26 train min_count: 2 test min_count: 27 train ratio: 0.7654961451355036 test ratio : 0.4407577911579088 difference: 0.32473835397759476\n",
      "min_count given: 27 train min_count: 2 test min_count: 27 train ratio: 0.7611120496063508 test ratio : 0.44595709899309977 difference: 0.31515495061325105\n",
      "min_count given: 28 train min_count: 1 test min_count: 28 train ratio: 0.7640312834150293 test ratio : 0.4450607423324478 difference: 0.31897054108258155\n",
      "min_count given: 29 train min_count: 0 test min_count: 29 train ratio: 0.7576872671065363 test ratio : 0.44676212849950525 difference: 0.3109251386070311\n"
     ]
    }
   ],
   "source": [
    "for min_count in range(0,30):\n",
    "    X_train, X_test, y_train, y_test = multilabel_train_test_split(df[FEATURES], y, size=0.3, min_count=min_count, seed=1)\n",
    "    y_train_ratio = (y_train.value_counts() / y.value_counts()).mean()\n",
    "    y_test_ratio = (y_test.value_counts() / y.value_counts()).mean()\n",
    "    print(f'min_count given: {min_count} train min_count: {y_train.sum().min()} test min_count: {y_test.sum().min()}', end=' ')\n",
    "    print(f'train ratio: {y_train_ratio} test ratio : {y_test_ratio}', end=' ')\n",
    "    print(f'difference: {y_train_ratio - y_test_ratio}')\n",
    "# _= split_report(y, y_train, y_test, figsize=(10,10))"
   ]
  },
  {
   "cell_type": "markdown",
   "metadata": {},
   "source": [
    "**Best train ratio given min_count 0 and 70/30 split**\n",
    "\n",
    "    min_count given: 0 train min_count: 22 test min_count: 7 train ratio: 0.7732263950532569 test ratio : 0.42629060849963823 difference: 0.3469357865536186\n",
    "\n",
    "**Opposedly the best ratio difference given min_count 29 and 70/30 split**\n",
    "\n",
    "    min_count given: 29 train min_count: 0 test min_count: 29 train ratio: 0.7576872671065363 test ratio : 0.44676212849950525 difference: 0.3109251386070311\n"
   ]
  },
  {
   "cell_type": "markdown",
   "metadata": {},
   "source": [
    "# Test 4: Stratified split of a stratified sample"
   ]
  },
  {
   "cell_type": "markdown",
   "metadata": {},
   "source": [
    "## Stratifying sample"
   ]
  },
  {
   "cell_type": "code",
   "execution_count": 26,
   "metadata": {
    "execution": {
     "iopub.execute_input": "2022-11-17T18:43:27.546908Z",
     "iopub.status.busy": "2022-11-17T18:43:27.546766Z",
     "iopub.status.idle": "2022-11-17T18:44:01.879574Z",
     "shell.execute_reply": "2022-11-17T18:44:01.879113Z",
     "shell.execute_reply.started": "2022-11-17T18:43:27.546897Z"
    },
    "tags": []
   },
   "outputs": [
    {
     "name": "stdout",
     "output_type": "stream",
     "text": [
      "min_count given: 0 min_count taken: 18 sample ratio: 0.7696485333319797\n",
      "min_count given: 1 min_count taken: 21 sample ratio: 0.7718668281550514\n",
      "min_count given: 2 min_count taken: 24 sample ratio: 0.771583325261738\n",
      "min_count given: 3 min_count taken: 19 sample ratio: 0.7709453280616047\n",
      "min_count given: 4 min_count taken: 22 sample ratio: 0.7707083207956503\n",
      "min_count given: 5 min_count taken: 21 sample ratio: 0.7687145551837045\n",
      "min_count given: 6 min_count taken: 23 sample ratio: 0.7722339626014724\n",
      "min_count given: 7 min_count taken: 22 sample ratio: 0.7696337580241936\n",
      "min_count given: 8 min_count taken: 22 sample ratio: 0.7756154273754484\n",
      "min_count given: 9 min_count taken: 20 sample ratio: 0.769584559085949\n",
      "min_count given: 10 min_count taken: 22 sample ratio: 0.7718715531537558\n",
      "min_count given: 11 min_count taken: 22 sample ratio: 0.7720659460630157\n",
      "min_count given: 12 min_count taken: 23 sample ratio: 0.7725594140556336\n",
      "min_count given: 13 min_count taken: 24 sample ratio: 0.7757189415758381\n",
      "min_count given: 14 min_count taken: 24 sample ratio: 0.77368512743663\n",
      "min_count given: 15 min_count taken: 21 sample ratio: 0.7738494302683417\n",
      "min_count given: 16 min_count taken: 26 sample ratio: 0.7697290448857952\n",
      "min_count given: 17 min_count taken: 24 sample ratio: 0.776549172014199\n",
      "min_count given: 18 min_count taken: 29 sample ratio: 0.7775359008896825\n",
      "min_count given: 19 min_count taken: 22 sample ratio: 0.773994292608762\n",
      "min_count given: 20 min_count taken: 28 sample ratio: 0.7731187239146913\n",
      "min_count given: 21 min_count taken: 26 sample ratio: 0.7752028516917037\n",
      "min_count given: 22 min_count taken: 27 sample ratio: 0.7775179943884675\n",
      "min_count given: 23 min_count taken: 27 sample ratio: 0.7726192419946832\n",
      "min_count given: 24 min_count taken: 27 sample ratio: 0.7784395031063261\n",
      "min_count given: 25 min_count taken: 29 sample ratio: 0.7724102130182999\n",
      "min_count given: 26 min_count taken: 29 sample ratio: 0.7709639921704645\n",
      "min_count given: 27 min_count taken: 28 sample ratio: 0.7749506504875229\n",
      "min_count given: 28 min_count taken: 28 sample ratio: 0.774629730422017\n",
      "min_count given: 29 min_count taken: 29 sample ratio: 0.7785994647898343\n"
     ]
    }
   ],
   "source": [
    "for min_count in range(0,30):\n",
    "    sampling = multilabel_sample_dataframe(df, y, size=0.7, min_count=min_count, seed=1)\n",
    "    dummy_labels = pd.get_dummies(sampling[LABELS], prefix_sep='__')\n",
    "    print(f'min_count given: {min_count} min_count taken: {dummy_labels.sum().min()} sample ratio: {(dummy_labels.value_counts() / y.value_counts()).mean()}')\n",
    "# _ = sample_report(y, dummy_labels, figsize=(10,10))"
   ]
  },
  {
   "cell_type": "markdown",
   "metadata": {},
   "source": [
    "**Best sample ratio given min_count 29 and .7 sample:**\n",
    "\n",
    "    min_count given: 29 min_count taken: 29 sample ratio: 0.7785994647898343"
   ]
  },
  {
   "cell_type": "markdown",
   "metadata": {},
   "source": [
    "## Stratifying split of the stratified sample"
   ]
  },
  {
   "cell_type": "code",
   "execution_count": 27,
   "metadata": {
    "execution": {
     "iopub.execute_input": "2022-11-17T18:47:51.563536Z",
     "iopub.status.busy": "2022-11-17T18:47:51.563303Z",
     "iopub.status.idle": "2022-11-17T18:48:33.475267Z",
     "shell.execute_reply": "2022-11-17T18:48:33.474851Z",
     "shell.execute_reply.started": "2022-11-17T18:47:51.563522Z"
    },
    "tags": []
   },
   "outputs": [
    {
     "name": "stdout",
     "output_type": "stream",
     "text": [
      "min_count given: 0 train min_count: 26 test min_count: 3 train ratio: 0.666680715394999 test ratio : 0.2668984995824674 difference: 0.39978221581253154\n",
      "min_count given: 1 train min_count: 24 test min_count: 5 train ratio: 0.6637021597384033 test ratio : 0.27769685749337825 difference: 0.38600530224502505\n",
      "min_count given: 2 train min_count: 15 test min_count: 11 train ratio: 0.6617113923097776 test ratio : 0.2676450440770318 difference: 0.3940663482327458\n",
      "min_count given: 3 train min_count: 22 test min_count: 7 train ratio: 0.6638011634142286 test ratio : 0.2713954109272953 difference: 0.39240575248693327\n",
      "min_count given: 4 train min_count: 23 test min_count: 6 train ratio: 0.6596796861349067 test ratio : 0.27791320240780454 difference: 0.38176648372710215\n",
      "min_count given: 5 train min_count: 22 test min_count: 7 train ratio: 0.6607898478360804 test ratio : 0.27331787211842506 difference: 0.38747197571765535\n",
      "min_count given: 6 train min_count: 14 test min_count: 12 train ratio: 0.6608483708119104 test ratio : 0.2757829169502742 difference: 0.3850654538616362\n",
      "min_count given: 7 train min_count: 14 test min_count: 13 train ratio: 0.6620597293962662 test ratio : 0.2752549765097044 difference: 0.38680475288656185\n",
      "min_count given: 8 train min_count: 17 test min_count: 12 train ratio: 0.6607463116501842 test ratio : 0.2729091675873181 difference: 0.38783714406286607\n",
      "min_count given: 9 train min_count: 16 test min_count: 13 train ratio: 0.6597929352268089 test ratio : 0.274766011694517 difference: 0.38502692353229195\n",
      "min_count given: 10 train min_count: 12 test min_count: 17 train ratio: 0.658112378009894 test ratio : 0.2754627262015725 difference: 0.38264965180832144\n",
      "min_count given: 11 train min_count: 15 test min_count: 14 train ratio: 0.6593682951244767 test ratio : 0.2740771642713841 difference: 0.3852911308530926\n",
      "min_count given: 12 train min_count: 16 test min_count: 13 train ratio: 0.6601739042178636 test ratio : 0.2790046151219383 difference: 0.3811692890959253\n",
      "min_count given: 13 train min_count: 10 test min_count: 18 train ratio: 0.6587656561149581 test ratio : 0.2774838748557465 difference: 0.3812817812592116\n",
      "min_count given: 14 train min_count: 11 test min_count: 17 train ratio: 0.6582662845737066 test ratio : 0.28238036115097154 difference: 0.3758859234227351\n",
      "min_count given: 15 train min_count: 13 test min_count: 16 train ratio: 0.6614508118178017 test ratio : 0.275769707658562 difference: 0.38568110415923973\n",
      "min_count given: 16 train min_count: 9 test min_count: 19 train ratio: 0.658398884694797 test ratio : 0.28002516874212857 difference: 0.37837371595266844\n",
      "min_count given: 17 train min_count: 8 test min_count: 21 train ratio: 0.6562601985070833 test ratio : 0.2797522418927832 difference: 0.3765079566143001\n",
      "min_count given: 18 train min_count: 6 test min_count: 23 train ratio: 0.6575426634842715 test ratio : 0.279699714475148 difference: 0.37784294900912346\n",
      "min_count given: 19 train min_count: 8 test min_count: 21 train ratio: 0.655651409056293 test ratio : 0.2825354823317614 difference: 0.37311592672453164\n",
      "min_count given: 20 train min_count: 6 test min_count: 23 train ratio: 0.6530938356851657 test ratio : 0.28778337814184946 difference: 0.3653104575433162\n",
      "min_count given: 21 train min_count: 7 test min_count: 22 train ratio: 0.6551678814960252 test ratio : 0.28501425583211365 difference: 0.3701536256639116\n",
      "min_count given: 22 train min_count: 6 test min_count: 23 train ratio: 0.6578115625744947 test ratio : 0.2851993690029669 difference: 0.3726121935715278\n",
      "min_count given: 23 train min_count: 3 test min_count: 26 train ratio: 0.6566445365766063 test ratio : 0.27807505704058166 difference: 0.3785694795360246\n",
      "min_count given: 24 train min_count: 2 test min_count: 27 train ratio: 0.6567339759172256 test ratio : 0.2908144981228755 difference: 0.3659194777943501\n",
      "min_count given: 25 train min_count: 2 test min_count: 27 train ratio: 0.6536899298851353 test ratio : 0.2843688583127014 difference: 0.3693210715724339\n",
      "min_count given: 26 train min_count: 3 test min_count: 26 train ratio: 0.6574399962741191 test ratio : 0.2860046409681138 difference: 0.3714353553060053\n",
      "min_count given: 27 train min_count: 2 test min_count: 27 train ratio: 0.6543494948686288 test ratio : 0.2836697972603178 difference: 0.370679697608311\n",
      "min_count given: 28 train min_count: 1 test min_count: 28 train ratio: 0.6538117529160029 test ratio : 0.2901116393193177 difference: 0.3637001135966852\n",
      "min_count given: 29 train min_count: 0 test min_count: 29 train ratio: 0.6541789167089964 test ratio : 0.28850642838934015 difference: 0.36567248831965626\n"
     ]
    }
   ],
   "source": [
    "sampling = multilabel_sample_dataframe(df, y, size=0.7, min_count=29, seed=1)\n",
    "dummy_labels = pd.get_dummies(sampling[LABELS], prefix_sep='__')\n",
    "for min_count in range(0,30):\n",
    "    X_train, X_test, y_train, y_test = multilabel_train_test_split(sampling[FEATURES], dummy_labels, size=0.2, min_count=min_count, seed=1)\n",
    "    y_train_ratio = (y_train.value_counts() / y.value_counts()).mean()\n",
    "    y_test_ratio = (y_test.value_counts() / y.value_counts()).mean()\n",
    "    print(f'min_count given: {min_count} train min_count: {y_train.sum().min()} test min_count: {y_test.sum().min()}', end=' ')\n",
    "    print(f'train ratio: {y_train_ratio} test ratio : {y_test_ratio}', end=' ')\n",
    "    print(f'difference: {y_train_ratio - y_test_ratio}')\n",
    "    \n",
    "#_ = sample_split_report(y, dummy_labels, y_train, y_test, figsize=(10,10))"
   ]
  },
  {
   "cell_type": "markdown",
   "metadata": {},
   "source": [
    "**Best train ratio given min_count 0 and 70/30 split of a .7 sample**\n",
    "\n",
    "    min_count given: 0 train min_count: 26 test min_count: 3 train ratio: 0.666680715394999 test ratio : 0.2668984995824674 difference: 0.39978221581253154\n",
    "\n",
    "**Opposedly the best ratio difference given min_count 29 and 70/30 split of a .7 sample**\n",
    "\n",
    "    min_count given: 29 train min_count: 0 test min_count: 29 train ratio: 0.6541789167089964 test ratio : 0.28850642838934015 difference: 0.36567248831965626\n"
   ]
  },
  {
   "cell_type": "code",
   "execution_count": null,
   "metadata": {},
   "outputs": [],
   "source": []
  },
  {
   "cell_type": "code",
   "execution_count": null,
   "metadata": {},
   "outputs": [],
   "source": []
  },
  {
   "cell_type": "code",
   "execution_count": null,
   "metadata": {},
   "outputs": [],
   "source": []
  },
  {
   "cell_type": "markdown",
   "metadata": {},
   "source": [
    "Here we see that some testing labels are missing after splitting.  \n",
    "It's required to simultaneously optimize the `size` and `min_count` parameters on either `multilabel_sample_dataframe` and `multilabel_train_test_split`, thus, balancing the stratification the best possible to achieve the best ratio."
   ]
  },
  {
   "cell_type": "markdown",
   "metadata": {},
   "source": [
    "# Optimize sampling and splitting parameters"
   ]
  },
  {
   "cell_type": "markdown",
   "metadata": {},
   "source": [
    "Run the script `optimize-sample-split.py` to prepare data for analysis"
   ]
  },
  {
   "cell_type": "code",
   "execution_count": 13,
   "metadata": {
    "execution": {
     "iopub.execute_input": "2022-11-17T18:37:47.188103Z",
     "iopub.status.busy": "2022-11-17T18:37:47.187997Z",
     "iopub.status.idle": "2022-11-17T18:37:47.190040Z",
     "shell.execute_reply": "2022-11-17T18:37:47.189765Z",
     "shell.execute_reply.started": "2022-11-17T18:37:47.188093Z"
    },
    "tags": []
   },
   "outputs": [],
   "source": [
    "# ! python optimize-sample-split.py"
   ]
  },
  {
   "cell_type": "code",
   "execution_count": 14,
   "metadata": {
    "code_folding": [],
    "execution": {
     "iopub.execute_input": "2022-11-17T18:37:47.191369Z",
     "iopub.status.busy": "2022-11-17T18:37:47.191098Z",
     "iopub.status.idle": "2022-11-17T18:37:47.804826Z",
     "shell.execute_reply": "2022-11-17T18:37:47.804557Z",
     "shell.execute_reply.started": "2022-11-17T18:37:47.191358Z"
    },
    "tags": []
   },
   "outputs": [
    {
     "name": "stdout",
     "output_type": "stream",
     "text": [
      "<class 'pandas.core.frame.DataFrame'>\n",
      "RangeIndex: 100799 entries, 0 to 100798\n",
      "Columns: 10 entries, sample_size to test_ratio\n",
      "dtypes: float64(5), object(5)\n",
      "memory usage: 21.0 MB\n"
     ]
    },
    {
     "data": {
      "text/html": [
       "<div>\n",
       "<style scoped>\n",
       "    .dataframe tbody tr th:only-of-type {\n",
       "        vertical-align: middle;\n",
       "    }\n",
       "\n",
       "    .dataframe tbody tr th {\n",
       "        vertical-align: top;\n",
       "    }\n",
       "\n",
       "    .dataframe thead th {\n",
       "        text-align: right;\n",
       "    }\n",
       "</style>\n",
       "<table border=\"1\" class=\"dataframe\">\n",
       "  <thead>\n",
       "    <tr style=\"text-align: right;\">\n",
       "      <th></th>\n",
       "      <th>field</th>\n",
       "      <th>non-null count</th>\n",
       "      <th>missing ratio</th>\n",
       "      <th>data type</th>\n",
       "      <th>unique count</th>\n",
       "      <th>unique preview</th>\n",
       "    </tr>\n",
       "  </thead>\n",
       "  <tbody>\n",
       "    <tr>\n",
       "      <th>0</th>\n",
       "      <td>sample_lessfreq</td>\n",
       "      <td>100799</td>\n",
       "      <td>0.0</td>\n",
       "      <td>object</td>\n",
       "      <td>30</td>\n",
       "      <td>[0, 1, 10, 11, 12, ..., 5, 6, 7, 8, 9]</td>\n",
       "    </tr>\n",
       "    <tr>\n",
       "      <th>1</th>\n",
       "      <td>sample_min_count</td>\n",
       "      <td>100799</td>\n",
       "      <td>0.0</td>\n",
       "      <td>object</td>\n",
       "      <td>30</td>\n",
       "      <td>[0, 1, 10, 11, 12, ..., 5, 6, 7, 8, 9]</td>\n",
       "    </tr>\n",
       "    <tr>\n",
       "      <th>2</th>\n",
       "      <td>sample_ratio</td>\n",
       "      <td>100799</td>\n",
       "      <td>0.0</td>\n",
       "      <td>float64</td>\n",
       "      <td>541</td>\n",
       "      <td>[0.06675592536155764, 0.07295573178258284, 0.0...</td>\n",
       "    </tr>\n",
       "    <tr>\n",
       "      <th>3</th>\n",
       "      <td>sample_size</td>\n",
       "      <td>100799</td>\n",
       "      <td>0.0</td>\n",
       "      <td>float64</td>\n",
       "      <td>19</td>\n",
       "      <td>[0.01, 0.01999999999999999, 0.03, 0.0399999999...</td>\n",
       "    </tr>\n",
       "    <tr>\n",
       "      <th>4</th>\n",
       "      <td>test_lessfreq</td>\n",
       "      <td>100799</td>\n",
       "      <td>0.0</td>\n",
       "      <td>object</td>\n",
       "      <td>30</td>\n",
       "      <td>[0, 1, 10, 11, 12, ..., 5, 6, 7, 8, 9]</td>\n",
       "    </tr>\n",
       "    <tr>\n",
       "      <th>5</th>\n",
       "      <td>test_min_count</td>\n",
       "      <td>100799</td>\n",
       "      <td>0.0</td>\n",
       "      <td>object</td>\n",
       "      <td>30</td>\n",
       "      <td>[0, 1, 10, 11, 12, ..., 5, 6, 7, 8, 9]</td>\n",
       "    </tr>\n",
       "    <tr>\n",
       "      <th>6</th>\n",
       "      <td>test_ratio</td>\n",
       "      <td>100799</td>\n",
       "      <td>0.0</td>\n",
       "      <td>float64</td>\n",
       "      <td>100538</td>\n",
       "      <td>[0.024211710155202838, 0.027255346978995582, 0...</td>\n",
       "    </tr>\n",
       "    <tr>\n",
       "      <th>7</th>\n",
       "      <td>test_size</td>\n",
       "      <td>100799</td>\n",
       "      <td>0.0</td>\n",
       "      <td>float64</td>\n",
       "      <td>9</td>\n",
       "      <td>[0.1, 0.2, 0.30000000000000004, 0.4, 0.5, 0.6,...</td>\n",
       "    </tr>\n",
       "    <tr>\n",
       "      <th>8</th>\n",
       "      <td>train_lessfreq</td>\n",
       "      <td>100799</td>\n",
       "      <td>0.0</td>\n",
       "      <td>object</td>\n",
       "      <td>30</td>\n",
       "      <td>[0, 1, 10, 11, 12, ..., 5, 6, 7, 8, 9]</td>\n",
       "    </tr>\n",
       "    <tr>\n",
       "      <th>9</th>\n",
       "      <td>train_ratio</td>\n",
       "      <td>100799</td>\n",
       "      <td>0.0</td>\n",
       "      <td>float64</td>\n",
       "      <td>100538</td>\n",
       "      <td>[0.016213462665645117, 0.017129853111320717, 0...</td>\n",
       "    </tr>\n",
       "  </tbody>\n",
       "</table>\n",
       "</div>"
      ],
      "text/plain": [
       "              field non-null count missing ratio data type unique count  \\\n",
       "0   sample_lessfreq         100799           0.0    object           30   \n",
       "1  sample_min_count         100799           0.0    object           30   \n",
       "2      sample_ratio         100799           0.0   float64          541   \n",
       "3       sample_size         100799           0.0   float64           19   \n",
       "4     test_lessfreq         100799           0.0    object           30   \n",
       "5    test_min_count         100799           0.0    object           30   \n",
       "6        test_ratio         100799           0.0   float64       100538   \n",
       "7         test_size         100799           0.0   float64            9   \n",
       "8    train_lessfreq         100799           0.0    object           30   \n",
       "9       train_ratio         100799           0.0   float64       100538   \n",
       "\n",
       "                                      unique preview  \n",
       "0             [0, 1, 10, 11, 12, ..., 5, 6, 7, 8, 9]  \n",
       "1             [0, 1, 10, 11, 12, ..., 5, 6, 7, 8, 9]  \n",
       "2  [0.06675592536155764, 0.07295573178258284, 0.0...  \n",
       "3  [0.01, 0.01999999999999999, 0.03, 0.0399999999...  \n",
       "4             [0, 1, 10, 11, 12, ..., 5, 6, 7, 8, 9]  \n",
       "5             [0, 1, 10, 11, 12, ..., 5, 6, 7, 8, 9]  \n",
       "6  [0.024211710155202838, 0.027255346978995582, 0...  \n",
       "7  [0.1, 0.2, 0.30000000000000004, 0.4, 0.5, 0.6,...  \n",
       "8             [0, 1, 10, 11, 12, ..., 5, 6, 7, 8, 9]  \n",
       "9  [0.016213462665645117, 0.017129853111320717, 0...  "
      ]
     },
     "metadata": {},
     "output_type": "display_data"
    }
   ],
   "source": [
    "import pickle\n",
    "if not os.path.isfile('/data/drivendata/optimize-sample-split.pkl'):\n",
    "    print('Please run the optimize-sample-split.py')\n",
    "else:\n",
    "    with open('/data/drivendata/optimize-sample-split.pkl', 'rb') as f:\n",
    "        results = pickle.load(f)\n",
    "        display(glimpse(results))"
   ]
  },
  {
   "cell_type": "markdown",
   "metadata": {
    "tags": []
   },
   "source": [
    "## Metric"
   ]
  },
  {
   "cell_type": "markdown",
   "metadata": {},
   "source": [
    "Best sample, train, test ratios"
   ]
  },
  {
   "cell_type": "code",
   "execution_count": 15,
   "metadata": {
    "execution": {
     "iopub.execute_input": "2022-11-17T18:37:47.805293Z",
     "iopub.status.busy": "2022-11-17T18:37:47.805188Z",
     "iopub.status.idle": "2022-11-17T18:37:47.905836Z",
     "shell.execute_reply": "2022-11-17T18:37:47.905546Z",
     "shell.execute_reply.started": "2022-11-17T18:37:47.805283Z"
    },
    "tags": []
   },
   "outputs": [
    {
     "data": {
      "text/html": [
       "<style type=\"text/css\">\n",
       "#T_4608c_row0_col0, #T_4608c_row0_col3, #T_4608c_row0_col8, #T_4608c_row0_col9, #T_4608c_row1_col0, #T_4608c_row1_col3, #T_4608c_row1_col8, #T_4608c_row1_col9, #T_4608c_row2_col0, #T_4608c_row2_col3, #T_4608c_row2_col8, #T_4608c_row2_col9 {\n",
       "  background-color: green;\n",
       "}\n",
       "</style>\n",
       "<table id=\"T_4608c\">\n",
       "  <thead>\n",
       "    <tr>\n",
       "      <th class=\"blank level0\" >&nbsp;</th>\n",
       "      <th id=\"T_4608c_level0_col0\" class=\"col_heading level0 col0\" >sample_size</th>\n",
       "      <th id=\"T_4608c_level0_col1\" class=\"col_heading level0 col1\" >sample_min_count</th>\n",
       "      <th id=\"T_4608c_level0_col2\" class=\"col_heading level0 col2\" >sample_lessfreq</th>\n",
       "      <th id=\"T_4608c_level0_col3\" class=\"col_heading level0 col3\" >sample_ratio</th>\n",
       "      <th id=\"T_4608c_level0_col4\" class=\"col_heading level0 col4\" >test_size</th>\n",
       "      <th id=\"T_4608c_level0_col5\" class=\"col_heading level0 col5\" >test_min_count</th>\n",
       "      <th id=\"T_4608c_level0_col6\" class=\"col_heading level0 col6\" >train_lessfreq</th>\n",
       "      <th id=\"T_4608c_level0_col7\" class=\"col_heading level0 col7\" >test_lessfreq</th>\n",
       "      <th id=\"T_4608c_level0_col8\" class=\"col_heading level0 col8\" >train_ratio</th>\n",
       "      <th id=\"T_4608c_level0_col9\" class=\"col_heading level0 col9\" >test_ratio</th>\n",
       "    </tr>\n",
       "  </thead>\n",
       "  <tbody>\n",
       "    <tr>\n",
       "      <th id=\"T_4608c_level0_row0\" class=\"row_heading level0 row0\" >5133</th>\n",
       "      <td id=\"T_4608c_row0_col0\" class=\"data row0 col0\" >1.000000</td>\n",
       "      <td id=\"T_4608c_row0_col1\" class=\"data row0 col1\" >19</td>\n",
       "      <td id=\"T_4608c_row0_col2\" class=\"data row0 col2\" >29</td>\n",
       "      <td id=\"T_4608c_row0_col3\" class=\"data row0 col3\" >1.000000</td>\n",
       "      <td id=\"T_4608c_row0_col4\" class=\"data row0 col4\" >0.100000</td>\n",
       "      <td id=\"T_4608c_row0_col5\" class=\"data row0 col5\" >3</td>\n",
       "      <td id=\"T_4608c_row0_col6\" class=\"data row0 col6\" >22</td>\n",
       "      <td id=\"T_4608c_row0_col7\" class=\"data row0 col7\" >7</td>\n",
       "      <td id=\"T_4608c_row0_col8\" class=\"data row0 col8\" >0.927843</td>\n",
       "      <td id=\"T_4608c_row0_col9\" class=\"data row0 col9\" >0.217250</td>\n",
       "    </tr>\n",
       "    <tr>\n",
       "      <th id=\"T_4608c_level0_row1\" class=\"row_heading level0 row1\" >7023</th>\n",
       "      <td id=\"T_4608c_row1_col0\" class=\"data row1 col0\" >1.000000</td>\n",
       "      <td id=\"T_4608c_row1_col1\" class=\"data row1 col1\" >26</td>\n",
       "      <td id=\"T_4608c_row1_col2\" class=\"data row1 col2\" >29</td>\n",
       "      <td id=\"T_4608c_row1_col3\" class=\"data row1 col3\" >1.000000</td>\n",
       "      <td id=\"T_4608c_row1_col4\" class=\"data row1 col4\" >0.100000</td>\n",
       "      <td id=\"T_4608c_row1_col5\" class=\"data row1 col5\" >3</td>\n",
       "      <td id=\"T_4608c_row1_col6\" class=\"data row1 col6\" >22</td>\n",
       "      <td id=\"T_4608c_row1_col7\" class=\"data row1 col7\" >7</td>\n",
       "      <td id=\"T_4608c_row1_col8\" class=\"data row1 col8\" >0.927512</td>\n",
       "      <td id=\"T_4608c_row1_col9\" class=\"data row1 col9\" >0.215472</td>\n",
       "    </tr>\n",
       "    <tr>\n",
       "      <th id=\"T_4608c_level0_row2\" class=\"row_heading level0 row2\" >6212</th>\n",
       "      <td id=\"T_4608c_row2_col0\" class=\"data row2 col0\" >1.000000</td>\n",
       "      <td id=\"T_4608c_row2_col1\" class=\"data row2 col1\" >23</td>\n",
       "      <td id=\"T_4608c_row2_col2\" class=\"data row2 col2\" >29</td>\n",
       "      <td id=\"T_4608c_row2_col3\" class=\"data row2 col3\" >1.000000</td>\n",
       "      <td id=\"T_4608c_row2_col4\" class=\"data row2 col4\" >0.100000</td>\n",
       "      <td id=\"T_4608c_row2_col5\" class=\"data row2 col5\" >2</td>\n",
       "      <td id=\"T_4608c_row2_col6\" class=\"data row2 col6\" >24</td>\n",
       "      <td id=\"T_4608c_row2_col7\" class=\"data row2 col7\" >5</td>\n",
       "      <td id=\"T_4608c_row2_col8\" class=\"data row2 col8\" >0.927289</td>\n",
       "      <td id=\"T_4608c_row2_col9\" class=\"data row2 col9\" >0.214517</td>\n",
       "    </tr>\n",
       "  </tbody>\n",
       "</table>\n"
      ],
      "text/plain": [
       "<pandas.io.formats.style.Styler at 0x7f863015f040>"
      ]
     },
     "metadata": {},
     "output_type": "display_data"
    },
    {
     "data": {
      "text/html": [
       "<style type=\"text/css\">\n",
       "#T_81cc1_row0_col0, #T_81cc1_row0_col3, #T_81cc1_row0_col8, #T_81cc1_row0_col9, #T_81cc1_row1_col0, #T_81cc1_row1_col3, #T_81cc1_row1_col8, #T_81cc1_row1_col9, #T_81cc1_row2_col0, #T_81cc1_row2_col3, #T_81cc1_row2_col8, #T_81cc1_row2_col9 {\n",
       "  background-color: red;\n",
       "}\n",
       "</style>\n",
       "<table id=\"T_81cc1\">\n",
       "  <thead>\n",
       "    <tr>\n",
       "      <th class=\"blank level0\" >&nbsp;</th>\n",
       "      <th id=\"T_81cc1_level0_col0\" class=\"col_heading level0 col0\" >sample_size</th>\n",
       "      <th id=\"T_81cc1_level0_col1\" class=\"col_heading level0 col1\" >sample_min_count</th>\n",
       "      <th id=\"T_81cc1_level0_col2\" class=\"col_heading level0 col2\" >sample_lessfreq</th>\n",
       "      <th id=\"T_81cc1_level0_col3\" class=\"col_heading level0 col3\" >sample_ratio</th>\n",
       "      <th id=\"T_81cc1_level0_col4\" class=\"col_heading level0 col4\" >test_size</th>\n",
       "      <th id=\"T_81cc1_level0_col5\" class=\"col_heading level0 col5\" >test_min_count</th>\n",
       "      <th id=\"T_81cc1_level0_col6\" class=\"col_heading level0 col6\" >train_lessfreq</th>\n",
       "      <th id=\"T_81cc1_level0_col7\" class=\"col_heading level0 col7\" >test_lessfreq</th>\n",
       "      <th id=\"T_81cc1_level0_col8\" class=\"col_heading level0 col8\" >train_ratio</th>\n",
       "      <th id=\"T_81cc1_level0_col9\" class=\"col_heading level0 col9\" >test_ratio</th>\n",
       "    </tr>\n",
       "  </thead>\n",
       "  <tbody>\n",
       "    <tr>\n",
       "      <th id=\"T_81cc1_level0_row0\" class=\"row_heading level0 row0\" >97582</th>\n",
       "      <td id=\"T_81cc1_row0_col0\" class=\"data row0 col0\" >0.010000</td>\n",
       "      <td id=\"T_81cc1_row0_col1\" class=\"data row0 col1\" >0</td>\n",
       "      <td id=\"T_81cc1_row0_col2\" class=\"data row0 col2\" >0</td>\n",
       "      <td id=\"T_81cc1_row0_col3\" class=\"data row0 col3\" >0.066756</td>\n",
       "      <td id=\"T_81cc1_row0_col4\" class=\"data row0 col4\" >0.700000</td>\n",
       "      <td id=\"T_81cc1_row0_col5\" class=\"data row0 col5\" >0</td>\n",
       "      <td id=\"T_81cc1_row0_col6\" class=\"data row0 col6\" >0</td>\n",
       "      <td id=\"T_81cc1_row0_col7\" class=\"data row0 col7\" >0</td>\n",
       "      <td id=\"T_81cc1_row0_col8\" class=\"data row0 col8\" >0.036745</td>\n",
       "      <td id=\"T_81cc1_row0_col9\" class=\"data row0 col9\" >0.060474</td>\n",
       "    </tr>\n",
       "    <tr>\n",
       "      <th id=\"T_81cc1_level0_row1\" class=\"row_heading level0 row1\" >97583</th>\n",
       "      <td id=\"T_81cc1_row1_col0\" class=\"data row1 col0\" >0.010000</td>\n",
       "      <td id=\"T_81cc1_row1_col1\" class=\"data row1 col1\" >0</td>\n",
       "      <td id=\"T_81cc1_row1_col2\" class=\"data row1 col2\" >0</td>\n",
       "      <td id=\"T_81cc1_row1_col3\" class=\"data row1 col3\" >0.066756</td>\n",
       "      <td id=\"T_81cc1_row1_col4\" class=\"data row1 col4\" >0.800000</td>\n",
       "      <td id=\"T_81cc1_row1_col5\" class=\"data row1 col5\" >0</td>\n",
       "      <td id=\"T_81cc1_row1_col6\" class=\"data row1 col6\" >0</td>\n",
       "      <td id=\"T_81cc1_row1_col7\" class=\"data row1 col7\" >0</td>\n",
       "      <td id=\"T_81cc1_row1_col8\" class=\"data row1 col8\" >0.035214</td>\n",
       "      <td id=\"T_81cc1_row1_col9\" class=\"data row1 col9\" >0.061512</td>\n",
       "    </tr>\n",
       "    <tr>\n",
       "      <th id=\"T_81cc1_level0_row2\" class=\"row_heading level0 row2\" >97584</th>\n",
       "      <td id=\"T_81cc1_row2_col0\" class=\"data row2 col0\" >0.010000</td>\n",
       "      <td id=\"T_81cc1_row2_col1\" class=\"data row2 col1\" >0</td>\n",
       "      <td id=\"T_81cc1_row2_col2\" class=\"data row2 col2\" >0</td>\n",
       "      <td id=\"T_81cc1_row2_col3\" class=\"data row2 col3\" >0.066756</td>\n",
       "      <td id=\"T_81cc1_row2_col4\" class=\"data row2 col4\" >0.900000</td>\n",
       "      <td id=\"T_81cc1_row2_col5\" class=\"data row2 col5\" >0</td>\n",
       "      <td id=\"T_81cc1_row2_col6\" class=\"data row2 col6\" >0</td>\n",
       "      <td id=\"T_81cc1_row2_col7\" class=\"data row2 col7\" >0</td>\n",
       "      <td id=\"T_81cc1_row2_col8\" class=\"data row2 col8\" >0.017565</td>\n",
       "      <td id=\"T_81cc1_row2_col9\" class=\"data row2 col9\" >0.066583</td>\n",
       "    </tr>\n",
       "  </tbody>\n",
       "</table>\n"
      ],
      "text/plain": [
       "<pandas.io.formats.style.Styler at 0x7f85f19ddd00>"
      ]
     },
     "execution_count": 15,
     "metadata": {},
     "output_type": "execute_result"
    }
   ],
   "source": [
    "metrics = ['sample_size', 'sample_ratio', 'train_ratio', 'test_ratio']\n",
    "display(results.sort_values(metrics, ascending=False).head(3).style.set_properties(**{'background-color': 'green'}, subset=metrics))\n",
    "results.sort_values(metrics, ascending=False).tail(3).style.set_properties(**{'background-color': 'red'}, subset=metrics)"
   ]
  },
  {
   "cell_type": "markdown",
   "metadata": {},
   "source": [
    "# Best parameters selection"
   ]
  },
  {
   "cell_type": "markdown",
   "metadata": {},
   "source": [
    "* To allow cross-validation of 5 folds the minimal class frequency must be 5 for the training set and 1 for the test set."
   ]
  },
  {
   "cell_type": "code",
   "execution_count": 16,
   "metadata": {
    "execution": {
     "iopub.execute_input": "2022-11-17T18:37:47.906375Z",
     "iopub.status.busy": "2022-11-17T18:37:47.906211Z",
     "iopub.status.idle": "2022-11-17T18:37:47.912410Z",
     "shell.execute_reply": "2022-11-17T18:37:47.912032Z",
     "shell.execute_reply.started": "2022-11-17T18:37:47.906363Z"
    },
    "tags": []
   },
   "outputs": [],
   "source": [
    "k = 5\n",
    "k_fold_condition = (results.train_lessfreq >= k) & (results.test_lessfreq >= 1) #& (results.train_lessfreq >= results.test_lessfreq)"
   ]
  },
  {
   "cell_type": "markdown",
   "metadata": {},
   "source": [
    "* For begining the model, the selection should be:\n",
    "    * The smallest sample size (e.g. 0.1)\n",
    "    * The smallest test size (e.g. 0.1)\n",
    "    * The best train ratios\n",
    "* For finishing the model, the parameter set should have:\n",
    "    * The full dataset\n",
    "    * The smallest test size (e.g. 0.1)\n",
    "    * best train ratios"
   ]
  },
  {
   "cell_type": "markdown",
   "metadata": {},
   "source": [
    "## For 1% sample"
   ]
  },
  {
   "cell_type": "code",
   "execution_count": 17,
   "metadata": {
    "execution": {
     "iopub.execute_input": "2022-11-17T18:37:47.912929Z",
     "iopub.status.busy": "2022-11-17T18:37:47.912827Z",
     "iopub.status.idle": "2022-11-17T18:37:47.940678Z",
     "shell.execute_reply": "2022-11-17T18:37:47.940353Z",
     "shell.execute_reply.started": "2022-11-17T18:37:47.912919Z"
    },
    "tags": []
   },
   "outputs": [
    {
     "data": {
      "text/html": [
       "<style type=\"text/css\">\n",
       "#T_c8ede_row0_col0, #T_c8ede_row0_col3, #T_c8ede_row0_col8, #T_c8ede_row0_col9, #T_c8ede_row1_col0, #T_c8ede_row1_col3, #T_c8ede_row1_col8, #T_c8ede_row1_col9, #T_c8ede_row2_col0, #T_c8ede_row2_col3, #T_c8ede_row2_col8, #T_c8ede_row2_col9 {\n",
       "  background-color: green;\n",
       "}\n",
       "</style>\n",
       "<table id=\"T_c8ede\">\n",
       "  <thead>\n",
       "    <tr>\n",
       "      <th class=\"blank level0\" >&nbsp;</th>\n",
       "      <th id=\"T_c8ede_level0_col0\" class=\"col_heading level0 col0\" >sample_size</th>\n",
       "      <th id=\"T_c8ede_level0_col1\" class=\"col_heading level0 col1\" >sample_min_count</th>\n",
       "      <th id=\"T_c8ede_level0_col2\" class=\"col_heading level0 col2\" >sample_lessfreq</th>\n",
       "      <th id=\"T_c8ede_level0_col3\" class=\"col_heading level0 col3\" >sample_ratio</th>\n",
       "      <th id=\"T_c8ede_level0_col4\" class=\"col_heading level0 col4\" >test_size</th>\n",
       "      <th id=\"T_c8ede_level0_col5\" class=\"col_heading level0 col5\" >test_min_count</th>\n",
       "      <th id=\"T_c8ede_level0_col6\" class=\"col_heading level0 col6\" >train_lessfreq</th>\n",
       "      <th id=\"T_c8ede_level0_col7\" class=\"col_heading level0 col7\" >test_lessfreq</th>\n",
       "      <th id=\"T_c8ede_level0_col8\" class=\"col_heading level0 col8\" >train_ratio</th>\n",
       "      <th id=\"T_c8ede_level0_col9\" class=\"col_heading level0 col9\" >test_ratio</th>\n",
       "    </tr>\n",
       "  </thead>\n",
       "  <tbody>\n",
       "    <tr>\n",
       "      <th id=\"T_c8ede_level0_row0\" class=\"row_heading level0 row0\" >100459</th>\n",
       "      <td id=\"T_c8ede_row0_col0\" class=\"data row0 col0\" >0.010000</td>\n",
       "      <td id=\"T_c8ede_row0_col1\" class=\"data row0 col1\" >28</td>\n",
       "      <td id=\"T_c8ede_row0_col2\" class=\"data row0 col2\" >28</td>\n",
       "      <td id=\"T_c8ede_row0_col3\" class=\"data row0 col3\" >0.145545</td>\n",
       "      <td id=\"T_c8ede_row0_col4\" class=\"data row0 col4\" >0.100000</td>\n",
       "      <td id=\"T_c8ede_row0_col5\" class=\"data row0 col5\" >0</td>\n",
       "      <td id=\"T_c8ede_row0_col6\" class=\"data row0 col6\" >22</td>\n",
       "      <td id=\"T_c8ede_row0_col7\" class=\"data row0 col7\" >1</td>\n",
       "      <td id=\"T_c8ede_row0_col8\" class=\"data row0 col8\" >0.139017</td>\n",
       "      <td id=\"T_c8ede_row0_col9\" class=\"data row0 col9\" >0.068591</td>\n",
       "    </tr>\n",
       "    <tr>\n",
       "      <th id=\"T_c8ede_level0_row1\" class=\"row_heading level0 row1\" >100461</th>\n",
       "      <td id=\"T_c8ede_row1_col0\" class=\"data row1 col0\" >0.010000</td>\n",
       "      <td id=\"T_c8ede_row1_col1\" class=\"data row1 col1\" >28</td>\n",
       "      <td id=\"T_c8ede_row1_col2\" class=\"data row1 col2\" >28</td>\n",
       "      <td id=\"T_c8ede_row1_col3\" class=\"data row1 col3\" >0.145545</td>\n",
       "      <td id=\"T_c8ede_row1_col4\" class=\"data row1 col4\" >0.100000</td>\n",
       "      <td id=\"T_c8ede_row1_col5\" class=\"data row1 col5\" >2</td>\n",
       "      <td id=\"T_c8ede_row1_col6\" class=\"data row1 col6\" >21</td>\n",
       "      <td id=\"T_c8ede_row1_col7\" class=\"data row1 col7\" >3</td>\n",
       "      <td id=\"T_c8ede_row1_col8\" class=\"data row1 col8\" >0.137327</td>\n",
       "      <td id=\"T_c8ede_row1_col9\" class=\"data row1 col9\" >0.074610</td>\n",
       "    </tr>\n",
       "    <tr>\n",
       "      <th id=\"T_c8ede_level0_row2\" class=\"row_heading level0 row2\" >100460</th>\n",
       "      <td id=\"T_c8ede_row2_col0\" class=\"data row2 col0\" >0.010000</td>\n",
       "      <td id=\"T_c8ede_row2_col1\" class=\"data row2 col1\" >28</td>\n",
       "      <td id=\"T_c8ede_row2_col2\" class=\"data row2 col2\" >28</td>\n",
       "      <td id=\"T_c8ede_row2_col3\" class=\"data row2 col3\" >0.145545</td>\n",
       "      <td id=\"T_c8ede_row2_col4\" class=\"data row2 col4\" >0.100000</td>\n",
       "      <td id=\"T_c8ede_row2_col5\" class=\"data row2 col5\" >1</td>\n",
       "      <td id=\"T_c8ede_row2_col6\" class=\"data row2 col6\" >21</td>\n",
       "      <td id=\"T_c8ede_row2_col7\" class=\"data row2 col7\" >1</td>\n",
       "      <td id=\"T_c8ede_row2_col8\" class=\"data row2 col8\" >0.135156</td>\n",
       "      <td id=\"T_c8ede_row2_col9\" class=\"data row2 col9\" >0.093377</td>\n",
       "    </tr>\n",
       "  </tbody>\n",
       "</table>\n"
      ],
      "text/plain": [
       "<pandas.io.formats.style.Styler at 0x7f85f19df3d0>"
      ]
     },
     "execution_count": 17,
     "metadata": {},
     "output_type": "execute_result"
    }
   ],
   "source": [
    "ascending = [True, False, False, False]\n",
    "results[k_fold_condition].sort_values(metrics, ascending=ascending).head(3).style.set_properties(**{'background-color': 'green'}, subset=metrics)"
   ]
  },
  {
   "cell_type": "markdown",
   "metadata": {},
   "source": [
    "## 10% sample"
   ]
  },
  {
   "cell_type": "code",
   "execution_count": 18,
   "metadata": {
    "execution": {
     "iopub.execute_input": "2022-11-17T18:37:47.941155Z",
     "iopub.status.busy": "2022-11-17T18:37:47.941049Z",
     "iopub.status.idle": "2022-11-17T18:37:47.956596Z",
     "shell.execute_reply": "2022-11-17T18:37:47.956337Z",
     "shell.execute_reply.started": "2022-11-17T18:37:47.941146Z"
    },
    "tags": []
   },
   "outputs": [
    {
     "data": {
      "text/html": [
       "<style type=\"text/css\">\n",
       "#T_2cd3b_row0_col0, #T_2cd3b_row0_col3, #T_2cd3b_row0_col8, #T_2cd3b_row0_col9, #T_2cd3b_row1_col0, #T_2cd3b_row1_col3, #T_2cd3b_row1_col8, #T_2cd3b_row1_col9, #T_2cd3b_row2_col0, #T_2cd3b_row2_col3, #T_2cd3b_row2_col8, #T_2cd3b_row2_col9 {\n",
       "  background-color: green;\n",
       "}\n",
       "</style>\n",
       "<table id=\"T_2cd3b\">\n",
       "  <thead>\n",
       "    <tr>\n",
       "      <th class=\"blank level0\" >&nbsp;</th>\n",
       "      <th id=\"T_2cd3b_level0_col0\" class=\"col_heading level0 col0\" >sample_size</th>\n",
       "      <th id=\"T_2cd3b_level0_col1\" class=\"col_heading level0 col1\" >sample_min_count</th>\n",
       "      <th id=\"T_2cd3b_level0_col2\" class=\"col_heading level0 col2\" >sample_lessfreq</th>\n",
       "      <th id=\"T_2cd3b_level0_col3\" class=\"col_heading level0 col3\" >sample_ratio</th>\n",
       "      <th id=\"T_2cd3b_level0_col4\" class=\"col_heading level0 col4\" >test_size</th>\n",
       "      <th id=\"T_2cd3b_level0_col5\" class=\"col_heading level0 col5\" >test_min_count</th>\n",
       "      <th id=\"T_2cd3b_level0_col6\" class=\"col_heading level0 col6\" >train_lessfreq</th>\n",
       "      <th id=\"T_2cd3b_level0_col7\" class=\"col_heading level0 col7\" >test_lessfreq</th>\n",
       "      <th id=\"T_2cd3b_level0_col8\" class=\"col_heading level0 col8\" >train_ratio</th>\n",
       "      <th id=\"T_2cd3b_level0_col9\" class=\"col_heading level0 col9\" >test_ratio</th>\n",
       "    </tr>\n",
       "  </thead>\n",
       "  <tbody>\n",
       "    <tr>\n",
       "      <th id=\"T_2cd3b_level0_row0\" class=\"row_heading level0 row0\" >62946</th>\n",
       "      <td id=\"T_2cd3b_row0_col0\" class=\"data row0 col0\" >0.100000</td>\n",
       "      <td id=\"T_2cd3b_row0_col1\" class=\"data row0 col1\" >28</td>\n",
       "      <td id=\"T_2cd3b_row0_col2\" class=\"data row0 col2\" >28</td>\n",
       "      <td id=\"T_2cd3b_row0_col3\" class=\"data row0 col3\" >0.250124</td>\n",
       "      <td id=\"T_2cd3b_row0_col4\" class=\"data row0 col4\" >0.100000</td>\n",
       "      <td id=\"T_2cd3b_row0_col5\" class=\"data row0 col5\" >0</td>\n",
       "      <td id=\"T_2cd3b_row0_col6\" class=\"data row0 col6\" >23</td>\n",
       "      <td id=\"T_2cd3b_row0_col7\" class=\"data row0 col7\" >1</td>\n",
       "      <td id=\"T_2cd3b_row0_col8\" class=\"data row0 col8\" >0.232157</td>\n",
       "      <td id=\"T_2cd3b_row0_col9\" class=\"data row0 col9\" >0.092049</td>\n",
       "    </tr>\n",
       "    <tr>\n",
       "      <th id=\"T_2cd3b_level0_row1\" class=\"row_heading level0 row1\" >62947</th>\n",
       "      <td id=\"T_2cd3b_row1_col0\" class=\"data row1 col0\" >0.100000</td>\n",
       "      <td id=\"T_2cd3b_row1_col1\" class=\"data row1 col1\" >28</td>\n",
       "      <td id=\"T_2cd3b_row1_col2\" class=\"data row1 col2\" >28</td>\n",
       "      <td id=\"T_2cd3b_row1_col3\" class=\"data row1 col3\" >0.250124</td>\n",
       "      <td id=\"T_2cd3b_row1_col4\" class=\"data row1 col4\" >0.100000</td>\n",
       "      <td id=\"T_2cd3b_row1_col5\" class=\"data row1 col5\" >1</td>\n",
       "      <td id=\"T_2cd3b_row1_col6\" class=\"data row1 col6\" >23</td>\n",
       "      <td id=\"T_2cd3b_row1_col7\" class=\"data row1 col7\" >2</td>\n",
       "      <td id=\"T_2cd3b_row1_col8\" class=\"data row1 col8\" >0.230817</td>\n",
       "      <td id=\"T_2cd3b_row1_col9\" class=\"data row1 col9\" >0.089238</td>\n",
       "    </tr>\n",
       "    <tr>\n",
       "      <th id=\"T_2cd3b_level0_row2\" class=\"row_heading level0 row2\" >62949</th>\n",
       "      <td id=\"T_2cd3b_row2_col0\" class=\"data row2 col0\" >0.100000</td>\n",
       "      <td id=\"T_2cd3b_row2_col1\" class=\"data row2 col1\" >28</td>\n",
       "      <td id=\"T_2cd3b_row2_col2\" class=\"data row2 col2\" >28</td>\n",
       "      <td id=\"T_2cd3b_row2_col3\" class=\"data row2 col3\" >0.250124</td>\n",
       "      <td id=\"T_2cd3b_row2_col4\" class=\"data row2 col4\" >0.100000</td>\n",
       "      <td id=\"T_2cd3b_row2_col5\" class=\"data row2 col5\" >3</td>\n",
       "      <td id=\"T_2cd3b_row2_col6\" class=\"data row2 col6\" >23</td>\n",
       "      <td id=\"T_2cd3b_row2_col7\" class=\"data row2 col7\" >5</td>\n",
       "      <td id=\"T_2cd3b_row2_col8\" class=\"data row2 col8\" >0.230547</td>\n",
       "      <td id=\"T_2cd3b_row2_col9\" class=\"data row2 col9\" >0.095275</td>\n",
       "    </tr>\n",
       "  </tbody>\n",
       "</table>\n"
      ],
      "text/plain": [
       "<pandas.io.formats.style.Styler at 0x7f85e2b98310>"
      ]
     },
     "execution_count": 18,
     "metadata": {},
     "output_type": "execute_result"
    }
   ],
   "source": [
    "results[k_fold_condition & (results.sample_size>=0.1)\n",
    "       ].sort_values(metrics, ascending=ascending).head(3).style.set_properties(**{'background-color': 'green'}, subset=metrics)"
   ]
  },
  {
   "cell_type": "markdown",
   "metadata": {},
   "source": [
    "## 20% sample"
   ]
  },
  {
   "cell_type": "code",
   "execution_count": 19,
   "metadata": {
    "execution": {
     "iopub.execute_input": "2022-11-17T18:37:47.957068Z",
     "iopub.status.busy": "2022-11-17T18:37:47.956964Z",
     "iopub.status.idle": "2022-11-17T18:37:47.972317Z",
     "shell.execute_reply": "2022-11-17T18:37:47.971999Z",
     "shell.execute_reply.started": "2022-11-17T18:37:47.957058Z"
    },
    "tags": []
   },
   "outputs": [
    {
     "data": {
      "text/html": [
       "<style type=\"text/css\">\n",
       "#T_4eea3_row0_col0, #T_4eea3_row0_col3, #T_4eea3_row0_col8, #T_4eea3_row0_col9, #T_4eea3_row1_col0, #T_4eea3_row1_col3, #T_4eea3_row1_col8, #T_4eea3_row1_col9, #T_4eea3_row2_col0, #T_4eea3_row2_col3, #T_4eea3_row2_col8, #T_4eea3_row2_col9 {\n",
       "  background-color: green;\n",
       "}\n",
       "</style>\n",
       "<table id=\"T_4eea3\">\n",
       "  <thead>\n",
       "    <tr>\n",
       "      <th class=\"blank level0\" >&nbsp;</th>\n",
       "      <th id=\"T_4eea3_level0_col0\" class=\"col_heading level0 col0\" >sample_size</th>\n",
       "      <th id=\"T_4eea3_level0_col1\" class=\"col_heading level0 col1\" >sample_min_count</th>\n",
       "      <th id=\"T_4eea3_level0_col2\" class=\"col_heading level0 col2\" >sample_lessfreq</th>\n",
       "      <th id=\"T_4eea3_level0_col3\" class=\"col_heading level0 col3\" >sample_ratio</th>\n",
       "      <th id=\"T_4eea3_level0_col4\" class=\"col_heading level0 col4\" >test_size</th>\n",
       "      <th id=\"T_4eea3_level0_col5\" class=\"col_heading level0 col5\" >test_min_count</th>\n",
       "      <th id=\"T_4eea3_level0_col6\" class=\"col_heading level0 col6\" >train_lessfreq</th>\n",
       "      <th id=\"T_4eea3_level0_col7\" class=\"col_heading level0 col7\" >test_lessfreq</th>\n",
       "      <th id=\"T_4eea3_level0_col8\" class=\"col_heading level0 col8\" >train_ratio</th>\n",
       "      <th id=\"T_4eea3_level0_col9\" class=\"col_heading level0 col9\" >test_ratio</th>\n",
       "    </tr>\n",
       "  </thead>\n",
       "  <tbody>\n",
       "    <tr>\n",
       "      <th id=\"T_4eea3_level0_row0\" class=\"row_heading level0 row0\" >58365</th>\n",
       "      <td id=\"T_4eea3_row0_col0\" class=\"data row0 col0\" >0.200000</td>\n",
       "      <td id=\"T_4eea3_row0_col1\" class=\"data row0 col1\" >28</td>\n",
       "      <td id=\"T_4eea3_row0_col2\" class=\"data row0 col2\" >28</td>\n",
       "      <td id=\"T_4eea3_row0_col3\" class=\"data row0 col3\" >0.357271</td>\n",
       "      <td id=\"T_4eea3_row0_col4\" class=\"data row0 col4\" >0.100000</td>\n",
       "      <td id=\"T_4eea3_row0_col5\" class=\"data row0 col5\" >0</td>\n",
       "      <td id=\"T_4eea3_row0_col6\" class=\"data row0 col6\" >26</td>\n",
       "      <td id=\"T_4eea3_row0_col7\" class=\"data row0 col7\" >1</td>\n",
       "      <td id=\"T_4eea3_row0_col8\" class=\"data row0 col8\" >0.336651</td>\n",
       "      <td id=\"T_4eea3_row0_col9\" class=\"data row0 col9\" >0.095655</td>\n",
       "    </tr>\n",
       "    <tr>\n",
       "      <th id=\"T_4eea3_level0_row1\" class=\"row_heading level0 row1\" >58366</th>\n",
       "      <td id=\"T_4eea3_row1_col0\" class=\"data row1 col0\" >0.200000</td>\n",
       "      <td id=\"T_4eea3_row1_col1\" class=\"data row1 col1\" >28</td>\n",
       "      <td id=\"T_4eea3_row1_col2\" class=\"data row1 col2\" >28</td>\n",
       "      <td id=\"T_4eea3_row1_col3\" class=\"data row1 col3\" >0.357271</td>\n",
       "      <td id=\"T_4eea3_row1_col4\" class=\"data row1 col4\" >0.100000</td>\n",
       "      <td id=\"T_4eea3_row1_col5\" class=\"data row1 col5\" >1</td>\n",
       "      <td id=\"T_4eea3_row1_col6\" class=\"data row1 col6\" >26</td>\n",
       "      <td id=\"T_4eea3_row1_col7\" class=\"data row1 col7\" >2</td>\n",
       "      <td id=\"T_4eea3_row1_col8\" class=\"data row1 col8\" >0.334249</td>\n",
       "      <td id=\"T_4eea3_row1_col9\" class=\"data row1 col9\" >0.099641</td>\n",
       "    </tr>\n",
       "    <tr>\n",
       "      <th id=\"T_4eea3_level0_row2\" class=\"row_heading level0 row2\" >58367</th>\n",
       "      <td id=\"T_4eea3_row2_col0\" class=\"data row2 col0\" >0.200000</td>\n",
       "      <td id=\"T_4eea3_row2_col1\" class=\"data row2 col1\" >28</td>\n",
       "      <td id=\"T_4eea3_row2_col2\" class=\"data row2 col2\" >28</td>\n",
       "      <td id=\"T_4eea3_row2_col3\" class=\"data row2 col3\" >0.357271</td>\n",
       "      <td id=\"T_4eea3_row2_col4\" class=\"data row2 col4\" >0.100000</td>\n",
       "      <td id=\"T_4eea3_row2_col5\" class=\"data row2 col5\" >2</td>\n",
       "      <td id=\"T_4eea3_row2_col6\" class=\"data row2 col6\" >25</td>\n",
       "      <td id=\"T_4eea3_row2_col7\" class=\"data row2 col7\" >3</td>\n",
       "      <td id=\"T_4eea3_row2_col8\" class=\"data row2 col8\" >0.333678</td>\n",
       "      <td id=\"T_4eea3_row2_col9\" class=\"data row2 col9\" >0.106211</td>\n",
       "    </tr>\n",
       "  </tbody>\n",
       "</table>\n"
      ],
      "text/plain": [
       "<pandas.io.formats.style.Styler at 0x7f85f139dbb0>"
      ]
     },
     "execution_count": 19,
     "metadata": {},
     "output_type": "execute_result"
    }
   ],
   "source": [
    "results[k_fold_condition & (results.sample_size>=0.19)\n",
    "       ].sort_values(metrics, ascending=ascending).head(3).style.set_properties(**{'background-color': 'green'}, subset=metrics)"
   ]
  },
  {
   "cell_type": "markdown",
   "metadata": {},
   "source": [
    "## 30% sample"
   ]
  },
  {
   "cell_type": "code",
   "execution_count": 20,
   "metadata": {
    "execution": {
     "iopub.execute_input": "2022-11-17T18:37:47.972803Z",
     "iopub.status.busy": "2022-11-17T18:37:47.972697Z",
     "iopub.status.idle": "2022-11-17T18:37:47.987215Z",
     "shell.execute_reply": "2022-11-17T18:37:47.986923Z",
     "shell.execute_reply.started": "2022-11-17T18:37:47.972793Z"
    },
    "tags": []
   },
   "outputs": [
    {
     "data": {
      "text/html": [
       "<style type=\"text/css\">\n",
       "#T_f987a_row0_col0, #T_f987a_row0_col3, #T_f987a_row0_col8, #T_f987a_row0_col9, #T_f987a_row1_col0, #T_f987a_row1_col3, #T_f987a_row1_col8, #T_f987a_row1_col9, #T_f987a_row2_col0, #T_f987a_row2_col3, #T_f987a_row2_col8, #T_f987a_row2_col9 {\n",
       "  background-color: green;\n",
       "}\n",
       "</style>\n",
       "<table id=\"T_f987a\">\n",
       "  <thead>\n",
       "    <tr>\n",
       "      <th class=\"blank level0\" >&nbsp;</th>\n",
       "      <th id=\"T_f987a_level0_col0\" class=\"col_heading level0 col0\" >sample_size</th>\n",
       "      <th id=\"T_f987a_level0_col1\" class=\"col_heading level0 col1\" >sample_min_count</th>\n",
       "      <th id=\"T_f987a_level0_col2\" class=\"col_heading level0 col2\" >sample_lessfreq</th>\n",
       "      <th id=\"T_f987a_level0_col3\" class=\"col_heading level0 col3\" >sample_ratio</th>\n",
       "      <th id=\"T_f987a_level0_col4\" class=\"col_heading level0 col4\" >test_size</th>\n",
       "      <th id=\"T_f987a_level0_col5\" class=\"col_heading level0 col5\" >test_min_count</th>\n",
       "      <th id=\"T_f987a_level0_col6\" class=\"col_heading level0 col6\" >train_lessfreq</th>\n",
       "      <th id=\"T_f987a_level0_col7\" class=\"col_heading level0 col7\" >test_lessfreq</th>\n",
       "      <th id=\"T_f987a_level0_col8\" class=\"col_heading level0 col8\" >train_ratio</th>\n",
       "      <th id=\"T_f987a_level0_col9\" class=\"col_heading level0 col9\" >test_ratio</th>\n",
       "    </tr>\n",
       "  </thead>\n",
       "  <tbody>\n",
       "    <tr>\n",
       "      <th id=\"T_f987a_level0_row0\" class=\"row_heading level0 row0\" >53391</th>\n",
       "      <td id=\"T_f987a_row0_col0\" class=\"data row0 col0\" >0.300000</td>\n",
       "      <td id=\"T_f987a_row0_col1\" class=\"data row0 col1\" >28</td>\n",
       "      <td id=\"T_f987a_row0_col2\" class=\"data row0 col2\" >28</td>\n",
       "      <td id=\"T_f987a_row0_col3\" class=\"data row0 col3\" >0.450148</td>\n",
       "      <td id=\"T_f987a_row0_col4\" class=\"data row0 col4\" >0.100000</td>\n",
       "      <td id=\"T_f987a_row0_col5\" class=\"data row0 col5\" >3</td>\n",
       "      <td id=\"T_f987a_row0_col6\" class=\"data row0 col6\" >24</td>\n",
       "      <td id=\"T_f987a_row0_col7\" class=\"data row0 col7\" >4</td>\n",
       "      <td id=\"T_f987a_row0_col8\" class=\"data row0 col8\" >0.420175</td>\n",
       "      <td id=\"T_f987a_row0_col9\" class=\"data row0 col9\" >0.121831</td>\n",
       "    </tr>\n",
       "    <tr>\n",
       "      <th id=\"T_f987a_level0_row1\" class=\"row_heading level0 row1\" >53389</th>\n",
       "      <td id=\"T_f987a_row1_col0\" class=\"data row1 col0\" >0.300000</td>\n",
       "      <td id=\"T_f987a_row1_col1\" class=\"data row1 col1\" >28</td>\n",
       "      <td id=\"T_f987a_row1_col2\" class=\"data row1 col2\" >28</td>\n",
       "      <td id=\"T_f987a_row1_col3\" class=\"data row1 col3\" >0.450148</td>\n",
       "      <td id=\"T_f987a_row1_col4\" class=\"data row1 col4\" >0.100000</td>\n",
       "      <td id=\"T_f987a_row1_col5\" class=\"data row1 col5\" >1</td>\n",
       "      <td id=\"T_f987a_row1_col6\" class=\"data row1 col6\" >27</td>\n",
       "      <td id=\"T_f987a_row1_col7\" class=\"data row1 col7\" >1</td>\n",
       "      <td id=\"T_f987a_row1_col8\" class=\"data row1 col8\" >0.419030</td>\n",
       "      <td id=\"T_f987a_row1_col9\" class=\"data row1 col9\" >0.125206</td>\n",
       "    </tr>\n",
       "    <tr>\n",
       "      <th id=\"T_f987a_level0_row2\" class=\"row_heading level0 row2\" >53390</th>\n",
       "      <td id=\"T_f987a_row2_col0\" class=\"data row2 col0\" >0.300000</td>\n",
       "      <td id=\"T_f987a_row2_col1\" class=\"data row2 col1\" >28</td>\n",
       "      <td id=\"T_f987a_row2_col2\" class=\"data row2 col2\" >28</td>\n",
       "      <td id=\"T_f987a_row2_col3\" class=\"data row2 col3\" >0.450148</td>\n",
       "      <td id=\"T_f987a_row2_col4\" class=\"data row2 col4\" >0.100000</td>\n",
       "      <td id=\"T_f987a_row2_col5\" class=\"data row2 col5\" >2</td>\n",
       "      <td id=\"T_f987a_row2_col6\" class=\"data row2 col6\" >21</td>\n",
       "      <td id=\"T_f987a_row2_col7\" class=\"data row2 col7\" >4</td>\n",
       "      <td id=\"T_f987a_row2_col8\" class=\"data row2 col8\" >0.418754</td>\n",
       "      <td id=\"T_f987a_row2_col9\" class=\"data row2 col9\" >0.122319</td>\n",
       "    </tr>\n",
       "  </tbody>\n",
       "</table>\n"
      ],
      "text/plain": [
       "<pandas.io.formats.style.Styler at 0x7f85f13ffdc0>"
      ]
     },
     "execution_count": 20,
     "metadata": {},
     "output_type": "execute_result"
    }
   ],
   "source": [
    "results[k_fold_condition & (results.sample_size>=0.2)\n",
    "       ].sort_values(metrics, ascending=ascending).head(3).style.set_properties(**{'background-color': 'green'}, subset=metrics)"
   ]
  },
  {
   "cell_type": "markdown",
   "metadata": {
    "execution": {
     "iopub.execute_input": "2022-09-01T20:51:53.116601Z",
     "iopub.status.busy": "2022-09-01T20:51:53.116445Z",
     "iopub.status.idle": "2022-09-01T20:51:53.119196Z",
     "shell.execute_reply": "2022-09-01T20:51:53.118771Z",
     "shell.execute_reply.started": "2022-09-01T20:51:53.116589Z"
    },
    "tags": []
   },
   "source": [
    "## 50% sample"
   ]
  },
  {
   "cell_type": "code",
   "execution_count": 21,
   "metadata": {
    "execution": {
     "iopub.execute_input": "2022-11-17T18:37:47.987682Z",
     "iopub.status.busy": "2022-11-17T18:37:47.987581Z",
     "iopub.status.idle": "2022-11-17T18:37:48.001163Z",
     "shell.execute_reply": "2022-11-17T18:37:48.000852Z",
     "shell.execute_reply.started": "2022-11-17T18:37:47.987672Z"
    },
    "tags": []
   },
   "outputs": [
    {
     "data": {
      "text/html": [
       "<style type=\"text/css\">\n",
       "#T_f7ccc_row0_col0, #T_f7ccc_row0_col3, #T_f7ccc_row0_col8, #T_f7ccc_row0_col9, #T_f7ccc_row1_col0, #T_f7ccc_row1_col3, #T_f7ccc_row1_col8, #T_f7ccc_row1_col9, #T_f7ccc_row2_col0, #T_f7ccc_row2_col3, #T_f7ccc_row2_col8, #T_f7ccc_row2_col9 {\n",
       "  background-color: green;\n",
       "}\n",
       "</style>\n",
       "<table id=\"T_f7ccc\">\n",
       "  <thead>\n",
       "    <tr>\n",
       "      <th class=\"blank level0\" >&nbsp;</th>\n",
       "      <th id=\"T_f7ccc_level0_col0\" class=\"col_heading level0 col0\" >sample_size</th>\n",
       "      <th id=\"T_f7ccc_level0_col1\" class=\"col_heading level0 col1\" >sample_min_count</th>\n",
       "      <th id=\"T_f7ccc_level0_col2\" class=\"col_heading level0 col2\" >sample_lessfreq</th>\n",
       "      <th id=\"T_f7ccc_level0_col3\" class=\"col_heading level0 col3\" >sample_ratio</th>\n",
       "      <th id=\"T_f7ccc_level0_col4\" class=\"col_heading level0 col4\" >test_size</th>\n",
       "      <th id=\"T_f7ccc_level0_col5\" class=\"col_heading level0 col5\" >test_min_count</th>\n",
       "      <th id=\"T_f7ccc_level0_col6\" class=\"col_heading level0 col6\" >train_lessfreq</th>\n",
       "      <th id=\"T_f7ccc_level0_col7\" class=\"col_heading level0 col7\" >test_lessfreq</th>\n",
       "      <th id=\"T_f7ccc_level0_col8\" class=\"col_heading level0 col8\" >train_ratio</th>\n",
       "      <th id=\"T_f7ccc_level0_col9\" class=\"col_heading level0 col9\" >test_ratio</th>\n",
       "    </tr>\n",
       "  </thead>\n",
       "  <tbody>\n",
       "    <tr>\n",
       "      <th id=\"T_f7ccc_level0_row0\" class=\"row_heading level0 row0\" >42507</th>\n",
       "      <td id=\"T_f7ccc_row0_col0\" class=\"data row0 col0\" >0.500000</td>\n",
       "      <td id=\"T_f7ccc_row0_col1\" class=\"data row0 col1\" >29</td>\n",
       "      <td id=\"T_f7ccc_row0_col2\" class=\"data row0 col2\" >29</td>\n",
       "      <td id=\"T_f7ccc_row0_col3\" class=\"data row0 col3\" >0.620021</td>\n",
       "      <td id=\"T_f7ccc_row0_col4\" class=\"data row0 col4\" >0.100000</td>\n",
       "      <td id=\"T_f7ccc_row0_col5\" class=\"data row0 col5\" >0</td>\n",
       "      <td id=\"T_f7ccc_row0_col6\" class=\"data row0 col6\" >27</td>\n",
       "      <td id=\"T_f7ccc_row0_col7\" class=\"data row0 col7\" >2</td>\n",
       "      <td id=\"T_f7ccc_row0_col8\" class=\"data row0 col8\" >0.578020</td>\n",
       "      <td id=\"T_f7ccc_row0_col9\" class=\"data row0 col9\" >0.144577</td>\n",
       "    </tr>\n",
       "    <tr>\n",
       "      <th id=\"T_f7ccc_level0_row1\" class=\"row_heading level0 row1\" >42510</th>\n",
       "      <td id=\"T_f7ccc_row1_col0\" class=\"data row1 col0\" >0.500000</td>\n",
       "      <td id=\"T_f7ccc_row1_col1\" class=\"data row1 col1\" >29</td>\n",
       "      <td id=\"T_f7ccc_row1_col2\" class=\"data row1 col2\" >29</td>\n",
       "      <td id=\"T_f7ccc_row1_col3\" class=\"data row1 col3\" >0.620021</td>\n",
       "      <td id=\"T_f7ccc_row1_col4\" class=\"data row1 col4\" >0.100000</td>\n",
       "      <td id=\"T_f7ccc_row1_col5\" class=\"data row1 col5\" >3</td>\n",
       "      <td id=\"T_f7ccc_row1_col6\" class=\"data row1 col6\" >23</td>\n",
       "      <td id=\"T_f7ccc_row1_col7\" class=\"data row1 col7\" >6</td>\n",
       "      <td id=\"T_f7ccc_row1_col8\" class=\"data row1 col8\" >0.576383</td>\n",
       "      <td id=\"T_f7ccc_row1_col9\" class=\"data row1 col9\" >0.157208</td>\n",
       "    </tr>\n",
       "    <tr>\n",
       "      <th id=\"T_f7ccc_level0_row2\" class=\"row_heading level0 row2\" >42509</th>\n",
       "      <td id=\"T_f7ccc_row2_col0\" class=\"data row2 col0\" >0.500000</td>\n",
       "      <td id=\"T_f7ccc_row2_col1\" class=\"data row2 col1\" >29</td>\n",
       "      <td id=\"T_f7ccc_row2_col2\" class=\"data row2 col2\" >29</td>\n",
       "      <td id=\"T_f7ccc_row2_col3\" class=\"data row2 col3\" >0.620021</td>\n",
       "      <td id=\"T_f7ccc_row2_col4\" class=\"data row2 col4\" >0.100000</td>\n",
       "      <td id=\"T_f7ccc_row2_col5\" class=\"data row2 col5\" >2</td>\n",
       "      <td id=\"T_f7ccc_row2_col6\" class=\"data row2 col6\" >22</td>\n",
       "      <td id=\"T_f7ccc_row2_col7\" class=\"data row2 col7\" >6</td>\n",
       "      <td id=\"T_f7ccc_row2_col8\" class=\"data row2 col8\" >0.576330</td>\n",
       "      <td id=\"T_f7ccc_row2_col9\" class=\"data row2 col9\" >0.153578</td>\n",
       "    </tr>\n",
       "  </tbody>\n",
       "</table>\n"
      ],
      "text/plain": [
       "<pandas.io.formats.style.Styler at 0x7f85f149dd90>"
      ]
     },
     "execution_count": 21,
     "metadata": {},
     "output_type": "execute_result"
    }
   ],
   "source": [
    "results[(results.train_lessfreq >= k) & (results.test_lessfreq >= 1) & (results.train_lessfreq > results.test_lessfreq) & (results.sample_size==0.5)\n",
    "       ].sort_values(metrics, ascending=ascending).head(3).style.set_properties(**{'background-color': 'green'}, subset=metrics)"
   ]
  },
  {
   "cell_type": "markdown",
   "metadata": {
    "execution": {
     "iopub.execute_input": "2022-09-01T20:51:53.116601Z",
     "iopub.status.busy": "2022-09-01T20:51:53.116445Z",
     "iopub.status.idle": "2022-09-01T20:51:53.119196Z",
     "shell.execute_reply": "2022-09-01T20:51:53.118771Z",
     "shell.execute_reply.started": "2022-09-01T20:51:53.116589Z"
    }
   },
   "source": [
    "## 60% sample"
   ]
  },
  {
   "cell_type": "code",
   "execution_count": 22,
   "metadata": {
    "execution": {
     "iopub.execute_input": "2022-11-17T18:37:48.001746Z",
     "iopub.status.busy": "2022-11-17T18:37:48.001516Z",
     "iopub.status.idle": "2022-11-17T18:37:48.008559Z",
     "shell.execute_reply": "2022-11-17T18:37:48.008165Z",
     "shell.execute_reply.started": "2022-11-17T18:37:48.001736Z"
    },
    "tags": []
   },
   "outputs": [
    {
     "data": {
      "text/html": [
       "<style type=\"text/css\">\n",
       "#T_5fba2_row0_col0, #T_5fba2_row0_col3, #T_5fba2_row0_col8, #T_5fba2_row0_col9, #T_5fba2_row1_col0, #T_5fba2_row1_col3, #T_5fba2_row1_col8, #T_5fba2_row1_col9, #T_5fba2_row2_col0, #T_5fba2_row2_col3, #T_5fba2_row2_col8, #T_5fba2_row2_col9 {\n",
       "  background-color: green;\n",
       "}\n",
       "</style>\n",
       "<table id=\"T_5fba2\">\n",
       "  <thead>\n",
       "    <tr>\n",
       "      <th class=\"blank level0\" >&nbsp;</th>\n",
       "      <th id=\"T_5fba2_level0_col0\" class=\"col_heading level0 col0\" >sample_size</th>\n",
       "      <th id=\"T_5fba2_level0_col1\" class=\"col_heading level0 col1\" >sample_min_count</th>\n",
       "      <th id=\"T_5fba2_level0_col2\" class=\"col_heading level0 col2\" >sample_lessfreq</th>\n",
       "      <th id=\"T_5fba2_level0_col3\" class=\"col_heading level0 col3\" >sample_ratio</th>\n",
       "      <th id=\"T_5fba2_level0_col4\" class=\"col_heading level0 col4\" >test_size</th>\n",
       "      <th id=\"T_5fba2_level0_col5\" class=\"col_heading level0 col5\" >test_min_count</th>\n",
       "      <th id=\"T_5fba2_level0_col6\" class=\"col_heading level0 col6\" >train_lessfreq</th>\n",
       "      <th id=\"T_5fba2_level0_col7\" class=\"col_heading level0 col7\" >test_lessfreq</th>\n",
       "      <th id=\"T_5fba2_level0_col8\" class=\"col_heading level0 col8\" >train_ratio</th>\n",
       "      <th id=\"T_5fba2_level0_col9\" class=\"col_heading level0 col9\" >test_ratio</th>\n",
       "    </tr>\n",
       "  </thead>\n",
       "  <tbody>\n",
       "    <tr>\n",
       "      <th id=\"T_5fba2_level0_row0\" class=\"row_heading level0 row0\" >34070</th>\n",
       "      <td id=\"T_5fba2_row0_col0\" class=\"data row0 col0\" >0.600000</td>\n",
       "      <td id=\"T_5fba2_row0_col1\" class=\"data row0 col1\" >20</td>\n",
       "      <td id=\"T_5fba2_row0_col2\" class=\"data row0 col2\" >26</td>\n",
       "      <td id=\"T_5fba2_row0_col3\" class=\"data row0 col3\" >0.699567</td>\n",
       "      <td id=\"T_5fba2_row0_col4\" class=\"data row0 col4\" >0.100000</td>\n",
       "      <td id=\"T_5fba2_row0_col5\" class=\"data row0 col5\" >5</td>\n",
       "      <td id=\"T_5fba2_row0_col6\" class=\"data row0 col6\" >18</td>\n",
       "      <td id=\"T_5fba2_row0_col7\" class=\"data row0 col7\" >8</td>\n",
       "      <td id=\"T_5fba2_row0_col8\" class=\"data row0 col8\" >0.648227</td>\n",
       "      <td id=\"T_5fba2_row0_col9\" class=\"data row0 col9\" >0.161996</td>\n",
       "    </tr>\n",
       "    <tr>\n",
       "      <th id=\"T_5fba2_level0_row1\" class=\"row_heading level0 row1\" >34067</th>\n",
       "      <td id=\"T_5fba2_row1_col0\" class=\"data row1 col0\" >0.600000</td>\n",
       "      <td id=\"T_5fba2_row1_col1\" class=\"data row1 col1\" >20</td>\n",
       "      <td id=\"T_5fba2_row1_col2\" class=\"data row1 col2\" >26</td>\n",
       "      <td id=\"T_5fba2_row1_col3\" class=\"data row1 col3\" >0.699567</td>\n",
       "      <td id=\"T_5fba2_row1_col4\" class=\"data row1 col4\" >0.100000</td>\n",
       "      <td id=\"T_5fba2_row1_col5\" class=\"data row1 col5\" >2</td>\n",
       "      <td id=\"T_5fba2_row1_col6\" class=\"data row1 col6\" >23</td>\n",
       "      <td id=\"T_5fba2_row1_col7\" class=\"data row1 col7\" >3</td>\n",
       "      <td id=\"T_5fba2_row1_col8\" class=\"data row1 col8\" >0.647990</td>\n",
       "      <td id=\"T_5fba2_row1_col9\" class=\"data row1 col9\" >0.175253</td>\n",
       "    </tr>\n",
       "    <tr>\n",
       "      <th id=\"T_5fba2_level0_row2\" class=\"row_heading level0 row2\" >34065</th>\n",
       "      <td id=\"T_5fba2_row2_col0\" class=\"data row2 col0\" >0.600000</td>\n",
       "      <td id=\"T_5fba2_row2_col1\" class=\"data row2 col1\" >20</td>\n",
       "      <td id=\"T_5fba2_row2_col2\" class=\"data row2 col2\" >26</td>\n",
       "      <td id=\"T_5fba2_row2_col3\" class=\"data row2 col3\" >0.699567</td>\n",
       "      <td id=\"T_5fba2_row2_col4\" class=\"data row2 col4\" >0.100000</td>\n",
       "      <td id=\"T_5fba2_row2_col5\" class=\"data row2 col5\" >0</td>\n",
       "      <td id=\"T_5fba2_row2_col6\" class=\"data row2 col6\" >25</td>\n",
       "      <td id=\"T_5fba2_row2_col7\" class=\"data row2 col7\" >1</td>\n",
       "      <td id=\"T_5fba2_row2_col8\" class=\"data row2 col8\" >0.647182</td>\n",
       "      <td id=\"T_5fba2_row2_col9\" class=\"data row2 col9\" >0.166185</td>\n",
       "    </tr>\n",
       "  </tbody>\n",
       "</table>\n"
      ],
      "text/plain": [
       "<pandas.io.formats.style.Styler at 0x7f85efdb8b50>"
      ]
     },
     "execution_count": 22,
     "metadata": {},
     "output_type": "execute_result"
    }
   ],
   "source": [
    "results[k_fold_condition & (results.sample_size==0.6)\n",
    "       ].sort_values(metrics, ascending=ascending).head(3).style.set_properties(**{'background-color': 'green'}, subset=metrics)"
   ]
  },
  {
   "cell_type": "markdown",
   "metadata": {},
   "source": [
    "## 80% sample"
   ]
  },
  {
   "cell_type": "code",
   "execution_count": 23,
   "metadata": {
    "execution": {
     "iopub.execute_input": "2022-11-17T18:37:48.009141Z",
     "iopub.status.busy": "2022-11-17T18:37:48.008942Z",
     "iopub.status.idle": "2022-11-17T18:37:48.019527Z",
     "shell.execute_reply": "2022-11-17T18:37:48.019282Z",
     "shell.execute_reply.started": "2022-11-17T18:37:48.009130Z"
    },
    "tags": []
   },
   "outputs": [
    {
     "data": {
      "text/html": [
       "<style type=\"text/css\">\n",
       "#T_05689_row0_col0, #T_05689_row0_col3, #T_05689_row0_col8, #T_05689_row0_col9, #T_05689_row1_col0, #T_05689_row1_col3, #T_05689_row1_col8, #T_05689_row1_col9, #T_05689_row2_col0, #T_05689_row2_col3, #T_05689_row2_col8, #T_05689_row2_col9 {\n",
       "  background-color: green;\n",
       "}\n",
       "</style>\n",
       "<table id=\"T_05689\">\n",
       "  <thead>\n",
       "    <tr>\n",
       "      <th class=\"blank level0\" >&nbsp;</th>\n",
       "      <th id=\"T_05689_level0_col0\" class=\"col_heading level0 col0\" >sample_size</th>\n",
       "      <th id=\"T_05689_level0_col1\" class=\"col_heading level0 col1\" >sample_min_count</th>\n",
       "      <th id=\"T_05689_level0_col2\" class=\"col_heading level0 col2\" >sample_lessfreq</th>\n",
       "      <th id=\"T_05689_level0_col3\" class=\"col_heading level0 col3\" >sample_ratio</th>\n",
       "      <th id=\"T_05689_level0_col4\" class=\"col_heading level0 col4\" >test_size</th>\n",
       "      <th id=\"T_05689_level0_col5\" class=\"col_heading level0 col5\" >test_min_count</th>\n",
       "      <th id=\"T_05689_level0_col6\" class=\"col_heading level0 col6\" >train_lessfreq</th>\n",
       "      <th id=\"T_05689_level0_col7\" class=\"col_heading level0 col7\" >test_lessfreq</th>\n",
       "      <th id=\"T_05689_level0_col8\" class=\"col_heading level0 col8\" >train_ratio</th>\n",
       "      <th id=\"T_05689_level0_col9\" class=\"col_heading level0 col9\" >test_ratio</th>\n",
       "    </tr>\n",
       "  </thead>\n",
       "  <tbody>\n",
       "    <tr>\n",
       "      <th id=\"T_05689_level0_row0\" class=\"row_heading level0 row0\" >21726</th>\n",
       "      <td id=\"T_05689_row0_col0\" class=\"data row0 col0\" >0.800000</td>\n",
       "      <td id=\"T_05689_row0_col1\" class=\"data row0 col1\" >25</td>\n",
       "      <td id=\"T_05689_row0_col2\" class=\"data row0 col2\" >29</td>\n",
       "      <td id=\"T_05689_row0_col3\" class=\"data row0 col3\" >0.854414</td>\n",
       "      <td id=\"T_05689_row0_col4\" class=\"data row0 col4\" >0.100000</td>\n",
       "      <td id=\"T_05689_row0_col5\" class=\"data row0 col5\" >0</td>\n",
       "      <td id=\"T_05689_row0_col6\" class=\"data row0 col6\" >28</td>\n",
       "      <td id=\"T_05689_row0_col7\" class=\"data row0 col7\" >1</td>\n",
       "      <td id=\"T_05689_row0_col8\" class=\"data row0 col8\" >0.793677</td>\n",
       "      <td id=\"T_05689_row0_col9\" class=\"data row0 col9\" >0.192264</td>\n",
       "    </tr>\n",
       "    <tr>\n",
       "      <th id=\"T_05689_level0_row1\" class=\"row_heading level0 row1\" >21727</th>\n",
       "      <td id=\"T_05689_row1_col0\" class=\"data row1 col0\" >0.800000</td>\n",
       "      <td id=\"T_05689_row1_col1\" class=\"data row1 col1\" >25</td>\n",
       "      <td id=\"T_05689_row1_col2\" class=\"data row1 col2\" >29</td>\n",
       "      <td id=\"T_05689_row1_col3\" class=\"data row1 col3\" >0.854414</td>\n",
       "      <td id=\"T_05689_row1_col4\" class=\"data row1 col4\" >0.100000</td>\n",
       "      <td id=\"T_05689_row1_col5\" class=\"data row1 col5\" >1</td>\n",
       "      <td id=\"T_05689_row1_col6\" class=\"data row1 col6\" >24</td>\n",
       "      <td id=\"T_05689_row1_col7\" class=\"data row1 col7\" >5</td>\n",
       "      <td id=\"T_05689_row1_col8\" class=\"data row1 col8\" >0.792206</td>\n",
       "      <td id=\"T_05689_row1_col9\" class=\"data row1 col9\" >0.191422</td>\n",
       "    </tr>\n",
       "    <tr>\n",
       "      <th id=\"T_05689_level0_row2\" class=\"row_heading level0 row2\" >21729</th>\n",
       "      <td id=\"T_05689_row2_col0\" class=\"data row2 col0\" >0.800000</td>\n",
       "      <td id=\"T_05689_row2_col1\" class=\"data row2 col1\" >25</td>\n",
       "      <td id=\"T_05689_row2_col2\" class=\"data row2 col2\" >29</td>\n",
       "      <td id=\"T_05689_row2_col3\" class=\"data row2 col3\" >0.854414</td>\n",
       "      <td id=\"T_05689_row2_col4\" class=\"data row2 col4\" >0.100000</td>\n",
       "      <td id=\"T_05689_row2_col5\" class=\"data row2 col5\" >3</td>\n",
       "      <td id=\"T_05689_row2_col6\" class=\"data row2 col6\" >25</td>\n",
       "      <td id=\"T_05689_row2_col7\" class=\"data row2 col7\" >4</td>\n",
       "      <td id=\"T_05689_row2_col8\" class=\"data row2 col8\" >0.792142</td>\n",
       "      <td id=\"T_05689_row2_col9\" class=\"data row2 col9\" >0.202101</td>\n",
       "    </tr>\n",
       "  </tbody>\n",
       "</table>\n"
      ],
      "text/plain": [
       "<pandas.io.formats.style.Styler at 0x7f85f149d3d0>"
      ]
     },
     "execution_count": 23,
     "metadata": {},
     "output_type": "execute_result"
    }
   ],
   "source": [
    "results[k_fold_condition & (results.sample_size>=0.8)\n",
    "       ].sort_values(metrics, ascending=ascending).head(3).style.set_properties(**{'background-color': 'green'}, subset=metrics)"
   ]
  },
  {
   "cell_type": "markdown",
   "metadata": {},
   "source": [
    "## For finishing the model"
   ]
  },
  {
   "cell_type": "code",
   "execution_count": 24,
   "metadata": {
    "execution": {
     "iopub.execute_input": "2022-11-17T18:37:48.020060Z",
     "iopub.status.busy": "2022-11-17T18:37:48.019872Z",
     "iopub.status.idle": "2022-11-17T18:37:48.040154Z",
     "shell.execute_reply": "2022-11-17T18:37:48.039828Z",
     "shell.execute_reply.started": "2022-11-17T18:37:48.020050Z"
    },
    "tags": []
   },
   "outputs": [
    {
     "data": {
      "text/html": [
       "<style type=\"text/css\">\n",
       "#T_53324_row0_col0, #T_53324_row0_col3, #T_53324_row0_col8, #T_53324_row0_col9, #T_53324_row1_col0, #T_53324_row1_col3, #T_53324_row1_col8, #T_53324_row1_col9, #T_53324_row2_col0, #T_53324_row2_col3, #T_53324_row2_col8, #T_53324_row2_col9 {\n",
       "  background-color: green;\n",
       "}\n",
       "</style>\n",
       "<table id=\"T_53324\">\n",
       "  <thead>\n",
       "    <tr>\n",
       "      <th class=\"blank level0\" >&nbsp;</th>\n",
       "      <th id=\"T_53324_level0_col0\" class=\"col_heading level0 col0\" >sample_size</th>\n",
       "      <th id=\"T_53324_level0_col1\" class=\"col_heading level0 col1\" >sample_min_count</th>\n",
       "      <th id=\"T_53324_level0_col2\" class=\"col_heading level0 col2\" >sample_lessfreq</th>\n",
       "      <th id=\"T_53324_level0_col3\" class=\"col_heading level0 col3\" >sample_ratio</th>\n",
       "      <th id=\"T_53324_level0_col4\" class=\"col_heading level0 col4\" >test_size</th>\n",
       "      <th id=\"T_53324_level0_col5\" class=\"col_heading level0 col5\" >test_min_count</th>\n",
       "      <th id=\"T_53324_level0_col6\" class=\"col_heading level0 col6\" >train_lessfreq</th>\n",
       "      <th id=\"T_53324_level0_col7\" class=\"col_heading level0 col7\" >test_lessfreq</th>\n",
       "      <th id=\"T_53324_level0_col8\" class=\"col_heading level0 col8\" >train_ratio</th>\n",
       "      <th id=\"T_53324_level0_col9\" class=\"col_heading level0 col9\" >test_ratio</th>\n",
       "    </tr>\n",
       "  </thead>\n",
       "  <tbody>\n",
       "    <tr>\n",
       "      <th id=\"T_53324_level0_row0\" class=\"row_heading level0 row0\" >5133</th>\n",
       "      <td id=\"T_53324_row0_col0\" class=\"data row0 col0\" >1.000000</td>\n",
       "      <td id=\"T_53324_row0_col1\" class=\"data row0 col1\" >19</td>\n",
       "      <td id=\"T_53324_row0_col2\" class=\"data row0 col2\" >29</td>\n",
       "      <td id=\"T_53324_row0_col3\" class=\"data row0 col3\" >1.000000</td>\n",
       "      <td id=\"T_53324_row0_col4\" class=\"data row0 col4\" >0.100000</td>\n",
       "      <td id=\"T_53324_row0_col5\" class=\"data row0 col5\" >3</td>\n",
       "      <td id=\"T_53324_row0_col6\" class=\"data row0 col6\" >22</td>\n",
       "      <td id=\"T_53324_row0_col7\" class=\"data row0 col7\" >7</td>\n",
       "      <td id=\"T_53324_row0_col8\" class=\"data row0 col8\" >0.927843</td>\n",
       "      <td id=\"T_53324_row0_col9\" class=\"data row0 col9\" >0.217250</td>\n",
       "    </tr>\n",
       "    <tr>\n",
       "      <th id=\"T_53324_level0_row1\" class=\"row_heading level0 row1\" >7023</th>\n",
       "      <td id=\"T_53324_row1_col0\" class=\"data row1 col0\" >1.000000</td>\n",
       "      <td id=\"T_53324_row1_col1\" class=\"data row1 col1\" >26</td>\n",
       "      <td id=\"T_53324_row1_col2\" class=\"data row1 col2\" >29</td>\n",
       "      <td id=\"T_53324_row1_col3\" class=\"data row1 col3\" >1.000000</td>\n",
       "      <td id=\"T_53324_row1_col4\" class=\"data row1 col4\" >0.100000</td>\n",
       "      <td id=\"T_53324_row1_col5\" class=\"data row1 col5\" >3</td>\n",
       "      <td id=\"T_53324_row1_col6\" class=\"data row1 col6\" >22</td>\n",
       "      <td id=\"T_53324_row1_col7\" class=\"data row1 col7\" >7</td>\n",
       "      <td id=\"T_53324_row1_col8\" class=\"data row1 col8\" >0.927512</td>\n",
       "      <td id=\"T_53324_row1_col9\" class=\"data row1 col9\" >0.215472</td>\n",
       "    </tr>\n",
       "    <tr>\n",
       "      <th id=\"T_53324_level0_row2\" class=\"row_heading level0 row2\" >6212</th>\n",
       "      <td id=\"T_53324_row2_col0\" class=\"data row2 col0\" >1.000000</td>\n",
       "      <td id=\"T_53324_row2_col1\" class=\"data row2 col1\" >23</td>\n",
       "      <td id=\"T_53324_row2_col2\" class=\"data row2 col2\" >29</td>\n",
       "      <td id=\"T_53324_row2_col3\" class=\"data row2 col3\" >1.000000</td>\n",
       "      <td id=\"T_53324_row2_col4\" class=\"data row2 col4\" >0.100000</td>\n",
       "      <td id=\"T_53324_row2_col5\" class=\"data row2 col5\" >2</td>\n",
       "      <td id=\"T_53324_row2_col6\" class=\"data row2 col6\" >24</td>\n",
       "      <td id=\"T_53324_row2_col7\" class=\"data row2 col7\" >5</td>\n",
       "      <td id=\"T_53324_row2_col8\" class=\"data row2 col8\" >0.927289</td>\n",
       "      <td id=\"T_53324_row2_col9\" class=\"data row2 col9\" >0.214517</td>\n",
       "    </tr>\n",
       "  </tbody>\n",
       "</table>\n"
      ],
      "text/plain": [
       "<pandas.io.formats.style.Styler at 0x7f85f149d280>"
      ]
     },
     "execution_count": 24,
     "metadata": {},
     "output_type": "execute_result"
    }
   ],
   "source": [
    "ascending = [False, False, False, False]\n",
    "results[k_fold_condition\n",
    "       ].sort_values(metrics, ascending=ascending).head(3).style.set_properties(**{'background-color': 'green'}, subset=metrics)"
   ]
  }
 ],
 "metadata": {
  "hide_input": false,
  "kernelspec": {
   "display_name": "Python 3 (ipykernel)",
   "language": "python",
   "name": "python3"
  },
  "language_info": {
   "codemirror_mode": {
    "name": "ipython",
    "version": 3
   },
   "file_extension": ".py",
   "mimetype": "text/x-python",
   "name": "python",
   "nbconvert_exporter": "python",
   "pygments_lexer": "ipython3",
   "version": "3.9.13"
  },
  "toc": {
   "base_numbering": 1,
   "nav_menu": {},
   "number_sections": true,
   "sideBar": true,
   "skip_h1_title": false,
   "title_cell": "Table of Contents",
   "title_sidebar": "Contents",
   "toc_cell": false,
   "toc_position": {
    "height": "calc(100% - 180px)",
    "left": "10px",
    "top": "150px",
    "width": "332.2px"
   },
   "toc_section_display": true,
   "toc_window_display": true
  },
  "toc-autonumbering": true,
  "varInspector": {
   "cols": {
    "lenName": 16,
    "lenType": 16,
    "lenVar": 40
   },
   "kernels_config": {
    "python": {
     "delete_cmd_postfix": "",
     "delete_cmd_prefix": "del ",
     "library": "var_list.py",
     "varRefreshCmd": "print(var_dic_list())"
    },
    "r": {
     "delete_cmd_postfix": ") ",
     "delete_cmd_prefix": "rm(",
     "library": "var_list.r",
     "varRefreshCmd": "cat(var_dic_list()) "
    }
   },
   "types_to_exclude": [
    "module",
    "function",
    "builtin_function_or_method",
    "instance",
    "_Feature"
   ],
   "window_display": false
  }
 },
 "nbformat": 4,
 "nbformat_minor": 4
}
