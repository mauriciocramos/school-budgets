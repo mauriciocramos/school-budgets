{
 "cells": [
  {
   "cell_type": "markdown",
   "metadata": {},
   "source": [
    "# Custom modules"
   ]
  },
  {
   "cell_type": "code",
   "execution_count": 1,
   "metadata": {
    "execution": {
     "iopub.execute_input": "2022-11-17T15:55:35.500905Z",
     "iopub.status.busy": "2022-11-17T15:55:35.500771Z",
     "iopub.status.idle": "2022-11-17T15:55:36.009084Z",
     "shell.execute_reply": "2022-11-17T15:55:36.008662Z",
     "shell.execute_reply.started": "2022-11-17T15:55:35.500873Z"
    },
    "tags": []
   },
   "outputs": [],
   "source": [
    "import os\n",
    "import sys\n",
    "sys.path.insert(1, '/home/mauricio/code/mcr/')\n",
    "\n",
    "from mcr.ml.model_selection.multilabel import multilabel_sample_dataframe, multilabel_train_test_split, sample_report, split_report, sample_split_report\n",
    "from mcr.ml import get_dummies_indices, reverse_dummies\n",
    "from mcr.util import size, glimpse"
   ]
  },
  {
   "cell_type": "markdown",
   "metadata": {},
   "source": [
    "# Standard data science modules"
   ]
  },
  {
   "cell_type": "code",
   "execution_count": 2,
   "metadata": {
    "execution": {
     "iopub.execute_input": "2022-11-17T15:55:36.009595Z",
     "iopub.status.busy": "2022-11-17T15:55:36.009457Z",
     "iopub.status.idle": "2022-11-17T15:55:36.015610Z",
     "shell.execute_reply": "2022-11-17T15:55:36.015340Z",
     "shell.execute_reply.started": "2022-11-17T15:55:36.009583Z"
    },
    "tags": []
   },
   "outputs": [],
   "source": [
    "import numpy as np\n",
    "import pandas as pd\n",
    "import matplotlib.pyplot as plt\n",
    "import seaborn as sns\n",
    "%matplotlib inline\n",
    "plt.style.use('dark_background')"
   ]
  },
  {
   "cell_type": "markdown",
   "metadata": {},
   "source": [
    "# Loading data"
   ]
  },
  {
   "cell_type": "markdown",
   "metadata": {},
   "source": [
    "Sign up for an account on [DrivenData](http://www.drivendata.org/)  \n",
    "Join the [Box-plots for education competition](https://www.drivendata.org/competitions/46/box-plots-for-education-reboot/)  \n",
    "Download the competition datasets named `TrainingData.csv` and `TestData.csv`"
   ]
  },
  {
   "cell_type": "code",
   "execution_count": 3,
   "metadata": {
    "execution": {
     "iopub.execute_input": "2022-11-17T15:55:36.016079Z",
     "iopub.status.busy": "2022-11-17T15:55:36.015973Z",
     "iopub.status.idle": "2022-11-17T15:55:37.574871Z",
     "shell.execute_reply": "2022-11-17T15:55:37.574447Z",
     "shell.execute_reply.started": "2022-11-17T15:55:36.016068Z"
    },
    "tags": []
   },
   "outputs": [
    {
     "name": "stdout",
     "output_type": "stream",
     "text": [
      "<class 'pandas.core.frame.DataFrame'>\n",
      "Int64Index: 400277 entries, 134338 to 415831\n",
      "Data columns (total 25 columns):\n",
      " #   Column                  Non-Null Count   Dtype  \n",
      "---  ------                  --------------   -----  \n",
      " 0   Function                400277 non-null  object \n",
      " 1   Use                     400277 non-null  object \n",
      " 2   Sharing                 400277 non-null  object \n",
      " 3   Reporting               400277 non-null  object \n",
      " 4   Student_Type            400277 non-null  object \n",
      " 5   Position_Type           400277 non-null  object \n",
      " 6   Object_Type             400277 non-null  object \n",
      " 7   Pre_K                   400277 non-null  object \n",
      " 8   Operating_Status        400277 non-null  object \n",
      " 9   Object_Description      375493 non-null  object \n",
      " 10  Text_2                  88217 non-null   object \n",
      " 11  SubFund_Description     306855 non-null  object \n",
      " 12  Job_Title_Description   292743 non-null  object \n",
      " 13  Text_3                  109152 non-null  object \n",
      " 14  Text_4                  53746 non-null   object \n",
      " 15  Sub_Object_Description  91603 non-null   object \n",
      " 16  Location_Description    162054 non-null  object \n",
      " 17  FTE                     126071 non-null  float64\n",
      " 18  Function_Description    342195 non-null  object \n",
      " 19  Facility_or_Department  53886 non-null   object \n",
      " 20  Position_Extra          264764 non-null  object \n",
      " 21  Total                   395722 non-null  float64\n",
      " 22  Program_Description     304660 non-null  object \n",
      " 23  Fund_Description        202877 non-null  object \n",
      " 24  Text_1                  292285 non-null  object \n",
      "dtypes: float64(2), object(23)\n",
      "memory usage: 548.5 MB\n"
     ]
    }
   ],
   "source": [
    "df = pd.read_csv('/data/drivendata/TrainingData.csv', index_col=0)\n",
    "df.info(memory_usage='deep')"
   ]
  },
  {
   "cell_type": "markdown",
   "metadata": {},
   "source": [
    "# Shuffling data"
   ]
  },
  {
   "cell_type": "markdown",
   "metadata": {},
   "source": [
    "In machine learning theory, i.i.d. assumption is often made for training datasets to imply that all samples stem from the same generative process and that the generative process is assumed to have no memory of past generated samples.\n",
    "\n",
    "To ensure observations are independent and don't follow any predefined sequence, the dataset is shuffled.\n",
    "\n",
    "That's important when using the class `sklearn.model_selection.GridSearchCV` with k-fold cross-validation which doesn't resample the dataset as per the underlying class `sklearn.model_selection.StratifiedKFold(n_splits=5, shuffle=False, random_state=None)` doesn't shuffle data by default and that could lead to biased folds."
   ]
  },
  {
   "cell_type": "code",
   "execution_count": 4,
   "metadata": {
    "execution": {
     "iopub.execute_input": "2022-11-17T15:55:37.575706Z",
     "iopub.status.busy": "2022-11-17T15:55:37.575574Z",
     "iopub.status.idle": "2022-11-17T15:55:37.577693Z",
     "shell.execute_reply": "2022-11-17T15:55:37.577430Z",
     "shell.execute_reply.started": "2022-11-17T15:55:37.575692Z"
    },
    "tags": []
   },
   "outputs": [],
   "source": [
    "#df = df.sample(frac=1, replace=False, random_state=1)"
   ]
  },
  {
   "cell_type": "markdown",
   "metadata": {},
   "source": [
    "# Encoding labels as category types"
   ]
  },
  {
   "cell_type": "code",
   "execution_count": 5,
   "metadata": {
    "execution": {
     "iopub.execute_input": "2022-11-17T15:55:37.578208Z",
     "iopub.status.busy": "2022-11-17T15:55:37.578104Z",
     "iopub.status.idle": "2022-11-17T15:55:38.547729Z",
     "shell.execute_reply": "2022-11-17T15:55:38.547362Z",
     "shell.execute_reply.started": "2022-11-17T15:55:37.578197Z"
    },
    "tags": []
   },
   "outputs": [
    {
     "name": "stdout",
     "output_type": "stream",
     "text": [
      "Memory before enconding: 79.4 MiB (548.5 MiB deep)\n",
      "Memory after enconding : 55.4 MiB (313.0 MiB deep)\n"
     ]
    }
   ],
   "source": [
    "LABELS = ['Function', 'Object_Type', 'Operating_Status', 'Position_Type', 'Pre_K', 'Reporting', 'Sharing', 'Student_Type', 'Use']\n",
    "FEATURES = [feature for feature in df.columns if feature not in LABELS]\n",
    "print('Memory before enconding: {} ({} deep)'.format(size(df.memory_usage().sum()), size(df.memory_usage(deep=True).sum())))\n",
    "df[LABELS] = df[LABELS].apply(lambda x: x.astype('category'), axis=0)\n",
    "print('Memory after enconding : {} ({} deep)'.format(size(df.memory_usage().sum()), size(df.memory_usage(deep=True).sum())))"
   ]
  },
  {
   "cell_type": "markdown",
   "metadata": {},
   "source": [
    "# Converting labels in dummy variables"
   ]
  },
  {
   "cell_type": "code",
   "execution_count": 6,
   "metadata": {
    "execution": {
     "iopub.execute_input": "2022-11-17T15:55:38.548221Z",
     "iopub.status.busy": "2022-11-17T15:55:38.548117Z",
     "iopub.status.idle": "2022-11-17T15:55:38.601323Z",
     "shell.execute_reply": "2022-11-17T15:55:38.600986Z",
     "shell.execute_reply.started": "2022-11-17T15:55:38.548211Z"
    },
    "tags": []
   },
   "outputs": [
    {
     "name": "stdout",
     "output_type": "stream",
     "text": [
      "<class 'pandas.core.frame.DataFrame'>\n",
      "Int64Index: 400277 entries, 134338 to 415831\n",
      "Columns: 104 entries, Function__Aides Compensation to Use__Untracked Budget Set-Aside\n",
      "dtypes: uint8(104)\n",
      "memory usage: 42.8 MB\n"
     ]
    },
    {
     "data": {
      "text/html": [
       "<div>\n",
       "<style scoped>\n",
       "    .dataframe tbody tr th:only-of-type {\n",
       "        vertical-align: middle;\n",
       "    }\n",
       "\n",
       "    .dataframe tbody tr th {\n",
       "        vertical-align: top;\n",
       "    }\n",
       "\n",
       "    .dataframe thead th {\n",
       "        text-align: right;\n",
       "    }\n",
       "</style>\n",
       "<table border=\"1\" class=\"dataframe\">\n",
       "  <thead>\n",
       "    <tr style=\"text-align: right;\">\n",
       "      <th></th>\n",
       "      <th>Function__Aides Compensation</th>\n",
       "      <th>Function__Career &amp; Academic Counseling</th>\n",
       "      <th>Function__Communications</th>\n",
       "      <th>Function__Curriculum Development</th>\n",
       "      <th>Function__Data Processing &amp; Information Services</th>\n",
       "      <th>Function__Development &amp; Fundraising</th>\n",
       "      <th>Function__Enrichment</th>\n",
       "      <th>Function__Extended Time &amp; Tutoring</th>\n",
       "      <th>Function__Facilities &amp; Maintenance</th>\n",
       "      <th>Function__Facilities Planning</th>\n",
       "      <th>...</th>\n",
       "      <th>Student_Type__Special Education</th>\n",
       "      <th>Student_Type__Unspecified</th>\n",
       "      <th>Use__Business Services</th>\n",
       "      <th>Use__ISPD</th>\n",
       "      <th>Use__Instruction</th>\n",
       "      <th>Use__Leadership</th>\n",
       "      <th>Use__NO_LABEL</th>\n",
       "      <th>Use__O&amp;M</th>\n",
       "      <th>Use__Pupil Services &amp; Enrichment</th>\n",
       "      <th>Use__Untracked Budget Set-Aside</th>\n",
       "    </tr>\n",
       "  </thead>\n",
       "  <tbody>\n",
       "    <tr>\n",
       "      <th>134338</th>\n",
       "      <td>0</td>\n",
       "      <td>0</td>\n",
       "      <td>0</td>\n",
       "      <td>0</td>\n",
       "      <td>0</td>\n",
       "      <td>0</td>\n",
       "      <td>0</td>\n",
       "      <td>0</td>\n",
       "      <td>0</td>\n",
       "      <td>0</td>\n",
       "      <td>...</td>\n",
       "      <td>0</td>\n",
       "      <td>0</td>\n",
       "      <td>0</td>\n",
       "      <td>0</td>\n",
       "      <td>1</td>\n",
       "      <td>0</td>\n",
       "      <td>0</td>\n",
       "      <td>0</td>\n",
       "      <td>0</td>\n",
       "      <td>0</td>\n",
       "    </tr>\n",
       "    <tr>\n",
       "      <th>206341</th>\n",
       "      <td>0</td>\n",
       "      <td>0</td>\n",
       "      <td>0</td>\n",
       "      <td>0</td>\n",
       "      <td>0</td>\n",
       "      <td>0</td>\n",
       "      <td>0</td>\n",
       "      <td>0</td>\n",
       "      <td>0</td>\n",
       "      <td>0</td>\n",
       "      <td>...</td>\n",
       "      <td>0</td>\n",
       "      <td>0</td>\n",
       "      <td>0</td>\n",
       "      <td>0</td>\n",
       "      <td>0</td>\n",
       "      <td>0</td>\n",
       "      <td>1</td>\n",
       "      <td>0</td>\n",
       "      <td>0</td>\n",
       "      <td>0</td>\n",
       "    </tr>\n",
       "    <tr>\n",
       "      <th>326408</th>\n",
       "      <td>0</td>\n",
       "      <td>0</td>\n",
       "      <td>0</td>\n",
       "      <td>0</td>\n",
       "      <td>0</td>\n",
       "      <td>0</td>\n",
       "      <td>0</td>\n",
       "      <td>0</td>\n",
       "      <td>0</td>\n",
       "      <td>0</td>\n",
       "      <td>...</td>\n",
       "      <td>0</td>\n",
       "      <td>1</td>\n",
       "      <td>0</td>\n",
       "      <td>0</td>\n",
       "      <td>1</td>\n",
       "      <td>0</td>\n",
       "      <td>0</td>\n",
       "      <td>0</td>\n",
       "      <td>0</td>\n",
       "      <td>0</td>\n",
       "    </tr>\n",
       "    <tr>\n",
       "      <th>364634</th>\n",
       "      <td>0</td>\n",
       "      <td>0</td>\n",
       "      <td>0</td>\n",
       "      <td>0</td>\n",
       "      <td>0</td>\n",
       "      <td>0</td>\n",
       "      <td>0</td>\n",
       "      <td>0</td>\n",
       "      <td>0</td>\n",
       "      <td>0</td>\n",
       "      <td>...</td>\n",
       "      <td>0</td>\n",
       "      <td>1</td>\n",
       "      <td>0</td>\n",
       "      <td>0</td>\n",
       "      <td>1</td>\n",
       "      <td>0</td>\n",
       "      <td>0</td>\n",
       "      <td>0</td>\n",
       "      <td>0</td>\n",
       "      <td>0</td>\n",
       "    </tr>\n",
       "    <tr>\n",
       "      <th>47683</th>\n",
       "      <td>0</td>\n",
       "      <td>0</td>\n",
       "      <td>0</td>\n",
       "      <td>0</td>\n",
       "      <td>0</td>\n",
       "      <td>0</td>\n",
       "      <td>0</td>\n",
       "      <td>0</td>\n",
       "      <td>0</td>\n",
       "      <td>0</td>\n",
       "      <td>...</td>\n",
       "      <td>0</td>\n",
       "      <td>1</td>\n",
       "      <td>0</td>\n",
       "      <td>0</td>\n",
       "      <td>1</td>\n",
       "      <td>0</td>\n",
       "      <td>0</td>\n",
       "      <td>0</td>\n",
       "      <td>0</td>\n",
       "      <td>0</td>\n",
       "    </tr>\n",
       "    <tr>\n",
       "      <th>...</th>\n",
       "      <td>...</td>\n",
       "      <td>...</td>\n",
       "      <td>...</td>\n",
       "      <td>...</td>\n",
       "      <td>...</td>\n",
       "      <td>...</td>\n",
       "      <td>...</td>\n",
       "      <td>...</td>\n",
       "      <td>...</td>\n",
       "      <td>...</td>\n",
       "      <td>...</td>\n",
       "      <td>...</td>\n",
       "      <td>...</td>\n",
       "      <td>...</td>\n",
       "      <td>...</td>\n",
       "      <td>...</td>\n",
       "      <td>...</td>\n",
       "      <td>...</td>\n",
       "      <td>...</td>\n",
       "      <td>...</td>\n",
       "      <td>...</td>\n",
       "    </tr>\n",
       "    <tr>\n",
       "      <th>109283</th>\n",
       "      <td>0</td>\n",
       "      <td>0</td>\n",
       "      <td>0</td>\n",
       "      <td>0</td>\n",
       "      <td>0</td>\n",
       "      <td>0</td>\n",
       "      <td>0</td>\n",
       "      <td>0</td>\n",
       "      <td>0</td>\n",
       "      <td>0</td>\n",
       "      <td>...</td>\n",
       "      <td>0</td>\n",
       "      <td>1</td>\n",
       "      <td>0</td>\n",
       "      <td>1</td>\n",
       "      <td>0</td>\n",
       "      <td>0</td>\n",
       "      <td>0</td>\n",
       "      <td>0</td>\n",
       "      <td>0</td>\n",
       "      <td>0</td>\n",
       "    </tr>\n",
       "    <tr>\n",
       "      <th>102430</th>\n",
       "      <td>0</td>\n",
       "      <td>0</td>\n",
       "      <td>0</td>\n",
       "      <td>0</td>\n",
       "      <td>0</td>\n",
       "      <td>0</td>\n",
       "      <td>0</td>\n",
       "      <td>0</td>\n",
       "      <td>0</td>\n",
       "      <td>0</td>\n",
       "      <td>...</td>\n",
       "      <td>0</td>\n",
       "      <td>1</td>\n",
       "      <td>0</td>\n",
       "      <td>0</td>\n",
       "      <td>1</td>\n",
       "      <td>0</td>\n",
       "      <td>0</td>\n",
       "      <td>0</td>\n",
       "      <td>0</td>\n",
       "      <td>0</td>\n",
       "    </tr>\n",
       "    <tr>\n",
       "      <th>413949</th>\n",
       "      <td>0</td>\n",
       "      <td>0</td>\n",
       "      <td>0</td>\n",
       "      <td>0</td>\n",
       "      <td>0</td>\n",
       "      <td>0</td>\n",
       "      <td>0</td>\n",
       "      <td>0</td>\n",
       "      <td>0</td>\n",
       "      <td>0</td>\n",
       "      <td>...</td>\n",
       "      <td>0</td>\n",
       "      <td>0</td>\n",
       "      <td>0</td>\n",
       "      <td>0</td>\n",
       "      <td>0</td>\n",
       "      <td>0</td>\n",
       "      <td>1</td>\n",
       "      <td>0</td>\n",
       "      <td>0</td>\n",
       "      <td>0</td>\n",
       "    </tr>\n",
       "    <tr>\n",
       "      <th>433672</th>\n",
       "      <td>0</td>\n",
       "      <td>0</td>\n",
       "      <td>0</td>\n",
       "      <td>0</td>\n",
       "      <td>0</td>\n",
       "      <td>0</td>\n",
       "      <td>0</td>\n",
       "      <td>0</td>\n",
       "      <td>0</td>\n",
       "      <td>0</td>\n",
       "      <td>...</td>\n",
       "      <td>0</td>\n",
       "      <td>1</td>\n",
       "      <td>0</td>\n",
       "      <td>0</td>\n",
       "      <td>1</td>\n",
       "      <td>0</td>\n",
       "      <td>0</td>\n",
       "      <td>0</td>\n",
       "      <td>0</td>\n",
       "      <td>0</td>\n",
       "    </tr>\n",
       "    <tr>\n",
       "      <th>415831</th>\n",
       "      <td>0</td>\n",
       "      <td>0</td>\n",
       "      <td>0</td>\n",
       "      <td>0</td>\n",
       "      <td>0</td>\n",
       "      <td>0</td>\n",
       "      <td>0</td>\n",
       "      <td>0</td>\n",
       "      <td>0</td>\n",
       "      <td>0</td>\n",
       "      <td>...</td>\n",
       "      <td>0</td>\n",
       "      <td>0</td>\n",
       "      <td>0</td>\n",
       "      <td>0</td>\n",
       "      <td>1</td>\n",
       "      <td>0</td>\n",
       "      <td>0</td>\n",
       "      <td>0</td>\n",
       "      <td>0</td>\n",
       "      <td>0</td>\n",
       "    </tr>\n",
       "  </tbody>\n",
       "</table>\n",
       "<p>400277 rows × 104 columns</p>\n",
       "</div>"
      ],
      "text/plain": [
       "        Function__Aides Compensation  Function__Career & Academic Counseling  \\\n",
       "134338                             0                                       0   \n",
       "206341                             0                                       0   \n",
       "326408                             0                                       0   \n",
       "364634                             0                                       0   \n",
       "47683                              0                                       0   \n",
       "...                              ...                                     ...   \n",
       "109283                             0                                       0   \n",
       "102430                             0                                       0   \n",
       "413949                             0                                       0   \n",
       "433672                             0                                       0   \n",
       "415831                             0                                       0   \n",
       "\n",
       "        Function__Communications  Function__Curriculum Development  \\\n",
       "134338                         0                                 0   \n",
       "206341                         0                                 0   \n",
       "326408                         0                                 0   \n",
       "364634                         0                                 0   \n",
       "47683                          0                                 0   \n",
       "...                          ...                               ...   \n",
       "109283                         0                                 0   \n",
       "102430                         0                                 0   \n",
       "413949                         0                                 0   \n",
       "433672                         0                                 0   \n",
       "415831                         0                                 0   \n",
       "\n",
       "        Function__Data Processing & Information Services  \\\n",
       "134338                                                 0   \n",
       "206341                                                 0   \n",
       "326408                                                 0   \n",
       "364634                                                 0   \n",
       "47683                                                  0   \n",
       "...                                                  ...   \n",
       "109283                                                 0   \n",
       "102430                                                 0   \n",
       "413949                                                 0   \n",
       "433672                                                 0   \n",
       "415831                                                 0   \n",
       "\n",
       "        Function__Development & Fundraising  Function__Enrichment  \\\n",
       "134338                                    0                     0   \n",
       "206341                                    0                     0   \n",
       "326408                                    0                     0   \n",
       "364634                                    0                     0   \n",
       "47683                                     0                     0   \n",
       "...                                     ...                   ...   \n",
       "109283                                    0                     0   \n",
       "102430                                    0                     0   \n",
       "413949                                    0                     0   \n",
       "433672                                    0                     0   \n",
       "415831                                    0                     0   \n",
       "\n",
       "        Function__Extended Time & Tutoring  \\\n",
       "134338                                   0   \n",
       "206341                                   0   \n",
       "326408                                   0   \n",
       "364634                                   0   \n",
       "47683                                    0   \n",
       "...                                    ...   \n",
       "109283                                   0   \n",
       "102430                                   0   \n",
       "413949                                   0   \n",
       "433672                                   0   \n",
       "415831                                   0   \n",
       "\n",
       "        Function__Facilities & Maintenance  Function__Facilities Planning  \\\n",
       "134338                                   0                              0   \n",
       "206341                                   0                              0   \n",
       "326408                                   0                              0   \n",
       "364634                                   0                              0   \n",
       "47683                                    0                              0   \n",
       "...                                    ...                            ...   \n",
       "109283                                   0                              0   \n",
       "102430                                   0                              0   \n",
       "413949                                   0                              0   \n",
       "433672                                   0                              0   \n",
       "415831                                   0                              0   \n",
       "\n",
       "        ...  Student_Type__Special Education  Student_Type__Unspecified  \\\n",
       "134338  ...                                0                          0   \n",
       "206341  ...                                0                          0   \n",
       "326408  ...                                0                          1   \n",
       "364634  ...                                0                          1   \n",
       "47683   ...                                0                          1   \n",
       "...     ...                              ...                        ...   \n",
       "109283  ...                                0                          1   \n",
       "102430  ...                                0                          1   \n",
       "413949  ...                                0                          0   \n",
       "433672  ...                                0                          1   \n",
       "415831  ...                                0                          0   \n",
       "\n",
       "        Use__Business Services  Use__ISPD  Use__Instruction  Use__Leadership  \\\n",
       "134338                       0          0                 1                0   \n",
       "206341                       0          0                 0                0   \n",
       "326408                       0          0                 1                0   \n",
       "364634                       0          0                 1                0   \n",
       "47683                        0          0                 1                0   \n",
       "...                        ...        ...               ...              ...   \n",
       "109283                       0          1                 0                0   \n",
       "102430                       0          0                 1                0   \n",
       "413949                       0          0                 0                0   \n",
       "433672                       0          0                 1                0   \n",
       "415831                       0          0                 1                0   \n",
       "\n",
       "        Use__NO_LABEL  Use__O&M  Use__Pupil Services & Enrichment  \\\n",
       "134338              0         0                                 0   \n",
       "206341              1         0                                 0   \n",
       "326408              0         0                                 0   \n",
       "364634              0         0                                 0   \n",
       "47683               0         0                                 0   \n",
       "...               ...       ...                               ...   \n",
       "109283              0         0                                 0   \n",
       "102430              0         0                                 0   \n",
       "413949              1         0                                 0   \n",
       "433672              0         0                                 0   \n",
       "415831              0         0                                 0   \n",
       "\n",
       "        Use__Untracked Budget Set-Aside  \n",
       "134338                                0  \n",
       "206341                                0  \n",
       "326408                                0  \n",
       "364634                                0  \n",
       "47683                                 0  \n",
       "...                                 ...  \n",
       "109283                                0  \n",
       "102430                                0  \n",
       "413949                                0  \n",
       "433672                                0  \n",
       "415831                                0  \n",
       "\n",
       "[400277 rows x 104 columns]"
      ]
     },
     "execution_count": 6,
     "metadata": {},
     "output_type": "execute_result"
    }
   ],
   "source": [
    "# Converting labels in dummy variables\n",
    "y = pd.get_dummies(df[LABELS], prefix_sep='__')\n",
    "y.info(memory_usage='deep')\n",
    "y"
   ]
  },
  {
   "cell_type": "markdown",
   "metadata": {
    "tags": []
   },
   "source": [
    "# Test 0: trying to stratify split using sklearn's train_test_split()"
   ]
  },
  {
   "cell_type": "code",
   "execution_count": 8,
   "metadata": {
    "execution": {
     "iopub.execute_input": "2022-11-17T15:55:50.695934Z",
     "iopub.status.busy": "2022-11-17T15:55:50.695828Z",
     "iopub.status.idle": "2022-11-17T15:55:50.697780Z",
     "shell.execute_reply": "2022-11-17T15:55:50.697517Z",
     "shell.execute_reply.started": "2022-11-17T15:55:50.695924Z"
    },
    "tags": []
   },
   "outputs": [],
   "source": [
    "# from sklearn.model_selection import train_test_split\n",
    "# try:\n",
    "#     X_train, X_test, y_train, y_test = train_test_split(df[FEATURES], y, test_size = 0.5, random_state=1, stratify=y)\n",
    "# except ValueError as err:\n",
    "#     print('ValueError:', err)"
   ]
  },
  {
   "cell_type": "markdown",
   "metadata": {},
   "source": [
    "As pointed out in **_Groups of labels with less than 2 samples (unstratifiable)_**, the y population has class groups with less than 2 observations, thefore, the standard sklearn's `train_test_split()` won't work because of those cases."
   ]
  },
  {
   "cell_type": "markdown",
   "metadata": {
    "tags": []
   },
   "source": [
    "# Test 1: Imbalanced 50/50 split using sklearn's train_test_split(stratify=None)"
   ]
  },
  {
   "cell_type": "code",
   "execution_count": 87,
   "metadata": {
    "execution": {
     "iopub.execute_input": "2022-11-17T17:55:20.802768Z",
     "iopub.status.busy": "2022-11-17T17:55:20.802628Z",
     "iopub.status.idle": "2022-11-17T17:55:33.996977Z",
     "shell.execute_reply": "2022-11-17T17:55:33.996699Z",
     "shell.execute_reply.started": "2022-11-17T17:55:20.802757Z"
    },
    "tags": []
   },
   "outputs": [
    {
     "name": "stdout",
     "output_type": "stream",
     "text": [
      "Training size: 200138 (min_count: 14). Testing size: 200139 (min_count: 15)\n",
      "Train ratio: 0.605313914702197\n",
      "Test ratio : 0.6118644231571385\n"
     ]
    },
    {
     "data": {
      "image/png": "[encoded data removed]",
      "text/plain": [
       "<Figure size 1000x1000 with 1 Axes>"
      ]
     },
     "metadata": {},
     "output_type": "display_data"
    }
   ],
   "source": [
    "from sklearn.model_selection import train_test_split\n",
    "X_train, X_test, y_train, y_test = train_test_split(df[FEATURES], y, test_size = .5, random_state=1, stratify=None)\n",
    "print(f'Training size: {X_train.shape[0]} (min_count: {y_train.sum().min()}). Testing size: {X_test.shape[0]} (min_count: {y_test.sum().min()})')\n",
    "print(f'Train ratio: {(y_train.value_counts() / y.value_counts()).mean()}')\n",
    "print(f'Test ratio : {(y_test.value_counts() / y.value_counts()).mean()}')\n",
    "_ = split_report(y, y_train, y_test, figsize=(10,10))"
   ]
  },
  {
   "cell_type": "markdown",
   "metadata": {},
   "source": [
    "# Test 2: stratifying 0.5 sample using multilabel_sample_dataframe()"
   ]
  },
  {
   "cell_type": "code",
   "execution_count": 77,
   "metadata": {
    "execution": {
     "iopub.execute_input": "2022-11-17T17:14:31.426707Z",
     "iopub.status.busy": "2022-11-17T17:14:31.426569Z",
     "iopub.status.idle": "2022-11-17T17:15:03.577485Z",
     "shell.execute_reply": "2022-11-17T17:15:03.577061Z",
     "shell.execute_reply.started": "2022-11-17T17:14:31.426696Z"
    },
    "tags": []
   },
   "outputs": [
    {
     "name": "stdout",
     "output_type": "stream",
     "text": [
      "min_count given: 0 min_count taken: 12 sample ratio: 0.6072375572442041\n",
      "min_count given: 1 min_count taken: 16 sample ratio: 0.6138027727941249\n",
      "min_count given: 2 min_count taken: 13 sample ratio: 0.6113674512226885\n",
      "min_count given: 3 min_count taken: 17 sample ratio: 0.6129798763343044\n",
      "min_count given: 4 min_count taken: 19 sample ratio: 0.6124721206075043\n",
      "min_count given: 5 min_count taken: 18 sample ratio: 0.6116064363434706\n",
      "min_count given: 6 min_count taken: 18 sample ratio: 0.6122606533451785\n",
      "min_count given: 7 min_count taken: 14 sample ratio: 0.6088861542562353\n",
      "min_count given: 8 min_count taken: 20 sample ratio: 0.6104340127432644\n",
      "min_count given: 9 min_count taken: 25 sample ratio: 0.6098725917886925\n",
      "min_count given: 10 min_count taken: 22 sample ratio: 0.6168670587717345\n",
      "min_count given: 11 min_count taken: 21 sample ratio: 0.6168626174734579\n",
      "min_count given: 12 min_count taken: 21 sample ratio: 0.611005531395129\n",
      "min_count given: 13 min_count taken: 24 sample ratio: 0.6101390517388278\n",
      "min_count given: 14 min_count taken: 21 sample ratio: 0.6174092292911673\n",
      "min_count given: 15 min_count taken: 24 sample ratio: 0.6165727591077347\n",
      "min_count given: 16 min_count taken: 23 sample ratio: 0.6166895479428528\n",
      "min_count given: 17 min_count taken: 20 sample ratio: 0.6103039304470194\n",
      "min_count given: 18 min_count taken: 22 sample ratio: 0.6182388404974921\n",
      "min_count given: 19 min_count taken: 22 sample ratio: 0.6150935977004733\n",
      "min_count given: 20 min_count taken: 25 sample ratio: 0.616450162412989\n",
      "min_count given: 21 min_count taken: 23 sample ratio: 0.6155634392696796\n",
      "min_count given: 22 min_count taken: 24 sample ratio: 0.6163639929485345\n",
      "min_count given: 23 min_count taken: 26 sample ratio: 0.6113439381575179\n",
      "min_count given: 24 min_count taken: 25 sample ratio: 0.6154665838635037\n",
      "min_count given: 25 min_count taken: 29 sample ratio: 0.61638446521221\n",
      "min_count given: 26 min_count taken: 27 sample ratio: 0.6162225710984018\n",
      "min_count given: 27 min_count taken: 29 sample ratio: 0.6187630412422438\n",
      "min_count given: 28 min_count taken: 28 sample ratio: 0.6196759480589175\n",
      "min_count given: 29 min_count taken: 29 sample ratio: 0.6200207986985556\n"
     ]
    }
   ],
   "source": [
    "for min_count in range(0,30):\n",
    "    sampling = multilabel_sample_dataframe(df, y, size=0.5, min_count=min_count, seed=1)\n",
    "    dummy_labels = pd.get_dummies(sampling[LABELS], prefix_sep='__')\n",
    "    print(f'min_count given: {min_count} min_count taken: {dummy_labels.sum().min()} sample ratio: {(dummy_labels.value_counts() / y.value_counts()).mean()}')\n",
    "# _ = sample_report(y, dummy_labels, figsize=(10,10))"
   ]
  },
  {
   "cell_type": "markdown",
   "metadata": {},
   "source": [
    "# Test 3: Stratifying 50/50 split using multi_train_test_split()"
   ]
  },
  {
   "cell_type": "code",
   "execution_count": 82,
   "metadata": {
    "execution": {
     "iopub.execute_input": "2022-11-17T17:22:35.615837Z",
     "iopub.status.busy": "2022-11-17T17:22:35.615697Z",
     "iopub.status.idle": "2022-11-17T17:23:57.220726Z",
     "shell.execute_reply": "2022-11-17T17:23:57.220275Z",
     "shell.execute_reply.started": "2022-11-17T17:22:35.615826Z"
    },
    "tags": []
   },
   "outputs": [
    {
     "name": "stdout",
     "output_type": "stream",
     "text": [
      "min_count given: 0 train min_count: 17 test min_count: 12 train ratio: 0.6123687900873017 test ratio : 0.6072375572442041 difference: 0.005131232843097577\n",
      "min_count given: 1 train min_count: 13 test min_count: 16 train ratio: 0.6077455208819861 test ratio : 0.6138027727941249 difference: -0.006057251912138795\n",
      "min_count given: 2 train min_count: 16 test min_count: 13 train ratio: 0.6071922307864619 test ratio : 0.6113674512226885 difference: -0.004175220436226645\n",
      "min_count given: 3 train min_count: 12 test min_count: 17 train ratio: 0.6021737020495818 test ratio : 0.6129798763343044 difference: -0.010806174284722636\n",
      "min_count given: 4 train min_count: 10 test min_count: 19 train ratio: 0.6085244606070431 test ratio : 0.6124721206075043 difference: -0.003947660000461206\n",
      "min_count given: 5 train min_count: 11 test min_count: 18 train ratio: 0.6084340017059515 test ratio : 0.6116064363434706 difference: -0.0031724346375190393\n",
      "min_count given: 6 train min_count: 11 test min_count: 18 train ratio: 0.6079175771771974 test ratio : 0.6122606533451785 difference: -0.00434307616798113\n",
      "min_count given: 7 train min_count: 15 test min_count: 14 train ratio: 0.61061409568726 test ratio : 0.6088861542562353 difference: 0.0017279414310247265\n",
      "min_count given: 8 train min_count: 9 test min_count: 20 train ratio: 0.6041764738491153 test ratio : 0.6104340127432644 difference: -0.0062575388941490395\n",
      "min_count given: 9 train min_count: 4 test min_count: 25 train ratio: 0.6092276930868095 test ratio : 0.6098725917886925 difference: -0.000644898701883001\n",
      "min_count given: 10 train min_count: 7 test min_count: 22 train ratio: 0.599595551707377 test ratio : 0.6168670587717345 difference: -0.01727150706435754\n",
      "min_count given: 11 train min_count: 8 test min_count: 21 train ratio: 0.6012616650164526 test ratio : 0.6168626174734579 difference: -0.015600952457005324\n",
      "min_count given: 12 train min_count: 8 test min_count: 21 train ratio: 0.6074056566189846 test ratio : 0.611005531395129 difference: -0.0035998747761444294\n",
      "min_count given: 13 train min_count: 5 test min_count: 24 train ratio: 0.6074799790346952 test ratio : 0.6101390517388278 difference: -0.00265907270413257\n",
      "min_count given: 14 train min_count: 8 test min_count: 21 train ratio: 0.6000420973410634 test ratio : 0.6174092292911673 difference: -0.017367131950103865\n",
      "min_count given: 15 train min_count: 5 test min_count: 24 train ratio: 0.5984987283443383 test ratio : 0.6165727591077347 difference: -0.01807403076339642\n",
      "min_count given: 16 train min_count: 6 test min_count: 23 train ratio: 0.6041259366228856 test ratio : 0.6166895479428528 difference: -0.012563611319967194\n",
      "min_count given: 17 train min_count: 9 test min_count: 20 train ratio: 0.6040655591613245 test ratio : 0.6103039304470194 difference: -0.0062383712856948215\n",
      "min_count given: 18 train min_count: 7 test min_count: 22 train ratio: 0.6025298107920883 test ratio : 0.6182388404974921 difference: -0.015709029705403776\n",
      "min_count given: 19 train min_count: 7 test min_count: 22 train ratio: 0.5991693554310088 test ratio : 0.6150935977004733 difference: -0.01592424226946454\n",
      "min_count given: 20 train min_count: 4 test min_count: 25 train ratio: 0.6069396651419079 test ratio : 0.616450162412989 difference: -0.009510497271081109\n",
      "min_count given: 21 train min_count: 6 test min_count: 23 train ratio: 0.603958922685399 test ratio : 0.6155634392696796 difference: -0.011604516584280633\n",
      "min_count given: 22 train min_count: 5 test min_count: 24 train ratio: 0.6016260431163548 test ratio : 0.6163639929485345 difference: -0.014737949832179686\n",
      "min_count given: 23 train min_count: 3 test min_count: 26 train ratio: 0.6025823735838951 test ratio : 0.6113439381575179 difference: -0.00876156457362276\n",
      "min_count given: 24 train min_count: 4 test min_count: 25 train ratio: 0.6029831675082282 test ratio : 0.6154665838635037 difference: -0.0124834163552755\n",
      "min_count given: 25 train min_count: 0 test min_count: 29 train ratio: 0.6021679900761733 test ratio : 0.61638446521221 difference: -0.014216475136036744\n",
      "min_count given: 26 train min_count: 2 test min_count: 27 train ratio: 0.6021855102758026 test ratio : 0.6162225710984018 difference: -0.014037060822599257\n",
      "min_count given: 27 train min_count: 0 test min_count: 29 train ratio: 0.5978408930579279 test ratio : 0.6187630412422438 difference: -0.020922148184315925\n",
      "min_count given: 28 train min_count: 1 test min_count: 28 train ratio: 0.5985036390513168 test ratio : 0.6196759480589175 difference: -0.021172309007600698\n",
      "min_count given: 29 train min_count: 0 test min_count: 29 train ratio: 0.598160552621342 test ratio : 0.6200207986985556 difference: -0.021860246077213596\n"
     ]
    }
   ],
   "source": [
    "for min_count in range(0,30):\n",
    "    X_train, X_test, y_train, y_test = multilabel_train_test_split(df[FEATURES], y, size=0.5, min_count=min_count, seed=1)\n",
    "    print(f'min_count given: {min_count} train min_count: {y_train.sum().min()} test min_count: {y_test.sum().min()}', end=' ')\n",
    "    print(f'train ratio: {(y_train.value_counts() / y.value_counts()).mean()} test ratio : {(y_test.value_counts() / y.value_counts()).mean()}', end=' ')\n",
    "    print(f'difference: {(y_train.value_counts() / y.value_counts()).mean() - (y_test.value_counts() / y.value_counts()).mean()}')\n",
    "# _= split_report(y, y_train, y_test, figsize=(10,10))"
   ]
  },
  {
   "cell_type": "markdown",
   "metadata": {},
   "source": [
    "# Test 4: Stratifying 80/20 split of a stratified 0.7 sample using multi_train_test_split()"
   ]
  },
  {
   "cell_type": "markdown",
   "metadata": {},
   "source": [
    "## Stratifying 0.7 sample"
   ]
  },
  {
   "cell_type": "code",
   "execution_count": 83,
   "metadata": {
    "execution": {
     "iopub.execute_input": "2022-11-17T17:31:27.922832Z",
     "iopub.status.busy": "2022-11-17T17:31:27.922696Z",
     "iopub.status.idle": "2022-11-17T17:32:01.553296Z",
     "shell.execute_reply": "2022-11-17T17:32:01.552891Z",
     "shell.execute_reply.started": "2022-11-17T17:31:27.922821Z"
    },
    "tags": []
   },
   "outputs": [
    {
     "name": "stdout",
     "output_type": "stream",
     "text": [
      "min_count given: 0 min_count taken: 18 sample ratio: 0.7696485333319797\n",
      "min_count given: 1 min_count taken: 21 sample ratio: 0.7756801869918674\n",
      "min_count given: 2 min_count taken: 18 sample ratio: 0.7728726007345827\n",
      "min_count given: 3 min_count taken: 22 sample ratio: 0.7710488025463086\n",
      "min_count given: 4 min_count taken: 24 sample ratio: 0.775150790291482\n",
      "min_count given: 5 min_count taken: 24 sample ratio: 0.7718317282716475\n",
      "min_count given: 6 min_count taken: 24 sample ratio: 0.7713355280411031\n",
      "min_count given: 7 min_count taken: 22 sample ratio: 0.7697613175835779\n",
      "min_count given: 8 min_count taken: 25 sample ratio: 0.7734969987781444\n",
      "min_count given: 9 min_count taken: 25 sample ratio: 0.7725161064586407\n",
      "min_count given: 10 min_count taken: 22 sample ratio: 0.7728179013798997\n",
      "min_count given: 11 min_count taken: 24 sample ratio: 0.7767316222053126\n",
      "min_count given: 12 min_count taken: 25 sample ratio: 0.7703721071923453\n",
      "min_count given: 13 min_count taken: 27 sample ratio: 0.7729826215222135\n",
      "min_count given: 14 min_count taken: 24 sample ratio: 0.7742873464543718\n",
      "min_count given: 15 min_count taken: 24 sample ratio: 0.7757331895979491\n",
      "min_count given: 16 min_count taken: 25 sample ratio: 0.7762635216967635\n",
      "min_count given: 17 min_count taken: 24 sample ratio: 0.7712370139472785\n",
      "min_count given: 18 min_count taken: 26 sample ratio: 0.7774034700544137\n",
      "min_count given: 19 min_count taken: 26 sample ratio: 0.77230937483656\n",
      "min_count given: 20 min_count taken: 26 sample ratio: 0.7782208003190206\n",
      "min_count given: 21 min_count taken: 26 sample ratio: 0.777903298555212\n",
      "min_count given: 22 min_count taken: 25 sample ratio: 0.7738334618180742\n",
      "min_count given: 23 min_count taken: 28 sample ratio: 0.774907223381331\n",
      "min_count given: 24 min_count taken: 25 sample ratio: 0.7726594708380039\n",
      "min_count given: 25 min_count taken: 29 sample ratio: 0.7787942572688686\n",
      "min_count given: 26 min_count taken: 27 sample ratio: 0.7757044949219422\n",
      "min_count given: 27 min_count taken: 29 sample ratio: 0.7751141438051359\n",
      "min_count given: 28 min_count taken: 28 sample ratio: 0.7756138572610507\n",
      "min_count given: 29 min_count taken: 29 sample ratio: 0.7766871532495474\n"
     ]
    }
   ],
   "source": [
    "for min_count in range(0,30):\n",
    "    sampling = multilabel_sample_dataframe(df, y, size=0.7, min_count=min_count, seed=1)\n",
    "    dummy_labels = pd.get_dummies(sampling[LABELS], prefix_sep='__')\n",
    "    print(f'min_count given: {min_count} min_count taken: {dummy_labels.sum().min()} sample ratio: {(dummy_labels.value_counts() / y.value_counts()).mean()}')\n",
    "# _ = sample_report(y, dummy_labels, figsize=(10,10))"
   ]
  },
  {
   "cell_type": "markdown",
   "metadata": {},
   "source": [
    "## Stratifying 80/20 split of the 0.7 stratified sample"
   ]
  },
  {
   "cell_type": "code",
   "execution_count": 84,
   "metadata": {
    "execution": {
     "iopub.execute_input": "2022-11-17T17:38:50.268065Z",
     "iopub.status.busy": "2022-11-17T17:38:50.267927Z",
     "iopub.status.idle": "2022-11-17T17:40:04.222697Z",
     "shell.execute_reply": "2022-11-17T17:40:04.222394Z",
     "shell.execute_reply.started": "2022-11-17T17:38:50.268054Z"
    },
    "tags": []
   },
   "outputs": [
    {
     "name": "stdout",
     "output_type": "stream",
     "text": [
      "min_count given: 0 train min_count: 20 test min_count: 5 train ratio: 0.6617828350329235 test ratio : 0.27218419632105284 difference: 0.3895986387118706\n",
      "min_count given: 1 train min_count: 22 test min_count: 7 train ratio: 0.667185542300671 test ratio : 0.267754253169992 difference: 0.39943128913067893\n",
      "min_count given: 2 train min_count: 18 test min_count: 11 train ratio: 0.6626364418918598 test ratio : 0.2769126808187563 difference: 0.38572376107310347\n",
      "min_count given: 3 train min_count: 23 test min_count: 6 train ratio: 0.6650922646100611 test ratio : 0.26998205314567975 difference: 0.39511021146438136\n",
      "min_count given: 4 train min_count: 20 test min_count: 9 train ratio: 0.6658103737246636 test ratio : 0.27038079233593587 difference: 0.3954295813887277\n",
      "min_count given: 5 train min_count: 21 test min_count: 8 train ratio: 0.6635078079005058 test ratio : 0.2694075917234136 difference: 0.3941002161770922\n",
      "min_count given: 6 train min_count: 20 test min_count: 9 train ratio: 0.6610365740028434 test ratio : 0.26552382872377406 difference: 0.3955127452790694\n",
      "min_count given: 7 train min_count: 17 test min_count: 12 train ratio: 0.6651650234631858 test ratio : 0.2746183981290609 difference: 0.39054662533412493\n",
      "min_count given: 8 train min_count: 18 test min_count: 11 train ratio: 0.6629024886978003 test ratio : 0.26868918137549436 difference: 0.394213307322306\n",
      "min_count given: 9 train min_count: 17 test min_count: 12 train ratio: 0.6601267321297535 test ratio : 0.278870667463 difference: 0.3812560646667535\n",
      "min_count given: 10 train min_count: 16 test min_count: 13 train ratio: 0.6616896240194742 test ratio : 0.27665642119882405 difference: 0.3850332028206501\n",
      "min_count given: 11 train min_count: 17 test min_count: 12 train ratio: 0.6589493704604258 test ratio : 0.2821778887377153 difference: 0.37677148172271047\n",
      "min_count given: 12 train min_count: 16 test min_count: 13 train ratio: 0.6622661104407458 test ratio : 0.27809454742480844 difference: 0.38417156301593736\n",
      "min_count given: 13 train min_count: 14 test min_count: 15 train ratio: 0.6589573656920725 test ratio : 0.2814678159621003 difference: 0.37748954972997223\n",
      "min_count given: 14 train min_count: 14 test min_count: 15 train ratio: 0.6614218797731124 test ratio : 0.27573122946953177 difference: 0.38569065030358063\n",
      "min_count given: 15 train min_count: 11 test min_count: 18 train ratio: 0.6573085433457235 test ratio : 0.28186499103942064 difference: 0.3754435523063029\n",
      "min_count given: 16 train min_count: 11 test min_count: 18 train ratio: 0.6604381961567434 test ratio : 0.27562673209314 difference: 0.3848114640636034\n",
      "min_count given: 17 train min_count: 9 test min_count: 20 train ratio: 0.6568106121027136 test ratio : 0.2815384439069665 difference: 0.37527216819574716\n",
      "min_count given: 18 train min_count: 10 test min_count: 19 train ratio: 0.6599728829738327 test ratio : 0.27818319432368616 difference: 0.38178968865014656\n",
      "min_count given: 19 train min_count: 7 test min_count: 22 train ratio: 0.6589737148424826 test ratio : 0.2791781180193939 difference: 0.37979559682308867\n",
      "min_count given: 20 train min_count: 6 test min_count: 23 train ratio: 0.6597441800537045 test ratio : 0.27696704566988095 difference: 0.38277713438382355\n",
      "min_count given: 21 train min_count: 4 test min_count: 25 train ratio: 0.6585359511481808 test ratio : 0.28445534483866225 difference: 0.3740806063095185\n",
      "min_count given: 22 train min_count: 6 test min_count: 23 train ratio: 0.656840412018563 test ratio : 0.28558298330497606 difference: 0.37125742871358697\n",
      "min_count given: 23 train min_count: 5 test min_count: 24 train ratio: 0.6533173727291537 test ratio : 0.2840552572514087 difference: 0.369262115477745\n",
      "min_count given: 24 train min_count: 4 test min_count: 25 train ratio: 0.6541617408477172 test ratio : 0.28330349348299055 difference: 0.3708582473647266\n",
      "min_count given: 25 train min_count: 3 test min_count: 26 train ratio: 0.6536467911689005 test ratio : 0.28933370813552334 difference: 0.3643130830333771\n",
      "min_count given: 26 train min_count: 2 test min_count: 27 train ratio: 0.6550518390198747 test ratio : 0.2860567048660178 difference: 0.36899513415385693\n",
      "min_count given: 27 train min_count: 2 test min_count: 27 train ratio: 0.6560109075024944 test ratio : 0.2812463141722546 difference: 0.37476459333023976\n",
      "min_count given: 28 train min_count: 1 test min_count: 28 train ratio: 0.6535190954714706 test ratio : 0.28694800862805536 difference: 0.3665710868434152\n",
      "min_count given: 29 train min_count: 0 test min_count: 29 train ratio: 0.6515697076854193 test ratio : 0.2913752123249536 difference: 0.3601944953604657\n"
     ]
    }
   ],
   "source": [
    "sampling = multilabel_sample_dataframe(df, y, size=0.7, min_count=25, seed=1)\n",
    "dummy_labels = pd.get_dummies(sampling[LABELS], prefix_sep='__')\n",
    "for min_count in range(0,30):\n",
    "    X_train, X_test, y_train, y_test = multilabel_train_test_split(sampling[FEATURES], dummy_labels, size=0.2, min_count=min_count, seed=1)\n",
    "    print(f'min_count given: {min_count} train min_count: {y_train.sum().min()} test min_count: {y_test.sum().min()}', end=' ')\n",
    "    print(f'train ratio: {(y_train.value_counts() / y.value_counts()).mean()} test ratio : {(y_test.value_counts() / y.value_counts()).mean()}', end=' ')\n",
    "    print(f'difference: {(y_train.value_counts() / y.value_counts()).mean() - (y_test.value_counts() / y.value_counts()).mean()}')    \n",
    "#_ = sample_split_report(y, dummy_labels, y_train, y_test, figsize=(10,10))"
   ]
  },
  {
   "cell_type": "markdown",
   "metadata": {},
   "source": [
    "Here we see that some testing labels are missing after splitting.  \n",
    "It's required to simultaneously optimize the `size` and `min_count` parameters on either `multilabel_sample_dataframe` and `multilabel_train_test_split`, thus, balancing the stratification the best possible to achieve the best ratio."
   ]
  },
  {
   "cell_type": "markdown",
   "metadata": {},
   "source": [
    "# Optimize sampling and splitting parameters"
   ]
  },
  {
   "cell_type": "markdown",
   "metadata": {},
   "source": [
    "Run the script `optimize-sample-split.py` to prepare data for analysis"
   ]
  },
  {
   "cell_type": "code",
   "execution_count": 18,
   "metadata": {
    "execution": {
     "iopub.execute_input": "2022-11-10T19:17:49.374877Z",
     "iopub.status.busy": "2022-11-10T19:17:49.374768Z",
     "iopub.status.idle": "2022-11-10T19:17:49.376838Z",
     "shell.execute_reply": "2022-11-10T19:17:49.376467Z",
     "shell.execute_reply.started": "2022-11-10T19:17:49.374866Z"
    },
    "tags": []
   },
   "outputs": [],
   "source": [
    "# ! python optimize-sample-split.py"
   ]
  },
  {
   "cell_type": "code",
   "execution_count": 19,
   "metadata": {
    "code_folding": [],
    "execution": {
     "iopub.execute_input": "2022-11-10T19:17:49.377382Z",
     "iopub.status.busy": "2022-11-10T19:17:49.377187Z",
     "iopub.status.idle": "2022-11-10T19:17:50.051389Z",
     "shell.execute_reply": "2022-11-10T19:17:50.051014Z",
     "shell.execute_reply.started": "2022-11-10T19:17:49.377372Z"
    },
    "tags": []
   },
   "outputs": [
    {
     "name": "stdout",
     "output_type": "stream",
     "text": [
      "<class 'pandas.core.frame.DataFrame'>\n",
      "RangeIndex: 100799 entries, 0 to 100798\n",
      "Columns: 10 entries, sample_size to test_ratio\n",
      "dtypes: float64(5), object(5)\n",
      "memory usage: 21.0 MB\n"
     ]
    },
    {
     "data": {
      "text/html": [
       "<div>\n",
       "<style scoped>\n",
       "    .dataframe tbody tr th:only-of-type {\n",
       "        vertical-align: middle;\n",
       "    }\n",
       "\n",
       "    .dataframe tbody tr th {\n",
       "        vertical-align: top;\n",
       "    }\n",
       "\n",
       "    .dataframe thead th {\n",
       "        text-align: right;\n",
       "    }\n",
       "</style>\n",
       "<table border=\"1\" class=\"dataframe\">\n",
       "  <thead>\n",
       "    <tr style=\"text-align: right;\">\n",
       "      <th></th>\n",
       "      <th>field</th>\n",
       "      <th>non-null count</th>\n",
       "      <th>missing ratio</th>\n",
       "      <th>data type</th>\n",
       "      <th>unique count</th>\n",
       "      <th>unique preview</th>\n",
       "    </tr>\n",
       "  </thead>\n",
       "  <tbody>\n",
       "    <tr>\n",
       "      <th>0</th>\n",
       "      <td>sample_lessfreq</td>\n",
       "      <td>100799</td>\n",
       "      <td>0.0</td>\n",
       "      <td>object</td>\n",
       "      <td>30</td>\n",
       "      <td>[0, 1, 10, 11, 12, ..., 5, 6, 7, 8, 9]</td>\n",
       "    </tr>\n",
       "    <tr>\n",
       "      <th>1</th>\n",
       "      <td>sample_min_count</td>\n",
       "      <td>100799</td>\n",
       "      <td>0.0</td>\n",
       "      <td>object</td>\n",
       "      <td>30</td>\n",
       "      <td>[0, 1, 10, 11, 12, ..., 5, 6, 7, 8, 9]</td>\n",
       "    </tr>\n",
       "    <tr>\n",
       "      <th>2</th>\n",
       "      <td>sample_ratio</td>\n",
       "      <td>100799</td>\n",
       "      <td>0.0</td>\n",
       "      <td>float64</td>\n",
       "      <td>541</td>\n",
       "      <td>[0.06675592536155764, 0.07295573178258284, 0.0...</td>\n",
       "    </tr>\n",
       "    <tr>\n",
       "      <th>3</th>\n",
       "      <td>sample_size</td>\n",
       "      <td>100799</td>\n",
       "      <td>0.0</td>\n",
       "      <td>float64</td>\n",
       "      <td>19</td>\n",
       "      <td>[0.01, 0.01999999999999999, 0.03, 0.0399999999...</td>\n",
       "    </tr>\n",
       "    <tr>\n",
       "      <th>4</th>\n",
       "      <td>test_lessfreq</td>\n",
       "      <td>100799</td>\n",
       "      <td>0.0</td>\n",
       "      <td>object</td>\n",
       "      <td>30</td>\n",
       "      <td>[0, 1, 10, 11, 12, ..., 5, 6, 7, 8, 9]</td>\n",
       "    </tr>\n",
       "    <tr>\n",
       "      <th>5</th>\n",
       "      <td>test_min_count</td>\n",
       "      <td>100799</td>\n",
       "      <td>0.0</td>\n",
       "      <td>object</td>\n",
       "      <td>30</td>\n",
       "      <td>[0, 1, 10, 11, 12, ..., 5, 6, 7, 8, 9]</td>\n",
       "    </tr>\n",
       "    <tr>\n",
       "      <th>6</th>\n",
       "      <td>test_ratio</td>\n",
       "      <td>100799</td>\n",
       "      <td>0.0</td>\n",
       "      <td>float64</td>\n",
       "      <td>100538</td>\n",
       "      <td>[0.024211710155202838, 0.027255346978995582, 0...</td>\n",
       "    </tr>\n",
       "    <tr>\n",
       "      <th>7</th>\n",
       "      <td>test_size</td>\n",
       "      <td>100799</td>\n",
       "      <td>0.0</td>\n",
       "      <td>float64</td>\n",
       "      <td>9</td>\n",
       "      <td>[0.1, 0.2, 0.30000000000000004, 0.4, 0.5, 0.6,...</td>\n",
       "    </tr>\n",
       "    <tr>\n",
       "      <th>8</th>\n",
       "      <td>train_lessfreq</td>\n",
       "      <td>100799</td>\n",
       "      <td>0.0</td>\n",
       "      <td>object</td>\n",
       "      <td>30</td>\n",
       "      <td>[0, 1, 10, 11, 12, ..., 5, 6, 7, 8, 9]</td>\n",
       "    </tr>\n",
       "    <tr>\n",
       "      <th>9</th>\n",
       "      <td>train_ratio</td>\n",
       "      <td>100799</td>\n",
       "      <td>0.0</td>\n",
       "      <td>float64</td>\n",
       "      <td>100538</td>\n",
       "      <td>[0.016213462665645117, 0.017129853111320717, 0...</td>\n",
       "    </tr>\n",
       "  </tbody>\n",
       "</table>\n",
       "</div>"
      ],
      "text/plain": [
       "              field non-null count missing ratio data type unique count  \\\n",
       "0   sample_lessfreq         100799           0.0    object           30   \n",
       "1  sample_min_count         100799           0.0    object           30   \n",
       "2      sample_ratio         100799           0.0   float64          541   \n",
       "3       sample_size         100799           0.0   float64           19   \n",
       "4     test_lessfreq         100799           0.0    object           30   \n",
       "5    test_min_count         100799           0.0    object           30   \n",
       "6        test_ratio         100799           0.0   float64       100538   \n",
       "7         test_size         100799           0.0   float64            9   \n",
       "8    train_lessfreq         100799           0.0    object           30   \n",
       "9       train_ratio         100799           0.0   float64       100538   \n",
       "\n",
       "                                      unique preview  \n",
       "0             [0, 1, 10, 11, 12, ..., 5, 6, 7, 8, 9]  \n",
       "1             [0, 1, 10, 11, 12, ..., 5, 6, 7, 8, 9]  \n",
       "2  [0.06675592536155764, 0.07295573178258284, 0.0...  \n",
       "3  [0.01, 0.01999999999999999, 0.03, 0.0399999999...  \n",
       "4             [0, 1, 10, 11, 12, ..., 5, 6, 7, 8, 9]  \n",
       "5             [0, 1, 10, 11, 12, ..., 5, 6, 7, 8, 9]  \n",
       "6  [0.024211710155202838, 0.027255346978995582, 0...  \n",
       "7  [0.1, 0.2, 0.30000000000000004, 0.4, 0.5, 0.6,...  \n",
       "8             [0, 1, 10, 11, 12, ..., 5, 6, 7, 8, 9]  \n",
       "9  [0.016213462665645117, 0.017129853111320717, 0...  "
      ]
     },
     "metadata": {},
     "output_type": "display_data"
    }
   ],
   "source": [
    "import pickle\n",
    "if not os.path.isfile('/data/drivendata/optimize-sample-split.pkl'):\n",
    "    print('Please run the optimize-sample-split.py')\n",
    "else:\n",
    "    with open('/data/drivendata/optimize-sample-split.pkl', 'rb') as f:\n",
    "        results = pickle.load(f)\n",
    "        display(glimpse(results))"
   ]
  },
  {
   "cell_type": "markdown",
   "metadata": {
    "tags": []
   },
   "source": [
    "## Metric"
   ]
  },
  {
   "cell_type": "markdown",
   "metadata": {},
   "source": [
    "Best sample, train, test ratios"
   ]
  },
  {
   "cell_type": "code",
   "execution_count": 20,
   "metadata": {
    "execution": {
     "iopub.execute_input": "2022-11-10T19:17:50.051968Z",
     "iopub.status.busy": "2022-11-10T19:17:50.051854Z",
     "iopub.status.idle": "2022-11-10T19:17:50.156015Z",
     "shell.execute_reply": "2022-11-10T19:17:50.155744Z",
     "shell.execute_reply.started": "2022-11-10T19:17:50.051957Z"
    },
    "tags": []
   },
   "outputs": [
    {
     "data": {
      "text/html": [
       "<style type=\"text/css\">\n",
       "#T_714b8_row0_col0, #T_714b8_row0_col3, #T_714b8_row0_col8, #T_714b8_row0_col9, #T_714b8_row1_col0, #T_714b8_row1_col3, #T_714b8_row1_col8, #T_714b8_row1_col9, #T_714b8_row2_col0, #T_714b8_row2_col3, #T_714b8_row2_col8, #T_714b8_row2_col9 {\n",
       "  background-color: green;\n",
       "}\n",
       "</style>\n",
       "<table id=\"T_714b8\">\n",
       "  <thead>\n",
       "    <tr>\n",
       "      <th class=\"blank level0\" >&nbsp;</th>\n",
       "      <th id=\"T_714b8_level0_col0\" class=\"col_heading level0 col0\" >sample_size</th>\n",
       "      <th id=\"T_714b8_level0_col1\" class=\"col_heading level0 col1\" >sample_min_count</th>\n",
       "      <th id=\"T_714b8_level0_col2\" class=\"col_heading level0 col2\" >sample_lessfreq</th>\n",
       "      <th id=\"T_714b8_level0_col3\" class=\"col_heading level0 col3\" >sample_ratio</th>\n",
       "      <th id=\"T_714b8_level0_col4\" class=\"col_heading level0 col4\" >test_size</th>\n",
       "      <th id=\"T_714b8_level0_col5\" class=\"col_heading level0 col5\" >test_min_count</th>\n",
       "      <th id=\"T_714b8_level0_col6\" class=\"col_heading level0 col6\" >train_lessfreq</th>\n",
       "      <th id=\"T_714b8_level0_col7\" class=\"col_heading level0 col7\" >test_lessfreq</th>\n",
       "      <th id=\"T_714b8_level0_col8\" class=\"col_heading level0 col8\" >train_ratio</th>\n",
       "      <th id=\"T_714b8_level0_col9\" class=\"col_heading level0 col9\" >test_ratio</th>\n",
       "    </tr>\n",
       "  </thead>\n",
       "  <tbody>\n",
       "    <tr>\n",
       "      <th id=\"T_714b8_level0_row0\" class=\"row_heading level0 row0\" >5133</th>\n",
       "      <td id=\"T_714b8_row0_col0\" class=\"data row0 col0\" >1.000000</td>\n",
       "      <td id=\"T_714b8_row0_col1\" class=\"data row0 col1\" >19</td>\n",
       "      <td id=\"T_714b8_row0_col2\" class=\"data row0 col2\" >29</td>\n",
       "      <td id=\"T_714b8_row0_col3\" class=\"data row0 col3\" >1.000000</td>\n",
       "      <td id=\"T_714b8_row0_col4\" class=\"data row0 col4\" >0.100000</td>\n",
       "      <td id=\"T_714b8_row0_col5\" class=\"data row0 col5\" >3</td>\n",
       "      <td id=\"T_714b8_row0_col6\" class=\"data row0 col6\" >22</td>\n",
       "      <td id=\"T_714b8_row0_col7\" class=\"data row0 col7\" >7</td>\n",
       "      <td id=\"T_714b8_row0_col8\" class=\"data row0 col8\" >0.927843</td>\n",
       "      <td id=\"T_714b8_row0_col9\" class=\"data row0 col9\" >0.217250</td>\n",
       "    </tr>\n",
       "    <tr>\n",
       "      <th id=\"T_714b8_level0_row1\" class=\"row_heading level0 row1\" >7023</th>\n",
       "      <td id=\"T_714b8_row1_col0\" class=\"data row1 col0\" >1.000000</td>\n",
       "      <td id=\"T_714b8_row1_col1\" class=\"data row1 col1\" >26</td>\n",
       "      <td id=\"T_714b8_row1_col2\" class=\"data row1 col2\" >29</td>\n",
       "      <td id=\"T_714b8_row1_col3\" class=\"data row1 col3\" >1.000000</td>\n",
       "      <td id=\"T_714b8_row1_col4\" class=\"data row1 col4\" >0.100000</td>\n",
       "      <td id=\"T_714b8_row1_col5\" class=\"data row1 col5\" >3</td>\n",
       "      <td id=\"T_714b8_row1_col6\" class=\"data row1 col6\" >22</td>\n",
       "      <td id=\"T_714b8_row1_col7\" class=\"data row1 col7\" >7</td>\n",
       "      <td id=\"T_714b8_row1_col8\" class=\"data row1 col8\" >0.927512</td>\n",
       "      <td id=\"T_714b8_row1_col9\" class=\"data row1 col9\" >0.215472</td>\n",
       "    </tr>\n",
       "    <tr>\n",
       "      <th id=\"T_714b8_level0_row2\" class=\"row_heading level0 row2\" >6212</th>\n",
       "      <td id=\"T_714b8_row2_col0\" class=\"data row2 col0\" >1.000000</td>\n",
       "      <td id=\"T_714b8_row2_col1\" class=\"data row2 col1\" >23</td>\n",
       "      <td id=\"T_714b8_row2_col2\" class=\"data row2 col2\" >29</td>\n",
       "      <td id=\"T_714b8_row2_col3\" class=\"data row2 col3\" >1.000000</td>\n",
       "      <td id=\"T_714b8_row2_col4\" class=\"data row2 col4\" >0.100000</td>\n",
       "      <td id=\"T_714b8_row2_col5\" class=\"data row2 col5\" >2</td>\n",
       "      <td id=\"T_714b8_row2_col6\" class=\"data row2 col6\" >24</td>\n",
       "      <td id=\"T_714b8_row2_col7\" class=\"data row2 col7\" >5</td>\n",
       "      <td id=\"T_714b8_row2_col8\" class=\"data row2 col8\" >0.927289</td>\n",
       "      <td id=\"T_714b8_row2_col9\" class=\"data row2 col9\" >0.214517</td>\n",
       "    </tr>\n",
       "  </tbody>\n",
       "</table>\n"
      ],
      "text/plain": [
       "<pandas.io.formats.style.Styler at 0x7fd959c9ab20>"
      ]
     },
     "metadata": {},
     "output_type": "display_data"
    },
    {
     "data": {
      "text/html": [
       "<style type=\"text/css\">\n",
       "#T_ea555_row0_col0, #T_ea555_row0_col3, #T_ea555_row0_col8, #T_ea555_row0_col9, #T_ea555_row1_col0, #T_ea555_row1_col3, #T_ea555_row1_col8, #T_ea555_row1_col9, #T_ea555_row2_col0, #T_ea555_row2_col3, #T_ea555_row2_col8, #T_ea555_row2_col9 {\n",
       "  background-color: red;\n",
       "}\n",
       "</style>\n",
       "<table id=\"T_ea555\">\n",
       "  <thead>\n",
       "    <tr>\n",
       "      <th class=\"blank level0\" >&nbsp;</th>\n",
       "      <th id=\"T_ea555_level0_col0\" class=\"col_heading level0 col0\" >sample_size</th>\n",
       "      <th id=\"T_ea555_level0_col1\" class=\"col_heading level0 col1\" >sample_min_count</th>\n",
       "      <th id=\"T_ea555_level0_col2\" class=\"col_heading level0 col2\" >sample_lessfreq</th>\n",
       "      <th id=\"T_ea555_level0_col3\" class=\"col_heading level0 col3\" >sample_ratio</th>\n",
       "      <th id=\"T_ea555_level0_col4\" class=\"col_heading level0 col4\" >test_size</th>\n",
       "      <th id=\"T_ea555_level0_col5\" class=\"col_heading level0 col5\" >test_min_count</th>\n",
       "      <th id=\"T_ea555_level0_col6\" class=\"col_heading level0 col6\" >train_lessfreq</th>\n",
       "      <th id=\"T_ea555_level0_col7\" class=\"col_heading level0 col7\" >test_lessfreq</th>\n",
       "      <th id=\"T_ea555_level0_col8\" class=\"col_heading level0 col8\" >train_ratio</th>\n",
       "      <th id=\"T_ea555_level0_col9\" class=\"col_heading level0 col9\" >test_ratio</th>\n",
       "    </tr>\n",
       "  </thead>\n",
       "  <tbody>\n",
       "    <tr>\n",
       "      <th id=\"T_ea555_level0_row0\" class=\"row_heading level0 row0\" >97582</th>\n",
       "      <td id=\"T_ea555_row0_col0\" class=\"data row0 col0\" >0.010000</td>\n",
       "      <td id=\"T_ea555_row0_col1\" class=\"data row0 col1\" >0</td>\n",
       "      <td id=\"T_ea555_row0_col2\" class=\"data row0 col2\" >0</td>\n",
       "      <td id=\"T_ea555_row0_col3\" class=\"data row0 col3\" >0.066756</td>\n",
       "      <td id=\"T_ea555_row0_col4\" class=\"data row0 col4\" >0.700000</td>\n",
       "      <td id=\"T_ea555_row0_col5\" class=\"data row0 col5\" >0</td>\n",
       "      <td id=\"T_ea555_row0_col6\" class=\"data row0 col6\" >0</td>\n",
       "      <td id=\"T_ea555_row0_col7\" class=\"data row0 col7\" >0</td>\n",
       "      <td id=\"T_ea555_row0_col8\" class=\"data row0 col8\" >0.036745</td>\n",
       "      <td id=\"T_ea555_row0_col9\" class=\"data row0 col9\" >0.060474</td>\n",
       "    </tr>\n",
       "    <tr>\n",
       "      <th id=\"T_ea555_level0_row1\" class=\"row_heading level0 row1\" >97583</th>\n",
       "      <td id=\"T_ea555_row1_col0\" class=\"data row1 col0\" >0.010000</td>\n",
       "      <td id=\"T_ea555_row1_col1\" class=\"data row1 col1\" >0</td>\n",
       "      <td id=\"T_ea555_row1_col2\" class=\"data row1 col2\" >0</td>\n",
       "      <td id=\"T_ea555_row1_col3\" class=\"data row1 col3\" >0.066756</td>\n",
       "      <td id=\"T_ea555_row1_col4\" class=\"data row1 col4\" >0.800000</td>\n",
       "      <td id=\"T_ea555_row1_col5\" class=\"data row1 col5\" >0</td>\n",
       "      <td id=\"T_ea555_row1_col6\" class=\"data row1 col6\" >0</td>\n",
       "      <td id=\"T_ea555_row1_col7\" class=\"data row1 col7\" >0</td>\n",
       "      <td id=\"T_ea555_row1_col8\" class=\"data row1 col8\" >0.035214</td>\n",
       "      <td id=\"T_ea555_row1_col9\" class=\"data row1 col9\" >0.061512</td>\n",
       "    </tr>\n",
       "    <tr>\n",
       "      <th id=\"T_ea555_level0_row2\" class=\"row_heading level0 row2\" >97584</th>\n",
       "      <td id=\"T_ea555_row2_col0\" class=\"data row2 col0\" >0.010000</td>\n",
       "      <td id=\"T_ea555_row2_col1\" class=\"data row2 col1\" >0</td>\n",
       "      <td id=\"T_ea555_row2_col2\" class=\"data row2 col2\" >0</td>\n",
       "      <td id=\"T_ea555_row2_col3\" class=\"data row2 col3\" >0.066756</td>\n",
       "      <td id=\"T_ea555_row2_col4\" class=\"data row2 col4\" >0.900000</td>\n",
       "      <td id=\"T_ea555_row2_col5\" class=\"data row2 col5\" >0</td>\n",
       "      <td id=\"T_ea555_row2_col6\" class=\"data row2 col6\" >0</td>\n",
       "      <td id=\"T_ea555_row2_col7\" class=\"data row2 col7\" >0</td>\n",
       "      <td id=\"T_ea555_row2_col8\" class=\"data row2 col8\" >0.017565</td>\n",
       "      <td id=\"T_ea555_row2_col9\" class=\"data row2 col9\" >0.066583</td>\n",
       "    </tr>\n",
       "  </tbody>\n",
       "</table>\n"
      ],
      "text/plain": [
       "<pandas.io.formats.style.Styler at 0x7fd959ca3160>"
      ]
     },
     "execution_count": 20,
     "metadata": {},
     "output_type": "execute_result"
    }
   ],
   "source": [
    "metrics = ['sample_size', 'sample_ratio', 'train_ratio', 'test_ratio']\n",
    "display(results.sort_values(metrics, ascending=False).head(3).style.set_properties(**{'background-color': 'green'}, subset=metrics))\n",
    "results.sort_values(metrics, ascending=False).tail(3).style.set_properties(**{'background-color': 'red'}, subset=metrics)"
   ]
  },
  {
   "cell_type": "markdown",
   "metadata": {},
   "source": [
    "# Best parameters selection"
   ]
  },
  {
   "cell_type": "markdown",
   "metadata": {},
   "source": [
    "* To allow cross-validation of 5 folds the minimal class frequency must be 5 for the training set and 1 for the test set."
   ]
  },
  {
   "cell_type": "code",
   "execution_count": 21,
   "metadata": {
    "execution": {
     "iopub.execute_input": "2022-11-10T19:17:50.156572Z",
     "iopub.status.busy": "2022-11-10T19:17:50.156402Z",
     "iopub.status.idle": "2022-11-10T19:17:50.162836Z",
     "shell.execute_reply": "2022-11-10T19:17:50.162394Z",
     "shell.execute_reply.started": "2022-11-10T19:17:50.156560Z"
    },
    "tags": []
   },
   "outputs": [],
   "source": [
    "k = 5\n",
    "k_fold_condition = (results.train_lessfreq >= k) & (results.test_lessfreq >= 1) #& (results.train_lessfreq >= results.test_lessfreq)"
   ]
  },
  {
   "cell_type": "markdown",
   "metadata": {},
   "source": [
    "* For begining the model, the selection should be:\n",
    "    * The smallest sample size (e.g. 0.1)\n",
    "    * The smallest test size (e.g. 0.1)\n",
    "    * The best train ratios\n",
    "* For finishing the model, the parameter set should have:\n",
    "    * The full dataset\n",
    "    * The smallest test size (e.g. 0.1)\n",
    "    * best train ratios"
   ]
  },
  {
   "cell_type": "markdown",
   "metadata": {},
   "source": [
    "## For 1% sample"
   ]
  },
  {
   "cell_type": "code",
   "execution_count": 22,
   "metadata": {
    "execution": {
     "iopub.execute_input": "2022-11-10T19:17:50.163377Z",
     "iopub.status.busy": "2022-11-10T19:17:50.163238Z",
     "iopub.status.idle": "2022-11-10T19:17:50.192207Z",
     "shell.execute_reply": "2022-11-10T19:17:50.191878Z",
     "shell.execute_reply.started": "2022-11-10T19:17:50.163366Z"
    },
    "tags": []
   },
   "outputs": [
    {
     "data": {
      "text/html": [
       "<style type=\"text/css\">\n",
       "#T_11c37_row0_col0, #T_11c37_row0_col3, #T_11c37_row0_col8, #T_11c37_row0_col9, #T_11c37_row1_col0, #T_11c37_row1_col3, #T_11c37_row1_col8, #T_11c37_row1_col9, #T_11c37_row2_col0, #T_11c37_row2_col3, #T_11c37_row2_col8, #T_11c37_row2_col9 {\n",
       "  background-color: green;\n",
       "}\n",
       "</style>\n",
       "<table id=\"T_11c37\">\n",
       "  <thead>\n",
       "    <tr>\n",
       "      <th class=\"blank level0\" >&nbsp;</th>\n",
       "      <th id=\"T_11c37_level0_col0\" class=\"col_heading level0 col0\" >sample_size</th>\n",
       "      <th id=\"T_11c37_level0_col1\" class=\"col_heading level0 col1\" >sample_min_count</th>\n",
       "      <th id=\"T_11c37_level0_col2\" class=\"col_heading level0 col2\" >sample_lessfreq</th>\n",
       "      <th id=\"T_11c37_level0_col3\" class=\"col_heading level0 col3\" >sample_ratio</th>\n",
       "      <th id=\"T_11c37_level0_col4\" class=\"col_heading level0 col4\" >test_size</th>\n",
       "      <th id=\"T_11c37_level0_col5\" class=\"col_heading level0 col5\" >test_min_count</th>\n",
       "      <th id=\"T_11c37_level0_col6\" class=\"col_heading level0 col6\" >train_lessfreq</th>\n",
       "      <th id=\"T_11c37_level0_col7\" class=\"col_heading level0 col7\" >test_lessfreq</th>\n",
       "      <th id=\"T_11c37_level0_col8\" class=\"col_heading level0 col8\" >train_ratio</th>\n",
       "      <th id=\"T_11c37_level0_col9\" class=\"col_heading level0 col9\" >test_ratio</th>\n",
       "    </tr>\n",
       "  </thead>\n",
       "  <tbody>\n",
       "    <tr>\n",
       "      <th id=\"T_11c37_level0_row0\" class=\"row_heading level0 row0\" >100459</th>\n",
       "      <td id=\"T_11c37_row0_col0\" class=\"data row0 col0\" >0.010000</td>\n",
       "      <td id=\"T_11c37_row0_col1\" class=\"data row0 col1\" >28</td>\n",
       "      <td id=\"T_11c37_row0_col2\" class=\"data row0 col2\" >28</td>\n",
       "      <td id=\"T_11c37_row0_col3\" class=\"data row0 col3\" >0.145545</td>\n",
       "      <td id=\"T_11c37_row0_col4\" class=\"data row0 col4\" >0.100000</td>\n",
       "      <td id=\"T_11c37_row0_col5\" class=\"data row0 col5\" >0</td>\n",
       "      <td id=\"T_11c37_row0_col6\" class=\"data row0 col6\" >22</td>\n",
       "      <td id=\"T_11c37_row0_col7\" class=\"data row0 col7\" >1</td>\n",
       "      <td id=\"T_11c37_row0_col8\" class=\"data row0 col8\" >0.139017</td>\n",
       "      <td id=\"T_11c37_row0_col9\" class=\"data row0 col9\" >0.068591</td>\n",
       "    </tr>\n",
       "    <tr>\n",
       "      <th id=\"T_11c37_level0_row1\" class=\"row_heading level0 row1\" >100461</th>\n",
       "      <td id=\"T_11c37_row1_col0\" class=\"data row1 col0\" >0.010000</td>\n",
       "      <td id=\"T_11c37_row1_col1\" class=\"data row1 col1\" >28</td>\n",
       "      <td id=\"T_11c37_row1_col2\" class=\"data row1 col2\" >28</td>\n",
       "      <td id=\"T_11c37_row1_col3\" class=\"data row1 col3\" >0.145545</td>\n",
       "      <td id=\"T_11c37_row1_col4\" class=\"data row1 col4\" >0.100000</td>\n",
       "      <td id=\"T_11c37_row1_col5\" class=\"data row1 col5\" >2</td>\n",
       "      <td id=\"T_11c37_row1_col6\" class=\"data row1 col6\" >21</td>\n",
       "      <td id=\"T_11c37_row1_col7\" class=\"data row1 col7\" >3</td>\n",
       "      <td id=\"T_11c37_row1_col8\" class=\"data row1 col8\" >0.137327</td>\n",
       "      <td id=\"T_11c37_row1_col9\" class=\"data row1 col9\" >0.074610</td>\n",
       "    </tr>\n",
       "    <tr>\n",
       "      <th id=\"T_11c37_level0_row2\" class=\"row_heading level0 row2\" >100460</th>\n",
       "      <td id=\"T_11c37_row2_col0\" class=\"data row2 col0\" >0.010000</td>\n",
       "      <td id=\"T_11c37_row2_col1\" class=\"data row2 col1\" >28</td>\n",
       "      <td id=\"T_11c37_row2_col2\" class=\"data row2 col2\" >28</td>\n",
       "      <td id=\"T_11c37_row2_col3\" class=\"data row2 col3\" >0.145545</td>\n",
       "      <td id=\"T_11c37_row2_col4\" class=\"data row2 col4\" >0.100000</td>\n",
       "      <td id=\"T_11c37_row2_col5\" class=\"data row2 col5\" >1</td>\n",
       "      <td id=\"T_11c37_row2_col6\" class=\"data row2 col6\" >21</td>\n",
       "      <td id=\"T_11c37_row2_col7\" class=\"data row2 col7\" >1</td>\n",
       "      <td id=\"T_11c37_row2_col8\" class=\"data row2 col8\" >0.135156</td>\n",
       "      <td id=\"T_11c37_row2_col9\" class=\"data row2 col9\" >0.093377</td>\n",
       "    </tr>\n",
       "  </tbody>\n",
       "</table>\n"
      ],
      "text/plain": [
       "<pandas.io.formats.style.Styler at 0x7fd96a94cf10>"
      ]
     },
     "execution_count": 22,
     "metadata": {},
     "output_type": "execute_result"
    }
   ],
   "source": [
    "ascending = [True, False, False, False]\n",
    "results[k_fold_condition].sort_values(metrics, ascending=ascending).head(3).style.set_properties(**{'background-color': 'green'}, subset=metrics)"
   ]
  },
  {
   "cell_type": "markdown",
   "metadata": {},
   "source": [
    "## 10% sample"
   ]
  },
  {
   "cell_type": "code",
   "execution_count": 23,
   "metadata": {
    "execution": {
     "iopub.execute_input": "2022-11-10T19:17:50.192733Z",
     "iopub.status.busy": "2022-11-10T19:17:50.192591Z",
     "iopub.status.idle": "2022-11-10T19:17:50.209416Z",
     "shell.execute_reply": "2022-11-10T19:17:50.209139Z",
     "shell.execute_reply.started": "2022-11-10T19:17:50.192722Z"
    },
    "tags": []
   },
   "outputs": [
    {
     "data": {
      "text/html": [
       "<style type=\"text/css\">\n",
       "#T_764e4_row0_col0, #T_764e4_row0_col3, #T_764e4_row0_col8, #T_764e4_row0_col9, #T_764e4_row1_col0, #T_764e4_row1_col3, #T_764e4_row1_col8, #T_764e4_row1_col9, #T_764e4_row2_col0, #T_764e4_row2_col3, #T_764e4_row2_col8, #T_764e4_row2_col9 {\n",
       "  background-color: green;\n",
       "}\n",
       "</style>\n",
       "<table id=\"T_764e4\">\n",
       "  <thead>\n",
       "    <tr>\n",
       "      <th class=\"blank level0\" >&nbsp;</th>\n",
       "      <th id=\"T_764e4_level0_col0\" class=\"col_heading level0 col0\" >sample_size</th>\n",
       "      <th id=\"T_764e4_level0_col1\" class=\"col_heading level0 col1\" >sample_min_count</th>\n",
       "      <th id=\"T_764e4_level0_col2\" class=\"col_heading level0 col2\" >sample_lessfreq</th>\n",
       "      <th id=\"T_764e4_level0_col3\" class=\"col_heading level0 col3\" >sample_ratio</th>\n",
       "      <th id=\"T_764e4_level0_col4\" class=\"col_heading level0 col4\" >test_size</th>\n",
       "      <th id=\"T_764e4_level0_col5\" class=\"col_heading level0 col5\" >test_min_count</th>\n",
       "      <th id=\"T_764e4_level0_col6\" class=\"col_heading level0 col6\" >train_lessfreq</th>\n",
       "      <th id=\"T_764e4_level0_col7\" class=\"col_heading level0 col7\" >test_lessfreq</th>\n",
       "      <th id=\"T_764e4_level0_col8\" class=\"col_heading level0 col8\" >train_ratio</th>\n",
       "      <th id=\"T_764e4_level0_col9\" class=\"col_heading level0 col9\" >test_ratio</th>\n",
       "    </tr>\n",
       "  </thead>\n",
       "  <tbody>\n",
       "    <tr>\n",
       "      <th id=\"T_764e4_level0_row0\" class=\"row_heading level0 row0\" >62946</th>\n",
       "      <td id=\"T_764e4_row0_col0\" class=\"data row0 col0\" >0.100000</td>\n",
       "      <td id=\"T_764e4_row0_col1\" class=\"data row0 col1\" >28</td>\n",
       "      <td id=\"T_764e4_row0_col2\" class=\"data row0 col2\" >28</td>\n",
       "      <td id=\"T_764e4_row0_col3\" class=\"data row0 col3\" >0.250124</td>\n",
       "      <td id=\"T_764e4_row0_col4\" class=\"data row0 col4\" >0.100000</td>\n",
       "      <td id=\"T_764e4_row0_col5\" class=\"data row0 col5\" >0</td>\n",
       "      <td id=\"T_764e4_row0_col6\" class=\"data row0 col6\" >23</td>\n",
       "      <td id=\"T_764e4_row0_col7\" class=\"data row0 col7\" >1</td>\n",
       "      <td id=\"T_764e4_row0_col8\" class=\"data row0 col8\" >0.232157</td>\n",
       "      <td id=\"T_764e4_row0_col9\" class=\"data row0 col9\" >0.092049</td>\n",
       "    </tr>\n",
       "    <tr>\n",
       "      <th id=\"T_764e4_level0_row1\" class=\"row_heading level0 row1\" >62947</th>\n",
       "      <td id=\"T_764e4_row1_col0\" class=\"data row1 col0\" >0.100000</td>\n",
       "      <td id=\"T_764e4_row1_col1\" class=\"data row1 col1\" >28</td>\n",
       "      <td id=\"T_764e4_row1_col2\" class=\"data row1 col2\" >28</td>\n",
       "      <td id=\"T_764e4_row1_col3\" class=\"data row1 col3\" >0.250124</td>\n",
       "      <td id=\"T_764e4_row1_col4\" class=\"data row1 col4\" >0.100000</td>\n",
       "      <td id=\"T_764e4_row1_col5\" class=\"data row1 col5\" >1</td>\n",
       "      <td id=\"T_764e4_row1_col6\" class=\"data row1 col6\" >23</td>\n",
       "      <td id=\"T_764e4_row1_col7\" class=\"data row1 col7\" >2</td>\n",
       "      <td id=\"T_764e4_row1_col8\" class=\"data row1 col8\" >0.230817</td>\n",
       "      <td id=\"T_764e4_row1_col9\" class=\"data row1 col9\" >0.089238</td>\n",
       "    </tr>\n",
       "    <tr>\n",
       "      <th id=\"T_764e4_level0_row2\" class=\"row_heading level0 row2\" >62949</th>\n",
       "      <td id=\"T_764e4_row2_col0\" class=\"data row2 col0\" >0.100000</td>\n",
       "      <td id=\"T_764e4_row2_col1\" class=\"data row2 col1\" >28</td>\n",
       "      <td id=\"T_764e4_row2_col2\" class=\"data row2 col2\" >28</td>\n",
       "      <td id=\"T_764e4_row2_col3\" class=\"data row2 col3\" >0.250124</td>\n",
       "      <td id=\"T_764e4_row2_col4\" class=\"data row2 col4\" >0.100000</td>\n",
       "      <td id=\"T_764e4_row2_col5\" class=\"data row2 col5\" >3</td>\n",
       "      <td id=\"T_764e4_row2_col6\" class=\"data row2 col6\" >23</td>\n",
       "      <td id=\"T_764e4_row2_col7\" class=\"data row2 col7\" >5</td>\n",
       "      <td id=\"T_764e4_row2_col8\" class=\"data row2 col8\" >0.230547</td>\n",
       "      <td id=\"T_764e4_row2_col9\" class=\"data row2 col9\" >0.095275</td>\n",
       "    </tr>\n",
       "  </tbody>\n",
       "</table>\n"
      ],
      "text/plain": [
       "<pandas.io.formats.style.Styler at 0x7fd95c8a4640>"
      ]
     },
     "execution_count": 23,
     "metadata": {},
     "output_type": "execute_result"
    }
   ],
   "source": [
    "results[k_fold_condition & (results.sample_size>=0.1)\n",
    "       ].sort_values(metrics, ascending=ascending).head(3).style.set_properties(**{'background-color': 'green'}, subset=metrics)"
   ]
  },
  {
   "cell_type": "markdown",
   "metadata": {},
   "source": [
    "## 20% sample"
   ]
  },
  {
   "cell_type": "code",
   "execution_count": 24,
   "metadata": {
    "execution": {
     "iopub.execute_input": "2022-11-10T19:17:50.209941Z",
     "iopub.status.busy": "2022-11-10T19:17:50.209804Z",
     "iopub.status.idle": "2022-11-10T19:17:50.225143Z",
     "shell.execute_reply": "2022-11-10T19:17:50.224883Z",
     "shell.execute_reply.started": "2022-11-10T19:17:50.209931Z"
    },
    "tags": []
   },
   "outputs": [
    {
     "data": {
      "text/html": [
       "<style type=\"text/css\">\n",
       "#T_2dc49_row0_col0, #T_2dc49_row0_col3, #T_2dc49_row0_col8, #T_2dc49_row0_col9, #T_2dc49_row1_col0, #T_2dc49_row1_col3, #T_2dc49_row1_col8, #T_2dc49_row1_col9, #T_2dc49_row2_col0, #T_2dc49_row2_col3, #T_2dc49_row2_col8, #T_2dc49_row2_col9 {\n",
       "  background-color: green;\n",
       "}\n",
       "</style>\n",
       "<table id=\"T_2dc49\">\n",
       "  <thead>\n",
       "    <tr>\n",
       "      <th class=\"blank level0\" >&nbsp;</th>\n",
       "      <th id=\"T_2dc49_level0_col0\" class=\"col_heading level0 col0\" >sample_size</th>\n",
       "      <th id=\"T_2dc49_level0_col1\" class=\"col_heading level0 col1\" >sample_min_count</th>\n",
       "      <th id=\"T_2dc49_level0_col2\" class=\"col_heading level0 col2\" >sample_lessfreq</th>\n",
       "      <th id=\"T_2dc49_level0_col3\" class=\"col_heading level0 col3\" >sample_ratio</th>\n",
       "      <th id=\"T_2dc49_level0_col4\" class=\"col_heading level0 col4\" >test_size</th>\n",
       "      <th id=\"T_2dc49_level0_col5\" class=\"col_heading level0 col5\" >test_min_count</th>\n",
       "      <th id=\"T_2dc49_level0_col6\" class=\"col_heading level0 col6\" >train_lessfreq</th>\n",
       "      <th id=\"T_2dc49_level0_col7\" class=\"col_heading level0 col7\" >test_lessfreq</th>\n",
       "      <th id=\"T_2dc49_level0_col8\" class=\"col_heading level0 col8\" >train_ratio</th>\n",
       "      <th id=\"T_2dc49_level0_col9\" class=\"col_heading level0 col9\" >test_ratio</th>\n",
       "    </tr>\n",
       "  </thead>\n",
       "  <tbody>\n",
       "    <tr>\n",
       "      <th id=\"T_2dc49_level0_row0\" class=\"row_heading level0 row0\" >58365</th>\n",
       "      <td id=\"T_2dc49_row0_col0\" class=\"data row0 col0\" >0.200000</td>\n",
       "      <td id=\"T_2dc49_row0_col1\" class=\"data row0 col1\" >28</td>\n",
       "      <td id=\"T_2dc49_row0_col2\" class=\"data row0 col2\" >28</td>\n",
       "      <td id=\"T_2dc49_row0_col3\" class=\"data row0 col3\" >0.357271</td>\n",
       "      <td id=\"T_2dc49_row0_col4\" class=\"data row0 col4\" >0.100000</td>\n",
       "      <td id=\"T_2dc49_row0_col5\" class=\"data row0 col5\" >0</td>\n",
       "      <td id=\"T_2dc49_row0_col6\" class=\"data row0 col6\" >26</td>\n",
       "      <td id=\"T_2dc49_row0_col7\" class=\"data row0 col7\" >1</td>\n",
       "      <td id=\"T_2dc49_row0_col8\" class=\"data row0 col8\" >0.336651</td>\n",
       "      <td id=\"T_2dc49_row0_col9\" class=\"data row0 col9\" >0.095655</td>\n",
       "    </tr>\n",
       "    <tr>\n",
       "      <th id=\"T_2dc49_level0_row1\" class=\"row_heading level0 row1\" >58366</th>\n",
       "      <td id=\"T_2dc49_row1_col0\" class=\"data row1 col0\" >0.200000</td>\n",
       "      <td id=\"T_2dc49_row1_col1\" class=\"data row1 col1\" >28</td>\n",
       "      <td id=\"T_2dc49_row1_col2\" class=\"data row1 col2\" >28</td>\n",
       "      <td id=\"T_2dc49_row1_col3\" class=\"data row1 col3\" >0.357271</td>\n",
       "      <td id=\"T_2dc49_row1_col4\" class=\"data row1 col4\" >0.100000</td>\n",
       "      <td id=\"T_2dc49_row1_col5\" class=\"data row1 col5\" >1</td>\n",
       "      <td id=\"T_2dc49_row1_col6\" class=\"data row1 col6\" >26</td>\n",
       "      <td id=\"T_2dc49_row1_col7\" class=\"data row1 col7\" >2</td>\n",
       "      <td id=\"T_2dc49_row1_col8\" class=\"data row1 col8\" >0.334249</td>\n",
       "      <td id=\"T_2dc49_row1_col9\" class=\"data row1 col9\" >0.099641</td>\n",
       "    </tr>\n",
       "    <tr>\n",
       "      <th id=\"T_2dc49_level0_row2\" class=\"row_heading level0 row2\" >58367</th>\n",
       "      <td id=\"T_2dc49_row2_col0\" class=\"data row2 col0\" >0.200000</td>\n",
       "      <td id=\"T_2dc49_row2_col1\" class=\"data row2 col1\" >28</td>\n",
       "      <td id=\"T_2dc49_row2_col2\" class=\"data row2 col2\" >28</td>\n",
       "      <td id=\"T_2dc49_row2_col3\" class=\"data row2 col3\" >0.357271</td>\n",
       "      <td id=\"T_2dc49_row2_col4\" class=\"data row2 col4\" >0.100000</td>\n",
       "      <td id=\"T_2dc49_row2_col5\" class=\"data row2 col5\" >2</td>\n",
       "      <td id=\"T_2dc49_row2_col6\" class=\"data row2 col6\" >25</td>\n",
       "      <td id=\"T_2dc49_row2_col7\" class=\"data row2 col7\" >3</td>\n",
       "      <td id=\"T_2dc49_row2_col8\" class=\"data row2 col8\" >0.333678</td>\n",
       "      <td id=\"T_2dc49_row2_col9\" class=\"data row2 col9\" >0.106211</td>\n",
       "    </tr>\n",
       "  </tbody>\n",
       "</table>\n"
      ],
      "text/plain": [
       "<pandas.io.formats.style.Styler at 0x7fd9652dd310>"
      ]
     },
     "execution_count": 24,
     "metadata": {},
     "output_type": "execute_result"
    }
   ],
   "source": [
    "results[k_fold_condition & (results.sample_size>=0.19)\n",
    "       ].sort_values(metrics, ascending=ascending).head(3).style.set_properties(**{'background-color': 'green'}, subset=metrics)"
   ]
  },
  {
   "cell_type": "markdown",
   "metadata": {},
   "source": [
    "## 30% sample"
   ]
  },
  {
   "cell_type": "code",
   "execution_count": 25,
   "metadata": {
    "execution": {
     "iopub.execute_input": "2022-11-10T19:17:50.225650Z",
     "iopub.status.busy": "2022-11-10T19:17:50.225515Z",
     "iopub.status.idle": "2022-11-10T19:17:50.240703Z",
     "shell.execute_reply": "2022-11-10T19:17:50.240433Z",
     "shell.execute_reply.started": "2022-11-10T19:17:50.225639Z"
    },
    "tags": []
   },
   "outputs": [
    {
     "data": {
      "text/html": [
       "<style type=\"text/css\">\n",
       "#T_93f67_row0_col0, #T_93f67_row0_col3, #T_93f67_row0_col8, #T_93f67_row0_col9, #T_93f67_row1_col0, #T_93f67_row1_col3, #T_93f67_row1_col8, #T_93f67_row1_col9, #T_93f67_row2_col0, #T_93f67_row2_col3, #T_93f67_row2_col8, #T_93f67_row2_col9 {\n",
       "  background-color: green;\n",
       "}\n",
       "</style>\n",
       "<table id=\"T_93f67\">\n",
       "  <thead>\n",
       "    <tr>\n",
       "      <th class=\"blank level0\" >&nbsp;</th>\n",
       "      <th id=\"T_93f67_level0_col0\" class=\"col_heading level0 col0\" >sample_size</th>\n",
       "      <th id=\"T_93f67_level0_col1\" class=\"col_heading level0 col1\" >sample_min_count</th>\n",
       "      <th id=\"T_93f67_level0_col2\" class=\"col_heading level0 col2\" >sample_lessfreq</th>\n",
       "      <th id=\"T_93f67_level0_col3\" class=\"col_heading level0 col3\" >sample_ratio</th>\n",
       "      <th id=\"T_93f67_level0_col4\" class=\"col_heading level0 col4\" >test_size</th>\n",
       "      <th id=\"T_93f67_level0_col5\" class=\"col_heading level0 col5\" >test_min_count</th>\n",
       "      <th id=\"T_93f67_level0_col6\" class=\"col_heading level0 col6\" >train_lessfreq</th>\n",
       "      <th id=\"T_93f67_level0_col7\" class=\"col_heading level0 col7\" >test_lessfreq</th>\n",
       "      <th id=\"T_93f67_level0_col8\" class=\"col_heading level0 col8\" >train_ratio</th>\n",
       "      <th id=\"T_93f67_level0_col9\" class=\"col_heading level0 col9\" >test_ratio</th>\n",
       "    </tr>\n",
       "  </thead>\n",
       "  <tbody>\n",
       "    <tr>\n",
       "      <th id=\"T_93f67_level0_row0\" class=\"row_heading level0 row0\" >53391</th>\n",
       "      <td id=\"T_93f67_row0_col0\" class=\"data row0 col0\" >0.300000</td>\n",
       "      <td id=\"T_93f67_row0_col1\" class=\"data row0 col1\" >28</td>\n",
       "      <td id=\"T_93f67_row0_col2\" class=\"data row0 col2\" >28</td>\n",
       "      <td id=\"T_93f67_row0_col3\" class=\"data row0 col3\" >0.450148</td>\n",
       "      <td id=\"T_93f67_row0_col4\" class=\"data row0 col4\" >0.100000</td>\n",
       "      <td id=\"T_93f67_row0_col5\" class=\"data row0 col5\" >3</td>\n",
       "      <td id=\"T_93f67_row0_col6\" class=\"data row0 col6\" >24</td>\n",
       "      <td id=\"T_93f67_row0_col7\" class=\"data row0 col7\" >4</td>\n",
       "      <td id=\"T_93f67_row0_col8\" class=\"data row0 col8\" >0.420175</td>\n",
       "      <td id=\"T_93f67_row0_col9\" class=\"data row0 col9\" >0.121831</td>\n",
       "    </tr>\n",
       "    <tr>\n",
       "      <th id=\"T_93f67_level0_row1\" class=\"row_heading level0 row1\" >53389</th>\n",
       "      <td id=\"T_93f67_row1_col0\" class=\"data row1 col0\" >0.300000</td>\n",
       "      <td id=\"T_93f67_row1_col1\" class=\"data row1 col1\" >28</td>\n",
       "      <td id=\"T_93f67_row1_col2\" class=\"data row1 col2\" >28</td>\n",
       "      <td id=\"T_93f67_row1_col3\" class=\"data row1 col3\" >0.450148</td>\n",
       "      <td id=\"T_93f67_row1_col4\" class=\"data row1 col4\" >0.100000</td>\n",
       "      <td id=\"T_93f67_row1_col5\" class=\"data row1 col5\" >1</td>\n",
       "      <td id=\"T_93f67_row1_col6\" class=\"data row1 col6\" >27</td>\n",
       "      <td id=\"T_93f67_row1_col7\" class=\"data row1 col7\" >1</td>\n",
       "      <td id=\"T_93f67_row1_col8\" class=\"data row1 col8\" >0.419030</td>\n",
       "      <td id=\"T_93f67_row1_col9\" class=\"data row1 col9\" >0.125206</td>\n",
       "    </tr>\n",
       "    <tr>\n",
       "      <th id=\"T_93f67_level0_row2\" class=\"row_heading level0 row2\" >53390</th>\n",
       "      <td id=\"T_93f67_row2_col0\" class=\"data row2 col0\" >0.300000</td>\n",
       "      <td id=\"T_93f67_row2_col1\" class=\"data row2 col1\" >28</td>\n",
       "      <td id=\"T_93f67_row2_col2\" class=\"data row2 col2\" >28</td>\n",
       "      <td id=\"T_93f67_row2_col3\" class=\"data row2 col3\" >0.450148</td>\n",
       "      <td id=\"T_93f67_row2_col4\" class=\"data row2 col4\" >0.100000</td>\n",
       "      <td id=\"T_93f67_row2_col5\" class=\"data row2 col5\" >2</td>\n",
       "      <td id=\"T_93f67_row2_col6\" class=\"data row2 col6\" >21</td>\n",
       "      <td id=\"T_93f67_row2_col7\" class=\"data row2 col7\" >4</td>\n",
       "      <td id=\"T_93f67_row2_col8\" class=\"data row2 col8\" >0.418754</td>\n",
       "      <td id=\"T_93f67_row2_col9\" class=\"data row2 col9\" >0.122319</td>\n",
       "    </tr>\n",
       "  </tbody>\n",
       "</table>\n"
      ],
      "text/plain": [
       "<pandas.io.formats.style.Styler at 0x7fd966374790>"
      ]
     },
     "execution_count": 25,
     "metadata": {},
     "output_type": "execute_result"
    }
   ],
   "source": [
    "results[k_fold_condition & (results.sample_size>=0.2)\n",
    "       ].sort_values(metrics, ascending=ascending).head(3).style.set_properties(**{'background-color': 'green'}, subset=metrics)"
   ]
  },
  {
   "cell_type": "markdown",
   "metadata": {
    "execution": {
     "iopub.execute_input": "2022-09-01T20:51:53.116601Z",
     "iopub.status.busy": "2022-09-01T20:51:53.116445Z",
     "iopub.status.idle": "2022-09-01T20:51:53.119196Z",
     "shell.execute_reply": "2022-09-01T20:51:53.118771Z",
     "shell.execute_reply.started": "2022-09-01T20:51:53.116589Z"
    },
    "tags": []
   },
   "source": [
    "## 50% sample"
   ]
  },
  {
   "cell_type": "code",
   "execution_count": 26,
   "metadata": {
    "execution": {
     "iopub.execute_input": "2022-11-10T19:17:50.241222Z",
     "iopub.status.busy": "2022-11-10T19:17:50.241081Z",
     "iopub.status.idle": "2022-11-10T19:17:50.254799Z",
     "shell.execute_reply": "2022-11-10T19:17:50.254388Z",
     "shell.execute_reply.started": "2022-11-10T19:17:50.241211Z"
    },
    "tags": []
   },
   "outputs": [
    {
     "data": {
      "text/html": [
       "<style type=\"text/css\">\n",
       "#T_9d369_row0_col0, #T_9d369_row0_col3, #T_9d369_row0_col8, #T_9d369_row0_col9, #T_9d369_row1_col0, #T_9d369_row1_col3, #T_9d369_row1_col8, #T_9d369_row1_col9, #T_9d369_row2_col0, #T_9d369_row2_col3, #T_9d369_row2_col8, #T_9d369_row2_col9 {\n",
       "  background-color: green;\n",
       "}\n",
       "</style>\n",
       "<table id=\"T_9d369\">\n",
       "  <thead>\n",
       "    <tr>\n",
       "      <th class=\"blank level0\" >&nbsp;</th>\n",
       "      <th id=\"T_9d369_level0_col0\" class=\"col_heading level0 col0\" >sample_size</th>\n",
       "      <th id=\"T_9d369_level0_col1\" class=\"col_heading level0 col1\" >sample_min_count</th>\n",
       "      <th id=\"T_9d369_level0_col2\" class=\"col_heading level0 col2\" >sample_lessfreq</th>\n",
       "      <th id=\"T_9d369_level0_col3\" class=\"col_heading level0 col3\" >sample_ratio</th>\n",
       "      <th id=\"T_9d369_level0_col4\" class=\"col_heading level0 col4\" >test_size</th>\n",
       "      <th id=\"T_9d369_level0_col5\" class=\"col_heading level0 col5\" >test_min_count</th>\n",
       "      <th id=\"T_9d369_level0_col6\" class=\"col_heading level0 col6\" >train_lessfreq</th>\n",
       "      <th id=\"T_9d369_level0_col7\" class=\"col_heading level0 col7\" >test_lessfreq</th>\n",
       "      <th id=\"T_9d369_level0_col8\" class=\"col_heading level0 col8\" >train_ratio</th>\n",
       "      <th id=\"T_9d369_level0_col9\" class=\"col_heading level0 col9\" >test_ratio</th>\n",
       "    </tr>\n",
       "  </thead>\n",
       "  <tbody>\n",
       "    <tr>\n",
       "      <th id=\"T_9d369_level0_row0\" class=\"row_heading level0 row0\" >42507</th>\n",
       "      <td id=\"T_9d369_row0_col0\" class=\"data row0 col0\" >0.500000</td>\n",
       "      <td id=\"T_9d369_row0_col1\" class=\"data row0 col1\" >29</td>\n",
       "      <td id=\"T_9d369_row0_col2\" class=\"data row0 col2\" >29</td>\n",
       "      <td id=\"T_9d369_row0_col3\" class=\"data row0 col3\" >0.620021</td>\n",
       "      <td id=\"T_9d369_row0_col4\" class=\"data row0 col4\" >0.100000</td>\n",
       "      <td id=\"T_9d369_row0_col5\" class=\"data row0 col5\" >0</td>\n",
       "      <td id=\"T_9d369_row0_col6\" class=\"data row0 col6\" >27</td>\n",
       "      <td id=\"T_9d369_row0_col7\" class=\"data row0 col7\" >2</td>\n",
       "      <td id=\"T_9d369_row0_col8\" class=\"data row0 col8\" >0.578020</td>\n",
       "      <td id=\"T_9d369_row0_col9\" class=\"data row0 col9\" >0.144577</td>\n",
       "    </tr>\n",
       "    <tr>\n",
       "      <th id=\"T_9d369_level0_row1\" class=\"row_heading level0 row1\" >42510</th>\n",
       "      <td id=\"T_9d369_row1_col0\" class=\"data row1 col0\" >0.500000</td>\n",
       "      <td id=\"T_9d369_row1_col1\" class=\"data row1 col1\" >29</td>\n",
       "      <td id=\"T_9d369_row1_col2\" class=\"data row1 col2\" >29</td>\n",
       "      <td id=\"T_9d369_row1_col3\" class=\"data row1 col3\" >0.620021</td>\n",
       "      <td id=\"T_9d369_row1_col4\" class=\"data row1 col4\" >0.100000</td>\n",
       "      <td id=\"T_9d369_row1_col5\" class=\"data row1 col5\" >3</td>\n",
       "      <td id=\"T_9d369_row1_col6\" class=\"data row1 col6\" >23</td>\n",
       "      <td id=\"T_9d369_row1_col7\" class=\"data row1 col7\" >6</td>\n",
       "      <td id=\"T_9d369_row1_col8\" class=\"data row1 col8\" >0.576383</td>\n",
       "      <td id=\"T_9d369_row1_col9\" class=\"data row1 col9\" >0.157208</td>\n",
       "    </tr>\n",
       "    <tr>\n",
       "      <th id=\"T_9d369_level0_row2\" class=\"row_heading level0 row2\" >42509</th>\n",
       "      <td id=\"T_9d369_row2_col0\" class=\"data row2 col0\" >0.500000</td>\n",
       "      <td id=\"T_9d369_row2_col1\" class=\"data row2 col1\" >29</td>\n",
       "      <td id=\"T_9d369_row2_col2\" class=\"data row2 col2\" >29</td>\n",
       "      <td id=\"T_9d369_row2_col3\" class=\"data row2 col3\" >0.620021</td>\n",
       "      <td id=\"T_9d369_row2_col4\" class=\"data row2 col4\" >0.100000</td>\n",
       "      <td id=\"T_9d369_row2_col5\" class=\"data row2 col5\" >2</td>\n",
       "      <td id=\"T_9d369_row2_col6\" class=\"data row2 col6\" >22</td>\n",
       "      <td id=\"T_9d369_row2_col7\" class=\"data row2 col7\" >6</td>\n",
       "      <td id=\"T_9d369_row2_col8\" class=\"data row2 col8\" >0.576330</td>\n",
       "      <td id=\"T_9d369_row2_col9\" class=\"data row2 col9\" >0.153578</td>\n",
       "    </tr>\n",
       "  </tbody>\n",
       "</table>\n"
      ],
      "text/plain": [
       "<pandas.io.formats.style.Styler at 0x7fd9652dadf0>"
      ]
     },
     "execution_count": 26,
     "metadata": {},
     "output_type": "execute_result"
    }
   ],
   "source": [
    "results[(results.train_lessfreq >= k) & (results.test_lessfreq >= 1) & (results.train_lessfreq > results.test_lessfreq) & (results.sample_size==0.5)\n",
    "       ].sort_values(metrics, ascending=ascending).head(3).style.set_properties(**{'background-color': 'green'}, subset=metrics)"
   ]
  },
  {
   "cell_type": "markdown",
   "metadata": {
    "execution": {
     "iopub.execute_input": "2022-09-01T20:51:53.116601Z",
     "iopub.status.busy": "2022-09-01T20:51:53.116445Z",
     "iopub.status.idle": "2022-09-01T20:51:53.119196Z",
     "shell.execute_reply": "2022-09-01T20:51:53.118771Z",
     "shell.execute_reply.started": "2022-09-01T20:51:53.116589Z"
    }
   },
   "source": [
    "## 60% sample"
   ]
  },
  {
   "cell_type": "code",
   "execution_count": 27,
   "metadata": {
    "execution": {
     "iopub.execute_input": "2022-11-10T19:17:50.255335Z",
     "iopub.status.busy": "2022-11-10T19:17:50.255231Z",
     "iopub.status.idle": "2022-11-10T19:17:50.262159Z",
     "shell.execute_reply": "2022-11-10T19:17:50.261839Z",
     "shell.execute_reply.started": "2022-11-10T19:17:50.255325Z"
    },
    "tags": []
   },
   "outputs": [
    {
     "data": {
      "text/html": [
       "<style type=\"text/css\">\n",
       "#T_fadcc_row0_col0, #T_fadcc_row0_col3, #T_fadcc_row0_col8, #T_fadcc_row0_col9, #T_fadcc_row1_col0, #T_fadcc_row1_col3, #T_fadcc_row1_col8, #T_fadcc_row1_col9, #T_fadcc_row2_col0, #T_fadcc_row2_col3, #T_fadcc_row2_col8, #T_fadcc_row2_col9 {\n",
       "  background-color: green;\n",
       "}\n",
       "</style>\n",
       "<table id=\"T_fadcc\">\n",
       "  <thead>\n",
       "    <tr>\n",
       "      <th class=\"blank level0\" >&nbsp;</th>\n",
       "      <th id=\"T_fadcc_level0_col0\" class=\"col_heading level0 col0\" >sample_size</th>\n",
       "      <th id=\"T_fadcc_level0_col1\" class=\"col_heading level0 col1\" >sample_min_count</th>\n",
       "      <th id=\"T_fadcc_level0_col2\" class=\"col_heading level0 col2\" >sample_lessfreq</th>\n",
       "      <th id=\"T_fadcc_level0_col3\" class=\"col_heading level0 col3\" >sample_ratio</th>\n",
       "      <th id=\"T_fadcc_level0_col4\" class=\"col_heading level0 col4\" >test_size</th>\n",
       "      <th id=\"T_fadcc_level0_col5\" class=\"col_heading level0 col5\" >test_min_count</th>\n",
       "      <th id=\"T_fadcc_level0_col6\" class=\"col_heading level0 col6\" >train_lessfreq</th>\n",
       "      <th id=\"T_fadcc_level0_col7\" class=\"col_heading level0 col7\" >test_lessfreq</th>\n",
       "      <th id=\"T_fadcc_level0_col8\" class=\"col_heading level0 col8\" >train_ratio</th>\n",
       "      <th id=\"T_fadcc_level0_col9\" class=\"col_heading level0 col9\" >test_ratio</th>\n",
       "    </tr>\n",
       "  </thead>\n",
       "  <tbody>\n",
       "    <tr>\n",
       "      <th id=\"T_fadcc_level0_row0\" class=\"row_heading level0 row0\" >34070</th>\n",
       "      <td id=\"T_fadcc_row0_col0\" class=\"data row0 col0\" >0.600000</td>\n",
       "      <td id=\"T_fadcc_row0_col1\" class=\"data row0 col1\" >20</td>\n",
       "      <td id=\"T_fadcc_row0_col2\" class=\"data row0 col2\" >26</td>\n",
       "      <td id=\"T_fadcc_row0_col3\" class=\"data row0 col3\" >0.699567</td>\n",
       "      <td id=\"T_fadcc_row0_col4\" class=\"data row0 col4\" >0.100000</td>\n",
       "      <td id=\"T_fadcc_row0_col5\" class=\"data row0 col5\" >5</td>\n",
       "      <td id=\"T_fadcc_row0_col6\" class=\"data row0 col6\" >18</td>\n",
       "      <td id=\"T_fadcc_row0_col7\" class=\"data row0 col7\" >8</td>\n",
       "      <td id=\"T_fadcc_row0_col8\" class=\"data row0 col8\" >0.648227</td>\n",
       "      <td id=\"T_fadcc_row0_col9\" class=\"data row0 col9\" >0.161996</td>\n",
       "    </tr>\n",
       "    <tr>\n",
       "      <th id=\"T_fadcc_level0_row1\" class=\"row_heading level0 row1\" >34067</th>\n",
       "      <td id=\"T_fadcc_row1_col0\" class=\"data row1 col0\" >0.600000</td>\n",
       "      <td id=\"T_fadcc_row1_col1\" class=\"data row1 col1\" >20</td>\n",
       "      <td id=\"T_fadcc_row1_col2\" class=\"data row1 col2\" >26</td>\n",
       "      <td id=\"T_fadcc_row1_col3\" class=\"data row1 col3\" >0.699567</td>\n",
       "      <td id=\"T_fadcc_row1_col4\" class=\"data row1 col4\" >0.100000</td>\n",
       "      <td id=\"T_fadcc_row1_col5\" class=\"data row1 col5\" >2</td>\n",
       "      <td id=\"T_fadcc_row1_col6\" class=\"data row1 col6\" >23</td>\n",
       "      <td id=\"T_fadcc_row1_col7\" class=\"data row1 col7\" >3</td>\n",
       "      <td id=\"T_fadcc_row1_col8\" class=\"data row1 col8\" >0.647990</td>\n",
       "      <td id=\"T_fadcc_row1_col9\" class=\"data row1 col9\" >0.175253</td>\n",
       "    </tr>\n",
       "    <tr>\n",
       "      <th id=\"T_fadcc_level0_row2\" class=\"row_heading level0 row2\" >34065</th>\n",
       "      <td id=\"T_fadcc_row2_col0\" class=\"data row2 col0\" >0.600000</td>\n",
       "      <td id=\"T_fadcc_row2_col1\" class=\"data row2 col1\" >20</td>\n",
       "      <td id=\"T_fadcc_row2_col2\" class=\"data row2 col2\" >26</td>\n",
       "      <td id=\"T_fadcc_row2_col3\" class=\"data row2 col3\" >0.699567</td>\n",
       "      <td id=\"T_fadcc_row2_col4\" class=\"data row2 col4\" >0.100000</td>\n",
       "      <td id=\"T_fadcc_row2_col5\" class=\"data row2 col5\" >0</td>\n",
       "      <td id=\"T_fadcc_row2_col6\" class=\"data row2 col6\" >25</td>\n",
       "      <td id=\"T_fadcc_row2_col7\" class=\"data row2 col7\" >1</td>\n",
       "      <td id=\"T_fadcc_row2_col8\" class=\"data row2 col8\" >0.647182</td>\n",
       "      <td id=\"T_fadcc_row2_col9\" class=\"data row2 col9\" >0.166185</td>\n",
       "    </tr>\n",
       "  </tbody>\n",
       "</table>\n"
      ],
      "text/plain": [
       "<pandas.io.formats.style.Styler at 0x7fd956b7fe80>"
      ]
     },
     "execution_count": 27,
     "metadata": {},
     "output_type": "execute_result"
    }
   ],
   "source": [
    "results[k_fold_condition & (results.sample_size==0.6)\n",
    "       ].sort_values(metrics, ascending=ascending).head(3).style.set_properties(**{'background-color': 'green'}, subset=metrics)"
   ]
  },
  {
   "cell_type": "markdown",
   "metadata": {},
   "source": [
    "## 80% sample"
   ]
  },
  {
   "cell_type": "code",
   "execution_count": 28,
   "metadata": {
    "execution": {
     "iopub.execute_input": "2022-11-10T19:17:50.262659Z",
     "iopub.status.busy": "2022-11-10T19:17:50.262530Z",
     "iopub.status.idle": "2022-11-10T19:17:50.273880Z",
     "shell.execute_reply": "2022-11-10T19:17:50.273630Z",
     "shell.execute_reply.started": "2022-11-10T19:17:50.262648Z"
    },
    "tags": []
   },
   "outputs": [
    {
     "data": {
      "text/html": [
       "<style type=\"text/css\">\n",
       "#T_52524_row0_col0, #T_52524_row0_col3, #T_52524_row0_col8, #T_52524_row0_col9, #T_52524_row1_col0, #T_52524_row1_col3, #T_52524_row1_col8, #T_52524_row1_col9, #T_52524_row2_col0, #T_52524_row2_col3, #T_52524_row2_col8, #T_52524_row2_col9 {\n",
       "  background-color: green;\n",
       "}\n",
       "</style>\n",
       "<table id=\"T_52524\">\n",
       "  <thead>\n",
       "    <tr>\n",
       "      <th class=\"blank level0\" >&nbsp;</th>\n",
       "      <th id=\"T_52524_level0_col0\" class=\"col_heading level0 col0\" >sample_size</th>\n",
       "      <th id=\"T_52524_level0_col1\" class=\"col_heading level0 col1\" >sample_min_count</th>\n",
       "      <th id=\"T_52524_level0_col2\" class=\"col_heading level0 col2\" >sample_lessfreq</th>\n",
       "      <th id=\"T_52524_level0_col3\" class=\"col_heading level0 col3\" >sample_ratio</th>\n",
       "      <th id=\"T_52524_level0_col4\" class=\"col_heading level0 col4\" >test_size</th>\n",
       "      <th id=\"T_52524_level0_col5\" class=\"col_heading level0 col5\" >test_min_count</th>\n",
       "      <th id=\"T_52524_level0_col6\" class=\"col_heading level0 col6\" >train_lessfreq</th>\n",
       "      <th id=\"T_52524_level0_col7\" class=\"col_heading level0 col7\" >test_lessfreq</th>\n",
       "      <th id=\"T_52524_level0_col8\" class=\"col_heading level0 col8\" >train_ratio</th>\n",
       "      <th id=\"T_52524_level0_col9\" class=\"col_heading level0 col9\" >test_ratio</th>\n",
       "    </tr>\n",
       "  </thead>\n",
       "  <tbody>\n",
       "    <tr>\n",
       "      <th id=\"T_52524_level0_row0\" class=\"row_heading level0 row0\" >21726</th>\n",
       "      <td id=\"T_52524_row0_col0\" class=\"data row0 col0\" >0.800000</td>\n",
       "      <td id=\"T_52524_row0_col1\" class=\"data row0 col1\" >25</td>\n",
       "      <td id=\"T_52524_row0_col2\" class=\"data row0 col2\" >29</td>\n",
       "      <td id=\"T_52524_row0_col3\" class=\"data row0 col3\" >0.854414</td>\n",
       "      <td id=\"T_52524_row0_col4\" class=\"data row0 col4\" >0.100000</td>\n",
       "      <td id=\"T_52524_row0_col5\" class=\"data row0 col5\" >0</td>\n",
       "      <td id=\"T_52524_row0_col6\" class=\"data row0 col6\" >28</td>\n",
       "      <td id=\"T_52524_row0_col7\" class=\"data row0 col7\" >1</td>\n",
       "      <td id=\"T_52524_row0_col8\" class=\"data row0 col8\" >0.793677</td>\n",
       "      <td id=\"T_52524_row0_col9\" class=\"data row0 col9\" >0.192264</td>\n",
       "    </tr>\n",
       "    <tr>\n",
       "      <th id=\"T_52524_level0_row1\" class=\"row_heading level0 row1\" >21727</th>\n",
       "      <td id=\"T_52524_row1_col0\" class=\"data row1 col0\" >0.800000</td>\n",
       "      <td id=\"T_52524_row1_col1\" class=\"data row1 col1\" >25</td>\n",
       "      <td id=\"T_52524_row1_col2\" class=\"data row1 col2\" >29</td>\n",
       "      <td id=\"T_52524_row1_col3\" class=\"data row1 col3\" >0.854414</td>\n",
       "      <td id=\"T_52524_row1_col4\" class=\"data row1 col4\" >0.100000</td>\n",
       "      <td id=\"T_52524_row1_col5\" class=\"data row1 col5\" >1</td>\n",
       "      <td id=\"T_52524_row1_col6\" class=\"data row1 col6\" >24</td>\n",
       "      <td id=\"T_52524_row1_col7\" class=\"data row1 col7\" >5</td>\n",
       "      <td id=\"T_52524_row1_col8\" class=\"data row1 col8\" >0.792206</td>\n",
       "      <td id=\"T_52524_row1_col9\" class=\"data row1 col9\" >0.191422</td>\n",
       "    </tr>\n",
       "    <tr>\n",
       "      <th id=\"T_52524_level0_row2\" class=\"row_heading level0 row2\" >21729</th>\n",
       "      <td id=\"T_52524_row2_col0\" class=\"data row2 col0\" >0.800000</td>\n",
       "      <td id=\"T_52524_row2_col1\" class=\"data row2 col1\" >25</td>\n",
       "      <td id=\"T_52524_row2_col2\" class=\"data row2 col2\" >29</td>\n",
       "      <td id=\"T_52524_row2_col3\" class=\"data row2 col3\" >0.854414</td>\n",
       "      <td id=\"T_52524_row2_col4\" class=\"data row2 col4\" >0.100000</td>\n",
       "      <td id=\"T_52524_row2_col5\" class=\"data row2 col5\" >3</td>\n",
       "      <td id=\"T_52524_row2_col6\" class=\"data row2 col6\" >25</td>\n",
       "      <td id=\"T_52524_row2_col7\" class=\"data row2 col7\" >4</td>\n",
       "      <td id=\"T_52524_row2_col8\" class=\"data row2 col8\" >0.792142</td>\n",
       "      <td id=\"T_52524_row2_col9\" class=\"data row2 col9\" >0.202101</td>\n",
       "    </tr>\n",
       "  </tbody>\n",
       "</table>\n"
      ],
      "text/plain": [
       "<pandas.io.formats.style.Styler at 0x7fd9647f2fd0>"
      ]
     },
     "execution_count": 28,
     "metadata": {},
     "output_type": "execute_result"
    }
   ],
   "source": [
    "results[k_fold_condition & (results.sample_size>=0.8)\n",
    "       ].sort_values(metrics, ascending=ascending).head(3).style.set_properties(**{'background-color': 'green'}, subset=metrics)"
   ]
  },
  {
   "cell_type": "markdown",
   "metadata": {},
   "source": [
    "## For finishing the model"
   ]
  },
  {
   "cell_type": "code",
   "execution_count": 29,
   "metadata": {
    "execution": {
     "iopub.execute_input": "2022-11-10T19:17:50.274343Z",
     "iopub.status.busy": "2022-11-10T19:17:50.274240Z",
     "iopub.status.idle": "2022-11-10T19:17:50.296106Z",
     "shell.execute_reply": "2022-11-10T19:17:50.295826Z",
     "shell.execute_reply.started": "2022-11-10T19:17:50.274332Z"
    },
    "tags": []
   },
   "outputs": [
    {
     "data": {
      "text/html": [
       "<style type=\"text/css\">\n",
       "#T_6e7dd_row0_col0, #T_6e7dd_row0_col3, #T_6e7dd_row0_col8, #T_6e7dd_row0_col9, #T_6e7dd_row1_col0, #T_6e7dd_row1_col3, #T_6e7dd_row1_col8, #T_6e7dd_row1_col9, #T_6e7dd_row2_col0, #T_6e7dd_row2_col3, #T_6e7dd_row2_col8, #T_6e7dd_row2_col9 {\n",
       "  background-color: green;\n",
       "}\n",
       "</style>\n",
       "<table id=\"T_6e7dd\">\n",
       "  <thead>\n",
       "    <tr>\n",
       "      <th class=\"blank level0\" >&nbsp;</th>\n",
       "      <th id=\"T_6e7dd_level0_col0\" class=\"col_heading level0 col0\" >sample_size</th>\n",
       "      <th id=\"T_6e7dd_level0_col1\" class=\"col_heading level0 col1\" >sample_min_count</th>\n",
       "      <th id=\"T_6e7dd_level0_col2\" class=\"col_heading level0 col2\" >sample_lessfreq</th>\n",
       "      <th id=\"T_6e7dd_level0_col3\" class=\"col_heading level0 col3\" >sample_ratio</th>\n",
       "      <th id=\"T_6e7dd_level0_col4\" class=\"col_heading level0 col4\" >test_size</th>\n",
       "      <th id=\"T_6e7dd_level0_col5\" class=\"col_heading level0 col5\" >test_min_count</th>\n",
       "      <th id=\"T_6e7dd_level0_col6\" class=\"col_heading level0 col6\" >train_lessfreq</th>\n",
       "      <th id=\"T_6e7dd_level0_col7\" class=\"col_heading level0 col7\" >test_lessfreq</th>\n",
       "      <th id=\"T_6e7dd_level0_col8\" class=\"col_heading level0 col8\" >train_ratio</th>\n",
       "      <th id=\"T_6e7dd_level0_col9\" class=\"col_heading level0 col9\" >test_ratio</th>\n",
       "    </tr>\n",
       "  </thead>\n",
       "  <tbody>\n",
       "    <tr>\n",
       "      <th id=\"T_6e7dd_level0_row0\" class=\"row_heading level0 row0\" >5133</th>\n",
       "      <td id=\"T_6e7dd_row0_col0\" class=\"data row0 col0\" >1.000000</td>\n",
       "      <td id=\"T_6e7dd_row0_col1\" class=\"data row0 col1\" >19</td>\n",
       "      <td id=\"T_6e7dd_row0_col2\" class=\"data row0 col2\" >29</td>\n",
       "      <td id=\"T_6e7dd_row0_col3\" class=\"data row0 col3\" >1.000000</td>\n",
       "      <td id=\"T_6e7dd_row0_col4\" class=\"data row0 col4\" >0.100000</td>\n",
       "      <td id=\"T_6e7dd_row0_col5\" class=\"data row0 col5\" >3</td>\n",
       "      <td id=\"T_6e7dd_row0_col6\" class=\"data row0 col6\" >22</td>\n",
       "      <td id=\"T_6e7dd_row0_col7\" class=\"data row0 col7\" >7</td>\n",
       "      <td id=\"T_6e7dd_row0_col8\" class=\"data row0 col8\" >0.927843</td>\n",
       "      <td id=\"T_6e7dd_row0_col9\" class=\"data row0 col9\" >0.217250</td>\n",
       "    </tr>\n",
       "    <tr>\n",
       "      <th id=\"T_6e7dd_level0_row1\" class=\"row_heading level0 row1\" >7023</th>\n",
       "      <td id=\"T_6e7dd_row1_col0\" class=\"data row1 col0\" >1.000000</td>\n",
       "      <td id=\"T_6e7dd_row1_col1\" class=\"data row1 col1\" >26</td>\n",
       "      <td id=\"T_6e7dd_row1_col2\" class=\"data row1 col2\" >29</td>\n",
       "      <td id=\"T_6e7dd_row1_col3\" class=\"data row1 col3\" >1.000000</td>\n",
       "      <td id=\"T_6e7dd_row1_col4\" class=\"data row1 col4\" >0.100000</td>\n",
       "      <td id=\"T_6e7dd_row1_col5\" class=\"data row1 col5\" >3</td>\n",
       "      <td id=\"T_6e7dd_row1_col6\" class=\"data row1 col6\" >22</td>\n",
       "      <td id=\"T_6e7dd_row1_col7\" class=\"data row1 col7\" >7</td>\n",
       "      <td id=\"T_6e7dd_row1_col8\" class=\"data row1 col8\" >0.927512</td>\n",
       "      <td id=\"T_6e7dd_row1_col9\" class=\"data row1 col9\" >0.215472</td>\n",
       "    </tr>\n",
       "    <tr>\n",
       "      <th id=\"T_6e7dd_level0_row2\" class=\"row_heading level0 row2\" >6212</th>\n",
       "      <td id=\"T_6e7dd_row2_col0\" class=\"data row2 col0\" >1.000000</td>\n",
       "      <td id=\"T_6e7dd_row2_col1\" class=\"data row2 col1\" >23</td>\n",
       "      <td id=\"T_6e7dd_row2_col2\" class=\"data row2 col2\" >29</td>\n",
       "      <td id=\"T_6e7dd_row2_col3\" class=\"data row2 col3\" >1.000000</td>\n",
       "      <td id=\"T_6e7dd_row2_col4\" class=\"data row2 col4\" >0.100000</td>\n",
       "      <td id=\"T_6e7dd_row2_col5\" class=\"data row2 col5\" >2</td>\n",
       "      <td id=\"T_6e7dd_row2_col6\" class=\"data row2 col6\" >24</td>\n",
       "      <td id=\"T_6e7dd_row2_col7\" class=\"data row2 col7\" >5</td>\n",
       "      <td id=\"T_6e7dd_row2_col8\" class=\"data row2 col8\" >0.927289</td>\n",
       "      <td id=\"T_6e7dd_row2_col9\" class=\"data row2 col9\" >0.214517</td>\n",
       "    </tr>\n",
       "  </tbody>\n",
       "</table>\n"
      ],
      "text/plain": [
       "<pandas.io.formats.style.Styler at 0x7fd965d93940>"
      ]
     },
     "execution_count": 29,
     "metadata": {},
     "output_type": "execute_result"
    }
   ],
   "source": [
    "ascending = [False, False, False, False]\n",
    "results[k_fold_condition\n",
    "       ].sort_values(metrics, ascending=ascending).head(3).style.set_properties(**{'background-color': 'green'}, subset=metrics)"
   ]
  }
 ],
 "metadata": {
  "hide_input": false,
  "kernelspec": {
   "display_name": "Python 3 (ipykernel)",
   "language": "python",
   "name": "python3"
  },
  "language_info": {
   "codemirror_mode": {
    "name": "ipython",
    "version": 3
   },
   "file_extension": ".py",
   "mimetype": "text/x-python",
   "name": "python",
   "nbconvert_exporter": "python",
   "pygments_lexer": "ipython3",
   "version": "3.9.13"
  },
  "toc": {
   "base_numbering": 1,
   "nav_menu": {},
   "number_sections": true,
   "sideBar": true,
   "skip_h1_title": false,
   "title_cell": "Table of Contents",
   "title_sidebar": "Contents",
   "toc_cell": false,
   "toc_position": {
    "height": "calc(100% - 180px)",
    "left": "10px",
    "top": "150px",
    "width": "332.2px"
   },
   "toc_section_display": true,
   "toc_window_display": true
  },
  "toc-autonumbering": true,
  "varInspector": {
   "cols": {
    "lenName": 16,
    "lenType": 16,
    "lenVar": 40
   },
   "kernels_config": {
    "python": {
     "delete_cmd_postfix": "",
     "delete_cmd_prefix": "del ",
     "library": "var_list.py",
     "varRefreshCmd": "print(var_dic_list())"
    },
    "r": {
     "delete_cmd_postfix": ") ",
     "delete_cmd_prefix": "rm(",
     "library": "var_list.r",
     "varRefreshCmd": "cat(var_dic_list()) "
    }
   },
   "types_to_exclude": [
    "module",
    "function",
    "builtin_function_or_method",
    "instance",
    "_Feature"
   ],
   "window_display": false
  }
 },
 "nbformat": 4,
 "nbformat_minor": 4
}
